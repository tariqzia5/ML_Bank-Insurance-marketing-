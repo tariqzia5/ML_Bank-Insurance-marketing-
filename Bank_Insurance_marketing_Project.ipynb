{
  "cells": [
    {
      "cell_type": "markdown",
      "metadata": {
        "id": "view-in-github",
        "colab_type": "text"
      },
      "source": [
        "<a href=\"https://colab.research.google.com/github/tariqzia5/ML_Bank-Insurance-marketing-/blob/main/Bank_Insurance_marketing_Project.ipynb\" target=\"_parent\"><img src=\"https://colab.research.google.com/assets/colab-badge.svg\" alt=\"Open In Colab\"/></a>"
      ]
    },
    {
      "cell_type": "markdown",
      "metadata": {
        "id": "jVEdXtTW2EK9"
      },
      "source": [
        "# Problem Statement"
      ]
    },
    {
      "cell_type": "markdown",
      "metadata": {
        "id": "w0B5nuuZ2TTt"
      },
      "source": [
        "Data Link https://archive.ics.uci.edu/ml/datasets/Bank+Marketing#"
      ]
    },
    {
      "cell_type": "markdown",
      "metadata": {
        "id": "bCcL8_dd2W1c"
      },
      "source": [
        "Download bank marketing data. The dataset contains the details of the telephone marketing campaigns of a Portuguese bank."
      ]
    },
    {
      "cell_type": "markdown",
      "metadata": {
        "id": "QBVpNTJ-tmZ0"
      },
      "source": [
        "# PROJECT OBJECTIVE \n",
        "\n",
        "\n"
      ]
    },
    {
      "cell_type": "markdown",
      "metadata": {
        "id": "_PgCj8TltcFq"
      },
      "source": [
        "## BACKGROUND :\n",
        "A Portuguese retail bank was addressed, with data collected from 2008 to 2013. \n",
        "This data is related with direct marketing campaigns of the banking institution. \n",
        "The marketing campaigns were based on phone calls. The intent was to get the customer to subscribe (buy) to \n",
        "its product, which is, long term deposit scheme.\n",
        "To facilitate this, often more than one call was made to a single client.\n",
        "The telemarketing data was captured in a set of 150 features. It was further analyzed with respect to \n",
        "bank client, product and social-economic attributes and was narrowed down to 22 features.\n",
        "Finally, a data-source file with 20 features and one desired target has been selected to formulate the proposed model\n",
        "based on a data-driven approach.\n",
        "\n",
        "\n",
        "## OBJECTIVE :\n",
        "This project is a data mining approach to predict the success of telemarketing calls for selling \n",
        "bank long-term deposits. It aims to ascertain with a good probability, as to which of the clients\n",
        "are the most likely to start a new long term deposit with them. A Data Model has to be created to predict this with an acceptable accuracy.\n",
        "\n",
        "Selected data source file = bank-additional-full.csv\n",
        "\n",
        "\n",
        "## BUSINESS LOGIC :\n",
        "TERM DEPOSIT - A term deposit is sum of money which is deposited with the bank for a fixed number of years. It cannot be withdrawn before the completion of the term i.e. the number of years. It earns a fixed rate of interest annually. It is also known as a fixed deposit.\n",
        "\n",
        "Since it is a deposit, there is no risk of delinquency involved. The bank does not have to get or share any credit score information with credit bureau. Hence, the decision making process would be the bank's internal process. \n",
        "\n",
        "The main objective is to predict the customers who will subscribe to the term deposit (buy the product) with maximum accuracy. Model explanation is not of paramount importance as the decision making would be internal in this case. So even the models following black-box method would be acceptable.\n"
      ]
    },
    {
      "cell_type": "markdown",
      "metadata": {
        "id": "KhIzt66nrscI"
      },
      "source": [
        "#Attribute Information:\n",
        "\n",
        "Input variables:\n",
        "## bank client data:\n",
        "1 - age (numeric)\n",
        "\n",
        "2 - job : type of job (categorical: 'admin.','blue-collar','entrepreneur','housemaid','management','retired','self-employed','services','student','technician','unemployed','unknown')\n",
        "\n",
        "3 - marital : marital status (categorical: 'divorced','married','single','unknown'; note: 'divorced' means divorced or widowed)\n",
        "\n",
        "4 - education (categorical: 'basic.4y','basic.6y','basic.9y','high.school','illiterate','professional.course','university.degree','unknown')\n",
        "\n",
        "5 - default: has credit in default? (categorical: 'no','yes','unknown')\n",
        "\n",
        "6 - housing: has housing loan? (categorical: 'no','yes','unknown')\n",
        "\n",
        "7 - loan: has personal loan? (categorical: 'no','yes','unknown')\n",
        "\n",
        "\n",
        "## Related with the last contact of the current campaign:\n",
        "8 - contact: contact communication type (categorical: 'cellular','telephone')\n",
        "\n",
        "9 - month: last contact month of year (categorical: 'jan', 'feb', 'mar', ..., 'nov', 'dec')\n",
        "\n",
        "10 - day_of_week: last contact day of the week (categorical: 'mon','tue','wed','thu','fri')\n",
        "\n",
        "11 - duration: last contact duration, in seconds (numeric). Important note: this attribute highly affects the output target (e.g., if duration=0 then y='no'). Yet, the duration is not known before a call is performed. Also, after the end of the call y is obviously known. Thus, this input should only be included for benchmark purposes and should be discarded if the intention is to have a realistic predictive model.\n",
        "\n",
        "\n",
        "## other attributes:\n",
        "12 - campaign: number of contacts performed during this campaign and for this client (numeric, includes last contact)\n",
        "\n",
        "13 - pdays: number of days that passed by after the client was last contacted from a previous campaign (numeric; 999 means client was not previously contacted)\n",
        "\n",
        "14 - previous: number of contacts performed before this campaign and for this client (numeric)\n",
        "\n",
        "15 - poutcome: outcome of the previous marketing campaign (categorical: 'failure','nonexistent','success')\n",
        "\n",
        "\n",
        "## social and economic context attributes\n",
        "16 - emp.var.rate: employment variation rate - quarterly indicator (numeric)\n",
        "\n",
        "17 - cons.price.idx: consumer price index - monthly indicator (numeric)\n",
        "\n",
        "18 - cons.conf.idx: consumer confidence index - monthly indicator (numeric)\n",
        "\n",
        "19 - euribor3m: euribor 3 month rate - daily indicator (numeric)\n",
        "\n",
        "20 - nr.employed: number of employees - quarterly indicator (numeric)\n",
        "\n",
        "\n",
        "##Output variable (desired target):\n",
        "21 - y - has the client subscribed a term deposit? (binary: 'yes','no')"
      ]
    },
    {
      "cell_type": "markdown",
      "metadata": {
        "id": "7C1vjC5St_t0"
      },
      "source": [
        "# DATA EXPLORATION AND VALIDATION\n"
      ]
    },
    {
      "cell_type": "markdown",
      "source": [
        "### Raw Data Exploration and Validation :\n",
        "Check the validity of the raw data and do a quick sanity check.\n",
        "1. Expected number of records or observations.\n",
        "2. Expected number and name of variables\n",
        "3. Proper name format of variables\n",
        "4. Correct data type of values in a column. For ex. variable Age should have numbers and not dates.\n",
        "5. Structured date format if any date variables.\n",
        "6. Are there any unexpected variables ?\n",
        "\n",
        "### Check for the following issues\n",
        "Are there some of the below issues in data?\n",
        "1. Wrong data type\n",
        "2. Unstructured date format\n",
        "3. Unwanted junk characters in strings\n",
        "4. Missing values\n",
        "5. Outliers*\n",
        "6. Logical error values. For ex. Age < 0\n",
        "7. Default values. For ex. Days since last contact = 9999\n",
        "8. Inconsistent. Ex. Year of birth = 1970, Age = 25\n",
        "\n",
        "*Outliers : Any numeric value that is far away from the median value of the distribution is called an Outlier. Presence of outlier will impact the mean value and other statistical measures as well. Thus, it will bias the predicted values made by a model. Outliers must be treated before model building."
      ],
      "metadata": {
        "id": "RfJ64Cc1ZQLh"
      }
    },
    {
      "cell_type": "code",
      "execution_count": 1,
      "metadata": {
        "colab": {
          "base_uri": "https://localhost:8080/"
        },
        "id": "wtpjkxtHuJmD",
        "outputId": "aa837e45-9d95-43e6-d997-6206a3579de2"
      },
      "outputs": [
        {
          "output_type": "stream",
          "name": "stdout",
          "text": [
            "<class 'pandas.core.frame.DataFrame'>\n",
            "RangeIndex: 41188 entries, 0 to 41187\n",
            "Data columns (total 21 columns):\n",
            " #   Column          Non-Null Count  Dtype  \n",
            "---  ------          --------------  -----  \n",
            " 0   age             41188 non-null  int64  \n",
            " 1   job             41188 non-null  object \n",
            " 2   marital         41188 non-null  object \n",
            " 3   education       41188 non-null  object \n",
            " 4   default         41188 non-null  object \n",
            " 5   housing         41188 non-null  object \n",
            " 6   loan            41188 non-null  object \n",
            " 7   contact         41188 non-null  object \n",
            " 8   month           41188 non-null  object \n",
            " 9   day_of_week     41188 non-null  object \n",
            " 10  duration        41188 non-null  int64  \n",
            " 11  campaign        41188 non-null  int64  \n",
            " 12  pdays           41188 non-null  int64  \n",
            " 13  previous        41188 non-null  int64  \n",
            " 14  poutcome        41188 non-null  object \n",
            " 15  emp.var.rate    41188 non-null  float64\n",
            " 16  cons.price.idx  41188 non-null  float64\n",
            " 17  cons.conf.idx   41188 non-null  float64\n",
            " 18  euribor3m       41188 non-null  float64\n",
            " 19  nr.employed     41188 non-null  float64\n",
            " 20  y               41188 non-null  object \n",
            "dtypes: float64(5), int64(5), object(11)\n",
            "memory usage: 6.6+ MB\n"
          ]
        }
      ],
      "source": [
        "import pandas as pd\n",
        "\n",
        "bank_data = pd.read_csv(\"https://raw.githubusercontent.com/tariqzia5/ML_Bank-Insurance-marketing-/main/bank-additional-full.csv\", sep = \";\")\n",
        "bank_data.info()"
      ]
    },
    {
      "cell_type": "markdown",
      "metadata": {
        "id": "3j-CXV1pjwr0"
      },
      "source": [
        "FINDING : There are no null values in any of the variables."
      ]
    },
    {
      "cell_type": "code",
      "execution_count": 2,
      "metadata": {
        "colab": {
          "base_uri": "https://localhost:8080/",
          "height": 805
        },
        "id": "SFyJwEdmuJwK",
        "outputId": "96791495-3101-4eb5-cf13-729626463913"
      },
      "outputs": [
        {
          "output_type": "stream",
          "name": "stderr",
          "text": [
            "<ipython-input-2-b5c6d2c13eb6>:1: FutureWarning: The frame.append method is deprecated and will be removed from pandas in a future version. Use pandas.concat instead.\n",
            "  bank_data.head(10).append(bank_data.tail(10))\n"
          ]
        },
        {
          "output_type": "execute_result",
          "data": {
            "text/plain": [
              "       age          job   marital            education  default housing loan  \\\n",
              "0       56    housemaid   married             basic.4y       no      no   no   \n",
              "1       57     services   married          high.school  unknown      no   no   \n",
              "2       37     services   married          high.school       no     yes   no   \n",
              "3       40       admin.   married             basic.6y       no      no   no   \n",
              "4       56     services   married          high.school       no      no  yes   \n",
              "5       45     services   married             basic.9y  unknown      no   no   \n",
              "6       59       admin.   married  professional.course       no      no   no   \n",
              "7       41  blue-collar   married              unknown  unknown      no   no   \n",
              "8       24   technician    single  professional.course       no     yes   no   \n",
              "9       25     services    single          high.school       no     yes   no   \n",
              "41178   62      retired   married    university.degree       no      no   no   \n",
              "41179   64      retired  divorced  professional.course       no     yes   no   \n",
              "41180   36       admin.   married    university.degree       no      no   no   \n",
              "41181   37       admin.   married    university.degree       no     yes   no   \n",
              "41182   29   unemployed    single             basic.4y       no     yes   no   \n",
              "41183   73      retired   married  professional.course       no     yes   no   \n",
              "41184   46  blue-collar   married  professional.course       no      no   no   \n",
              "41185   56      retired   married    university.degree       no     yes   no   \n",
              "41186   44   technician   married  professional.course       no      no   no   \n",
              "41187   74      retired   married  professional.course       no     yes   no   \n",
              "\n",
              "         contact month day_of_week  ...  campaign  pdays  previous  \\\n",
              "0      telephone   may         mon  ...         1    999         0   \n",
              "1      telephone   may         mon  ...         1    999         0   \n",
              "2      telephone   may         mon  ...         1    999         0   \n",
              "3      telephone   may         mon  ...         1    999         0   \n",
              "4      telephone   may         mon  ...         1    999         0   \n",
              "5      telephone   may         mon  ...         1    999         0   \n",
              "6      telephone   may         mon  ...         1    999         0   \n",
              "7      telephone   may         mon  ...         1    999         0   \n",
              "8      telephone   may         mon  ...         1    999         0   \n",
              "9      telephone   may         mon  ...         1    999         0   \n",
              "41178   cellular   nov         thu  ...         2      6         3   \n",
              "41179   cellular   nov         fri  ...         3    999         0   \n",
              "41180   cellular   nov         fri  ...         2    999         0   \n",
              "41181   cellular   nov         fri  ...         1    999         0   \n",
              "41182   cellular   nov         fri  ...         1      9         1   \n",
              "41183   cellular   nov         fri  ...         1    999         0   \n",
              "41184   cellular   nov         fri  ...         1    999         0   \n",
              "41185   cellular   nov         fri  ...         2    999         0   \n",
              "41186   cellular   nov         fri  ...         1    999         0   \n",
              "41187   cellular   nov         fri  ...         3    999         1   \n",
              "\n",
              "          poutcome emp.var.rate  cons.price.idx  cons.conf.idx  euribor3m  \\\n",
              "0      nonexistent          1.1          93.994          -36.4      4.857   \n",
              "1      nonexistent          1.1          93.994          -36.4      4.857   \n",
              "2      nonexistent          1.1          93.994          -36.4      4.857   \n",
              "3      nonexistent          1.1          93.994          -36.4      4.857   \n",
              "4      nonexistent          1.1          93.994          -36.4      4.857   \n",
              "5      nonexistent          1.1          93.994          -36.4      4.857   \n",
              "6      nonexistent          1.1          93.994          -36.4      4.857   \n",
              "7      nonexistent          1.1          93.994          -36.4      4.857   \n",
              "8      nonexistent          1.1          93.994          -36.4      4.857   \n",
              "9      nonexistent          1.1          93.994          -36.4      4.857   \n",
              "41178      success         -1.1          94.767          -50.8      1.031   \n",
              "41179  nonexistent         -1.1          94.767          -50.8      1.028   \n",
              "41180  nonexistent         -1.1          94.767          -50.8      1.028   \n",
              "41181  nonexistent         -1.1          94.767          -50.8      1.028   \n",
              "41182      success         -1.1          94.767          -50.8      1.028   \n",
              "41183  nonexistent         -1.1          94.767          -50.8      1.028   \n",
              "41184  nonexistent         -1.1          94.767          -50.8      1.028   \n",
              "41185  nonexistent         -1.1          94.767          -50.8      1.028   \n",
              "41186  nonexistent         -1.1          94.767          -50.8      1.028   \n",
              "41187      failure         -1.1          94.767          -50.8      1.028   \n",
              "\n",
              "       nr.employed    y  \n",
              "0           5191.0   no  \n",
              "1           5191.0   no  \n",
              "2           5191.0   no  \n",
              "3           5191.0   no  \n",
              "4           5191.0   no  \n",
              "5           5191.0   no  \n",
              "6           5191.0   no  \n",
              "7           5191.0   no  \n",
              "8           5191.0   no  \n",
              "9           5191.0   no  \n",
              "41178       4963.6  yes  \n",
              "41179       4963.6   no  \n",
              "41180       4963.6   no  \n",
              "41181       4963.6  yes  \n",
              "41182       4963.6   no  \n",
              "41183       4963.6  yes  \n",
              "41184       4963.6   no  \n",
              "41185       4963.6   no  \n",
              "41186       4963.6  yes  \n",
              "41187       4963.6   no  \n",
              "\n",
              "[20 rows x 21 columns]"
            ],
            "text/html": [
              "\n",
              "  <div id=\"df-25ef1a4e-da44-44dd-b5ef-8c16dd380775\">\n",
              "    <div class=\"colab-df-container\">\n",
              "      <div>\n",
              "<style scoped>\n",
              "    .dataframe tbody tr th:only-of-type {\n",
              "        vertical-align: middle;\n",
              "    }\n",
              "\n",
              "    .dataframe tbody tr th {\n",
              "        vertical-align: top;\n",
              "    }\n",
              "\n",
              "    .dataframe thead th {\n",
              "        text-align: right;\n",
              "    }\n",
              "</style>\n",
              "<table border=\"1\" class=\"dataframe\">\n",
              "  <thead>\n",
              "    <tr style=\"text-align: right;\">\n",
              "      <th></th>\n",
              "      <th>age</th>\n",
              "      <th>job</th>\n",
              "      <th>marital</th>\n",
              "      <th>education</th>\n",
              "      <th>default</th>\n",
              "      <th>housing</th>\n",
              "      <th>loan</th>\n",
              "      <th>contact</th>\n",
              "      <th>month</th>\n",
              "      <th>day_of_week</th>\n",
              "      <th>...</th>\n",
              "      <th>campaign</th>\n",
              "      <th>pdays</th>\n",
              "      <th>previous</th>\n",
              "      <th>poutcome</th>\n",
              "      <th>emp.var.rate</th>\n",
              "      <th>cons.price.idx</th>\n",
              "      <th>cons.conf.idx</th>\n",
              "      <th>euribor3m</th>\n",
              "      <th>nr.employed</th>\n",
              "      <th>y</th>\n",
              "    </tr>\n",
              "  </thead>\n",
              "  <tbody>\n",
              "    <tr>\n",
              "      <th>0</th>\n",
              "      <td>56</td>\n",
              "      <td>housemaid</td>\n",
              "      <td>married</td>\n",
              "      <td>basic.4y</td>\n",
              "      <td>no</td>\n",
              "      <td>no</td>\n",
              "      <td>no</td>\n",
              "      <td>telephone</td>\n",
              "      <td>may</td>\n",
              "      <td>mon</td>\n",
              "      <td>...</td>\n",
              "      <td>1</td>\n",
              "      <td>999</td>\n",
              "      <td>0</td>\n",
              "      <td>nonexistent</td>\n",
              "      <td>1.1</td>\n",
              "      <td>93.994</td>\n",
              "      <td>-36.4</td>\n",
              "      <td>4.857</td>\n",
              "      <td>5191.0</td>\n",
              "      <td>no</td>\n",
              "    </tr>\n",
              "    <tr>\n",
              "      <th>1</th>\n",
              "      <td>57</td>\n",
              "      <td>services</td>\n",
              "      <td>married</td>\n",
              "      <td>high.school</td>\n",
              "      <td>unknown</td>\n",
              "      <td>no</td>\n",
              "      <td>no</td>\n",
              "      <td>telephone</td>\n",
              "      <td>may</td>\n",
              "      <td>mon</td>\n",
              "      <td>...</td>\n",
              "      <td>1</td>\n",
              "      <td>999</td>\n",
              "      <td>0</td>\n",
              "      <td>nonexistent</td>\n",
              "      <td>1.1</td>\n",
              "      <td>93.994</td>\n",
              "      <td>-36.4</td>\n",
              "      <td>4.857</td>\n",
              "      <td>5191.0</td>\n",
              "      <td>no</td>\n",
              "    </tr>\n",
              "    <tr>\n",
              "      <th>2</th>\n",
              "      <td>37</td>\n",
              "      <td>services</td>\n",
              "      <td>married</td>\n",
              "      <td>high.school</td>\n",
              "      <td>no</td>\n",
              "      <td>yes</td>\n",
              "      <td>no</td>\n",
              "      <td>telephone</td>\n",
              "      <td>may</td>\n",
              "      <td>mon</td>\n",
              "      <td>...</td>\n",
              "      <td>1</td>\n",
              "      <td>999</td>\n",
              "      <td>0</td>\n",
              "      <td>nonexistent</td>\n",
              "      <td>1.1</td>\n",
              "      <td>93.994</td>\n",
              "      <td>-36.4</td>\n",
              "      <td>4.857</td>\n",
              "      <td>5191.0</td>\n",
              "      <td>no</td>\n",
              "    </tr>\n",
              "    <tr>\n",
              "      <th>3</th>\n",
              "      <td>40</td>\n",
              "      <td>admin.</td>\n",
              "      <td>married</td>\n",
              "      <td>basic.6y</td>\n",
              "      <td>no</td>\n",
              "      <td>no</td>\n",
              "      <td>no</td>\n",
              "      <td>telephone</td>\n",
              "      <td>may</td>\n",
              "      <td>mon</td>\n",
              "      <td>...</td>\n",
              "      <td>1</td>\n",
              "      <td>999</td>\n",
              "      <td>0</td>\n",
              "      <td>nonexistent</td>\n",
              "      <td>1.1</td>\n",
              "      <td>93.994</td>\n",
              "      <td>-36.4</td>\n",
              "      <td>4.857</td>\n",
              "      <td>5191.0</td>\n",
              "      <td>no</td>\n",
              "    </tr>\n",
              "    <tr>\n",
              "      <th>4</th>\n",
              "      <td>56</td>\n",
              "      <td>services</td>\n",
              "      <td>married</td>\n",
              "      <td>high.school</td>\n",
              "      <td>no</td>\n",
              "      <td>no</td>\n",
              "      <td>yes</td>\n",
              "      <td>telephone</td>\n",
              "      <td>may</td>\n",
              "      <td>mon</td>\n",
              "      <td>...</td>\n",
              "      <td>1</td>\n",
              "      <td>999</td>\n",
              "      <td>0</td>\n",
              "      <td>nonexistent</td>\n",
              "      <td>1.1</td>\n",
              "      <td>93.994</td>\n",
              "      <td>-36.4</td>\n",
              "      <td>4.857</td>\n",
              "      <td>5191.0</td>\n",
              "      <td>no</td>\n",
              "    </tr>\n",
              "    <tr>\n",
              "      <th>5</th>\n",
              "      <td>45</td>\n",
              "      <td>services</td>\n",
              "      <td>married</td>\n",
              "      <td>basic.9y</td>\n",
              "      <td>unknown</td>\n",
              "      <td>no</td>\n",
              "      <td>no</td>\n",
              "      <td>telephone</td>\n",
              "      <td>may</td>\n",
              "      <td>mon</td>\n",
              "      <td>...</td>\n",
              "      <td>1</td>\n",
              "      <td>999</td>\n",
              "      <td>0</td>\n",
              "      <td>nonexistent</td>\n",
              "      <td>1.1</td>\n",
              "      <td>93.994</td>\n",
              "      <td>-36.4</td>\n",
              "      <td>4.857</td>\n",
              "      <td>5191.0</td>\n",
              "      <td>no</td>\n",
              "    </tr>\n",
              "    <tr>\n",
              "      <th>6</th>\n",
              "      <td>59</td>\n",
              "      <td>admin.</td>\n",
              "      <td>married</td>\n",
              "      <td>professional.course</td>\n",
              "      <td>no</td>\n",
              "      <td>no</td>\n",
              "      <td>no</td>\n",
              "      <td>telephone</td>\n",
              "      <td>may</td>\n",
              "      <td>mon</td>\n",
              "      <td>...</td>\n",
              "      <td>1</td>\n",
              "      <td>999</td>\n",
              "      <td>0</td>\n",
              "      <td>nonexistent</td>\n",
              "      <td>1.1</td>\n",
              "      <td>93.994</td>\n",
              "      <td>-36.4</td>\n",
              "      <td>4.857</td>\n",
              "      <td>5191.0</td>\n",
              "      <td>no</td>\n",
              "    </tr>\n",
              "    <tr>\n",
              "      <th>7</th>\n",
              "      <td>41</td>\n",
              "      <td>blue-collar</td>\n",
              "      <td>married</td>\n",
              "      <td>unknown</td>\n",
              "      <td>unknown</td>\n",
              "      <td>no</td>\n",
              "      <td>no</td>\n",
              "      <td>telephone</td>\n",
              "      <td>may</td>\n",
              "      <td>mon</td>\n",
              "      <td>...</td>\n",
              "      <td>1</td>\n",
              "      <td>999</td>\n",
              "      <td>0</td>\n",
              "      <td>nonexistent</td>\n",
              "      <td>1.1</td>\n",
              "      <td>93.994</td>\n",
              "      <td>-36.4</td>\n",
              "      <td>4.857</td>\n",
              "      <td>5191.0</td>\n",
              "      <td>no</td>\n",
              "    </tr>\n",
              "    <tr>\n",
              "      <th>8</th>\n",
              "      <td>24</td>\n",
              "      <td>technician</td>\n",
              "      <td>single</td>\n",
              "      <td>professional.course</td>\n",
              "      <td>no</td>\n",
              "      <td>yes</td>\n",
              "      <td>no</td>\n",
              "      <td>telephone</td>\n",
              "      <td>may</td>\n",
              "      <td>mon</td>\n",
              "      <td>...</td>\n",
              "      <td>1</td>\n",
              "      <td>999</td>\n",
              "      <td>0</td>\n",
              "      <td>nonexistent</td>\n",
              "      <td>1.1</td>\n",
              "      <td>93.994</td>\n",
              "      <td>-36.4</td>\n",
              "      <td>4.857</td>\n",
              "      <td>5191.0</td>\n",
              "      <td>no</td>\n",
              "    </tr>\n",
              "    <tr>\n",
              "      <th>9</th>\n",
              "      <td>25</td>\n",
              "      <td>services</td>\n",
              "      <td>single</td>\n",
              "      <td>high.school</td>\n",
              "      <td>no</td>\n",
              "      <td>yes</td>\n",
              "      <td>no</td>\n",
              "      <td>telephone</td>\n",
              "      <td>may</td>\n",
              "      <td>mon</td>\n",
              "      <td>...</td>\n",
              "      <td>1</td>\n",
              "      <td>999</td>\n",
              "      <td>0</td>\n",
              "      <td>nonexistent</td>\n",
              "      <td>1.1</td>\n",
              "      <td>93.994</td>\n",
              "      <td>-36.4</td>\n",
              "      <td>4.857</td>\n",
              "      <td>5191.0</td>\n",
              "      <td>no</td>\n",
              "    </tr>\n",
              "    <tr>\n",
              "      <th>41178</th>\n",
              "      <td>62</td>\n",
              "      <td>retired</td>\n",
              "      <td>married</td>\n",
              "      <td>university.degree</td>\n",
              "      <td>no</td>\n",
              "      <td>no</td>\n",
              "      <td>no</td>\n",
              "      <td>cellular</td>\n",
              "      <td>nov</td>\n",
              "      <td>thu</td>\n",
              "      <td>...</td>\n",
              "      <td>2</td>\n",
              "      <td>6</td>\n",
              "      <td>3</td>\n",
              "      <td>success</td>\n",
              "      <td>-1.1</td>\n",
              "      <td>94.767</td>\n",
              "      <td>-50.8</td>\n",
              "      <td>1.031</td>\n",
              "      <td>4963.6</td>\n",
              "      <td>yes</td>\n",
              "    </tr>\n",
              "    <tr>\n",
              "      <th>41179</th>\n",
              "      <td>64</td>\n",
              "      <td>retired</td>\n",
              "      <td>divorced</td>\n",
              "      <td>professional.course</td>\n",
              "      <td>no</td>\n",
              "      <td>yes</td>\n",
              "      <td>no</td>\n",
              "      <td>cellular</td>\n",
              "      <td>nov</td>\n",
              "      <td>fri</td>\n",
              "      <td>...</td>\n",
              "      <td>3</td>\n",
              "      <td>999</td>\n",
              "      <td>0</td>\n",
              "      <td>nonexistent</td>\n",
              "      <td>-1.1</td>\n",
              "      <td>94.767</td>\n",
              "      <td>-50.8</td>\n",
              "      <td>1.028</td>\n",
              "      <td>4963.6</td>\n",
              "      <td>no</td>\n",
              "    </tr>\n",
              "    <tr>\n",
              "      <th>41180</th>\n",
              "      <td>36</td>\n",
              "      <td>admin.</td>\n",
              "      <td>married</td>\n",
              "      <td>university.degree</td>\n",
              "      <td>no</td>\n",
              "      <td>no</td>\n",
              "      <td>no</td>\n",
              "      <td>cellular</td>\n",
              "      <td>nov</td>\n",
              "      <td>fri</td>\n",
              "      <td>...</td>\n",
              "      <td>2</td>\n",
              "      <td>999</td>\n",
              "      <td>0</td>\n",
              "      <td>nonexistent</td>\n",
              "      <td>-1.1</td>\n",
              "      <td>94.767</td>\n",
              "      <td>-50.8</td>\n",
              "      <td>1.028</td>\n",
              "      <td>4963.6</td>\n",
              "      <td>no</td>\n",
              "    </tr>\n",
              "    <tr>\n",
              "      <th>41181</th>\n",
              "      <td>37</td>\n",
              "      <td>admin.</td>\n",
              "      <td>married</td>\n",
              "      <td>university.degree</td>\n",
              "      <td>no</td>\n",
              "      <td>yes</td>\n",
              "      <td>no</td>\n",
              "      <td>cellular</td>\n",
              "      <td>nov</td>\n",
              "      <td>fri</td>\n",
              "      <td>...</td>\n",
              "      <td>1</td>\n",
              "      <td>999</td>\n",
              "      <td>0</td>\n",
              "      <td>nonexistent</td>\n",
              "      <td>-1.1</td>\n",
              "      <td>94.767</td>\n",
              "      <td>-50.8</td>\n",
              "      <td>1.028</td>\n",
              "      <td>4963.6</td>\n",
              "      <td>yes</td>\n",
              "    </tr>\n",
              "    <tr>\n",
              "      <th>41182</th>\n",
              "      <td>29</td>\n",
              "      <td>unemployed</td>\n",
              "      <td>single</td>\n",
              "      <td>basic.4y</td>\n",
              "      <td>no</td>\n",
              "      <td>yes</td>\n",
              "      <td>no</td>\n",
              "      <td>cellular</td>\n",
              "      <td>nov</td>\n",
              "      <td>fri</td>\n",
              "      <td>...</td>\n",
              "      <td>1</td>\n",
              "      <td>9</td>\n",
              "      <td>1</td>\n",
              "      <td>success</td>\n",
              "      <td>-1.1</td>\n",
              "      <td>94.767</td>\n",
              "      <td>-50.8</td>\n",
              "      <td>1.028</td>\n",
              "      <td>4963.6</td>\n",
              "      <td>no</td>\n",
              "    </tr>\n",
              "    <tr>\n",
              "      <th>41183</th>\n",
              "      <td>73</td>\n",
              "      <td>retired</td>\n",
              "      <td>married</td>\n",
              "      <td>professional.course</td>\n",
              "      <td>no</td>\n",
              "      <td>yes</td>\n",
              "      <td>no</td>\n",
              "      <td>cellular</td>\n",
              "      <td>nov</td>\n",
              "      <td>fri</td>\n",
              "      <td>...</td>\n",
              "      <td>1</td>\n",
              "      <td>999</td>\n",
              "      <td>0</td>\n",
              "      <td>nonexistent</td>\n",
              "      <td>-1.1</td>\n",
              "      <td>94.767</td>\n",
              "      <td>-50.8</td>\n",
              "      <td>1.028</td>\n",
              "      <td>4963.6</td>\n",
              "      <td>yes</td>\n",
              "    </tr>\n",
              "    <tr>\n",
              "      <th>41184</th>\n",
              "      <td>46</td>\n",
              "      <td>blue-collar</td>\n",
              "      <td>married</td>\n",
              "      <td>professional.course</td>\n",
              "      <td>no</td>\n",
              "      <td>no</td>\n",
              "      <td>no</td>\n",
              "      <td>cellular</td>\n",
              "      <td>nov</td>\n",
              "      <td>fri</td>\n",
              "      <td>...</td>\n",
              "      <td>1</td>\n",
              "      <td>999</td>\n",
              "      <td>0</td>\n",
              "      <td>nonexistent</td>\n",
              "      <td>-1.1</td>\n",
              "      <td>94.767</td>\n",
              "      <td>-50.8</td>\n",
              "      <td>1.028</td>\n",
              "      <td>4963.6</td>\n",
              "      <td>no</td>\n",
              "    </tr>\n",
              "    <tr>\n",
              "      <th>41185</th>\n",
              "      <td>56</td>\n",
              "      <td>retired</td>\n",
              "      <td>married</td>\n",
              "      <td>university.degree</td>\n",
              "      <td>no</td>\n",
              "      <td>yes</td>\n",
              "      <td>no</td>\n",
              "      <td>cellular</td>\n",
              "      <td>nov</td>\n",
              "      <td>fri</td>\n",
              "      <td>...</td>\n",
              "      <td>2</td>\n",
              "      <td>999</td>\n",
              "      <td>0</td>\n",
              "      <td>nonexistent</td>\n",
              "      <td>-1.1</td>\n",
              "      <td>94.767</td>\n",
              "      <td>-50.8</td>\n",
              "      <td>1.028</td>\n",
              "      <td>4963.6</td>\n",
              "      <td>no</td>\n",
              "    </tr>\n",
              "    <tr>\n",
              "      <th>41186</th>\n",
              "      <td>44</td>\n",
              "      <td>technician</td>\n",
              "      <td>married</td>\n",
              "      <td>professional.course</td>\n",
              "      <td>no</td>\n",
              "      <td>no</td>\n",
              "      <td>no</td>\n",
              "      <td>cellular</td>\n",
              "      <td>nov</td>\n",
              "      <td>fri</td>\n",
              "      <td>...</td>\n",
              "      <td>1</td>\n",
              "      <td>999</td>\n",
              "      <td>0</td>\n",
              "      <td>nonexistent</td>\n",
              "      <td>-1.1</td>\n",
              "      <td>94.767</td>\n",
              "      <td>-50.8</td>\n",
              "      <td>1.028</td>\n",
              "      <td>4963.6</td>\n",
              "      <td>yes</td>\n",
              "    </tr>\n",
              "    <tr>\n",
              "      <th>41187</th>\n",
              "      <td>74</td>\n",
              "      <td>retired</td>\n",
              "      <td>married</td>\n",
              "      <td>professional.course</td>\n",
              "      <td>no</td>\n",
              "      <td>yes</td>\n",
              "      <td>no</td>\n",
              "      <td>cellular</td>\n",
              "      <td>nov</td>\n",
              "      <td>fri</td>\n",
              "      <td>...</td>\n",
              "      <td>3</td>\n",
              "      <td>999</td>\n",
              "      <td>1</td>\n",
              "      <td>failure</td>\n",
              "      <td>-1.1</td>\n",
              "      <td>94.767</td>\n",
              "      <td>-50.8</td>\n",
              "      <td>1.028</td>\n",
              "      <td>4963.6</td>\n",
              "      <td>no</td>\n",
              "    </tr>\n",
              "  </tbody>\n",
              "</table>\n",
              "<p>20 rows × 21 columns</p>\n",
              "</div>\n",
              "      <button class=\"colab-df-convert\" onclick=\"convertToInteractive('df-25ef1a4e-da44-44dd-b5ef-8c16dd380775')\"\n",
              "              title=\"Convert this dataframe to an interactive table.\"\n",
              "              style=\"display:none;\">\n",
              "        \n",
              "  <svg xmlns=\"http://www.w3.org/2000/svg\" height=\"24px\"viewBox=\"0 0 24 24\"\n",
              "       width=\"24px\">\n",
              "    <path d=\"M0 0h24v24H0V0z\" fill=\"none\"/>\n",
              "    <path d=\"M18.56 5.44l.94 2.06.94-2.06 2.06-.94-2.06-.94-.94-2.06-.94 2.06-2.06.94zm-11 1L8.5 8.5l.94-2.06 2.06-.94-2.06-.94L8.5 2.5l-.94 2.06-2.06.94zm10 10l.94 2.06.94-2.06 2.06-.94-2.06-.94-.94-2.06-.94 2.06-2.06.94z\"/><path d=\"M17.41 7.96l-1.37-1.37c-.4-.4-.92-.59-1.43-.59-.52 0-1.04.2-1.43.59L10.3 9.45l-7.72 7.72c-.78.78-.78 2.05 0 2.83L4 21.41c.39.39.9.59 1.41.59.51 0 1.02-.2 1.41-.59l7.78-7.78 2.81-2.81c.8-.78.8-2.07 0-2.86zM5.41 20L4 18.59l7.72-7.72 1.47 1.35L5.41 20z\"/>\n",
              "  </svg>\n",
              "      </button>\n",
              "      \n",
              "  <style>\n",
              "    .colab-df-container {\n",
              "      display:flex;\n",
              "      flex-wrap:wrap;\n",
              "      gap: 12px;\n",
              "    }\n",
              "\n",
              "    .colab-df-convert {\n",
              "      background-color: #E8F0FE;\n",
              "      border: none;\n",
              "      border-radius: 50%;\n",
              "      cursor: pointer;\n",
              "      display: none;\n",
              "      fill: #1967D2;\n",
              "      height: 32px;\n",
              "      padding: 0 0 0 0;\n",
              "      width: 32px;\n",
              "    }\n",
              "\n",
              "    .colab-df-convert:hover {\n",
              "      background-color: #E2EBFA;\n",
              "      box-shadow: 0px 1px 2px rgba(60, 64, 67, 0.3), 0px 1px 3px 1px rgba(60, 64, 67, 0.15);\n",
              "      fill: #174EA6;\n",
              "    }\n",
              "\n",
              "    [theme=dark] .colab-df-convert {\n",
              "      background-color: #3B4455;\n",
              "      fill: #D2E3FC;\n",
              "    }\n",
              "\n",
              "    [theme=dark] .colab-df-convert:hover {\n",
              "      background-color: #434B5C;\n",
              "      box-shadow: 0px 1px 3px 1px rgba(0, 0, 0, 0.15);\n",
              "      filter: drop-shadow(0px 1px 2px rgba(0, 0, 0, 0.3));\n",
              "      fill: #FFFFFF;\n",
              "    }\n",
              "  </style>\n",
              "\n",
              "      <script>\n",
              "        const buttonEl =\n",
              "          document.querySelector('#df-25ef1a4e-da44-44dd-b5ef-8c16dd380775 button.colab-df-convert');\n",
              "        buttonEl.style.display =\n",
              "          google.colab.kernel.accessAllowed ? 'block' : 'none';\n",
              "\n",
              "        async function convertToInteractive(key) {\n",
              "          const element = document.querySelector('#df-25ef1a4e-da44-44dd-b5ef-8c16dd380775');\n",
              "          const dataTable =\n",
              "            await google.colab.kernel.invokeFunction('convertToInteractive',\n",
              "                                                     [key], {});\n",
              "          if (!dataTable) return;\n",
              "\n",
              "          const docLinkHtml = 'Like what you see? Visit the ' +\n",
              "            '<a target=\"_blank\" href=https://colab.research.google.com/notebooks/data_table.ipynb>data table notebook</a>'\n",
              "            + ' to learn more about interactive tables.';\n",
              "          element.innerHTML = '';\n",
              "          dataTable['output_type'] = 'display_data';\n",
              "          await google.colab.output.renderOutput(dataTable, element);\n",
              "          const docLink = document.createElement('div');\n",
              "          docLink.innerHTML = docLinkHtml;\n",
              "          element.appendChild(docLink);\n",
              "        }\n",
              "      </script>\n",
              "    </div>\n",
              "  </div>\n",
              "  "
            ]
          },
          "metadata": {},
          "execution_count": 2
        }
      ],
      "source": [
        "bank_data.head(10).append(bank_data.tail(10))"
      ]
    },
    {
      "cell_type": "markdown",
      "metadata": {
        "id": "wuGuoQedH8UV"
      },
      "source": [
        "# Data Exploration"
      ]
    },
    {
      "cell_type": "markdown",
      "source": [
        "* Continuous variable : Numeric variable which can take every possible value within a given range. Ex. salary, percentage. Continuous variables are of decimal datatype generally.\n",
        "\n",
        "* Discrete variable : Numberic variable which can take only whole number or discrete values in a given range. Ex. number of loans, number of dependents. Discrete variable is ordinal, it can be ordered or sorted.\n",
        "\n",
        "Sometimes depending on the number of distinct values in a range, we can classify the variable as discrete if the distinct count is less. If the count is more then we can take them as continuous.\n",
        "\n",
        "* Categorical variable - Variable that cannot be ordered or sorting does not make sense. Generally strings. Ex. Region (north, south, east, west), zipcode (although a number, it is code. We cannot say one zipcode is greater than another)."
      ],
      "metadata": {
        "id": "0EcSwnsBe_6B"
      }
    },
    {
      "cell_type": "markdown",
      "metadata": {
        "id": "NeYGF7S0IDjD"
      },
      "source": [
        "## Categorical and Discrete Variables"
      ]
    },
    {
      "cell_type": "markdown",
      "source": [
        "To explore any variable, we can check the frequency of occurence of its values (Frequency Table). It will give us three information - 1. Number of distinct values 2. the distinct values. 3. count of occurence (frequency) of each value. From these parameters, we can classify the variable into one of the above categories, as well be able to check if the variable has any of the issues mentioned earlier."
      ],
      "metadata": {
        "id": "oUNHkT2z11A7"
      }
    },
    {
      "cell_type": "markdown",
      "metadata": {
        "id": "QccPFytfNIzS"
      },
      "source": [
        "## 1. age"
      ]
    },
    {
      "cell_type": "markdown",
      "metadata": {
        "id": "ho66w0a6P3ta"
      },
      "source": [
        "Age of client in years. Numeric integer variable.\n",
        "Discrete. Expected range between 18 and 100."
      ]
    },
    {
      "cell_type": "code",
      "execution_count": null,
      "metadata": {
        "colab": {
          "base_uri": "https://localhost:8080/",
          "height": 508
        },
        "id": "CFrdiCC4NBZi",
        "outputId": "16ec6c83-be93-4c3a-b0b0-d924dbe104b9"
      },
      "outputs": [
        {
          "output_type": "stream",
          "name": "stdout",
          "text": [
            "31    1947\n",
            "32    1846\n",
            "33    1833\n",
            "36    1780\n",
            "35    1759\n",
            "      ... \n",
            "89       2\n",
            "91       2\n",
            "94       1\n",
            "87       1\n",
            "95       1\n",
            "Name: age, Length: 78, dtype: int64\n"
          ]
        },
        {
          "output_type": "execute_result",
          "data": {
            "text/plain": [
              "<matplotlib.axes._subplots.AxesSubplot at 0x7ff6094f0d10>"
            ]
          },
          "metadata": {},
          "execution_count": 3
        },
        {
          "output_type": "display_data",
          "data": {
            "text/plain": [
              "<Figure size 432x288 with 1 Axes>"
            ],
            "image/png": "[encoded data removed]"
          },
          "metadata": {
            "needs_background": "light"
          }
        }
      ],
      "source": [
        "# Using frequency table to analyze discrete variable\n",
        "\n",
        "import numpy as np\n",
        "import matplotlib.pyplot as plt\n",
        "import seaborn as sns\n",
        "\n",
        "print(bank_data[\"age\"].value_counts())\n",
        "sns.countplot(y= \"age\", data = bank_data)"
      ]
    },
    {
      "cell_type": "code",
      "execution_count": null,
      "metadata": {
        "colab": {
          "base_uri": "https://localhost:8080/",
          "height": 1000
        },
        "id": "Xw82iX59NC_Z",
        "outputId": "fa5e33b2-ab51-4bcf-d03b-ba10b03c61b3"
      },
      "outputs": [
        {
          "output_type": "execute_result",
          "data": {
            "text/plain": [
              "       age      job marital    education default  housing     loan    contact  \\\n",
              "24110   18  student  single  high.school      no       no       no  telephone   \n",
              "27792   18  student  single  high.school      no      yes      yes   cellular   \n",
              "30142   18  student  single     basic.4y      no       no       no   cellular   \n",
              "30349   18  student  single     basic.4y      no      yes      yes   cellular   \n",
              "35871   18  student  single  high.school      no       no       no   cellular   \n",
              "35872   18  student  single  high.school      no      yes       no   cellular   \n",
              "37125   18  student  single     basic.9y      no      yes       no   cellular   \n",
              "37140   17  student  single      unknown      no      yes       no   cellular   \n",
              "37539   17  student  single     basic.9y      no      yes       no   cellular   \n",
              "37558   17  student  single     basic.9y      no      yes       no   cellular   \n",
              "37579   17  student  single     basic.9y      no  unknown  unknown   cellular   \n",
              "37626   18  student  single     basic.6y      no      yes       no   cellular   \n",
              "37916   18  student  single      unknown      no       no       no   cellular   \n",
              "37917   18  student  single      unknown      no      yes       no   cellular   \n",
              "37934   18  student  single      unknown      no  unknown  unknown   cellular   \n",
              "37955   18  student  single      unknown      no      yes       no   cellular   \n",
              "38009   18  student  single      unknown      no       no       no  telephone   \n",
              "38274   17  student  single      unknown      no       no      yes   cellular   \n",
              "38597   18  student  single     basic.6y      no       no      yes   cellular   \n",
              "38832   18  student  single  high.school      no       no       no   cellular   \n",
              "39036   18  student  single     basic.9y      no      yes       no   cellular   \n",
              "39039   18  student  single     basic.9y      no      yes       no   cellular   \n",
              "39057   18  student  single     basic.9y      no       no       no   cellular   \n",
              "39575   18  student  single      unknown      no      yes       no  telephone   \n",
              "39576   18  student  single      unknown      no      yes       no   cellular   \n",
              "39593   18  student  single      unknown      no       no       no  telephone   \n",
              "39610   18  student  single      unknown      no      yes       no   cellular   \n",
              "39903   18  student  single     basic.4y      no      yes       no   cellular   \n",
              "40373   18  student  single      unknown      no      yes       no   cellular   \n",
              "40379   18  student  single      unknown      no      yes       no   cellular   \n",
              "40383   18  student  single      unknown      no      yes      yes  telephone   \n",
              "41084   18  student  single      unknown      no      yes       no   cellular   \n",
              "41088   18  student  single     basic.4y      no      yes       no  telephone   \n",
              "\n",
              "      month day_of_week  ...  campaign  pdays  previous     poutcome  \\\n",
              "24110   nov         thu  ...         1    999         0  nonexistent   \n",
              "27792   mar         tue  ...         1    999         0  nonexistent   \n",
              "30142   apr         thu  ...         1    999         0  nonexistent   \n",
              "30349   apr         thu  ...         2    999         0  nonexistent   \n",
              "35871   may         fri  ...         1    999         1      failure   \n",
              "35872   may         fri  ...         1      1         2      success   \n",
              "37125   aug         tue  ...         1    999         0  nonexistent   \n",
              "37140   aug         wed  ...         3      4         2      success   \n",
              "37539   aug         fri  ...         2    999         2      failure   \n",
              "37558   aug         fri  ...         3      4         2      success   \n",
              "37579   aug         fri  ...         2    999         1      failure   \n",
              "37626   aug         mon  ...         1    999         0  nonexistent   \n",
              "37916   sep         thu  ...         1      3         1      success   \n",
              "37917   sep         thu  ...         1    999         0  nonexistent   \n",
              "37934   sep         thu  ...         2    999         0  nonexistent   \n",
              "37955   sep         fri  ...         1    999         0  nonexistent   \n",
              "38009   sep         tue  ...         2    999         0  nonexistent   \n",
              "38274   oct         tue  ...         1      2         2      success   \n",
              "38597   oct         fri  ...         2    999         0  nonexistent   \n",
              "38832   nov         fri  ...         2      7         2      failure   \n",
              "39036   dec         mon  ...         1    999         1      failure   \n",
              "39039   dec         mon  ...         2    999         0  nonexistent   \n",
              "39057   dec         thu  ...         2    999         0  nonexistent   \n",
              "39575   may         tue  ...         1      3         1      success   \n",
              "39576   may         tue  ...         1      6         1      success   \n",
              "39593   may         wed  ...         1    999         2      failure   \n",
              "39610   may         thu  ...         1      7         2      success   \n",
              "39903   jun         tue  ...         1    999         0  nonexistent   \n",
              "40373   aug         wed  ...         2      6         1      success   \n",
              "40379   aug         wed  ...         1     17         2      failure   \n",
              "40383   aug         wed  ...         1    999         0  nonexistent   \n",
              "41084   nov         tue  ...         2    999         3      failure   \n",
              "41088   nov         tue  ...         1     13         2      success   \n",
              "\n",
              "      emp.var.rate  cons.price.idx  cons.conf.idx  euribor3m  nr.employed    y  \n",
              "24110         -0.1          93.200          -42.0      4.245       5195.8   no  \n",
              "27792         -1.8          92.843          -50.0      1.687       5099.1   no  \n",
              "30142         -1.8          93.075          -47.1      1.365       5099.1   no  \n",
              "30349         -1.8          93.075          -47.1      1.365       5099.1   no  \n",
              "35871         -1.8          92.893          -46.2      1.259       5099.1  yes  \n",
              "35872         -1.8          92.893          -46.2      1.259       5099.1   no  \n",
              "37125         -2.9          92.201          -31.4      0.884       5076.2  yes  \n",
              "37140         -2.9          92.201          -31.4      0.884       5076.2   no  \n",
              "37539         -2.9          92.201          -31.4      0.869       5076.2   no  \n",
              "37558         -2.9          92.201          -31.4      0.869       5076.2   no  \n",
              "37579         -2.9          92.201          -31.4      0.869       5076.2  yes  \n",
              "37626         -2.9          92.201          -31.4      0.861       5076.2   no  \n",
              "37916         -3.4          92.379          -29.8      0.809       5017.5  yes  \n",
              "37917         -3.4          92.379          -29.8      0.809       5017.5   no  \n",
              "37934         -3.4          92.379          -29.8      0.809       5017.5   no  \n",
              "37955         -3.4          92.379          -29.8      0.803       5017.5  yes  \n",
              "38009         -3.4          92.379          -29.8      0.788       5017.5   no  \n",
              "38274         -3.4          92.431          -26.9      0.742       5017.5  yes  \n",
              "38597         -3.4          92.431          -26.9      0.720       5017.5  yes  \n",
              "38832         -3.4          92.649          -30.1      0.714       5017.5  yes  \n",
              "39036         -3.0          92.713          -33.0      0.715       5023.5   no  \n",
              "39039         -3.0          92.713          -33.0      0.715       5023.5   no  \n",
              "39057         -3.0          92.713          -33.0      0.712       5023.5  yes  \n",
              "39575         -1.8          93.876          -40.0      0.668       5008.7  yes  \n",
              "39576         -1.8          93.876          -40.0      0.668       5008.7  yes  \n",
              "39593         -1.8          93.876          -40.0      0.672       5008.7   no  \n",
              "39610         -1.8          93.876          -40.0      0.677       5008.7   no  \n",
              "39903         -1.7          94.055          -39.8      0.737       4991.6   no  \n",
              "40373         -1.7          94.027          -38.3      0.900       4991.6  yes  \n",
              "40379         -1.7          94.027          -38.3      0.900       4991.6  yes  \n",
              "40383         -1.7          94.027          -38.3      0.900       4991.6   no  \n",
              "41084         -1.1          94.767          -50.8      1.049       4963.6   no  \n",
              "41088         -1.1          94.767          -50.8      1.049       4963.6  yes  \n",
              "\n",
              "[33 rows x 21 columns]"
            ],
            "text/html": [
              "\n",
              "  <div id=\"df-069169d0-141f-484d-bb66-3b6c4b7db872\">\n",
              "    <div class=\"colab-df-container\">\n",
              "      <div>\n",
              "<style scoped>\n",
              "    .dataframe tbody tr th:only-of-type {\n",
              "        vertical-align: middle;\n",
              "    }\n",
              "\n",
              "    .dataframe tbody tr th {\n",
              "        vertical-align: top;\n",
              "    }\n",
              "\n",
              "    .dataframe thead th {\n",
              "        text-align: right;\n",
              "    }\n",
              "</style>\n",
              "<table border=\"1\" class=\"dataframe\">\n",
              "  <thead>\n",
              "    <tr style=\"text-align: right;\">\n",
              "      <th></th>\n",
              "      <th>age</th>\n",
              "      <th>job</th>\n",
              "      <th>marital</th>\n",
              "      <th>education</th>\n",
              "      <th>default</th>\n",
              "      <th>housing</th>\n",
              "      <th>loan</th>\n",
              "      <th>contact</th>\n",
              "      <th>month</th>\n",
              "      <th>day_of_week</th>\n",
              "      <th>...</th>\n",
              "      <th>campaign</th>\n",
              "      <th>pdays</th>\n",
              "      <th>previous</th>\n",
              "      <th>poutcome</th>\n",
              "      <th>emp.var.rate</th>\n",
              "      <th>cons.price.idx</th>\n",
              "      <th>cons.conf.idx</th>\n",
              "      <th>euribor3m</th>\n",
              "      <th>nr.employed</th>\n",
              "      <th>y</th>\n",
              "    </tr>\n",
              "  </thead>\n",
              "  <tbody>\n",
              "    <tr>\n",
              "      <th>24110</th>\n",
              "      <td>18</td>\n",
              "      <td>student</td>\n",
              "      <td>single</td>\n",
              "      <td>high.school</td>\n",
              "      <td>no</td>\n",
              "      <td>no</td>\n",
              "      <td>no</td>\n",
              "      <td>telephone</td>\n",
              "      <td>nov</td>\n",
              "      <td>thu</td>\n",
              "      <td>...</td>\n",
              "      <td>1</td>\n",
              "      <td>999</td>\n",
              "      <td>0</td>\n",
              "      <td>nonexistent</td>\n",
              "      <td>-0.1</td>\n",
              "      <td>93.200</td>\n",
              "      <td>-42.0</td>\n",
              "      <td>4.245</td>\n",
              "      <td>5195.8</td>\n",
              "      <td>no</td>\n",
              "    </tr>\n",
              "    <tr>\n",
              "      <th>27792</th>\n",
              "      <td>18</td>\n",
              "      <td>student</td>\n",
              "      <td>single</td>\n",
              "      <td>high.school</td>\n",
              "      <td>no</td>\n",
              "      <td>yes</td>\n",
              "      <td>yes</td>\n",
              "      <td>cellular</td>\n",
              "      <td>mar</td>\n",
              "      <td>tue</td>\n",
              "      <td>...</td>\n",
              "      <td>1</td>\n",
              "      <td>999</td>\n",
              "      <td>0</td>\n",
              "      <td>nonexistent</td>\n",
              "      <td>-1.8</td>\n",
              "      <td>92.843</td>\n",
              "      <td>-50.0</td>\n",
              "      <td>1.687</td>\n",
              "      <td>5099.1</td>\n",
              "      <td>no</td>\n",
              "    </tr>\n",
              "    <tr>\n",
              "      <th>30142</th>\n",
              "      <td>18</td>\n",
              "      <td>student</td>\n",
              "      <td>single</td>\n",
              "      <td>basic.4y</td>\n",
              "      <td>no</td>\n",
              "      <td>no</td>\n",
              "      <td>no</td>\n",
              "      <td>cellular</td>\n",
              "      <td>apr</td>\n",
              "      <td>thu</td>\n",
              "      <td>...</td>\n",
              "      <td>1</td>\n",
              "      <td>999</td>\n",
              "      <td>0</td>\n",
              "      <td>nonexistent</td>\n",
              "      <td>-1.8</td>\n",
              "      <td>93.075</td>\n",
              "      <td>-47.1</td>\n",
              "      <td>1.365</td>\n",
              "      <td>5099.1</td>\n",
              "      <td>no</td>\n",
              "    </tr>\n",
              "    <tr>\n",
              "      <th>30349</th>\n",
              "      <td>18</td>\n",
              "      <td>student</td>\n",
              "      <td>single</td>\n",
              "      <td>basic.4y</td>\n",
              "      <td>no</td>\n",
              "      <td>yes</td>\n",
              "      <td>yes</td>\n",
              "      <td>cellular</td>\n",
              "      <td>apr</td>\n",
              "      <td>thu</td>\n",
              "      <td>...</td>\n",
              "      <td>2</td>\n",
              "      <td>999</td>\n",
              "      <td>0</td>\n",
              "      <td>nonexistent</td>\n",
              "      <td>-1.8</td>\n",
              "      <td>93.075</td>\n",
              "      <td>-47.1</td>\n",
              "      <td>1.365</td>\n",
              "      <td>5099.1</td>\n",
              "      <td>no</td>\n",
              "    </tr>\n",
              "    <tr>\n",
              "      <th>35871</th>\n",
              "      <td>18</td>\n",
              "      <td>student</td>\n",
              "      <td>single</td>\n",
              "      <td>high.school</td>\n",
              "      <td>no</td>\n",
              "      <td>no</td>\n",
              "      <td>no</td>\n",
              "      <td>cellular</td>\n",
              "      <td>may</td>\n",
              "      <td>fri</td>\n",
              "      <td>...</td>\n",
              "      <td>1</td>\n",
              "      <td>999</td>\n",
              "      <td>1</td>\n",
              "      <td>failure</td>\n",
              "      <td>-1.8</td>\n",
              "      <td>92.893</td>\n",
              "      <td>-46.2</td>\n",
              "      <td>1.259</td>\n",
              "      <td>5099.1</td>\n",
              "      <td>yes</td>\n",
              "    </tr>\n",
              "    <tr>\n",
              "      <th>35872</th>\n",
              "      <td>18</td>\n",
              "      <td>student</td>\n",
              "      <td>single</td>\n",
              "      <td>high.school</td>\n",
              "      <td>no</td>\n",
              "      <td>yes</td>\n",
              "      <td>no</td>\n",
              "      <td>cellular</td>\n",
              "      <td>may</td>\n",
              "      <td>fri</td>\n",
              "      <td>...</td>\n",
              "      <td>1</td>\n",
              "      <td>1</td>\n",
              "      <td>2</td>\n",
              "      <td>success</td>\n",
              "      <td>-1.8</td>\n",
              "      <td>92.893</td>\n",
              "      <td>-46.2</td>\n",
              "      <td>1.259</td>\n",
              "      <td>5099.1</td>\n",
              "      <td>no</td>\n",
              "    </tr>\n",
              "    <tr>\n",
              "      <th>37125</th>\n",
              "      <td>18</td>\n",
              "      <td>student</td>\n",
              "      <td>single</td>\n",
              "      <td>basic.9y</td>\n",
              "      <td>no</td>\n",
              "      <td>yes</td>\n",
              "      <td>no</td>\n",
              "      <td>cellular</td>\n",
              "      <td>aug</td>\n",
              "      <td>tue</td>\n",
              "      <td>...</td>\n",
              "      <td>1</td>\n",
              "      <td>999</td>\n",
              "      <td>0</td>\n",
              "      <td>nonexistent</td>\n",
              "      <td>-2.9</td>\n",
              "      <td>92.201</td>\n",
              "      <td>-31.4</td>\n",
              "      <td>0.884</td>\n",
              "      <td>5076.2</td>\n",
              "      <td>yes</td>\n",
              "    </tr>\n",
              "    <tr>\n",
              "      <th>37140</th>\n",
              "      <td>17</td>\n",
              "      <td>student</td>\n",
              "      <td>single</td>\n",
              "      <td>unknown</td>\n",
              "      <td>no</td>\n",
              "      <td>yes</td>\n",
              "      <td>no</td>\n",
              "      <td>cellular</td>\n",
              "      <td>aug</td>\n",
              "      <td>wed</td>\n",
              "      <td>...</td>\n",
              "      <td>3</td>\n",
              "      <td>4</td>\n",
              "      <td>2</td>\n",
              "      <td>success</td>\n",
              "      <td>-2.9</td>\n",
              "      <td>92.201</td>\n",
              "      <td>-31.4</td>\n",
              "      <td>0.884</td>\n",
              "      <td>5076.2</td>\n",
              "      <td>no</td>\n",
              "    </tr>\n",
              "    <tr>\n",
              "      <th>37539</th>\n",
              "      <td>17</td>\n",
              "      <td>student</td>\n",
              "      <td>single</td>\n",
              "      <td>basic.9y</td>\n",
              "      <td>no</td>\n",
              "      <td>yes</td>\n",
              "      <td>no</td>\n",
              "      <td>cellular</td>\n",
              "      <td>aug</td>\n",
              "      <td>fri</td>\n",
              "      <td>...</td>\n",
              "      <td>2</td>\n",
              "      <td>999</td>\n",
              "      <td>2</td>\n",
              "      <td>failure</td>\n",
              "      <td>-2.9</td>\n",
              "      <td>92.201</td>\n",
              "      <td>-31.4</td>\n",
              "      <td>0.869</td>\n",
              "      <td>5076.2</td>\n",
              "      <td>no</td>\n",
              "    </tr>\n",
              "    <tr>\n",
              "      <th>37558</th>\n",
              "      <td>17</td>\n",
              "      <td>student</td>\n",
              "      <td>single</td>\n",
              "      <td>basic.9y</td>\n",
              "      <td>no</td>\n",
              "      <td>yes</td>\n",
              "      <td>no</td>\n",
              "      <td>cellular</td>\n",
              "      <td>aug</td>\n",
              "      <td>fri</td>\n",
              "      <td>...</td>\n",
              "      <td>3</td>\n",
              "      <td>4</td>\n",
              "      <td>2</td>\n",
              "      <td>success</td>\n",
              "      <td>-2.9</td>\n",
              "      <td>92.201</td>\n",
              "      <td>-31.4</td>\n",
              "      <td>0.869</td>\n",
              "      <td>5076.2</td>\n",
              "      <td>no</td>\n",
              "    </tr>\n",
              "    <tr>\n",
              "      <th>37579</th>\n",
              "      <td>17</td>\n",
              "      <td>student</td>\n",
              "      <td>single</td>\n",
              "      <td>basic.9y</td>\n",
              "      <td>no</td>\n",
              "      <td>unknown</td>\n",
              "      <td>unknown</td>\n",
              "      <td>cellular</td>\n",
              "      <td>aug</td>\n",
              "      <td>fri</td>\n",
              "      <td>...</td>\n",
              "      <td>2</td>\n",
              "      <td>999</td>\n",
              "      <td>1</td>\n",
              "      <td>failure</td>\n",
              "      <td>-2.9</td>\n",
              "      <td>92.201</td>\n",
              "      <td>-31.4</td>\n",
              "      <td>0.869</td>\n",
              "      <td>5076.2</td>\n",
              "      <td>yes</td>\n",
              "    </tr>\n",
              "    <tr>\n",
              "      <th>37626</th>\n",
              "      <td>18</td>\n",
              "      <td>student</td>\n",
              "      <td>single</td>\n",
              "      <td>basic.6y</td>\n",
              "      <td>no</td>\n",
              "      <td>yes</td>\n",
              "      <td>no</td>\n",
              "      <td>cellular</td>\n",
              "      <td>aug</td>\n",
              "      <td>mon</td>\n",
              "      <td>...</td>\n",
              "      <td>1</td>\n",
              "      <td>999</td>\n",
              "      <td>0</td>\n",
              "      <td>nonexistent</td>\n",
              "      <td>-2.9</td>\n",
              "      <td>92.201</td>\n",
              "      <td>-31.4</td>\n",
              "      <td>0.861</td>\n",
              "      <td>5076.2</td>\n",
              "      <td>no</td>\n",
              "    </tr>\n",
              "    <tr>\n",
              "      <th>37916</th>\n",
              "      <td>18</td>\n",
              "      <td>student</td>\n",
              "      <td>single</td>\n",
              "      <td>unknown</td>\n",
              "      <td>no</td>\n",
              "      <td>no</td>\n",
              "      <td>no</td>\n",
              "      <td>cellular</td>\n",
              "      <td>sep</td>\n",
              "      <td>thu</td>\n",
              "      <td>...</td>\n",
              "      <td>1</td>\n",
              "      <td>3</td>\n",
              "      <td>1</td>\n",
              "      <td>success</td>\n",
              "      <td>-3.4</td>\n",
              "      <td>92.379</td>\n",
              "      <td>-29.8</td>\n",
              "      <td>0.809</td>\n",
              "      <td>5017.5</td>\n",
              "      <td>yes</td>\n",
              "    </tr>\n",
              "    <tr>\n",
              "      <th>37917</th>\n",
              "      <td>18</td>\n",
              "      <td>student</td>\n",
              "      <td>single</td>\n",
              "      <td>unknown</td>\n",
              "      <td>no</td>\n",
              "      <td>yes</td>\n",
              "      <td>no</td>\n",
              "      <td>cellular</td>\n",
              "      <td>sep</td>\n",
              "      <td>thu</td>\n",
              "      <td>...</td>\n",
              "      <td>1</td>\n",
              "      <td>999</td>\n",
              "      <td>0</td>\n",
              "      <td>nonexistent</td>\n",
              "      <td>-3.4</td>\n",
              "      <td>92.379</td>\n",
              "      <td>-29.8</td>\n",
              "      <td>0.809</td>\n",
              "      <td>5017.5</td>\n",
              "      <td>no</td>\n",
              "    </tr>\n",
              "    <tr>\n",
              "      <th>37934</th>\n",
              "      <td>18</td>\n",
              "      <td>student</td>\n",
              "      <td>single</td>\n",
              "      <td>unknown</td>\n",
              "      <td>no</td>\n",
              "      <td>unknown</td>\n",
              "      <td>unknown</td>\n",
              "      <td>cellular</td>\n",
              "      <td>sep</td>\n",
              "      <td>thu</td>\n",
              "      <td>...</td>\n",
              "      <td>2</td>\n",
              "      <td>999</td>\n",
              "      <td>0</td>\n",
              "      <td>nonexistent</td>\n",
              "      <td>-3.4</td>\n",
              "      <td>92.379</td>\n",
              "      <td>-29.8</td>\n",
              "      <td>0.809</td>\n",
              "      <td>5017.5</td>\n",
              "      <td>no</td>\n",
              "    </tr>\n",
              "    <tr>\n",
              "      <th>37955</th>\n",
              "      <td>18</td>\n",
              "      <td>student</td>\n",
              "      <td>single</td>\n",
              "      <td>unknown</td>\n",
              "      <td>no</td>\n",
              "      <td>yes</td>\n",
              "      <td>no</td>\n",
              "      <td>cellular</td>\n",
              "      <td>sep</td>\n",
              "      <td>fri</td>\n",
              "      <td>...</td>\n",
              "      <td>1</td>\n",
              "      <td>999</td>\n",
              "      <td>0</td>\n",
              "      <td>nonexistent</td>\n",
              "      <td>-3.4</td>\n",
              "      <td>92.379</td>\n",
              "      <td>-29.8</td>\n",
              "      <td>0.803</td>\n",
              "      <td>5017.5</td>\n",
              "      <td>yes</td>\n",
              "    </tr>\n",
              "    <tr>\n",
              "      <th>38009</th>\n",
              "      <td>18</td>\n",
              "      <td>student</td>\n",
              "      <td>single</td>\n",
              "      <td>unknown</td>\n",
              "      <td>no</td>\n",
              "      <td>no</td>\n",
              "      <td>no</td>\n",
              "      <td>telephone</td>\n",
              "      <td>sep</td>\n",
              "      <td>tue</td>\n",
              "      <td>...</td>\n",
              "      <td>2</td>\n",
              "      <td>999</td>\n",
              "      <td>0</td>\n",
              "      <td>nonexistent</td>\n",
              "      <td>-3.4</td>\n",
              "      <td>92.379</td>\n",
              "      <td>-29.8</td>\n",
              "      <td>0.788</td>\n",
              "      <td>5017.5</td>\n",
              "      <td>no</td>\n",
              "    </tr>\n",
              "    <tr>\n",
              "      <th>38274</th>\n",
              "      <td>17</td>\n",
              "      <td>student</td>\n",
              "      <td>single</td>\n",
              "      <td>unknown</td>\n",
              "      <td>no</td>\n",
              "      <td>no</td>\n",
              "      <td>yes</td>\n",
              "      <td>cellular</td>\n",
              "      <td>oct</td>\n",
              "      <td>tue</td>\n",
              "      <td>...</td>\n",
              "      <td>1</td>\n",
              "      <td>2</td>\n",
              "      <td>2</td>\n",
              "      <td>success</td>\n",
              "      <td>-3.4</td>\n",
              "      <td>92.431</td>\n",
              "      <td>-26.9</td>\n",
              "      <td>0.742</td>\n",
              "      <td>5017.5</td>\n",
              "      <td>yes</td>\n",
              "    </tr>\n",
              "    <tr>\n",
              "      <th>38597</th>\n",
              "      <td>18</td>\n",
              "      <td>student</td>\n",
              "      <td>single</td>\n",
              "      <td>basic.6y</td>\n",
              "      <td>no</td>\n",
              "      <td>no</td>\n",
              "      <td>yes</td>\n",
              "      <td>cellular</td>\n",
              "      <td>oct</td>\n",
              "      <td>fri</td>\n",
              "      <td>...</td>\n",
              "      <td>2</td>\n",
              "      <td>999</td>\n",
              "      <td>0</td>\n",
              "      <td>nonexistent</td>\n",
              "      <td>-3.4</td>\n",
              "      <td>92.431</td>\n",
              "      <td>-26.9</td>\n",
              "      <td>0.720</td>\n",
              "      <td>5017.5</td>\n",
              "      <td>yes</td>\n",
              "    </tr>\n",
              "    <tr>\n",
              "      <th>38832</th>\n",
              "      <td>18</td>\n",
              "      <td>student</td>\n",
              "      <td>single</td>\n",
              "      <td>high.school</td>\n",
              "      <td>no</td>\n",
              "      <td>no</td>\n",
              "      <td>no</td>\n",
              "      <td>cellular</td>\n",
              "      <td>nov</td>\n",
              "      <td>fri</td>\n",
              "      <td>...</td>\n",
              "      <td>2</td>\n",
              "      <td>7</td>\n",
              "      <td>2</td>\n",
              "      <td>failure</td>\n",
              "      <td>-3.4</td>\n",
              "      <td>92.649</td>\n",
              "      <td>-30.1</td>\n",
              "      <td>0.714</td>\n",
              "      <td>5017.5</td>\n",
              "      <td>yes</td>\n",
              "    </tr>\n",
              "    <tr>\n",
              "      <th>39036</th>\n",
              "      <td>18</td>\n",
              "      <td>student</td>\n",
              "      <td>single</td>\n",
              "      <td>basic.9y</td>\n",
              "      <td>no</td>\n",
              "      <td>yes</td>\n",
              "      <td>no</td>\n",
              "      <td>cellular</td>\n",
              "      <td>dec</td>\n",
              "      <td>mon</td>\n",
              "      <td>...</td>\n",
              "      <td>1</td>\n",
              "      <td>999</td>\n",
              "      <td>1</td>\n",
              "      <td>failure</td>\n",
              "      <td>-3.0</td>\n",
              "      <td>92.713</td>\n",
              "      <td>-33.0</td>\n",
              "      <td>0.715</td>\n",
              "      <td>5023.5</td>\n",
              "      <td>no</td>\n",
              "    </tr>\n",
              "    <tr>\n",
              "      <th>39039</th>\n",
              "      <td>18</td>\n",
              "      <td>student</td>\n",
              "      <td>single</td>\n",
              "      <td>basic.9y</td>\n",
              "      <td>no</td>\n",
              "      <td>yes</td>\n",
              "      <td>no</td>\n",
              "      <td>cellular</td>\n",
              "      <td>dec</td>\n",
              "      <td>mon</td>\n",
              "      <td>...</td>\n",
              "      <td>2</td>\n",
              "      <td>999</td>\n",
              "      <td>0</td>\n",
              "      <td>nonexistent</td>\n",
              "      <td>-3.0</td>\n",
              "      <td>92.713</td>\n",
              "      <td>-33.0</td>\n",
              "      <td>0.715</td>\n",
              "      <td>5023.5</td>\n",
              "      <td>no</td>\n",
              "    </tr>\n",
              "    <tr>\n",
              "      <th>39057</th>\n",
              "      <td>18</td>\n",
              "      <td>student</td>\n",
              "      <td>single</td>\n",
              "      <td>basic.9y</td>\n",
              "      <td>no</td>\n",
              "      <td>no</td>\n",
              "      <td>no</td>\n",
              "      <td>cellular</td>\n",
              "      <td>dec</td>\n",
              "      <td>thu</td>\n",
              "      <td>...</td>\n",
              "      <td>2</td>\n",
              "      <td>999</td>\n",
              "      <td>0</td>\n",
              "      <td>nonexistent</td>\n",
              "      <td>-3.0</td>\n",
              "      <td>92.713</td>\n",
              "      <td>-33.0</td>\n",
              "      <td>0.712</td>\n",
              "      <td>5023.5</td>\n",
              "      <td>yes</td>\n",
              "    </tr>\n",
              "    <tr>\n",
              "      <th>39575</th>\n",
              "      <td>18</td>\n",
              "      <td>student</td>\n",
              "      <td>single</td>\n",
              "      <td>unknown</td>\n",
              "      <td>no</td>\n",
              "      <td>yes</td>\n",
              "      <td>no</td>\n",
              "      <td>telephone</td>\n",
              "      <td>may</td>\n",
              "      <td>tue</td>\n",
              "      <td>...</td>\n",
              "      <td>1</td>\n",
              "      <td>3</td>\n",
              "      <td>1</td>\n",
              "      <td>success</td>\n",
              "      <td>-1.8</td>\n",
              "      <td>93.876</td>\n",
              "      <td>-40.0</td>\n",
              "      <td>0.668</td>\n",
              "      <td>5008.7</td>\n",
              "      <td>yes</td>\n",
              "    </tr>\n",
              "    <tr>\n",
              "      <th>39576</th>\n",
              "      <td>18</td>\n",
              "      <td>student</td>\n",
              "      <td>single</td>\n",
              "      <td>unknown</td>\n",
              "      <td>no</td>\n",
              "      <td>yes</td>\n",
              "      <td>no</td>\n",
              "      <td>cellular</td>\n",
              "      <td>may</td>\n",
              "      <td>tue</td>\n",
              "      <td>...</td>\n",
              "      <td>1</td>\n",
              "      <td>6</td>\n",
              "      <td>1</td>\n",
              "      <td>success</td>\n",
              "      <td>-1.8</td>\n",
              "      <td>93.876</td>\n",
              "      <td>-40.0</td>\n",
              "      <td>0.668</td>\n",
              "      <td>5008.7</td>\n",
              "      <td>yes</td>\n",
              "    </tr>\n",
              "    <tr>\n",
              "      <th>39593</th>\n",
              "      <td>18</td>\n",
              "      <td>student</td>\n",
              "      <td>single</td>\n",
              "      <td>unknown</td>\n",
              "      <td>no</td>\n",
              "      <td>no</td>\n",
              "      <td>no</td>\n",
              "      <td>telephone</td>\n",
              "      <td>may</td>\n",
              "      <td>wed</td>\n",
              "      <td>...</td>\n",
              "      <td>1</td>\n",
              "      <td>999</td>\n",
              "      <td>2</td>\n",
              "      <td>failure</td>\n",
              "      <td>-1.8</td>\n",
              "      <td>93.876</td>\n",
              "      <td>-40.0</td>\n",
              "      <td>0.672</td>\n",
              "      <td>5008.7</td>\n",
              "      <td>no</td>\n",
              "    </tr>\n",
              "    <tr>\n",
              "      <th>39610</th>\n",
              "      <td>18</td>\n",
              "      <td>student</td>\n",
              "      <td>single</td>\n",
              "      <td>unknown</td>\n",
              "      <td>no</td>\n",
              "      <td>yes</td>\n",
              "      <td>no</td>\n",
              "      <td>cellular</td>\n",
              "      <td>may</td>\n",
              "      <td>thu</td>\n",
              "      <td>...</td>\n",
              "      <td>1</td>\n",
              "      <td>7</td>\n",
              "      <td>2</td>\n",
              "      <td>success</td>\n",
              "      <td>-1.8</td>\n",
              "      <td>93.876</td>\n",
              "      <td>-40.0</td>\n",
              "      <td>0.677</td>\n",
              "      <td>5008.7</td>\n",
              "      <td>no</td>\n",
              "    </tr>\n",
              "    <tr>\n",
              "      <th>39903</th>\n",
              "      <td>18</td>\n",
              "      <td>student</td>\n",
              "      <td>single</td>\n",
              "      <td>basic.4y</td>\n",
              "      <td>no</td>\n",
              "      <td>yes</td>\n",
              "      <td>no</td>\n",
              "      <td>cellular</td>\n",
              "      <td>jun</td>\n",
              "      <td>tue</td>\n",
              "      <td>...</td>\n",
              "      <td>1</td>\n",
              "      <td>999</td>\n",
              "      <td>0</td>\n",
              "      <td>nonexistent</td>\n",
              "      <td>-1.7</td>\n",
              "      <td>94.055</td>\n",
              "      <td>-39.8</td>\n",
              "      <td>0.737</td>\n",
              "      <td>4991.6</td>\n",
              "      <td>no</td>\n",
              "    </tr>\n",
              "    <tr>\n",
              "      <th>40373</th>\n",
              "      <td>18</td>\n",
              "      <td>student</td>\n",
              "      <td>single</td>\n",
              "      <td>unknown</td>\n",
              "      <td>no</td>\n",
              "      <td>yes</td>\n",
              "      <td>no</td>\n",
              "      <td>cellular</td>\n",
              "      <td>aug</td>\n",
              "      <td>wed</td>\n",
              "      <td>...</td>\n",
              "      <td>2</td>\n",
              "      <td>6</td>\n",
              "      <td>1</td>\n",
              "      <td>success</td>\n",
              "      <td>-1.7</td>\n",
              "      <td>94.027</td>\n",
              "      <td>-38.3</td>\n",
              "      <td>0.900</td>\n",
              "      <td>4991.6</td>\n",
              "      <td>yes</td>\n",
              "    </tr>\n",
              "    <tr>\n",
              "      <th>40379</th>\n",
              "      <td>18</td>\n",
              "      <td>student</td>\n",
              "      <td>single</td>\n",
              "      <td>unknown</td>\n",
              "      <td>no</td>\n",
              "      <td>yes</td>\n",
              "      <td>no</td>\n",
              "      <td>cellular</td>\n",
              "      <td>aug</td>\n",
              "      <td>wed</td>\n",
              "      <td>...</td>\n",
              "      <td>1</td>\n",
              "      <td>17</td>\n",
              "      <td>2</td>\n",
              "      <td>failure</td>\n",
              "      <td>-1.7</td>\n",
              "      <td>94.027</td>\n",
              "      <td>-38.3</td>\n",
              "      <td>0.900</td>\n",
              "      <td>4991.6</td>\n",
              "      <td>yes</td>\n",
              "    </tr>\n",
              "    <tr>\n",
              "      <th>40383</th>\n",
              "      <td>18</td>\n",
              "      <td>student</td>\n",
              "      <td>single</td>\n",
              "      <td>unknown</td>\n",
              "      <td>no</td>\n",
              "      <td>yes</td>\n",
              "      <td>yes</td>\n",
              "      <td>telephone</td>\n",
              "      <td>aug</td>\n",
              "      <td>wed</td>\n",
              "      <td>...</td>\n",
              "      <td>1</td>\n",
              "      <td>999</td>\n",
              "      <td>0</td>\n",
              "      <td>nonexistent</td>\n",
              "      <td>-1.7</td>\n",
              "      <td>94.027</td>\n",
              "      <td>-38.3</td>\n",
              "      <td>0.900</td>\n",
              "      <td>4991.6</td>\n",
              "      <td>no</td>\n",
              "    </tr>\n",
              "    <tr>\n",
              "      <th>41084</th>\n",
              "      <td>18</td>\n",
              "      <td>student</td>\n",
              "      <td>single</td>\n",
              "      <td>unknown</td>\n",
              "      <td>no</td>\n",
              "      <td>yes</td>\n",
              "      <td>no</td>\n",
              "      <td>cellular</td>\n",
              "      <td>nov</td>\n",
              "      <td>tue</td>\n",
              "      <td>...</td>\n",
              "      <td>2</td>\n",
              "      <td>999</td>\n",
              "      <td>3</td>\n",
              "      <td>failure</td>\n",
              "      <td>-1.1</td>\n",
              "      <td>94.767</td>\n",
              "      <td>-50.8</td>\n",
              "      <td>1.049</td>\n",
              "      <td>4963.6</td>\n",
              "      <td>no</td>\n",
              "    </tr>\n",
              "    <tr>\n",
              "      <th>41088</th>\n",
              "      <td>18</td>\n",
              "      <td>student</td>\n",
              "      <td>single</td>\n",
              "      <td>basic.4y</td>\n",
              "      <td>no</td>\n",
              "      <td>yes</td>\n",
              "      <td>no</td>\n",
              "      <td>telephone</td>\n",
              "      <td>nov</td>\n",
              "      <td>tue</td>\n",
              "      <td>...</td>\n",
              "      <td>1</td>\n",
              "      <td>13</td>\n",
              "      <td>2</td>\n",
              "      <td>success</td>\n",
              "      <td>-1.1</td>\n",
              "      <td>94.767</td>\n",
              "      <td>-50.8</td>\n",
              "      <td>1.049</td>\n",
              "      <td>4963.6</td>\n",
              "      <td>yes</td>\n",
              "    </tr>\n",
              "  </tbody>\n",
              "</table>\n",
              "<p>33 rows × 21 columns</p>\n",
              "</div>\n",
              "      <button class=\"colab-df-convert\" onclick=\"convertToInteractive('df-069169d0-141f-484d-bb66-3b6c4b7db872')\"\n",
              "              title=\"Convert this dataframe to an interactive table.\"\n",
              "              style=\"display:none;\">\n",
              "        \n",
              "  <svg xmlns=\"http://www.w3.org/2000/svg\" height=\"24px\"viewBox=\"0 0 24 24\"\n",
              "       width=\"24px\">\n",
              "    <path d=\"M0 0h24v24H0V0z\" fill=\"none\"/>\n",
              "    <path d=\"M18.56 5.44l.94 2.06.94-2.06 2.06-.94-2.06-.94-.94-2.06-.94 2.06-2.06.94zm-11 1L8.5 8.5l.94-2.06 2.06-.94-2.06-.94L8.5 2.5l-.94 2.06-2.06.94zm10 10l.94 2.06.94-2.06 2.06-.94-2.06-.94-.94-2.06-.94 2.06-2.06.94z\"/><path d=\"M17.41 7.96l-1.37-1.37c-.4-.4-.92-.59-1.43-.59-.52 0-1.04.2-1.43.59L10.3 9.45l-7.72 7.72c-.78.78-.78 2.05 0 2.83L4 21.41c.39.39.9.59 1.41.59.51 0 1.02-.2 1.41-.59l7.78-7.78 2.81-2.81c.8-.78.8-2.07 0-2.86zM5.41 20L4 18.59l7.72-7.72 1.47 1.35L5.41 20z\"/>\n",
              "  </svg>\n",
              "      </button>\n",
              "      \n",
              "  <style>\n",
              "    .colab-df-container {\n",
              "      display:flex;\n",
              "      flex-wrap:wrap;\n",
              "      gap: 12px;\n",
              "    }\n",
              "\n",
              "    .colab-df-convert {\n",
              "      background-color: #E8F0FE;\n",
              "      border: none;\n",
              "      border-radius: 50%;\n",
              "      cursor: pointer;\n",
              "      display: none;\n",
              "      fill: #1967D2;\n",
              "      height: 32px;\n",
              "      padding: 0 0 0 0;\n",
              "      width: 32px;\n",
              "    }\n",
              "\n",
              "    .colab-df-convert:hover {\n",
              "      background-color: #E2EBFA;\n",
              "      box-shadow: 0px 1px 2px rgba(60, 64, 67, 0.3), 0px 1px 3px 1px rgba(60, 64, 67, 0.15);\n",
              "      fill: #174EA6;\n",
              "    }\n",
              "\n",
              "    [theme=dark] .colab-df-convert {\n",
              "      background-color: #3B4455;\n",
              "      fill: #D2E3FC;\n",
              "    }\n",
              "\n",
              "    [theme=dark] .colab-df-convert:hover {\n",
              "      background-color: #434B5C;\n",
              "      box-shadow: 0px 1px 3px 1px rgba(0, 0, 0, 0.15);\n",
              "      filter: drop-shadow(0px 1px 2px rgba(0, 0, 0, 0.3));\n",
              "      fill: #FFFFFF;\n",
              "    }\n",
              "  </style>\n",
              "\n",
              "      <script>\n",
              "        const buttonEl =\n",
              "          document.querySelector('#df-069169d0-141f-484d-bb66-3b6c4b7db872 button.colab-df-convert');\n",
              "        buttonEl.style.display =\n",
              "          google.colab.kernel.accessAllowed ? 'block' : 'none';\n",
              "\n",
              "        async function convertToInteractive(key) {\n",
              "          const element = document.querySelector('#df-069169d0-141f-484d-bb66-3b6c4b7db872');\n",
              "          const dataTable =\n",
              "            await google.colab.kernel.invokeFunction('convertToInteractive',\n",
              "                                                     [key], {});\n",
              "          if (!dataTable) return;\n",
              "\n",
              "          const docLinkHtml = 'Like what you see? Visit the ' +\n",
              "            '<a target=\"_blank\" href=https://colab.research.google.com/notebooks/data_table.ipynb>data table notebook</a>'\n",
              "            + ' to learn more about interactive tables.';\n",
              "          element.innerHTML = '';\n",
              "          dataTable['output_type'] = 'display_data';\n",
              "          await google.colab.output.renderOutput(dataTable, element);\n",
              "          const docLink = document.createElement('div');\n",
              "          docLink.innerHTML = docLinkHtml;\n",
              "          element.appendChild(docLink);\n",
              "        }\n",
              "      </script>\n",
              "    </div>\n",
              "  </div>\n",
              "  "
            ]
          },
          "metadata": {},
          "execution_count": 4
        }
      ],
      "source": [
        "# Analyze every single value available for age\n",
        "\n",
        "age_tab1 = bank_data[bank_data['age'] <= 20]\n",
        "age_tab1['age'].value_counts()\n",
        "# 5 records for age = 17\n",
        "\n",
        "age_tab1[age_tab1['age'].isin([17,18])]\n",
        "# Checking and comparing data for 17 year olds and 18 year olds, the data looks valid. 17 is not an outlier.\n"
      ]
    },
    {
      "cell_type": "code",
      "execution_count": null,
      "metadata": {
        "colab": {
          "base_uri": "https://localhost:8080/"
        },
        "id": "6Yk6OQC2ZMCw",
        "outputId": "3a4d7882-6b26-4c60-d9ec-86947b0dc13c"
      },
      "outputs": [
        {
          "output_type": "execute_result",
          "data": {
            "text/plain": [
              "Series([], Name: age, dtype: int64)"
            ]
          },
          "metadata": {},
          "execution_count": 5
        }
      ],
      "source": [
        "age_tab2 = bank_data[(bank_data['age'] > 20) & (bank_data['age'] <= 30)]\n",
        "age_tab2['age'].value_counts()\n",
        "\n",
        "age_tab2 = bank_data[(bank_data['age'] > 30) & (bank_data['age'] <= 40)]\n",
        "age_tab2['age'].value_counts()\n",
        "\n",
        "age_tab2 = bank_data[(bank_data['age'] > 40) & (bank_data['age'] <= 50)]\n",
        "age_tab2['age'].value_counts()\n",
        "\n",
        "age_tab2 = bank_data[(bank_data['age'] > 50) & (bank_data['age'] <= 60)]\n",
        "age_tab2['age'].value_counts()\n",
        "\n",
        "age_tab2 = bank_data[(bank_data['age'] > 60) & (bank_data['age'] <= 80)]\n",
        "age_tab2['age'].value_counts()\n",
        "\n",
        "age_tab2 = bank_data[(bank_data['age'] > 75) & (bank_data['age'] <= 100)]\n",
        "age_tab2['age'].value_counts()\n",
        "\n",
        "age_tab2 = bank_data[bank_data['age'] > 100]\n",
        "age_tab2['age'].value_counts() # no records\n",
        "\n",
        "# After running all these statements one by one it was found that all the values of age are logically associated with other variables in an expected manner.\n",
        "# No unexpected values\n"
      ]
    },
    {
      "cell_type": "markdown",
      "metadata": {
        "id": "F8lwr3bFd0Qr"
      },
      "source": [
        "Business logic : \n",
        "\n",
        "A person below the age of 18 can open a term deposit with a bank if assisted by an adult guardian. So 17 is a valid age. \n",
        "\n",
        "Similarly, on the higher end, a person at the age 88 may also open a term deposit. In case of death, the term deposit is transferred to their nominee or legal heir. So the likelihood that people at the age of 88 may open a term deposit is still moderate.\n",
        " \n",
        "\n",
        "FINDINGS : age seems ok. No cleaning required."
      ]
    },
    {
      "cell_type": "markdown",
      "metadata": {
        "id": "Lt3xwd9ufIkR"
      },
      "source": [
        "# 2. job\n",
        "\n",
        "type of job - 'admin.', 'blue-collar', 'entrepreneur', 'housemaid', 'management', 'retired', 'self-employed', 'services', 'student', 'technician', 'unemployed', 'unknown'\n",
        "\n",
        "Categorical variable"
      ]
    },
    {
      "cell_type": "code",
      "execution_count": null,
      "metadata": {
        "colab": {
          "base_uri": "https://localhost:8080/",
          "height": 522
        },
        "id": "whiicrp8f46Z",
        "outputId": "74ebf6ee-7a09-4176-aea6-3037ec480bb2"
      },
      "outputs": [
        {
          "output_type": "stream",
          "name": "stdout",
          "text": [
            "admin.           10422\n",
            "blue-collar       9254\n",
            "technician        6743\n",
            "services          3969\n",
            "management        2924\n",
            "retired           1720\n",
            "entrepreneur      1456\n",
            "self-employed     1421\n",
            "housemaid         1060\n",
            "unemployed        1014\n",
            "student            875\n",
            "unknown            330\n",
            "Name: job, dtype: int64\n"
          ]
        },
        {
          "output_type": "execute_result",
          "data": {
            "text/plain": [
              "<matplotlib.axes._subplots.AxesSubplot at 0x7ff609279c90>"
            ]
          },
          "metadata": {},
          "execution_count": 6
        },
        {
          "output_type": "display_data",
          "data": {
            "text/plain": [
              "<Figure size 432x288 with 1 Axes>"
            ],
            "image/png": "[encoded data removed]"
          },
          "metadata": {
            "needs_background": "light"
          }
        }
      ],
      "source": [
        "# Frequency table to analyze data\n",
        "print(bank_data['job'].value_counts())\n",
        "sns.countplot(y='job', data  = bank_data)"
      ]
    },
    {
      "cell_type": "code",
      "execution_count": null,
      "metadata": {
        "colab": {
          "base_uri": "https://localhost:8080/"
        },
        "id": "rVML2guegXKX",
        "outputId": "754a6ec6-f8be-4762-aec7-a443cbc754e7"
      },
      "outputs": [
        {
          "output_type": "execute_result",
          "data": {
            "text/plain": [
              "admin.           0.253035\n",
              "blue-collar      0.224677\n",
              "technician       0.163713\n",
              "services         0.096363\n",
              "management       0.070992\n",
              "retired          0.041760\n",
              "entrepreneur     0.035350\n",
              "self-employed    0.034500\n",
              "housemaid        0.025736\n",
              "unemployed       0.024619\n",
              "student          0.021244\n",
              "unknown          0.008012\n",
              "Name: job, dtype: float64"
            ]
          },
          "metadata": {},
          "execution_count": 7
        }
      ],
      "source": [
        "# Calculate percentage of unknown\n",
        "bank_data['job'].value_counts()/len(bank_data['job'])"
      ]
    },
    {
      "cell_type": "markdown",
      "metadata": {
        "id": "bLJZaISQkdYc"
      },
      "source": [
        "FINDINGS: \n",
        "unknown = 0.80%, 330 records.\n",
        "We can impute based on target"
      ]
    },
    {
      "cell_type": "markdown",
      "metadata": {
        "id": "7WJjccPIq3oK"
      },
      "source": [
        "# 3. marital\n",
        "\n",
        " marital status: categorical: 'divorced', 'married', 'single', 'unknown'; \n",
        " "
      ]
    },
    {
      "cell_type": "code",
      "execution_count": null,
      "metadata": {
        "colab": {
          "base_uri": "https://localhost:8080/",
          "height": 383
        },
        "id": "FxAFY7ZPrY23",
        "outputId": "a352db25-d1cf-4c33-e4f6-e61995b5a104"
      },
      "outputs": [
        {
          "output_type": "stream",
          "name": "stdout",
          "text": [
            "married     24928\n",
            "single      11568\n",
            "divorced     4612\n",
            "unknown        80\n",
            "Name: marital, dtype: int64\n"
          ]
        },
        {
          "output_type": "execute_result",
          "data": {
            "text/plain": [
              "<matplotlib.axes._subplots.AxesSubplot at 0x7ff608d91090>"
            ]
          },
          "metadata": {},
          "execution_count": 8
        },
        {
          "output_type": "display_data",
          "data": {
            "text/plain": [
              "<Figure size 432x288 with 1 Axes>"
            ],
            "image/png": "[encoded data removed]"
          },
          "metadata": {
            "needs_background": "light"
          }
        }
      ],
      "source": [
        "# Frequency table to analyze data\n",
        "print(bank_data['marital'].value_counts())\n",
        "sns.countplot(y='marital', data  = bank_data)"
      ]
    },
    {
      "cell_type": "code",
      "execution_count": null,
      "metadata": {
        "colab": {
          "base_uri": "https://localhost:8080/"
        },
        "id": "UBqtUl0_rtOA",
        "outputId": "90540ced-06a3-4d47-d0c7-c3ff0b586e2c"
      },
      "outputs": [
        {
          "output_type": "execute_result",
          "data": {
            "text/plain": [
              "married     0.605225\n",
              "single      0.280859\n",
              "divorced    0.111974\n",
              "unknown     0.001942\n",
              "Name: marital, dtype: float64"
            ]
          },
          "metadata": {},
          "execution_count": 9
        }
      ],
      "source": [
        "# Percentage of unknown\n",
        "bank_data['marital'].value_counts()/len(bank_data['marital'])"
      ]
    },
    {
      "cell_type": "markdown",
      "metadata": {
        "id": "YHiWcL2msCs3"
      },
      "source": [
        "FINDINGS: unknown = 0.19%, 80 records. We can impute based on target"
      ]
    },
    {
      "cell_type": "markdown",
      "metadata": {
        "id": "_5L--NIYsMI_"
      },
      "source": [
        "# 4. education\n",
        "\n",
        " categorical: 'basic.4y', 'basic.6y', 'basic.9y', 'high.school', 'illiterate', 'professional.course', 'university.degree', 'unknown'"
      ]
    },
    {
      "cell_type": "code",
      "execution_count": null,
      "metadata": {
        "colab": {
          "base_uri": "https://localhost:8080/",
          "height": 453
        },
        "id": "OQMTe8XVtmp3",
        "outputId": "b627d00b-1fa4-4eaa-fae8-9229251fc211"
      },
      "outputs": [
        {
          "output_type": "stream",
          "name": "stdout",
          "text": [
            "university.degree      12168\n",
            "high.school             9515\n",
            "basic.9y                6045\n",
            "professional.course     5243\n",
            "basic.4y                4176\n",
            "basic.6y                2292\n",
            "unknown                 1731\n",
            "illiterate                18\n",
            "Name: education, dtype: int64\n"
          ]
        },
        {
          "output_type": "execute_result",
          "data": {
            "text/plain": [
              "<matplotlib.axes._subplots.AxesSubplot at 0x7ff608cf04d0>"
            ]
          },
          "metadata": {},
          "execution_count": 10
        },
        {
          "output_type": "display_data",
          "data": {
            "text/plain": [
              "<Figure size 432x288 with 1 Axes>"
            ],
            "image/png": "[encoded data removed]"
          },
          "metadata": {
            "needs_background": "light"
          }
        }
      ],
      "source": [
        "# Frequency table to analyze data\n",
        "print(bank_data['education'].value_counts())\n",
        "sns.countplot(y= 'education', data = bank_data)"
      ]
    },
    {
      "cell_type": "code",
      "execution_count": null,
      "metadata": {
        "colab": {
          "base_uri": "https://localhost:8080/"
        },
        "id": "1v9qHWqkuJbX",
        "outputId": "9dbdd5ad-2fc4-4a3e-dbc3-e85c833da0e4"
      },
      "outputs": [
        {
          "output_type": "execute_result",
          "data": {
            "text/plain": [
              "university.degree      0.295426\n",
              "high.school            0.231014\n",
              "basic.9y               0.146766\n",
              "professional.course    0.127294\n",
              "basic.4y               0.101389\n",
              "basic.6y               0.055647\n",
              "unknown                0.042027\n",
              "illiterate             0.000437\n",
              "Name: education, dtype: float64"
            ]
          },
          "metadata": {},
          "execution_count": 11
        }
      ],
      "source": [
        "# Percentage of unknown\n",
        "bank_data['education'].value_counts()/len(bank_data['education'])"
      ]
    },
    {
      "cell_type": "markdown",
      "metadata": {
        "id": "UBf4sj6Os0WX"
      },
      "source": [
        "FINDINGS: unknown = 4.20%, 1731 records. We can impute based on target"
      ]
    },
    {
      "cell_type": "markdown",
      "metadata": {
        "id": "c9zDsNEKu-8P"
      },
      "source": [
        "# 5. default\n",
        "\n",
        "Has credit in default? (categorical: 'no', 'yes', 'unknown')"
      ]
    },
    {
      "cell_type": "code",
      "execution_count": null,
      "metadata": {
        "colab": {
          "base_uri": "https://localhost:8080/",
          "height": 366
        },
        "id": "DufOQ9qxvJxH",
        "outputId": "65f55bb9-831f-4ee8-c54b-cf62299271a3"
      },
      "outputs": [
        {
          "output_type": "stream",
          "name": "stdout",
          "text": [
            "no         32588\n",
            "unknown     8597\n",
            "yes            3\n",
            "Name: default, dtype: int64\n"
          ]
        },
        {
          "output_type": "execute_result",
          "data": {
            "text/plain": [
              "<matplotlib.axes._subplots.AxesSubplot at 0x7ff608c91250>"
            ]
          },
          "metadata": {},
          "execution_count": 12
        },
        {
          "output_type": "display_data",
          "data": {
            "text/plain": [
              "<Figure size 432x288 with 1 Axes>"
            ],
            "image/png": "[encoded data removed]"
          },
          "metadata": {
            "needs_background": "light"
          }
        }
      ],
      "source": [
        "# Frequency table to analyze data\n",
        "print(bank_data['default'].value_counts())\n",
        "sns.countplot(y= 'default', data = bank_data)"
      ]
    },
    {
      "cell_type": "code",
      "execution_count": null,
      "metadata": {
        "colab": {
          "base_uri": "https://localhost:8080/"
        },
        "id": "KeziSQC9vq5n",
        "outputId": "66538f63-9700-4e3e-e1a4-d8327268cc8a"
      },
      "outputs": [
        {
          "output_type": "execute_result",
          "data": {
            "text/plain": [
              "no         0.791201\n",
              "unknown    0.208726\n",
              "yes        0.000073\n",
              "Name: default, dtype: float64"
            ]
          },
          "metadata": {},
          "execution_count": 13
        }
      ],
      "source": [
        "# Percentage of unknown\n",
        "bank_data['default'].value_counts()/len(bank_data['default'])"
      ]
    },
    {
      "cell_type": "markdown",
      "metadata": {
        "id": "qwgJi6EwvtJB"
      },
      "source": [
        "FINDINGS: unknown = 20.87%, 8597 records. We can rename the unknown values to Missing or leave it as it is, considering 'unknown' as a distinct class. We can also create a flag variable. Flag = 1 when default is 'yes' or 'no'. Flag = 0 when default = 'unknown'. "
      ]
    },
    {
      "cell_type": "markdown",
      "metadata": {
        "id": "Izeg1sfBy0rn"
      },
      "source": [
        "# 6. housing\n",
        "\n",
        "housing: Has housing loan? (categorical: 'no', 'yes', 'unknown')"
      ]
    },
    {
      "cell_type": "code",
      "execution_count": null,
      "metadata": {
        "colab": {
          "base_uri": "https://localhost:8080/",
          "height": 366
        },
        "id": "UTByfLqfzLj2",
        "outputId": "388e2faf-cf3c-4fc1-e979-32003afc1323"
      },
      "outputs": [
        {
          "output_type": "stream",
          "name": "stdout",
          "text": [
            "yes        21576\n",
            "no         18622\n",
            "unknown      990\n",
            "Name: housing, dtype: int64\n"
          ]
        },
        {
          "output_type": "execute_result",
          "data": {
            "text/plain": [
              "<matplotlib.axes._subplots.AxesSubplot at 0x7ff608beea90>"
            ]
          },
          "metadata": {},
          "execution_count": 14
        },
        {
          "output_type": "display_data",
          "data": {
            "text/plain": [
              "<Figure size 432x288 with 1 Axes>"
            ],
            "image/png": "[encoded data removed]"
          },
          "metadata": {
            "needs_background": "light"
          }
        }
      ],
      "source": [
        "# Frequency table to analyze data\n",
        "print(bank_data['housing'].value_counts())\n",
        "sns.countplot(y= 'housing', data = bank_data)"
      ]
    },
    {
      "cell_type": "code",
      "execution_count": null,
      "metadata": {
        "colab": {
          "base_uri": "https://localhost:8080/"
        },
        "id": "rjLgcMWHzh1v",
        "outputId": "5e5c354a-5c58-4288-9fe8-c3bc716887b9"
      },
      "outputs": [
        {
          "output_type": "execute_result",
          "data": {
            "text/plain": [
              "yes        0.523842\n",
              "no         0.452122\n",
              "unknown    0.024036\n",
              "Name: housing, dtype: float64"
            ]
          },
          "metadata": {},
          "execution_count": 15
        }
      ],
      "source": [
        "# Percentage of unknown\n",
        "bank_data['housing'].value_counts()/len(bank_data['housing'])"
      ]
    },
    {
      "cell_type": "markdown",
      "metadata": {
        "id": "nprceicszrX3"
      },
      "source": [
        "FINDINGS: unknown = 2.4%, 990 records. We can impute based on target."
      ]
    },
    {
      "cell_type": "markdown",
      "metadata": {
        "id": "8c-BasKD11AN"
      },
      "source": [
        "# 7. loan\n",
        "\n",
        "Has personal loan? (categorical: 'no', 'yes', 'unknown')"
      ]
    },
    {
      "cell_type": "code",
      "execution_count": null,
      "metadata": {
        "colab": {
          "base_uri": "https://localhost:8080/",
          "height": 366
        },
        "id": "_YiOHbTu2KIg",
        "outputId": "6259e4ce-68c2-4324-a6bf-969c2ce57426"
      },
      "outputs": [
        {
          "output_type": "stream",
          "name": "stdout",
          "text": [
            "no         33950\n",
            "yes         6248\n",
            "unknown      990\n",
            "Name: loan, dtype: int64\n"
          ]
        },
        {
          "output_type": "execute_result",
          "data": {
            "text/plain": [
              "<matplotlib.axes._subplots.AxesSubplot at 0x7ff608bb20d0>"
            ]
          },
          "metadata": {},
          "execution_count": 16
        },
        {
          "output_type": "display_data",
          "data": {
            "text/plain": [
              "<Figure size 432x288 with 1 Axes>"
            ],
            "image/png": "[encoded data removed]"
          },
          "metadata": {
            "needs_background": "light"
          }
        }
      ],
      "source": [
        "# Frequency table to analyze data\n",
        "print(bank_data['loan'].value_counts())\n",
        "sns.countplot(y= 'loan', data = bank_data)"
      ]
    },
    {
      "cell_type": "code",
      "execution_count": null,
      "metadata": {
        "colab": {
          "base_uri": "https://localhost:8080/"
        },
        "id": "hb-c6RZd23dr",
        "outputId": "237536f7-9556-44dc-ae1b-b4fe4fd0ac56"
      },
      "outputs": [
        {
          "output_type": "execute_result",
          "data": {
            "text/plain": [
              "no         0.824269\n",
              "yes        0.151695\n",
              "unknown    0.024036\n",
              "Name: loan, dtype: float64"
            ]
          },
          "metadata": {},
          "execution_count": 17
        }
      ],
      "source": [
        "# Percentage of unknown\n",
        "bank_data['loan'].value_counts()/len(bank_data['loan'])"
      ]
    },
    {
      "cell_type": "markdown",
      "metadata": {
        "id": "SmgrCt3Q2_6u"
      },
      "source": [
        "FINDINGS: unknown = 2.4%, 990 records. We can impute based on target.\n",
        "(Same number of unknown as housing variable.)"
      ]
    },
    {
      "cell_type": "markdown",
      "metadata": {
        "id": "-GW6mKBn3_Rl"
      },
      "source": [
        "# 8. contact\n",
        "Contact communication type (categorical: 'cellular', 'telephone') "
      ]
    },
    {
      "cell_type": "code",
      "execution_count": null,
      "metadata": {
        "colab": {
          "base_uri": "https://localhost:8080/",
          "height": 348
        },
        "id": "kXU0xrLg6pwu",
        "outputId": "4d1175b2-db14-4e33-da9a-c57712b03255"
      },
      "outputs": [
        {
          "output_type": "stream",
          "name": "stdout",
          "text": [
            "cellular     26144\n",
            "telephone    15044\n",
            "Name: contact, dtype: int64\n"
          ]
        },
        {
          "output_type": "execute_result",
          "data": {
            "text/plain": [
              "<matplotlib.axes._subplots.AxesSubplot at 0x7ff608b35c90>"
            ]
          },
          "metadata": {},
          "execution_count": 18
        },
        {
          "output_type": "display_data",
          "data": {
            "text/plain": [
              "<Figure size 432x288 with 1 Axes>"
            ],
            "image/png": "[encoded data removed]"
          },
          "metadata": {
            "needs_background": "light"
          }
        }
      ],
      "source": [
        "# Frequency table to analyze data\n",
        "print(bank_data['contact'].value_counts())\n",
        "sns.countplot(y= 'contact', data = bank_data)"
      ]
    },
    {
      "cell_type": "markdown",
      "metadata": {
        "id": "c137y0Iu8n0D"
      },
      "source": [
        "FINDINGS: No unknown or null values. Data is fine. Cleaning not required."
      ]
    },
    {
      "cell_type": "markdown",
      "metadata": {
        "id": "B1Q4lyE79G0z"
      },
      "source": [
        "# 9. month\n",
        "\n",
        "Last contact month of year (categorical: 'jan', 'feb', 'mar', ..., 'nov', 'dec')"
      ]
    },
    {
      "cell_type": "code",
      "execution_count": null,
      "metadata": {
        "colab": {
          "base_uri": "https://localhost:8080/",
          "height": 487
        },
        "id": "rRtxRu279T4U",
        "outputId": "a01ec7ae-1343-4b0a-f33a-2888e882fd27"
      },
      "outputs": [
        {
          "output_type": "stream",
          "name": "stdout",
          "text": [
            "may    13769\n",
            "jul     7174\n",
            "aug     6178\n",
            "jun     5318\n",
            "nov     4101\n",
            "apr     2632\n",
            "oct      718\n",
            "sep      570\n",
            "mar      546\n",
            "dec      182\n",
            "Name: month, dtype: int64\n"
          ]
        },
        {
          "output_type": "execute_result",
          "data": {
            "text/plain": [
              "<matplotlib.axes._subplots.AxesSubplot at 0x7ff608b2b310>"
            ]
          },
          "metadata": {},
          "execution_count": 19
        },
        {
          "output_type": "display_data",
          "data": {
            "text/plain": [
              "<Figure size 432x288 with 1 Axes>"
            ],
            "image/png": "[encoded data removed]"
          },
          "metadata": {
            "needs_background": "light"
          }
        }
      ],
      "source": [
        "# Frequency table to analyze data\n",
        "print(bank_data['month'].value_counts())\n",
        "sns.countplot(y = 'month', data = bank_data)"
      ]
    },
    {
      "cell_type": "markdown",
      "metadata": {
        "id": "Fb7IE_cZ-3hB"
      },
      "source": [
        "FINDINGS: No unknown or null values. No odd values. Data is fine. Cleaning not required."
      ]
    },
    {
      "cell_type": "markdown",
      "metadata": {
        "id": "-YehkG6V-_Q5"
      },
      "source": [
        "# 10. day_of_week\n",
        "Last contact day of the week (categorical: 'mon', 'tue', 'wed', 'thu', 'fri')"
      ]
    },
    {
      "cell_type": "code",
      "execution_count": null,
      "metadata": {
        "colab": {
          "base_uri": "https://localhost:8080/",
          "height": 400
        },
        "id": "8xBjpFGD_M_s",
        "outputId": "c0b9319b-c1b7-4eac-b1f4-7e419e7d7b22"
      },
      "outputs": [
        {
          "output_type": "stream",
          "name": "stdout",
          "text": [
            "thu    8623\n",
            "mon    8514\n",
            "wed    8134\n",
            "tue    8090\n",
            "fri    7827\n",
            "Name: day_of_week, dtype: int64\n"
          ]
        },
        {
          "output_type": "execute_result",
          "data": {
            "text/plain": [
              "<matplotlib.axes._subplots.AxesSubplot at 0x7ff608a90c50>"
            ]
          },
          "metadata": {},
          "execution_count": 20
        },
        {
          "output_type": "display_data",
          "data": {
            "text/plain": [
              "<Figure size 432x288 with 1 Axes>"
            ],
            "image/png": "[encoded data removed]"
          },
          "metadata": {
            "needs_background": "light"
          }
        }
      ],
      "source": [
        "# Frequency table to analyze data\n",
        "print(bank_data['day_of_week'].value_counts())\n",
        "sns.countplot(y = 'day_of_week', data = bank_data)"
      ]
    },
    {
      "cell_type": "markdown",
      "metadata": {
        "id": "ZU0PRj9E_Y2J"
      },
      "source": [
        "FINDINGS: No unknown or null values. No odd values. Data is fine. Cleaning not required."
      ]
    },
    {
      "cell_type": "markdown",
      "metadata": {
        "id": "bRFycJ3fDe-q"
      },
      "source": [
        "# 12. campaign\n",
        "Number of contacts performed during this campaign and for this client. Numeric values.\n",
        "Discrete variable. Minimum = 1. Positive integer values."
      ]
    },
    {
      "cell_type": "code",
      "execution_count": null,
      "metadata": {
        "colab": {
          "base_uri": "https://localhost:8080/",
          "height": 1000
        },
        "id": "MF1NrJMxDvkv",
        "outputId": "6e078f90-158b-434e-84e2-40b10cdbebba"
      },
      "outputs": [
        {
          "output_type": "stream",
          "name": "stdout",
          "text": [
            "1     17642\n",
            "2     10570\n",
            "3      5341\n",
            "4      2651\n",
            "5      1599\n",
            "6       979\n",
            "7       629\n",
            "8       400\n",
            "9       283\n",
            "10      225\n",
            "11      177\n",
            "12      125\n",
            "13       92\n",
            "14       69\n",
            "17       58\n",
            "16       51\n",
            "15       51\n",
            "18       33\n",
            "20       30\n",
            "19       26\n",
            "21       24\n",
            "22       17\n",
            "23       16\n",
            "24       15\n",
            "27       11\n",
            "29       10\n",
            "28        8\n",
            "26        8\n",
            "25        8\n",
            "31        7\n",
            "30        7\n",
            "35        5\n",
            "32        4\n",
            "33        4\n",
            "34        3\n",
            "42        2\n",
            "40        2\n",
            "43        2\n",
            "56        1\n",
            "39        1\n",
            "41        1\n",
            "37        1\n",
            "Name: campaign, dtype: int64\n"
          ]
        },
        {
          "output_type": "execute_result",
          "data": {
            "text/plain": [
              "<matplotlib.axes._subplots.AxesSubplot at 0x7ff609279190>"
            ]
          },
          "metadata": {},
          "execution_count": 21
        },
        {
          "output_type": "display_data",
          "data": {
            "text/plain": [
              "<Figure size 432x288 with 1 Axes>"
            ],
            "image/png": "[encoded data removed]"
          },
          "metadata": {
            "needs_background": "light"
          }
        }
      ],
      "source": [
        "# Frequency table to analyze data\n",
        "print(bank_data['campaign'].value_counts())\n",
        "sns.countplot(y = 'campaign', data = bank_data)"
      ]
    },
    {
      "cell_type": "code",
      "execution_count": null,
      "metadata": {
        "colab": {
          "base_uri": "https://localhost:8080/",
          "height": 257
        },
        "id": "JaVsuggMEyUM",
        "outputId": "43511d02-3c94-4467-9b38-27a724a1f4c6"
      },
      "outputs": [
        {
          "output_type": "stream",
          "name": "stdout",
          "text": [
            "1\n",
            "56\n"
          ]
        },
        {
          "output_type": "execute_result",
          "data": {
            "text/plain": [
              "       age            job  marital            education default housing loan  \\\n",
              "11769   56  self-employed  married  professional.course      no      no  yes   \n",
              "18754   36         admin.   single    university.degree      no      no   no   \n",
              "\n",
              "         contact month day_of_week  ...  campaign  pdays  previous  \\\n",
              "11769  telephone   jun         fri  ...        40    999         0   \n",
              "18754   cellular   jul         thu  ...        40    999         0   \n",
              "\n",
              "          poutcome emp.var.rate  cons.price.idx  cons.conf.idx  euribor3m  \\\n",
              "11769  nonexistent          1.4          94.465          -41.8      4.959   \n",
              "18754  nonexistent          1.4          93.918          -42.7      4.968   \n",
              "\n",
              "       nr.employed   y  \n",
              "11769       5228.1  no  \n",
              "18754       5228.1  no  \n",
              "\n",
              "[2 rows x 21 columns]"
            ],
            "text/html": [
              "\n",
              "  <div id=\"df-704615c5-4194-4b7b-aaba-077852521d52\">\n",
              "    <div class=\"colab-df-container\">\n",
              "      <div>\n",
              "<style scoped>\n",
              "    .dataframe tbody tr th:only-of-type {\n",
              "        vertical-align: middle;\n",
              "    }\n",
              "\n",
              "    .dataframe tbody tr th {\n",
              "        vertical-align: top;\n",
              "    }\n",
              "\n",
              "    .dataframe thead th {\n",
              "        text-align: right;\n",
              "    }\n",
              "</style>\n",
              "<table border=\"1\" class=\"dataframe\">\n",
              "  <thead>\n",
              "    <tr style=\"text-align: right;\">\n",
              "      <th></th>\n",
              "      <th>age</th>\n",
              "      <th>job</th>\n",
              "      <th>marital</th>\n",
              "      <th>education</th>\n",
              "      <th>default</th>\n",
              "      <th>housing</th>\n",
              "      <th>loan</th>\n",
              "      <th>contact</th>\n",
              "      <th>month</th>\n",
              "      <th>day_of_week</th>\n",
              "      <th>...</th>\n",
              "      <th>campaign</th>\n",
              "      <th>pdays</th>\n",
              "      <th>previous</th>\n",
              "      <th>poutcome</th>\n",
              "      <th>emp.var.rate</th>\n",
              "      <th>cons.price.idx</th>\n",
              "      <th>cons.conf.idx</th>\n",
              "      <th>euribor3m</th>\n",
              "      <th>nr.employed</th>\n",
              "      <th>y</th>\n",
              "    </tr>\n",
              "  </thead>\n",
              "  <tbody>\n",
              "    <tr>\n",
              "      <th>11769</th>\n",
              "      <td>56</td>\n",
              "      <td>self-employed</td>\n",
              "      <td>married</td>\n",
              "      <td>professional.course</td>\n",
              "      <td>no</td>\n",
              "      <td>no</td>\n",
              "      <td>yes</td>\n",
              "      <td>telephone</td>\n",
              "      <td>jun</td>\n",
              "      <td>fri</td>\n",
              "      <td>...</td>\n",
              "      <td>40</td>\n",
              "      <td>999</td>\n",
              "      <td>0</td>\n",
              "      <td>nonexistent</td>\n",
              "      <td>1.4</td>\n",
              "      <td>94.465</td>\n",
              "      <td>-41.8</td>\n",
              "      <td>4.959</td>\n",
              "      <td>5228.1</td>\n",
              "      <td>no</td>\n",
              "    </tr>\n",
              "    <tr>\n",
              "      <th>18754</th>\n",
              "      <td>36</td>\n",
              "      <td>admin.</td>\n",
              "      <td>single</td>\n",
              "      <td>university.degree</td>\n",
              "      <td>no</td>\n",
              "      <td>no</td>\n",
              "      <td>no</td>\n",
              "      <td>cellular</td>\n",
              "      <td>jul</td>\n",
              "      <td>thu</td>\n",
              "      <td>...</td>\n",
              "      <td>40</td>\n",
              "      <td>999</td>\n",
              "      <td>0</td>\n",
              "      <td>nonexistent</td>\n",
              "      <td>1.4</td>\n",
              "      <td>93.918</td>\n",
              "      <td>-42.7</td>\n",
              "      <td>4.968</td>\n",
              "      <td>5228.1</td>\n",
              "      <td>no</td>\n",
              "    </tr>\n",
              "  </tbody>\n",
              "</table>\n",
              "<p>2 rows × 21 columns</p>\n",
              "</div>\n",
              "      <button class=\"colab-df-convert\" onclick=\"convertToInteractive('df-704615c5-4194-4b7b-aaba-077852521d52')\"\n",
              "              title=\"Convert this dataframe to an interactive table.\"\n",
              "              style=\"display:none;\">\n",
              "        \n",
              "  <svg xmlns=\"http://www.w3.org/2000/svg\" height=\"24px\"viewBox=\"0 0 24 24\"\n",
              "       width=\"24px\">\n",
              "    <path d=\"M0 0h24v24H0V0z\" fill=\"none\"/>\n",
              "    <path d=\"M18.56 5.44l.94 2.06.94-2.06 2.06-.94-2.06-.94-.94-2.06-.94 2.06-2.06.94zm-11 1L8.5 8.5l.94-2.06 2.06-.94-2.06-.94L8.5 2.5l-.94 2.06-2.06.94zm10 10l.94 2.06.94-2.06 2.06-.94-2.06-.94-.94-2.06-.94 2.06-2.06.94z\"/><path d=\"M17.41 7.96l-1.37-1.37c-.4-.4-.92-.59-1.43-.59-.52 0-1.04.2-1.43.59L10.3 9.45l-7.72 7.72c-.78.78-.78 2.05 0 2.83L4 21.41c.39.39.9.59 1.41.59.51 0 1.02-.2 1.41-.59l7.78-7.78 2.81-2.81c.8-.78.8-2.07 0-2.86zM5.41 20L4 18.59l7.72-7.72 1.47 1.35L5.41 20z\"/>\n",
              "  </svg>\n",
              "      </button>\n",
              "      \n",
              "  <style>\n",
              "    .colab-df-container {\n",
              "      display:flex;\n",
              "      flex-wrap:wrap;\n",
              "      gap: 12px;\n",
              "    }\n",
              "\n",
              "    .colab-df-convert {\n",
              "      background-color: #E8F0FE;\n",
              "      border: none;\n",
              "      border-radius: 50%;\n",
              "      cursor: pointer;\n",
              "      display: none;\n",
              "      fill: #1967D2;\n",
              "      height: 32px;\n",
              "      padding: 0 0 0 0;\n",
              "      width: 32px;\n",
              "    }\n",
              "\n",
              "    .colab-df-convert:hover {\n",
              "      background-color: #E2EBFA;\n",
              "      box-shadow: 0px 1px 2px rgba(60, 64, 67, 0.3), 0px 1px 3px 1px rgba(60, 64, 67, 0.15);\n",
              "      fill: #174EA6;\n",
              "    }\n",
              "\n",
              "    [theme=dark] .colab-df-convert {\n",
              "      background-color: #3B4455;\n",
              "      fill: #D2E3FC;\n",
              "    }\n",
              "\n",
              "    [theme=dark] .colab-df-convert:hover {\n",
              "      background-color: #434B5C;\n",
              "      box-shadow: 0px 1px 3px 1px rgba(0, 0, 0, 0.15);\n",
              "      filter: drop-shadow(0px 1px 2px rgba(0, 0, 0, 0.3));\n",
              "      fill: #FFFFFF;\n",
              "    }\n",
              "  </style>\n",
              "\n",
              "      <script>\n",
              "        const buttonEl =\n",
              "          document.querySelector('#df-704615c5-4194-4b7b-aaba-077852521d52 button.colab-df-convert');\n",
              "        buttonEl.style.display =\n",
              "          google.colab.kernel.accessAllowed ? 'block' : 'none';\n",
              "\n",
              "        async function convertToInteractive(key) {\n",
              "          const element = document.querySelector('#df-704615c5-4194-4b7b-aaba-077852521d52');\n",
              "          const dataTable =\n",
              "            await google.colab.kernel.invokeFunction('convertToInteractive',\n",
              "                                                     [key], {});\n",
              "          if (!dataTable) return;\n",
              "\n",
              "          const docLinkHtml = 'Like what you see? Visit the ' +\n",
              "            '<a target=\"_blank\" href=https://colab.research.google.com/notebooks/data_table.ipynb>data table notebook</a>'\n",
              "            + ' to learn more about interactive tables.';\n",
              "          element.innerHTML = '';\n",
              "          dataTable['output_type'] = 'display_data';\n",
              "          await google.colab.output.renderOutput(dataTable, element);\n",
              "          const docLink = document.createElement('div');\n",
              "          docLink.innerHTML = docLinkHtml;\n",
              "          element.appendChild(docLink);\n",
              "        }\n",
              "      </script>\n",
              "    </div>\n",
              "  </div>\n",
              "  "
            ]
          },
          "metadata": {},
          "execution_count": 22
        }
      ],
      "source": [
        "# checking min and max values\n",
        "print(bank_data['campaign'].min())\n",
        "print(bank_data['campaign'].max())\n",
        "\n",
        "# checking few high value data records\n",
        "bank_data[bank_data['campaign']==56]\n",
        "bank_data[bank_data['campaign']==40]"
      ]
    },
    {
      "cell_type": "markdown",
      "metadata": {
        "id": "JnvOfU1THrjL"
      },
      "source": [
        "FINDINGS : Data seems ok. No outliers found. Min value= 1. Max value= 56. \n",
        "No cleaning required."
      ]
    },
    {
      "cell_type": "markdown",
      "metadata": {
        "id": "Z4zUX2bXJQJj"
      },
      "source": [
        "# 13. pdays\n",
        "Number of days that passed by after the client was last contacted from a previous campaign (numeric; 999 means client was not previously contacted). Discrete variable. Min = 0"
      ]
    },
    {
      "cell_type": "code",
      "execution_count": null,
      "metadata": {
        "colab": {
          "base_uri": "https://localhost:8080/",
          "height": 782
        },
        "id": "FZ2QGoVYJbDY",
        "outputId": "5cdf5463-b915-4ba1-8c87-59837cc74cd0"
      },
      "outputs": [
        {
          "output_type": "stream",
          "name": "stdout",
          "text": [
            "999    39673\n",
            "3        439\n",
            "6        412\n",
            "4        118\n",
            "9         64\n",
            "2         61\n",
            "7         60\n",
            "12        58\n",
            "10        52\n",
            "5         46\n",
            "13        36\n",
            "11        28\n",
            "1         26\n",
            "15        24\n",
            "14        20\n",
            "8         18\n",
            "0         15\n",
            "16        11\n",
            "17         8\n",
            "18         7\n",
            "22         3\n",
            "19         3\n",
            "21         2\n",
            "25         1\n",
            "26         1\n",
            "27         1\n",
            "20         1\n",
            "Name: pdays, dtype: int64\n"
          ]
        },
        {
          "output_type": "execute_result",
          "data": {
            "text/plain": [
              "<matplotlib.axes._subplots.AxesSubplot at 0x7ff6088be690>"
            ]
          },
          "metadata": {},
          "execution_count": 23
        },
        {
          "output_type": "display_data",
          "data": {
            "text/plain": [
              "<Figure size 432x288 with 1 Axes>"
            ],
            "image/png": "[encoded data removed]"
          },
          "metadata": {
            "needs_background": "light"
          }
        }
      ],
      "source": [
        "# Frequency table to analyze data\n",
        "print(bank_data['pdays'].value_counts())\n",
        "sns.countplot(y = 'pdays', data = bank_data)"
      ]
    },
    {
      "cell_type": "code",
      "execution_count": null,
      "metadata": {
        "colab": {
          "base_uri": "https://localhost:8080/",
          "height": 554
        },
        "id": "bAIXKHccLdTS",
        "outputId": "8fadb5e0-5dc4-462c-8bf6-f44a01e70063"
      },
      "outputs": [
        {
          "output_type": "stream",
          "name": "stdout",
          "text": [
            "0\n",
            "27\n"
          ]
        },
        {
          "output_type": "execute_result",
          "data": {
            "text/plain": [
              "       pdays  campaign\n",
              "25497      0         1\n",
              "25996      0         3\n",
              "30238      0         1\n",
              "30314      0         1\n",
              "30417      0         1\n",
              "30688      0         1\n",
              "40360      0         1\n",
              "40364      0         1\n",
              "40365      0         1\n",
              "40376      0         1\n",
              "40380      0         1\n",
              "40382      0         1\n",
              "40384      0         3\n",
              "40387      0         2\n",
              "40534      0         1"
            ],
            "text/html": [
              "\n",
              "  <div id=\"df-eab4e594-91ad-4e4a-baa2-72231e5a2d12\">\n",
              "    <div class=\"colab-df-container\">\n",
              "      <div>\n",
              "<style scoped>\n",
              "    .dataframe tbody tr th:only-of-type {\n",
              "        vertical-align: middle;\n",
              "    }\n",
              "\n",
              "    .dataframe tbody tr th {\n",
              "        vertical-align: top;\n",
              "    }\n",
              "\n",
              "    .dataframe thead th {\n",
              "        text-align: right;\n",
              "    }\n",
              "</style>\n",
              "<table border=\"1\" class=\"dataframe\">\n",
              "  <thead>\n",
              "    <tr style=\"text-align: right;\">\n",
              "      <th></th>\n",
              "      <th>pdays</th>\n",
              "      <th>campaign</th>\n",
              "    </tr>\n",
              "  </thead>\n",
              "  <tbody>\n",
              "    <tr>\n",
              "      <th>25497</th>\n",
              "      <td>0</td>\n",
              "      <td>1</td>\n",
              "    </tr>\n",
              "    <tr>\n",
              "      <th>25996</th>\n",
              "      <td>0</td>\n",
              "      <td>3</td>\n",
              "    </tr>\n",
              "    <tr>\n",
              "      <th>30238</th>\n",
              "      <td>0</td>\n",
              "      <td>1</td>\n",
              "    </tr>\n",
              "    <tr>\n",
              "      <th>30314</th>\n",
              "      <td>0</td>\n",
              "      <td>1</td>\n",
              "    </tr>\n",
              "    <tr>\n",
              "      <th>30417</th>\n",
              "      <td>0</td>\n",
              "      <td>1</td>\n",
              "    </tr>\n",
              "    <tr>\n",
              "      <th>30688</th>\n",
              "      <td>0</td>\n",
              "      <td>1</td>\n",
              "    </tr>\n",
              "    <tr>\n",
              "      <th>40360</th>\n",
              "      <td>0</td>\n",
              "      <td>1</td>\n",
              "    </tr>\n",
              "    <tr>\n",
              "      <th>40364</th>\n",
              "      <td>0</td>\n",
              "      <td>1</td>\n",
              "    </tr>\n",
              "    <tr>\n",
              "      <th>40365</th>\n",
              "      <td>0</td>\n",
              "      <td>1</td>\n",
              "    </tr>\n",
              "    <tr>\n",
              "      <th>40376</th>\n",
              "      <td>0</td>\n",
              "      <td>1</td>\n",
              "    </tr>\n",
              "    <tr>\n",
              "      <th>40380</th>\n",
              "      <td>0</td>\n",
              "      <td>1</td>\n",
              "    </tr>\n",
              "    <tr>\n",
              "      <th>40382</th>\n",
              "      <td>0</td>\n",
              "      <td>1</td>\n",
              "    </tr>\n",
              "    <tr>\n",
              "      <th>40384</th>\n",
              "      <td>0</td>\n",
              "      <td>3</td>\n",
              "    </tr>\n",
              "    <tr>\n",
              "      <th>40387</th>\n",
              "      <td>0</td>\n",
              "      <td>2</td>\n",
              "    </tr>\n",
              "    <tr>\n",
              "      <th>40534</th>\n",
              "      <td>0</td>\n",
              "      <td>1</td>\n",
              "    </tr>\n",
              "  </tbody>\n",
              "</table>\n",
              "</div>\n",
              "      <button class=\"colab-df-convert\" onclick=\"convertToInteractive('df-eab4e594-91ad-4e4a-baa2-72231e5a2d12')\"\n",
              "              title=\"Convert this dataframe to an interactive table.\"\n",
              "              style=\"display:none;\">\n",
              "        \n",
              "  <svg xmlns=\"http://www.w3.org/2000/svg\" height=\"24px\"viewBox=\"0 0 24 24\"\n",
              "       width=\"24px\">\n",
              "    <path d=\"M0 0h24v24H0V0z\" fill=\"none\"/>\n",
              "    <path d=\"M18.56 5.44l.94 2.06.94-2.06 2.06-.94-2.06-.94-.94-2.06-.94 2.06-2.06.94zm-11 1L8.5 8.5l.94-2.06 2.06-.94-2.06-.94L8.5 2.5l-.94 2.06-2.06.94zm10 10l.94 2.06.94-2.06 2.06-.94-2.06-.94-.94-2.06-.94 2.06-2.06.94z\"/><path d=\"M17.41 7.96l-1.37-1.37c-.4-.4-.92-.59-1.43-.59-.52 0-1.04.2-1.43.59L10.3 9.45l-7.72 7.72c-.78.78-.78 2.05 0 2.83L4 21.41c.39.39.9.59 1.41.59.51 0 1.02-.2 1.41-.59l7.78-7.78 2.81-2.81c.8-.78.8-2.07 0-2.86zM5.41 20L4 18.59l7.72-7.72 1.47 1.35L5.41 20z\"/>\n",
              "  </svg>\n",
              "      </button>\n",
              "      \n",
              "  <style>\n",
              "    .colab-df-container {\n",
              "      display:flex;\n",
              "      flex-wrap:wrap;\n",
              "      gap: 12px;\n",
              "    }\n",
              "\n",
              "    .colab-df-convert {\n",
              "      background-color: #E8F0FE;\n",
              "      border: none;\n",
              "      border-radius: 50%;\n",
              "      cursor: pointer;\n",
              "      display: none;\n",
              "      fill: #1967D2;\n",
              "      height: 32px;\n",
              "      padding: 0 0 0 0;\n",
              "      width: 32px;\n",
              "    }\n",
              "\n",
              "    .colab-df-convert:hover {\n",
              "      background-color: #E2EBFA;\n",
              "      box-shadow: 0px 1px 2px rgba(60, 64, 67, 0.3), 0px 1px 3px 1px rgba(60, 64, 67, 0.15);\n",
              "      fill: #174EA6;\n",
              "    }\n",
              "\n",
              "    [theme=dark] .colab-df-convert {\n",
              "      background-color: #3B4455;\n",
              "      fill: #D2E3FC;\n",
              "    }\n",
              "\n",
              "    [theme=dark] .colab-df-convert:hover {\n",
              "      background-color: #434B5C;\n",
              "      box-shadow: 0px 1px 3px 1px rgba(0, 0, 0, 0.15);\n",
              "      filter: drop-shadow(0px 1px 2px rgba(0, 0, 0, 0.3));\n",
              "      fill: #FFFFFF;\n",
              "    }\n",
              "  </style>\n",
              "\n",
              "      <script>\n",
              "        const buttonEl =\n",
              "          document.querySelector('#df-eab4e594-91ad-4e4a-baa2-72231e5a2d12 button.colab-df-convert');\n",
              "        buttonEl.style.display =\n",
              "          google.colab.kernel.accessAllowed ? 'block' : 'none';\n",
              "\n",
              "        async function convertToInteractive(key) {\n",
              "          const element = document.querySelector('#df-eab4e594-91ad-4e4a-baa2-72231e5a2d12');\n",
              "          const dataTable =\n",
              "            await google.colab.kernel.invokeFunction('convertToInteractive',\n",
              "                                                     [key], {});\n",
              "          if (!dataTable) return;\n",
              "\n",
              "          const docLinkHtml = 'Like what you see? Visit the ' +\n",
              "            '<a target=\"_blank\" href=https://colab.research.google.com/notebooks/data_table.ipynb>data table notebook</a>'\n",
              "            + ' to learn more about interactive tables.';\n",
              "          element.innerHTML = '';\n",
              "          dataTable['output_type'] = 'display_data';\n",
              "          await google.colab.output.renderOutput(dataTable, element);\n",
              "          const docLink = document.createElement('div');\n",
              "          docLink.innerHTML = docLinkHtml;\n",
              "          element.appendChild(docLink);\n",
              "        }\n",
              "      </script>\n",
              "    </div>\n",
              "  </div>\n",
              "  "
            ]
          },
          "metadata": {},
          "execution_count": 24
        }
      ],
      "source": [
        "# Checking min and max values\n",
        "print(bank_data['pdays'].min())\n",
        "print(bank_data['pdays'][bank_data['pdays']!=999].max())\n",
        "\n",
        "# checking pdays and campaign relation for few sample data. Sanity check\n",
        "bank_data[['pdays','campaign']][bank_data['campaign'].isin([1,2])]\n",
        "bank_data[['pdays','campaign']][bank_data['campaign'].isin([10,11])]\n",
        "bank_data[['pdays','campaign']][bank_data['campaign'].isin([40,56])]\n",
        "bank_data[['pdays','campaign']][bank_data['pdays'].isin([3,6,5,10,20,21,27])]\n",
        "bank_data[['pdays','campaign']][bank_data['pdays'].isin([3,6])]\n",
        "bank_data[['pdays','campaign']][bank_data['pdays'].isin([5,10])]\n",
        "bank_data[['pdays','campaign']][bank_data['pdays'].isin([20,21,27])]\n",
        "bank_data[['pdays','campaign']][bank_data['pdays'].isin([0])]\n"
      ]
    },
    {
      "cell_type": "code",
      "source": [
        "# Box-plot for pdays\n",
        "plt.boxplot(bank_data['pdays'])\n",
        "\n",
        "# Box plot shows how the model would treat the variable. Except 999 all values are being shown as huge outliers."
      ],
      "metadata": {
        "colab": {
          "base_uri": "https://localhost:8080/",
          "height": 404
        },
        "id": "fOqvekKvaY6i",
        "outputId": "dce169e5-e8fc-414e-e883-b22ca069d606"
      },
      "execution_count": null,
      "outputs": [
        {
          "output_type": "execute_result",
          "data": {
            "text/plain": [
              "{'whiskers': [<matplotlib.lines.Line2D at 0x7ff60877f490>,\n",
              "  <matplotlib.lines.Line2D at 0x7ff60877f9d0>],\n",
              " 'caps': [<matplotlib.lines.Line2D at 0x7ff60877ff10>,\n",
              "  <matplotlib.lines.Line2D at 0x7ff608786490>],\n",
              " 'boxes': [<matplotlib.lines.Line2D at 0x7ff608776ed0>],\n",
              " 'medians': [<matplotlib.lines.Line2D at 0x7ff608786a10>],\n",
              " 'fliers': [<matplotlib.lines.Line2D at 0x7ff608786f50>],\n",
              " 'means': []}"
            ]
          },
          "metadata": {},
          "execution_count": 25
        },
        {
          "output_type": "display_data",
          "data": {
            "text/plain": [
              "<Figure size 432x288 with 1 Axes>"
            ],
            "image/png": "[encoded data removed]"
          },
          "metadata": {
            "needs_background": "light"
          }
        }
      ]
    },
    {
      "cell_type": "markdown",
      "metadata": {
        "id": "G2GXsVmXqlkm"
      },
      "source": [
        "FINDINGS : Default value for not contacted  = 999. Outher than that, data seems ok. No outliers or missing values detected. \n",
        "\n",
        "However, the percentage of default values is 999 which is an outlier compare to rest of the values. Percentage of default value = 96.5%. Which means that the meaningful data is the rest 3.5%. The model will treat these 3.5% as outlier and 999 as normal which is incorrect. It is better to drop this column and use a flag variable instead."
      ]
    },
    {
      "cell_type": "markdown",
      "metadata": {
        "id": "mCWUMpBNnULS"
      },
      "source": [
        "# 14. previous\n",
        "Number of contacts performed before this campaign and for this client. Numeric values. Discrete variable. Min= 0."
      ]
    },
    {
      "cell_type": "code",
      "execution_count": null,
      "metadata": {
        "colab": {
          "base_uri": "https://localhost:8080/",
          "height": 453
        },
        "id": "F-Qn6kxPnnzq",
        "outputId": "7ae990f6-3d2e-4725-eb70-2927c6ddc95f"
      },
      "outputs": [
        {
          "output_type": "stream",
          "name": "stdout",
          "text": [
            "0    35563\n",
            "1     4561\n",
            "2      754\n",
            "3      216\n",
            "4       70\n",
            "5       18\n",
            "6        5\n",
            "7        1\n",
            "Name: previous, dtype: int64\n"
          ]
        },
        {
          "output_type": "execute_result",
          "data": {
            "text/plain": [
              "<matplotlib.axes._subplots.AxesSubplot at 0x7ff608729090>"
            ]
          },
          "metadata": {},
          "execution_count": 26
        },
        {
          "output_type": "display_data",
          "data": {
            "text/plain": [
              "<Figure size 432x288 with 1 Axes>"
            ],
            "image/png": "[encoded data removed]"
          },
          "metadata": {
            "needs_background": "light"
          }
        }
      ],
      "source": [
        "# Frequency table to analyze data\n",
        "print(bank_data['previous'].value_counts())\n",
        "sns.countplot(y = 'previous', data = bank_data)"
      ]
    },
    {
      "cell_type": "code",
      "execution_count": null,
      "metadata": {
        "colab": {
          "base_uri": "https://localhost:8080/",
          "height": 505
        },
        "id": "GRMLbY_dokag",
        "outputId": "372006c8-e315-4c8b-d2a0-22328370d415"
      },
      "outputs": [
        {
          "output_type": "execute_result",
          "data": {
            "text/plain": [
              "       age            job   marital            education default housing loan  \\\n",
              "24013   38    blue-collar    single              unknown      no     yes   no   \n",
              "24019   40       services   married          high.school      no     yes   no   \n",
              "24076   36         admin.   married    university.degree      no     yes   no   \n",
              "24102   36         admin.   married          high.school      no     yes   no   \n",
              "24113   29  self-employed   married    university.degree      no     yes   no   \n",
              "...    ...            ...       ...                  ...     ...     ...  ...   \n",
              "41166   32         admin.   married    university.degree      no      no   no   \n",
              "41170   40     management  divorced    university.degree      no     yes   no   \n",
              "41173   62        retired   married    university.degree      no     yes   no   \n",
              "41175   34        student    single              unknown      no     yes   no   \n",
              "41187   74        retired   married  professional.course      no     yes   no   \n",
              "\n",
              "         contact month day_of_week  ...  campaign  pdays  previous  poutcome  \\\n",
              "24013  telephone   oct         tue  ...         1    999         1   failure   \n",
              "24019  telephone   oct         tue  ...         1    999         1   failure   \n",
              "24076  telephone   nov         wed  ...         1    999         1   failure   \n",
              "24102  telephone   nov         wed  ...         1    999         1   failure   \n",
              "24113  telephone   nov         thu  ...         1    999         1   failure   \n",
              "...          ...   ...         ...  ...       ...    ...       ...       ...   \n",
              "41166  telephone   nov         wed  ...         1    999         1   failure   \n",
              "41170   cellular   nov         wed  ...         2    999         4   failure   \n",
              "41173   cellular   nov         thu  ...         1    999         2   failure   \n",
              "41175   cellular   nov         thu  ...         1    999         2   failure   \n",
              "41187   cellular   nov         fri  ...         3    999         1   failure   \n",
              "\n",
              "      emp.var.rate  cons.price.idx  cons.conf.idx  euribor3m  nr.employed    y  \n",
              "24013         -0.1          93.798          -40.4      4.968       5195.8   no  \n",
              "24019         -0.1          93.798          -40.4      4.968       5195.8  yes  \n",
              "24076         -0.1          93.200          -42.0      4.663       5195.8   no  \n",
              "24102         -0.1          93.200          -42.0      4.286       5195.8  yes  \n",
              "24113         -0.1          93.200          -42.0      4.245       5195.8   no  \n",
              "...            ...             ...            ...        ...          ...  ...  \n",
              "41166         -1.1          94.767          -50.8      1.030       4963.6  yes  \n",
              "41170         -1.1          94.767          -50.8      1.030       4963.6   no  \n",
              "41173         -1.1          94.767          -50.8      1.031       4963.6  yes  \n",
              "41175         -1.1          94.767          -50.8      1.031       4963.6   no  \n",
              "41187         -1.1          94.767          -50.8      1.028       4963.6   no  \n",
              "\n",
              "[4110 rows x 21 columns]"
            ],
            "text/html": [
              "\n",
              "  <div id=\"df-2ef86d65-7f54-4b69-bca3-7a7692964d25\">\n",
              "    <div class=\"colab-df-container\">\n",
              "      <div>\n",
              "<style scoped>\n",
              "    .dataframe tbody tr th:only-of-type {\n",
              "        vertical-align: middle;\n",
              "    }\n",
              "\n",
              "    .dataframe tbody tr th {\n",
              "        vertical-align: top;\n",
              "    }\n",
              "\n",
              "    .dataframe thead th {\n",
              "        text-align: right;\n",
              "    }\n",
              "</style>\n",
              "<table border=\"1\" class=\"dataframe\">\n",
              "  <thead>\n",
              "    <tr style=\"text-align: right;\">\n",
              "      <th></th>\n",
              "      <th>age</th>\n",
              "      <th>job</th>\n",
              "      <th>marital</th>\n",
              "      <th>education</th>\n",
              "      <th>default</th>\n",
              "      <th>housing</th>\n",
              "      <th>loan</th>\n",
              "      <th>contact</th>\n",
              "      <th>month</th>\n",
              "      <th>day_of_week</th>\n",
              "      <th>...</th>\n",
              "      <th>campaign</th>\n",
              "      <th>pdays</th>\n",
              "      <th>previous</th>\n",
              "      <th>poutcome</th>\n",
              "      <th>emp.var.rate</th>\n",
              "      <th>cons.price.idx</th>\n",
              "      <th>cons.conf.idx</th>\n",
              "      <th>euribor3m</th>\n",
              "      <th>nr.employed</th>\n",
              "      <th>y</th>\n",
              "    </tr>\n",
              "  </thead>\n",
              "  <tbody>\n",
              "    <tr>\n",
              "      <th>24013</th>\n",
              "      <td>38</td>\n",
              "      <td>blue-collar</td>\n",
              "      <td>single</td>\n",
              "      <td>unknown</td>\n",
              "      <td>no</td>\n",
              "      <td>yes</td>\n",
              "      <td>no</td>\n",
              "      <td>telephone</td>\n",
              "      <td>oct</td>\n",
              "      <td>tue</td>\n",
              "      <td>...</td>\n",
              "      <td>1</td>\n",
              "      <td>999</td>\n",
              "      <td>1</td>\n",
              "      <td>failure</td>\n",
              "      <td>-0.1</td>\n",
              "      <td>93.798</td>\n",
              "      <td>-40.4</td>\n",
              "      <td>4.968</td>\n",
              "      <td>5195.8</td>\n",
              "      <td>no</td>\n",
              "    </tr>\n",
              "    <tr>\n",
              "      <th>24019</th>\n",
              "      <td>40</td>\n",
              "      <td>services</td>\n",
              "      <td>married</td>\n",
              "      <td>high.school</td>\n",
              "      <td>no</td>\n",
              "      <td>yes</td>\n",
              "      <td>no</td>\n",
              "      <td>telephone</td>\n",
              "      <td>oct</td>\n",
              "      <td>tue</td>\n",
              "      <td>...</td>\n",
              "      <td>1</td>\n",
              "      <td>999</td>\n",
              "      <td>1</td>\n",
              "      <td>failure</td>\n",
              "      <td>-0.1</td>\n",
              "      <td>93.798</td>\n",
              "      <td>-40.4</td>\n",
              "      <td>4.968</td>\n",
              "      <td>5195.8</td>\n",
              "      <td>yes</td>\n",
              "    </tr>\n",
              "    <tr>\n",
              "      <th>24076</th>\n",
              "      <td>36</td>\n",
              "      <td>admin.</td>\n",
              "      <td>married</td>\n",
              "      <td>university.degree</td>\n",
              "      <td>no</td>\n",
              "      <td>yes</td>\n",
              "      <td>no</td>\n",
              "      <td>telephone</td>\n",
              "      <td>nov</td>\n",
              "      <td>wed</td>\n",
              "      <td>...</td>\n",
              "      <td>1</td>\n",
              "      <td>999</td>\n",
              "      <td>1</td>\n",
              "      <td>failure</td>\n",
              "      <td>-0.1</td>\n",
              "      <td>93.200</td>\n",
              "      <td>-42.0</td>\n",
              "      <td>4.663</td>\n",
              "      <td>5195.8</td>\n",
              "      <td>no</td>\n",
              "    </tr>\n",
              "    <tr>\n",
              "      <th>24102</th>\n",
              "      <td>36</td>\n",
              "      <td>admin.</td>\n",
              "      <td>married</td>\n",
              "      <td>high.school</td>\n",
              "      <td>no</td>\n",
              "      <td>yes</td>\n",
              "      <td>no</td>\n",
              "      <td>telephone</td>\n",
              "      <td>nov</td>\n",
              "      <td>wed</td>\n",
              "      <td>...</td>\n",
              "      <td>1</td>\n",
              "      <td>999</td>\n",
              "      <td>1</td>\n",
              "      <td>failure</td>\n",
              "      <td>-0.1</td>\n",
              "      <td>93.200</td>\n",
              "      <td>-42.0</td>\n",
              "      <td>4.286</td>\n",
              "      <td>5195.8</td>\n",
              "      <td>yes</td>\n",
              "    </tr>\n",
              "    <tr>\n",
              "      <th>24113</th>\n",
              "      <td>29</td>\n",
              "      <td>self-employed</td>\n",
              "      <td>married</td>\n",
              "      <td>university.degree</td>\n",
              "      <td>no</td>\n",
              "      <td>yes</td>\n",
              "      <td>no</td>\n",
              "      <td>telephone</td>\n",
              "      <td>nov</td>\n",
              "      <td>thu</td>\n",
              "      <td>...</td>\n",
              "      <td>1</td>\n",
              "      <td>999</td>\n",
              "      <td>1</td>\n",
              "      <td>failure</td>\n",
              "      <td>-0.1</td>\n",
              "      <td>93.200</td>\n",
              "      <td>-42.0</td>\n",
              "      <td>4.245</td>\n",
              "      <td>5195.8</td>\n",
              "      <td>no</td>\n",
              "    </tr>\n",
              "    <tr>\n",
              "      <th>...</th>\n",
              "      <td>...</td>\n",
              "      <td>...</td>\n",
              "      <td>...</td>\n",
              "      <td>...</td>\n",
              "      <td>...</td>\n",
              "      <td>...</td>\n",
              "      <td>...</td>\n",
              "      <td>...</td>\n",
              "      <td>...</td>\n",
              "      <td>...</td>\n",
              "      <td>...</td>\n",
              "      <td>...</td>\n",
              "      <td>...</td>\n",
              "      <td>...</td>\n",
              "      <td>...</td>\n",
              "      <td>...</td>\n",
              "      <td>...</td>\n",
              "      <td>...</td>\n",
              "      <td>...</td>\n",
              "      <td>...</td>\n",
              "      <td>...</td>\n",
              "    </tr>\n",
              "    <tr>\n",
              "      <th>41166</th>\n",
              "      <td>32</td>\n",
              "      <td>admin.</td>\n",
              "      <td>married</td>\n",
              "      <td>university.degree</td>\n",
              "      <td>no</td>\n",
              "      <td>no</td>\n",
              "      <td>no</td>\n",
              "      <td>telephone</td>\n",
              "      <td>nov</td>\n",
              "      <td>wed</td>\n",
              "      <td>...</td>\n",
              "      <td>1</td>\n",
              "      <td>999</td>\n",
              "      <td>1</td>\n",
              "      <td>failure</td>\n",
              "      <td>-1.1</td>\n",
              "      <td>94.767</td>\n",
              "      <td>-50.8</td>\n",
              "      <td>1.030</td>\n",
              "      <td>4963.6</td>\n",
              "      <td>yes</td>\n",
              "    </tr>\n",
              "    <tr>\n",
              "      <th>41170</th>\n",
              "      <td>40</td>\n",
              "      <td>management</td>\n",
              "      <td>divorced</td>\n",
              "      <td>university.degree</td>\n",
              "      <td>no</td>\n",
              "      <td>yes</td>\n",
              "      <td>no</td>\n",
              "      <td>cellular</td>\n",
              "      <td>nov</td>\n",
              "      <td>wed</td>\n",
              "      <td>...</td>\n",
              "      <td>2</td>\n",
              "      <td>999</td>\n",
              "      <td>4</td>\n",
              "      <td>failure</td>\n",
              "      <td>-1.1</td>\n",
              "      <td>94.767</td>\n",
              "      <td>-50.8</td>\n",
              "      <td>1.030</td>\n",
              "      <td>4963.6</td>\n",
              "      <td>no</td>\n",
              "    </tr>\n",
              "    <tr>\n",
              "      <th>41173</th>\n",
              "      <td>62</td>\n",
              "      <td>retired</td>\n",
              "      <td>married</td>\n",
              "      <td>university.degree</td>\n",
              "      <td>no</td>\n",
              "      <td>yes</td>\n",
              "      <td>no</td>\n",
              "      <td>cellular</td>\n",
              "      <td>nov</td>\n",
              "      <td>thu</td>\n",
              "      <td>...</td>\n",
              "      <td>1</td>\n",
              "      <td>999</td>\n",
              "      <td>2</td>\n",
              "      <td>failure</td>\n",
              "      <td>-1.1</td>\n",
              "      <td>94.767</td>\n",
              "      <td>-50.8</td>\n",
              "      <td>1.031</td>\n",
              "      <td>4963.6</td>\n",
              "      <td>yes</td>\n",
              "    </tr>\n",
              "    <tr>\n",
              "      <th>41175</th>\n",
              "      <td>34</td>\n",
              "      <td>student</td>\n",
              "      <td>single</td>\n",
              "      <td>unknown</td>\n",
              "      <td>no</td>\n",
              "      <td>yes</td>\n",
              "      <td>no</td>\n",
              "      <td>cellular</td>\n",
              "      <td>nov</td>\n",
              "      <td>thu</td>\n",
              "      <td>...</td>\n",
              "      <td>1</td>\n",
              "      <td>999</td>\n",
              "      <td>2</td>\n",
              "      <td>failure</td>\n",
              "      <td>-1.1</td>\n",
              "      <td>94.767</td>\n",
              "      <td>-50.8</td>\n",
              "      <td>1.031</td>\n",
              "      <td>4963.6</td>\n",
              "      <td>no</td>\n",
              "    </tr>\n",
              "    <tr>\n",
              "      <th>41187</th>\n",
              "      <td>74</td>\n",
              "      <td>retired</td>\n",
              "      <td>married</td>\n",
              "      <td>professional.course</td>\n",
              "      <td>no</td>\n",
              "      <td>yes</td>\n",
              "      <td>no</td>\n",
              "      <td>cellular</td>\n",
              "      <td>nov</td>\n",
              "      <td>fri</td>\n",
              "      <td>...</td>\n",
              "      <td>3</td>\n",
              "      <td>999</td>\n",
              "      <td>1</td>\n",
              "      <td>failure</td>\n",
              "      <td>-1.1</td>\n",
              "      <td>94.767</td>\n",
              "      <td>-50.8</td>\n",
              "      <td>1.028</td>\n",
              "      <td>4963.6</td>\n",
              "      <td>no</td>\n",
              "    </tr>\n",
              "  </tbody>\n",
              "</table>\n",
              "<p>4110 rows × 21 columns</p>\n",
              "</div>\n",
              "      <button class=\"colab-df-convert\" onclick=\"convertToInteractive('df-2ef86d65-7f54-4b69-bca3-7a7692964d25')\"\n",
              "              title=\"Convert this dataframe to an interactive table.\"\n",
              "              style=\"display:none;\">\n",
              "        \n",
              "  <svg xmlns=\"http://www.w3.org/2000/svg\" height=\"24px\"viewBox=\"0 0 24 24\"\n",
              "       width=\"24px\">\n",
              "    <path d=\"M0 0h24v24H0V0z\" fill=\"none\"/>\n",
              "    <path d=\"M18.56 5.44l.94 2.06.94-2.06 2.06-.94-2.06-.94-.94-2.06-.94 2.06-2.06.94zm-11 1L8.5 8.5l.94-2.06 2.06-.94-2.06-.94L8.5 2.5l-.94 2.06-2.06.94zm10 10l.94 2.06.94-2.06 2.06-.94-2.06-.94-.94-2.06-.94 2.06-2.06.94z\"/><path d=\"M17.41 7.96l-1.37-1.37c-.4-.4-.92-.59-1.43-.59-.52 0-1.04.2-1.43.59L10.3 9.45l-7.72 7.72c-.78.78-.78 2.05 0 2.83L4 21.41c.39.39.9.59 1.41.59.51 0 1.02-.2 1.41-.59l7.78-7.78 2.81-2.81c.8-.78.8-2.07 0-2.86zM5.41 20L4 18.59l7.72-7.72 1.47 1.35L5.41 20z\"/>\n",
              "  </svg>\n",
              "      </button>\n",
              "      \n",
              "  <style>\n",
              "    .colab-df-container {\n",
              "      display:flex;\n",
              "      flex-wrap:wrap;\n",
              "      gap: 12px;\n",
              "    }\n",
              "\n",
              "    .colab-df-convert {\n",
              "      background-color: #E8F0FE;\n",
              "      border: none;\n",
              "      border-radius: 50%;\n",
              "      cursor: pointer;\n",
              "      display: none;\n",
              "      fill: #1967D2;\n",
              "      height: 32px;\n",
              "      padding: 0 0 0 0;\n",
              "      width: 32px;\n",
              "    }\n",
              "\n",
              "    .colab-df-convert:hover {\n",
              "      background-color: #E2EBFA;\n",
              "      box-shadow: 0px 1px 2px rgba(60, 64, 67, 0.3), 0px 1px 3px 1px rgba(60, 64, 67, 0.15);\n",
              "      fill: #174EA6;\n",
              "    }\n",
              "\n",
              "    [theme=dark] .colab-df-convert {\n",
              "      background-color: #3B4455;\n",
              "      fill: #D2E3FC;\n",
              "    }\n",
              "\n",
              "    [theme=dark] .colab-df-convert:hover {\n",
              "      background-color: #434B5C;\n",
              "      box-shadow: 0px 1px 3px 1px rgba(0, 0, 0, 0.15);\n",
              "      filter: drop-shadow(0px 1px 2px rgba(0, 0, 0, 0.3));\n",
              "      fill: #FFFFFF;\n",
              "    }\n",
              "  </style>\n",
              "\n",
              "      <script>\n",
              "        const buttonEl =\n",
              "          document.querySelector('#df-2ef86d65-7f54-4b69-bca3-7a7692964d25 button.colab-df-convert');\n",
              "        buttonEl.style.display =\n",
              "          google.colab.kernel.accessAllowed ? 'block' : 'none';\n",
              "\n",
              "        async function convertToInteractive(key) {\n",
              "          const element = document.querySelector('#df-2ef86d65-7f54-4b69-bca3-7a7692964d25');\n",
              "          const dataTable =\n",
              "            await google.colab.kernel.invokeFunction('convertToInteractive',\n",
              "                                                     [key], {});\n",
              "          if (!dataTable) return;\n",
              "\n",
              "          const docLinkHtml = 'Like what you see? Visit the ' +\n",
              "            '<a target=\"_blank\" href=https://colab.research.google.com/notebooks/data_table.ipynb>data table notebook</a>'\n",
              "            + ' to learn more about interactive tables.';\n",
              "          element.innerHTML = '';\n",
              "          dataTable['output_type'] = 'display_data';\n",
              "          await google.colab.output.renderOutput(dataTable, element);\n",
              "          const docLink = document.createElement('div');\n",
              "          docLink.innerHTML = docLinkHtml;\n",
              "          element.appendChild(docLink);\n",
              "        }\n",
              "      </script>\n",
              "    </div>\n",
              "  </div>\n",
              "  "
            ]
          },
          "metadata": {},
          "execution_count": 27
        }
      ],
      "source": [
        "# checking for any relation with 'campaign' and 'pdays'\n",
        "\n",
        "bank_data[['campaign','pdays', 'previous']][bank_data['previous']==0]\n",
        "bank_data[['campaign','pdays', 'previous']][bank_data['previous']==1]\n",
        "bank_data[['campaign','pdays', 'previous']][bank_data['previous']==4]\n",
        "\n",
        "# checking for 'previous' values where 'pdays' = 999\n",
        "# which means, when the client was not contacted in the previous campaign, what is the number of contacts made before this campaign\n",
        "\n",
        "bank_data['previous'][bank_data['pdays']==999].unique()\n",
        "bank_data[(bank_data['pdays']==999) & (bank_data['previous']!=0)] ## 4110 records"
      ]
    },
    {
      "cell_type": "markdown",
      "metadata": {
        "id": "DA1OS0qivW6V"
      },
      "source": [
        "FINDINGS: There are 4110 records where the client was not contacted in the previous campaign, but there was atleast 1 call made before this campaign. So either, these calls were not a part of any campaign, or these 4110 records have logical error. Further investigation required."
      ]
    },
    {
      "cell_type": "code",
      "execution_count": null,
      "metadata": {
        "colab": {
          "base_uri": "https://localhost:8080/",
          "height": 505
        },
        "id": "MZm4C910wfuc",
        "outputId": "cb174232-b72e-4879-f34e-c062f76caa39"
      },
      "outputs": [
        {
          "output_type": "execute_result",
          "data": {
            "text/plain": [
              "       age            job   marital            education default housing loan  \\\n",
              "24013   38    blue-collar    single              unknown      no     yes   no   \n",
              "24019   40       services   married          high.school      no     yes   no   \n",
              "24076   36         admin.   married    university.degree      no     yes   no   \n",
              "24102   36         admin.   married          high.school      no     yes   no   \n",
              "24113   29  self-employed   married    university.degree      no     yes   no   \n",
              "...    ...            ...       ...                  ...     ...     ...  ...   \n",
              "41166   32         admin.   married    university.degree      no      no   no   \n",
              "41170   40     management  divorced    university.degree      no     yes   no   \n",
              "41173   62        retired   married    university.degree      no     yes   no   \n",
              "41175   34        student    single              unknown      no     yes   no   \n",
              "41187   74        retired   married  professional.course      no     yes   no   \n",
              "\n",
              "         contact month day_of_week  ...  campaign  pdays  previous  poutcome  \\\n",
              "24013  telephone   oct         tue  ...         1    999         1   failure   \n",
              "24019  telephone   oct         tue  ...         1    999         1   failure   \n",
              "24076  telephone   nov         wed  ...         1    999         1   failure   \n",
              "24102  telephone   nov         wed  ...         1    999         1   failure   \n",
              "24113  telephone   nov         thu  ...         1    999         1   failure   \n",
              "...          ...   ...         ...  ...       ...    ...       ...       ...   \n",
              "41166  telephone   nov         wed  ...         1    999         1   failure   \n",
              "41170   cellular   nov         wed  ...         2    999         4   failure   \n",
              "41173   cellular   nov         thu  ...         1    999         2   failure   \n",
              "41175   cellular   nov         thu  ...         1    999         2   failure   \n",
              "41187   cellular   nov         fri  ...         3    999         1   failure   \n",
              "\n",
              "      emp.var.rate  cons.price.idx  cons.conf.idx  euribor3m  nr.employed    y  \n",
              "24013         -0.1          93.798          -40.4      4.968       5195.8   no  \n",
              "24019         -0.1          93.798          -40.4      4.968       5195.8  yes  \n",
              "24076         -0.1          93.200          -42.0      4.663       5195.8   no  \n",
              "24102         -0.1          93.200          -42.0      4.286       5195.8  yes  \n",
              "24113         -0.1          93.200          -42.0      4.245       5195.8   no  \n",
              "...            ...             ...            ...        ...          ...  ...  \n",
              "41166         -1.1          94.767          -50.8      1.030       4963.6  yes  \n",
              "41170         -1.1          94.767          -50.8      1.030       4963.6   no  \n",
              "41173         -1.1          94.767          -50.8      1.031       4963.6  yes  \n",
              "41175         -1.1          94.767          -50.8      1.031       4963.6   no  \n",
              "41187         -1.1          94.767          -50.8      1.028       4963.6   no  \n",
              "\n",
              "[4110 rows x 21 columns]"
            ],
            "text/html": [
              "\n",
              "  <div id=\"df-d6988893-11dc-4a84-a72b-681412c33483\">\n",
              "    <div class=\"colab-df-container\">\n",
              "      <div>\n",
              "<style scoped>\n",
              "    .dataframe tbody tr th:only-of-type {\n",
              "        vertical-align: middle;\n",
              "    }\n",
              "\n",
              "    .dataframe tbody tr th {\n",
              "        vertical-align: top;\n",
              "    }\n",
              "\n",
              "    .dataframe thead th {\n",
              "        text-align: right;\n",
              "    }\n",
              "</style>\n",
              "<table border=\"1\" class=\"dataframe\">\n",
              "  <thead>\n",
              "    <tr style=\"text-align: right;\">\n",
              "      <th></th>\n",
              "      <th>age</th>\n",
              "      <th>job</th>\n",
              "      <th>marital</th>\n",
              "      <th>education</th>\n",
              "      <th>default</th>\n",
              "      <th>housing</th>\n",
              "      <th>loan</th>\n",
              "      <th>contact</th>\n",
              "      <th>month</th>\n",
              "      <th>day_of_week</th>\n",
              "      <th>...</th>\n",
              "      <th>campaign</th>\n",
              "      <th>pdays</th>\n",
              "      <th>previous</th>\n",
              "      <th>poutcome</th>\n",
              "      <th>emp.var.rate</th>\n",
              "      <th>cons.price.idx</th>\n",
              "      <th>cons.conf.idx</th>\n",
              "      <th>euribor3m</th>\n",
              "      <th>nr.employed</th>\n",
              "      <th>y</th>\n",
              "    </tr>\n",
              "  </thead>\n",
              "  <tbody>\n",
              "    <tr>\n",
              "      <th>24013</th>\n",
              "      <td>38</td>\n",
              "      <td>blue-collar</td>\n",
              "      <td>single</td>\n",
              "      <td>unknown</td>\n",
              "      <td>no</td>\n",
              "      <td>yes</td>\n",
              "      <td>no</td>\n",
              "      <td>telephone</td>\n",
              "      <td>oct</td>\n",
              "      <td>tue</td>\n",
              "      <td>...</td>\n",
              "      <td>1</td>\n",
              "      <td>999</td>\n",
              "      <td>1</td>\n",
              "      <td>failure</td>\n",
              "      <td>-0.1</td>\n",
              "      <td>93.798</td>\n",
              "      <td>-40.4</td>\n",
              "      <td>4.968</td>\n",
              "      <td>5195.8</td>\n",
              "      <td>no</td>\n",
              "    </tr>\n",
              "    <tr>\n",
              "      <th>24019</th>\n",
              "      <td>40</td>\n",
              "      <td>services</td>\n",
              "      <td>married</td>\n",
              "      <td>high.school</td>\n",
              "      <td>no</td>\n",
              "      <td>yes</td>\n",
              "      <td>no</td>\n",
              "      <td>telephone</td>\n",
              "      <td>oct</td>\n",
              "      <td>tue</td>\n",
              "      <td>...</td>\n",
              "      <td>1</td>\n",
              "      <td>999</td>\n",
              "      <td>1</td>\n",
              "      <td>failure</td>\n",
              "      <td>-0.1</td>\n",
              "      <td>93.798</td>\n",
              "      <td>-40.4</td>\n",
              "      <td>4.968</td>\n",
              "      <td>5195.8</td>\n",
              "      <td>yes</td>\n",
              "    </tr>\n",
              "    <tr>\n",
              "      <th>24076</th>\n",
              "      <td>36</td>\n",
              "      <td>admin.</td>\n",
              "      <td>married</td>\n",
              "      <td>university.degree</td>\n",
              "      <td>no</td>\n",
              "      <td>yes</td>\n",
              "      <td>no</td>\n",
              "      <td>telephone</td>\n",
              "      <td>nov</td>\n",
              "      <td>wed</td>\n",
              "      <td>...</td>\n",
              "      <td>1</td>\n",
              "      <td>999</td>\n",
              "      <td>1</td>\n",
              "      <td>failure</td>\n",
              "      <td>-0.1</td>\n",
              "      <td>93.200</td>\n",
              "      <td>-42.0</td>\n",
              "      <td>4.663</td>\n",
              "      <td>5195.8</td>\n",
              "      <td>no</td>\n",
              "    </tr>\n",
              "    <tr>\n",
              "      <th>24102</th>\n",
              "      <td>36</td>\n",
              "      <td>admin.</td>\n",
              "      <td>married</td>\n",
              "      <td>high.school</td>\n",
              "      <td>no</td>\n",
              "      <td>yes</td>\n",
              "      <td>no</td>\n",
              "      <td>telephone</td>\n",
              "      <td>nov</td>\n",
              "      <td>wed</td>\n",
              "      <td>...</td>\n",
              "      <td>1</td>\n",
              "      <td>999</td>\n",
              "      <td>1</td>\n",
              "      <td>failure</td>\n",
              "      <td>-0.1</td>\n",
              "      <td>93.200</td>\n",
              "      <td>-42.0</td>\n",
              "      <td>4.286</td>\n",
              "      <td>5195.8</td>\n",
              "      <td>yes</td>\n",
              "    </tr>\n",
              "    <tr>\n",
              "      <th>24113</th>\n",
              "      <td>29</td>\n",
              "      <td>self-employed</td>\n",
              "      <td>married</td>\n",
              "      <td>university.degree</td>\n",
              "      <td>no</td>\n",
              "      <td>yes</td>\n",
              "      <td>no</td>\n",
              "      <td>telephone</td>\n",
              "      <td>nov</td>\n",
              "      <td>thu</td>\n",
              "      <td>...</td>\n",
              "      <td>1</td>\n",
              "      <td>999</td>\n",
              "      <td>1</td>\n",
              "      <td>failure</td>\n",
              "      <td>-0.1</td>\n",
              "      <td>93.200</td>\n",
              "      <td>-42.0</td>\n",
              "      <td>4.245</td>\n",
              "      <td>5195.8</td>\n",
              "      <td>no</td>\n",
              "    </tr>\n",
              "    <tr>\n",
              "      <th>...</th>\n",
              "      <td>...</td>\n",
              "      <td>...</td>\n",
              "      <td>...</td>\n",
              "      <td>...</td>\n",
              "      <td>...</td>\n",
              "      <td>...</td>\n",
              "      <td>...</td>\n",
              "      <td>...</td>\n",
              "      <td>...</td>\n",
              "      <td>...</td>\n",
              "      <td>...</td>\n",
              "      <td>...</td>\n",
              "      <td>...</td>\n",
              "      <td>...</td>\n",
              "      <td>...</td>\n",
              "      <td>...</td>\n",
              "      <td>...</td>\n",
              "      <td>...</td>\n",
              "      <td>...</td>\n",
              "      <td>...</td>\n",
              "      <td>...</td>\n",
              "    </tr>\n",
              "    <tr>\n",
              "      <th>41166</th>\n",
              "      <td>32</td>\n",
              "      <td>admin.</td>\n",
              "      <td>married</td>\n",
              "      <td>university.degree</td>\n",
              "      <td>no</td>\n",
              "      <td>no</td>\n",
              "      <td>no</td>\n",
              "      <td>telephone</td>\n",
              "      <td>nov</td>\n",
              "      <td>wed</td>\n",
              "      <td>...</td>\n",
              "      <td>1</td>\n",
              "      <td>999</td>\n",
              "      <td>1</td>\n",
              "      <td>failure</td>\n",
              "      <td>-1.1</td>\n",
              "      <td>94.767</td>\n",
              "      <td>-50.8</td>\n",
              "      <td>1.030</td>\n",
              "      <td>4963.6</td>\n",
              "      <td>yes</td>\n",
              "    </tr>\n",
              "    <tr>\n",
              "      <th>41170</th>\n",
              "      <td>40</td>\n",
              "      <td>management</td>\n",
              "      <td>divorced</td>\n",
              "      <td>university.degree</td>\n",
              "      <td>no</td>\n",
              "      <td>yes</td>\n",
              "      <td>no</td>\n",
              "      <td>cellular</td>\n",
              "      <td>nov</td>\n",
              "      <td>wed</td>\n",
              "      <td>...</td>\n",
              "      <td>2</td>\n",
              "      <td>999</td>\n",
              "      <td>4</td>\n",
              "      <td>failure</td>\n",
              "      <td>-1.1</td>\n",
              "      <td>94.767</td>\n",
              "      <td>-50.8</td>\n",
              "      <td>1.030</td>\n",
              "      <td>4963.6</td>\n",
              "      <td>no</td>\n",
              "    </tr>\n",
              "    <tr>\n",
              "      <th>41173</th>\n",
              "      <td>62</td>\n",
              "      <td>retired</td>\n",
              "      <td>married</td>\n",
              "      <td>university.degree</td>\n",
              "      <td>no</td>\n",
              "      <td>yes</td>\n",
              "      <td>no</td>\n",
              "      <td>cellular</td>\n",
              "      <td>nov</td>\n",
              "      <td>thu</td>\n",
              "      <td>...</td>\n",
              "      <td>1</td>\n",
              "      <td>999</td>\n",
              "      <td>2</td>\n",
              "      <td>failure</td>\n",
              "      <td>-1.1</td>\n",
              "      <td>94.767</td>\n",
              "      <td>-50.8</td>\n",
              "      <td>1.031</td>\n",
              "      <td>4963.6</td>\n",
              "      <td>yes</td>\n",
              "    </tr>\n",
              "    <tr>\n",
              "      <th>41175</th>\n",
              "      <td>34</td>\n",
              "      <td>student</td>\n",
              "      <td>single</td>\n",
              "      <td>unknown</td>\n",
              "      <td>no</td>\n",
              "      <td>yes</td>\n",
              "      <td>no</td>\n",
              "      <td>cellular</td>\n",
              "      <td>nov</td>\n",
              "      <td>thu</td>\n",
              "      <td>...</td>\n",
              "      <td>1</td>\n",
              "      <td>999</td>\n",
              "      <td>2</td>\n",
              "      <td>failure</td>\n",
              "      <td>-1.1</td>\n",
              "      <td>94.767</td>\n",
              "      <td>-50.8</td>\n",
              "      <td>1.031</td>\n",
              "      <td>4963.6</td>\n",
              "      <td>no</td>\n",
              "    </tr>\n",
              "    <tr>\n",
              "      <th>41187</th>\n",
              "      <td>74</td>\n",
              "      <td>retired</td>\n",
              "      <td>married</td>\n",
              "      <td>professional.course</td>\n",
              "      <td>no</td>\n",
              "      <td>yes</td>\n",
              "      <td>no</td>\n",
              "      <td>cellular</td>\n",
              "      <td>nov</td>\n",
              "      <td>fri</td>\n",
              "      <td>...</td>\n",
              "      <td>3</td>\n",
              "      <td>999</td>\n",
              "      <td>1</td>\n",
              "      <td>failure</td>\n",
              "      <td>-1.1</td>\n",
              "      <td>94.767</td>\n",
              "      <td>-50.8</td>\n",
              "      <td>1.028</td>\n",
              "      <td>4963.6</td>\n",
              "      <td>no</td>\n",
              "    </tr>\n",
              "  </tbody>\n",
              "</table>\n",
              "<p>4110 rows × 21 columns</p>\n",
              "</div>\n",
              "      <button class=\"colab-df-convert\" onclick=\"convertToInteractive('df-d6988893-11dc-4a84-a72b-681412c33483')\"\n",
              "              title=\"Convert this dataframe to an interactive table.\"\n",
              "              style=\"display:none;\">\n",
              "        \n",
              "  <svg xmlns=\"http://www.w3.org/2000/svg\" height=\"24px\"viewBox=\"0 0 24 24\"\n",
              "       width=\"24px\">\n",
              "    <path d=\"M0 0h24v24H0V0z\" fill=\"none\"/>\n",
              "    <path d=\"M18.56 5.44l.94 2.06.94-2.06 2.06-.94-2.06-.94-.94-2.06-.94 2.06-2.06.94zm-11 1L8.5 8.5l.94-2.06 2.06-.94-2.06-.94L8.5 2.5l-.94 2.06-2.06.94zm10 10l.94 2.06.94-2.06 2.06-.94-2.06-.94-.94-2.06-.94 2.06-2.06.94z\"/><path d=\"M17.41 7.96l-1.37-1.37c-.4-.4-.92-.59-1.43-.59-.52 0-1.04.2-1.43.59L10.3 9.45l-7.72 7.72c-.78.78-.78 2.05 0 2.83L4 21.41c.39.39.9.59 1.41.59.51 0 1.02-.2 1.41-.59l7.78-7.78 2.81-2.81c.8-.78.8-2.07 0-2.86zM5.41 20L4 18.59l7.72-7.72 1.47 1.35L5.41 20z\"/>\n",
              "  </svg>\n",
              "      </button>\n",
              "      \n",
              "  <style>\n",
              "    .colab-df-container {\n",
              "      display:flex;\n",
              "      flex-wrap:wrap;\n",
              "      gap: 12px;\n",
              "    }\n",
              "\n",
              "    .colab-df-convert {\n",
              "      background-color: #E8F0FE;\n",
              "      border: none;\n",
              "      border-radius: 50%;\n",
              "      cursor: pointer;\n",
              "      display: none;\n",
              "      fill: #1967D2;\n",
              "      height: 32px;\n",
              "      padding: 0 0 0 0;\n",
              "      width: 32px;\n",
              "    }\n",
              "\n",
              "    .colab-df-convert:hover {\n",
              "      background-color: #E2EBFA;\n",
              "      box-shadow: 0px 1px 2px rgba(60, 64, 67, 0.3), 0px 1px 3px 1px rgba(60, 64, 67, 0.15);\n",
              "      fill: #174EA6;\n",
              "    }\n",
              "\n",
              "    [theme=dark] .colab-df-convert {\n",
              "      background-color: #3B4455;\n",
              "      fill: #D2E3FC;\n",
              "    }\n",
              "\n",
              "    [theme=dark] .colab-df-convert:hover {\n",
              "      background-color: #434B5C;\n",
              "      box-shadow: 0px 1px 3px 1px rgba(0, 0, 0, 0.15);\n",
              "      filter: drop-shadow(0px 1px 2px rgba(0, 0, 0, 0.3));\n",
              "      fill: #FFFFFF;\n",
              "    }\n",
              "  </style>\n",
              "\n",
              "      <script>\n",
              "        const buttonEl =\n",
              "          document.querySelector('#df-d6988893-11dc-4a84-a72b-681412c33483 button.colab-df-convert');\n",
              "        buttonEl.style.display =\n",
              "          google.colab.kernel.accessAllowed ? 'block' : 'none';\n",
              "\n",
              "        async function convertToInteractive(key) {\n",
              "          const element = document.querySelector('#df-d6988893-11dc-4a84-a72b-681412c33483');\n",
              "          const dataTable =\n",
              "            await google.colab.kernel.invokeFunction('convertToInteractive',\n",
              "                                                     [key], {});\n",
              "          if (!dataTable) return;\n",
              "\n",
              "          const docLinkHtml = 'Like what you see? Visit the ' +\n",
              "            '<a target=\"_blank\" href=https://colab.research.google.com/notebooks/data_table.ipynb>data table notebook</a>'\n",
              "            + ' to learn more about interactive tables.';\n",
              "          element.innerHTML = '';\n",
              "          dataTable['output_type'] = 'display_data';\n",
              "          await google.colab.output.renderOutput(dataTable, element);\n",
              "          const docLink = document.createElement('div');\n",
              "          docLink.innerHTML = docLinkHtml;\n",
              "          element.appendChild(docLink);\n",
              "        }\n",
              "      </script>\n",
              "    </div>\n",
              "  </div>\n",
              "  "
            ]
          },
          "metadata": {},
          "execution_count": 28
        }
      ],
      "source": [
        "# keeping these 4110 records under observation\n",
        "observation1 = bank_data[(bank_data['pdays']==999) & (bank_data['previous']!=0)]\n",
        "observation1"
      ]
    },
    {
      "cell_type": "markdown",
      "metadata": {
        "id": "3VQg9juxw_pJ"
      },
      "source": [
        "# 15. poutcome\n",
        "Outcome of the previous marketing campaign (categorical: 'failure', 'nonexistent', 'success')\n"
      ]
    },
    {
      "cell_type": "code",
      "execution_count": null,
      "metadata": {
        "colab": {
          "base_uri": "https://localhost:8080/",
          "height": 366
        },
        "id": "Cz9_ASw_xSgy",
        "outputId": "f4c14811-be0e-4f55-ba46-192dd4e63739"
      },
      "outputs": [
        {
          "output_type": "stream",
          "name": "stdout",
          "text": [
            "nonexistent    35563\n",
            "failure         4252\n",
            "success         1373\n",
            "Name: poutcome, dtype: int64\n"
          ]
        },
        {
          "output_type": "execute_result",
          "data": {
            "text/plain": [
              "<matplotlib.axes._subplots.AxesSubplot at 0x7ff6086bd350>"
            ]
          },
          "metadata": {},
          "execution_count": 29
        },
        {
          "output_type": "display_data",
          "data": {
            "text/plain": [
              "<Figure size 432x288 with 1 Axes>"
            ],
            "image/png": "[encoded data removed]"
          },
          "metadata": {
            "needs_background": "light"
          }
        }
      ],
      "source": [
        "# Frequency table to analyze data\n",
        "print(bank_data['poutcome'].value_counts())\n",
        "sns.countplot(y = 'poutcome', data = bank_data)"
      ]
    },
    {
      "cell_type": "code",
      "execution_count": null,
      "metadata": {
        "colab": {
          "base_uri": "https://localhost:8080/"
        },
        "id": "yGnV4Z20x0yB",
        "outputId": "3b67bb81-bab8-4d58-e8a2-b45648e63144"
      },
      "outputs": [
        {
          "output_type": "execute_result",
          "data": {
            "text/plain": [
              "array([ 6,  4,  3,  5,  1,  0, 10,  7,  8,  9,  2, 11, 12, 13, 14, 15, 16,\n",
              "       18, 22, 26, 17, 19, 27])"
            ]
          },
          "metadata": {},
          "execution_count": 30
        }
      ],
      "source": [
        "bank_data['pdays'][bank_data['poutcome']=='nonexistent'].unique() # 999\n",
        "# for all records where previous outcome is nonexistent, which means customer previous contact data is not available, pdays is 999, which means customer was not contacted. So, data is logically correct.\n",
        "\n",
        "# Checking for correct logic - When customer was not contacted previously, was the previous outcome = failure. Logically, it should be non-existent, not failure.\n",
        "bank_data['pdays'][bank_data['poutcome']=='failure'].unique()\n",
        "bank_data[(bank_data['poutcome']=='failure') & (bank_data['pdays']==999)] # 4110 records. This is logically not correct.\n",
        "\n",
        "# Checking for correct logic - When  the previous outcome = success, was the customer was contacted in previous campaign (pdays != 999)\n",
        "bank_data['pdays'][bank_data['poutcome']=='success'].unique()\n",
        "# There are no values of pdays =999. From the result we can infer that the logic is correct in this case."
      ]
    },
    {
      "cell_type": "code",
      "execution_count": null,
      "metadata": {
        "colab": {
          "base_uri": "https://localhost:8080/"
        },
        "id": "XgHAAYpj0f-l",
        "outputId": "1843eafd-2250-48f3-9551-8f7a78547ffe"
      },
      "outputs": [
        {
          "output_type": "execute_result",
          "data": {
            "text/plain": [
              "array([1, 2, 3, 4, 5, 6])"
            ]
          },
          "metadata": {},
          "execution_count": 31
        }
      ],
      "source": [
        "# Dataset A\n",
        "# client was not contacted in the previous campaign; but there was atleast 1 call made before this campaign; outcome of previous campaign = failure\n",
        "observation1[observation1['poutcome']=='failure'] # = observation1 dataset\n",
        "\n",
        "# Dataset B\n",
        "# client was not contacted in the previous campaign; outcome of previous campaign = failure\n",
        "bank_data[(bank_data['poutcome']=='failure') & (bank_data['pdays']==999)]\n",
        "\n",
        "bank_data['previous'][(bank_data['poutcome']=='failure') & (bank_data['pdays']==999)].unique()\n",
        "# Conclusion : Both these datasets are the same"
      ]
    },
    {
      "cell_type": "markdown",
      "metadata": {
        "id": "I6SwB8u1xM2B"
      },
      "source": [
        "FINDINGS: when previous outcome is failure, in 4110 records they have not been contacted. Which means that poutcome should be 'nonexistent' instead of 'failure'. Again this set of 4110 is the same as Observation1 set of data.\n",
        "\n",
        "4110 is approximately 10% of the data. 'pdays' may be imputed based on target if required. It will fix the logical discrepancy with the other two variables."
      ]
    },
    {
      "cell_type": "markdown",
      "metadata": {
        "id": "yVhZLvgEx_5o"
      },
      "source": [
        "# 16. emp.var.rate\n",
        "\n",
        "Employment variation rate - quarterly indicator (numeric)"
      ]
    },
    {
      "cell_type": "code",
      "execution_count": null,
      "metadata": {
        "colab": {
          "base_uri": "https://localhost:8080/",
          "height": 539
        },
        "id": "XA9DhY2YyPRM",
        "outputId": "948bc9e6-1acd-4ade-9b8a-d7fc26425114"
      },
      "outputs": [
        {
          "output_type": "stream",
          "name": "stdout",
          "text": [
            " 1.4    16234\n",
            "-1.8     9184\n",
            " 1.1     7763\n",
            "-0.1     3683\n",
            "-2.9     1663\n",
            "-3.4     1071\n",
            "-1.7      773\n",
            "-1.1      635\n",
            "-3.0      172\n",
            "-0.2       10\n",
            "Name: emp.var.rate, dtype: int64\n",
            "0\n",
            "0.08188550063125165\n",
            "1.1\n"
          ]
        },
        {
          "output_type": "execute_result",
          "data": {
            "text/plain": [
              "<matplotlib.axes._subplots.AxesSubplot at 0x7ff608bc9bd0>"
            ]
          },
          "metadata": {},
          "execution_count": 32
        },
        {
          "output_type": "display_data",
          "data": {
            "text/plain": [
              "<Figure size 432x288 with 1 Axes>"
            ],
            "image/png": "[encoded data removed]"
          },
          "metadata": {
            "needs_background": "light"
          }
        }
      ],
      "source": [
        "# Checking frequency table\n",
        "print(bank_data['emp.var.rate'].value_counts()) # discrete variable\n",
        "print(bank_data['emp.var.rate'].isnull().sum()) # No null values\n",
        "print(bank_data['emp.var.rate'].mean()) # 0.08\n",
        "print(bank_data['emp.var.rate'].median()) # 1.1 \n",
        "\n",
        "sns.countplot(y='emp.var.rate', data=bank_data)"
      ]
    },
    {
      "cell_type": "markdown",
      "metadata": {
        "id": "JsT3i5ih1I7B"
      },
      "source": [
        "FINDINGS: Data seems fine. No cleaning required."
      ]
    },
    {
      "cell_type": "markdown",
      "metadata": {
        "id": "A7-8CdNsDQjd"
      },
      "source": [
        "# Continuous Variable Exploration\n",
        "\n"
      ]
    },
    {
      "cell_type": "markdown",
      "source": [
        "Continuous variables will have a lot of unique values. So, frequency table will not give a good idea. For, continuous variables we use percentile distribution with the help of a Box Plot.\n",
        "* Percentile - Percentile describes how a score compares to other scores in the same dataset. Ex. 25 percentile value = 50, means 25% data points are below the value of 50, and 75% data points are above 50.\n",
        "* Box plot - Shows the data graphically as a box with 2 whiskers on either side. the lower end of the box body is 25 %ile value while the upper end is 75 %ile value. 50 %ile value or median is also shown. The whiskers are drawn till the actual minumum and maximum values or the values predicted by the plot. Box plots whiskers generally have a length of 1.5*IQR. (IQR = Inter Quartile Range = difference between 75 %ile and 25 %ile.)\n",
        "\n",
        "### Outlier Detection\n",
        "\n",
        "Any values outside the range of the box plot will be shown as hollow dots. In the presence of outliers, the box plot is compressed as the scale of y-axis increases to accomodate the outlier value. If there are huge outliers, the box plot may be compressed to a line."
      ],
      "metadata": {
        "id": "1v6z9mUj4SI2"
      }
    },
    {
      "cell_type": "markdown",
      "metadata": {
        "id": "zEf9nIKD_niH"
      },
      "source": [
        "# 11. duration\n",
        "Last contact duration, in seconds (numeric)\n",
        "Continuous variable. Minimum value  = 0\n",
        "\n",
        "Important note: this attribute highly affects the output target (e.g., if duration=0 then y='no'). Yet, the duration is not known before a call is performed. Also, after the end of the call y is obviously known. Thus, this input should only be included for benchmark purposes and should be discarded if the intention is to have a realistic predictive model.\n",
        "\n",
        "y = has the client subscribed a term deposit? (binary: 'yes', 'no')"
      ]
    },
    {
      "cell_type": "code",
      "execution_count": null,
      "metadata": {
        "colab": {
          "base_uri": "https://localhost:8080/"
        },
        "id": "EjQjMKnXAE_F",
        "outputId": "3dfcb20a-df5b-4fdf-db83-070f087f0fe5"
      },
      "outputs": [
        {
          "output_type": "stream",
          "name": "stdout",
          "text": [
            "['no']\n",
            "0\n",
            "4918\n",
            "258.2850101971448\n",
            "180.0\n",
            "67225.72887720143\n",
            "259.2792488364648\n",
            "0\n"
          ]
        },
        {
          "output_type": "execute_result",
          "data": {
            "text/plain": [
              "0.00       0.0\n",
              "0.05      36.0\n",
              "0.10      59.0\n",
              "0.25     102.0\n",
              "0.40     146.0\n",
              "0.50     180.0\n",
              "0.75     319.0\n",
              "0.80     368.0\n",
              "0.90     551.0\n",
              "1.00    4918.0\n",
              "Name: duration, dtype: float64"
            ]
          },
          "metadata": {},
          "execution_count": 33
        }
      ],
      "source": [
        "# Checking if target y = no when duration is 0 in all such records.\n",
        "print(bank_data['y'][bank_data['duration']==0].unique()) # Result is true and as expected.\n",
        "\n",
        "# Percentile distribution and summary statistics\n",
        "print(bank_data['duration'].min())\n",
        "print(bank_data['duration'].max())\n",
        "print(bank_data['duration'].mean())\n",
        "print(bank_data['duration'].median())\n",
        "print(bank_data['duration'].var())\n",
        "print(bank_data['duration'].std())\n",
        "\n",
        "print(bank_data['duration'].isnull().sum()) # No nulls\n",
        "\n",
        "dur_percentile = bank_data['duration'].quantile([0, 0.05, 0.10, 0.25, 0.40, 0.50, 0.75, 0.80, 0.90, 1.0])\n",
        "round(dur_percentile, 2)\n",
        "# Max value of 4918 seems much higher than the median value of 180, and 90 percentile value of 551\n",
        "\n"
      ]
    },
    {
      "cell_type": "code",
      "execution_count": null,
      "metadata": {
        "colab": {
          "base_uri": "https://localhost:8080/",
          "height": 282
        },
        "id": "4p-kjBBls6ud",
        "outputId": "d83d9567-8702-4bb3-ea61-f454e92fafbd"
      },
      "outputs": [
        {
          "output_type": "stream",
          "name": "stdout",
          "text": [
            "644.5\n"
          ]
        },
        {
          "output_type": "display_data",
          "data": {
            "text/plain": [
              "<Figure size 432x288 with 1 Axes>"
            ],
            "image/png": "[encoded data removed]"
          },
          "metadata": {
            "needs_background": "light"
          }
        }
      ],
      "source": [
        "# Boxplot\n",
        "plt.boxplot(bank_data['duration'])\n",
        "\n",
        "# boxplot clearly shows the presence of many outliers\n",
        "\n",
        "iqr = 319-102 \n",
        "max = 319 + (iqr*1.5)\n",
        "print(max)\n",
        "# max value as per boxplot should be around 644.50"
      ]
    },
    {
      "cell_type": "code",
      "execution_count": null,
      "metadata": {
        "colab": {
          "base_uri": "https://localhost:8080/"
        },
        "id": "lOr6AQbXvfap",
        "outputId": "77195ea6-3ae4-4361-d79f-9f3f6f18c863"
      },
      "outputs": [
        {
          "output_type": "execute_result",
          "data": {
            "text/plain": [
              "0.90     551.00\n",
              "0.91     581.00\n",
              "0.92     614.00\n",
              "0.93     653.00\n",
              "0.94     699.00\n",
              "0.95     752.65\n",
              "0.96     820.52\n",
              "0.97     911.00\n",
              "0.98    1052.26\n",
              "0.99    1271.13\n",
              "Name: duration, dtype: float64"
            ]
          },
          "metadata": {},
          "execution_count": 35
        }
      ],
      "source": [
        "# checking percentage of outliers\n",
        "dur_percentile = bank_data['duration'].quantile([0.90, 0.91, 0.92, 0.93, 0.94, 0.95, 0.96, 0.97, 0.98, 0.99])\n",
        "round(dur_percentile, 2)\n"
      ]
    },
    {
      "cell_type": "markdown",
      "metadata": {
        "id": "TkVN07ydxGR3"
      },
      "source": [
        "FINDINGS:\n",
        "considering 700 as maximum acceptable value,\n",
        "94 percentile values are within acceptable range. Beyond this, there are outliers.\n",
        "So outliers = 6%\n",
        "\n",
        "Data cleaning is required. Since, percent of outliers is less than 10%, we can impute them with median value (median = 180)."
      ]
    },
    {
      "cell_type": "markdown",
      "metadata": {
        "id": "zgk4rzhP1bbI"
      },
      "source": [
        "# 17. cons.price.idx\n",
        "cons.price.idx: consumer price index - monthly indicator (numeric)"
      ]
    },
    {
      "cell_type": "code",
      "execution_count": null,
      "metadata": {
        "colab": {
          "base_uri": "https://localhost:8080/"
        },
        "id": "-VDnj0wK1kD1",
        "outputId": "2b77d2b0-cbb1-4ed7-e020-8244e794fcb0"
      },
      "outputs": [
        {
          "output_type": "stream",
          "name": "stdout",
          "text": [
            "93.994    7763\n",
            "93.918    6685\n",
            "92.893    5794\n",
            "93.444    5175\n",
            "94.465    4374\n",
            "93.200    3616\n",
            "93.075    2458\n",
            "92.201     770\n",
            "92.963     715\n",
            "92.431     447\n",
            "92.649     357\n",
            "94.215     311\n",
            "94.199     303\n",
            "92.843     282\n",
            "92.379     267\n",
            "93.369     264\n",
            "94.027     233\n",
            "94.055     229\n",
            "93.876     212\n",
            "94.601     204\n",
            "92.469     178\n",
            "93.749     174\n",
            "92.713     172\n",
            "94.767     128\n",
            "93.798      67\n",
            "92.756      10\n",
            "Name: cons.price.idx, dtype: int64\n",
            "0\n"
          ]
        }
      ],
      "source": [
        "# Checking frequency table\n",
        "print(bank_data['cons.price.idx'].value_counts()) # Continuous variable\n",
        "\n",
        "print(bank_data['cons.price.idx'].isnull().sum()) # No null values"
      ]
    },
    {
      "cell_type": "code",
      "execution_count": null,
      "metadata": {
        "colab": {
          "base_uri": "https://localhost:8080/",
          "height": 699
        },
        "id": "AhQuFQuI3vD8",
        "outputId": "117cfd51-75cb-47c1-ab2d-42b6b5fb9adb"
      },
      "outputs": [
        {
          "output_type": "stream",
          "name": "stdout",
          "text": [
            "92.201\n",
            "94.767\n",
            "93.57566436826262\n",
            "93.749\n",
            "0.3350558022732152\n",
            "0.5788400489541262\n",
            "0.00    92.20\n",
            "0.05    92.71\n",
            "0.10    92.89\n",
            "0.25    93.08\n",
            "0.40    93.44\n",
            "0.50    93.75\n",
            "0.75    93.99\n",
            "0.80    93.99\n",
            "0.90    94.46\n",
            "1.00    94.77\n",
            "Name: cons.price.idx, dtype: float64\n"
          ]
        },
        {
          "output_type": "execute_result",
          "data": {
            "text/plain": [
              "{'whiskers': [<matplotlib.lines.Line2D at 0x7ff6084f3bd0>,\n",
              "  <matplotlib.lines.Line2D at 0x7ff6084f8150>],\n",
              " 'caps': [<matplotlib.lines.Line2D at 0x7ff6084f8690>,\n",
              "  <matplotlib.lines.Line2D at 0x7ff6084f8bd0>],\n",
              " 'boxes': [<matplotlib.lines.Line2D at 0x7ff6084f3690>],\n",
              " 'medians': [<matplotlib.lines.Line2D at 0x7ff6084ff190>],\n",
              " 'fliers': [<matplotlib.lines.Line2D at 0x7ff6084ff6d0>],\n",
              " 'means': []}"
            ]
          },
          "metadata": {},
          "execution_count": 37
        },
        {
          "output_type": "display_data",
          "data": {
            "text/plain": [
              "<Figure size 432x288 with 1 Axes>"
            ],
            "image/png": "[encoded data removed]"
          },
          "metadata": {
            "needs_background": "light"
          }
        }
      ],
      "source": [
        "# Percentile distribution and summary statistics\n",
        "print(bank_data['cons.price.idx'].min())\n",
        "print(bank_data['cons.price.idx'].max())\n",
        "print(bank_data['cons.price.idx'].mean())\n",
        "print(bank_data['cons.price.idx'].median())\n",
        "print(bank_data['cons.price.idx'].var())\n",
        "print(bank_data['cons.price.idx'].std())\n",
        "\n",
        "\n",
        "cons_percentile = bank_data['cons.price.idx'].quantile([0, 0.05, 0.10, 0.25, 0.40, 0.50, 0.75, 0.80, 0.90, 1.0])\n",
        "print(round(cons_percentile, 2))\n",
        "\n",
        "# Boxplot\n",
        "plt.boxplot(bank_data['cons.price.idx'])\n"
      ]
    },
    {
      "cell_type": "markdown",
      "metadata": {
        "id": "zBcB3j6B4fob"
      },
      "source": [
        "FINDINGS : All the values are evenly distributed. No outliers or missing values. Data is clean. No cleaning required."
      ]
    },
    {
      "cell_type": "markdown",
      "metadata": {
        "id": "rsoxS5_D5CQm"
      },
      "source": [
        "# 18. cons.conf.idx\n",
        "consumer confidence index - monthly indicator (numeric)"
      ]
    },
    {
      "cell_type": "code",
      "execution_count": null,
      "metadata": {
        "colab": {
          "base_uri": "https://localhost:8080/"
        },
        "id": "aQ3v4lu35OCc",
        "outputId": "b69549cb-2621-47ab-d419-c005564811eb"
      },
      "outputs": [
        {
          "output_type": "stream",
          "name": "stdout",
          "text": [
            "-36.4    7763\n",
            "-42.7    6685\n",
            "-46.2    5794\n",
            "-36.1    5175\n",
            "-41.8    4374\n",
            "-42.0    3616\n",
            "-47.1    2458\n",
            "-31.4     770\n",
            "-40.8     715\n",
            "-26.9     447\n",
            "-30.1     357\n",
            "-40.3     311\n",
            "-37.5     303\n",
            "-50.0     282\n",
            "-29.8     267\n",
            "-34.8     264\n",
            "-38.3     233\n",
            "-39.8     229\n",
            "-40.0     212\n",
            "-49.5     204\n",
            "-33.6     178\n",
            "-34.6     174\n",
            "-33.0     172\n",
            "-50.8     128\n",
            "-40.4      67\n",
            "-45.9      10\n",
            "Name: cons.conf.idx, dtype: int64\n",
            "0\n"
          ]
        }
      ],
      "source": [
        "# Checking frequency table\n",
        "print(bank_data['cons.conf.idx'].value_counts()) # Continuous variable\n",
        "\n",
        "print(bank_data['cons.conf.idx'].isnull().sum()) # No null values"
      ]
    },
    {
      "cell_type": "code",
      "execution_count": null,
      "metadata": {
        "colab": {
          "base_uri": "https://localhost:8080/",
          "height": 577
        },
        "id": "OGro78H95gO2",
        "outputId": "88c18426-4b75-48f9-fe18-d42c243daa69"
      },
      "outputs": [
        {
          "output_type": "stream",
          "name": "stdout",
          "text": [
            "-50.8\n",
            "-26.9\n",
            "-40.50260027192386\n",
            "-41.8\n",
            "21.42021539589864\n",
            "4.628197856174544\n",
            "0.00   -50.8\n",
            "0.05   -47.1\n",
            "0.10   -46.2\n",
            "0.25   -42.7\n",
            "0.40   -42.0\n",
            "0.50   -41.8\n",
            "0.75   -36.4\n",
            "0.80   -36.4\n",
            "0.90   -36.1\n",
            "1.00   -26.9\n",
            "Name: cons.conf.idx, dtype: float64\n",
            "1.09\n"
          ]
        },
        {
          "output_type": "display_data",
          "data": {
            "text/plain": [
              "<Figure size 432x288 with 1 Axes>"
            ],
            "image/png": "[encoded data removed]"
          },
          "metadata": {
            "needs_background": "light"
          }
        }
      ],
      "source": [
        "# Percentile distribution and summary statistics\n",
        "print(bank_data['cons.conf.idx'].min())\n",
        "print(bank_data['cons.conf.idx'].max())\n",
        "print(bank_data['cons.conf.idx'].mean())\n",
        "print(bank_data['cons.conf.idx'].median())\n",
        "print(bank_data['cons.conf.idx'].var())\n",
        "print(bank_data['cons.conf.idx'].std())\n",
        "\n",
        "\n",
        "cons_percentile = bank_data['cons.conf.idx'].quantile([0, 0.05, 0.10, 0.25, 0.40, 0.50, 0.75, 0.80, 0.90, 1.0])\n",
        "print(round(cons_percentile, 2))\n",
        "\n",
        "# Boxplot\n",
        "plt.boxplot(bank_data['cons.conf.idx'])\n",
        "\n",
        "# only one value -26.9 (which is the max value) seems like an outlier. Rest all are within range of -51 to -30\n",
        "# percentage of outlier =\n",
        "print(round(447*100/41188 ,2)) # 1.09%"
      ]
    },
    {
      "cell_type": "markdown",
      "metadata": {
        "id": "XSNdRk8W8XWD"
      },
      "source": [
        "FINDINGS : Outlier = 1.09%. Rest all seems fine.\n",
        "Data has to be cleaned. Impute with Median value."
      ]
    },
    {
      "cell_type": "markdown",
      "metadata": {
        "id": "mUT_783y85Ts"
      },
      "source": [
        "# 19. euribor3m\n",
        "euribor 3 month rate - daily indicator (numeric)"
      ]
    },
    {
      "cell_type": "code",
      "execution_count": null,
      "metadata": {
        "colab": {
          "base_uri": "https://localhost:8080/"
        },
        "id": "ffDTwPEn9Jro",
        "outputId": "8674e23b-0673-4988-a0ba-818812db6132"
      },
      "outputs": [
        {
          "output_type": "stream",
          "name": "stdout",
          "text": [
            "4.857    2868\n",
            "4.962    2613\n",
            "4.963    2487\n",
            "4.961    1902\n",
            "4.856    1210\n",
            "         ... \n",
            "3.853       1\n",
            "3.901       1\n",
            "0.969       1\n",
            "0.956       1\n",
            "3.669       1\n",
            "Name: euribor3m, Length: 316, dtype: int64\n",
            "0\n"
          ]
        }
      ],
      "source": [
        "# Checking frequency table\n",
        "print(bank_data['euribor3m'].value_counts()) # Continuous variable\n",
        "\n",
        "print(bank_data['euribor3m'].isnull().sum()) # No null values"
      ]
    },
    {
      "cell_type": "code",
      "execution_count": null,
      "metadata": {
        "colab": {
          "base_uri": "https://localhost:8080/",
          "height": 699
        },
        "id": "T6jLvKx29e6b",
        "outputId": "fbdec7f9-d984-413f-c498-7d59e7792be3"
      },
      "outputs": [
        {
          "output_type": "stream",
          "name": "stdout",
          "text": [
            "0.634\n",
            "5.045\n",
            "3.621290812858114\n",
            "4.857\n",
            "3.0083078001952948\n",
            "1.734447404851267\n",
            "0.00    0.63\n",
            "0.05    0.80\n",
            "0.10    1.05\n",
            "0.25    1.34\n",
            "0.40    4.19\n",
            "0.50    4.86\n",
            "0.75    4.96\n",
            "0.80    4.96\n",
            "0.90    4.96\n",
            "1.00    5.04\n",
            "Name: euribor3m, dtype: float64\n"
          ]
        },
        {
          "output_type": "execute_result",
          "data": {
            "text/plain": [
              "{'whiskers': [<matplotlib.lines.Line2D at 0x7ff60844ae90>,\n",
              "  <matplotlib.lines.Line2D at 0x7ff60844e410>],\n",
              " 'caps': [<matplotlib.lines.Line2D at 0x7ff60844e950>,\n",
              "  <matplotlib.lines.Line2D at 0x7ff60844ee90>],\n",
              " 'boxes': [<matplotlib.lines.Line2D at 0x7ff60844a9d0>],\n",
              " 'medians': [<matplotlib.lines.Line2D at 0x7ff608456450>],\n",
              " 'fliers': [<matplotlib.lines.Line2D at 0x7ff608456950>],\n",
              " 'means': []}"
            ]
          },
          "metadata": {},
          "execution_count": 41
        },
        {
          "output_type": "display_data",
          "data": {
            "text/plain": [
              "<Figure size 432x288 with 1 Axes>"
            ],
            "image/png": "[encoded data removed]"
          },
          "metadata": {
            "needs_background": "light"
          }
        }
      ],
      "source": [
        "# Percentile distribution and summary statistics\n",
        "print(bank_data['euribor3m'].min())\n",
        "print(bank_data['euribor3m'].max())\n",
        "print(bank_data['euribor3m'].mean())\n",
        "print(bank_data['euribor3m'].median())\n",
        "print(bank_data['euribor3m'].var())\n",
        "print(bank_data['euribor3m'].std())\n",
        "\n",
        "\n",
        "cons_percentile = bank_data['euribor3m'].quantile([0, 0.05, 0.10, 0.25, 0.40, 0.50, 0.75, 0.80, 0.90, 1.0])\n",
        "print(round(cons_percentile, 2))\n",
        "\n",
        "# Boxplot\n",
        "plt.boxplot(bank_data['euribor3m'])\n"
      ]
    },
    {
      "cell_type": "markdown",
      "metadata": {
        "id": "A8cLeMC3-mgS"
      },
      "source": [
        "FINDINGS: Data looks fine. No null values or outliers detected."
      ]
    },
    {
      "cell_type": "markdown",
      "metadata": {
        "id": "qTYTH5cZ-zI6"
      },
      "source": [
        "# 20. nr.employed\n",
        "number of employees - quarterly indicator (numeric)"
      ]
    },
    {
      "cell_type": "code",
      "execution_count": null,
      "metadata": {
        "colab": {
          "base_uri": "https://localhost:8080/"
        },
        "id": "PmQV-MMR-8wG",
        "outputId": "72a4c545-66f1-4c3e-d9ce-8a332bab9018"
      },
      "outputs": [
        {
          "output_type": "stream",
          "name": "stdout",
          "text": [
            "5228.1    16234\n",
            "5099.1     8534\n",
            "5191.0     7763\n",
            "5195.8     3683\n",
            "5076.2     1663\n",
            "5017.5     1071\n",
            "4991.6      773\n",
            "5008.7      650\n",
            "4963.6      635\n",
            "5023.5      172\n",
            "5176.3       10\n",
            "Name: nr.employed, dtype: int64\n",
            "0\n"
          ]
        }
      ],
      "source": [
        "# Checking frequency table\n",
        "print(bank_data['nr.employed'].value_counts()) # Continuous variable\n",
        "\n",
        "print(bank_data['nr.employed'].isnull().sum()) # No null values"
      ]
    },
    {
      "cell_type": "code",
      "execution_count": null,
      "metadata": {
        "colab": {
          "base_uri": "https://localhost:8080/",
          "height": 699
        },
        "id": "mNcl4FII_2S1",
        "outputId": "e7d4fbdb-70c7-46d4-a2e1-4aac379fb843"
      },
      "outputs": [
        {
          "output_type": "stream",
          "name": "stdout",
          "text": [
            "4963.6\n",
            "5228.1\n",
            "5167.035910944936\n",
            "5191.0\n",
            "5220.283250397495\n",
            "72.25152766826108\n",
            "0.00    4963.6\n",
            "0.05    5017.5\n",
            "0.10    5076.2\n",
            "0.25    5099.1\n",
            "0.40    5191.0\n",
            "0.50    5191.0\n",
            "0.75    5228.1\n",
            "0.80    5228.1\n",
            "0.90    5228.1\n",
            "1.00    5228.1\n",
            "Name: nr.employed, dtype: float64\n"
          ]
        },
        {
          "output_type": "execute_result",
          "data": {
            "text/plain": [
              "{'whiskers': [<matplotlib.lines.Line2D at 0x7ff6083b5b90>,\n",
              "  <matplotlib.lines.Line2D at 0x7ff6083bc110>],\n",
              " 'caps': [<matplotlib.lines.Line2D at 0x7ff6083bc650>,\n",
              "  <matplotlib.lines.Line2D at 0x7ff6083bcb90>],\n",
              " 'boxes': [<matplotlib.lines.Line2D at 0x7ff6083b5650>],\n",
              " 'medians': [<matplotlib.lines.Line2D at 0x7ff6083c4150>],\n",
              " 'fliers': [<matplotlib.lines.Line2D at 0x7ff6083c4690>],\n",
              " 'means': []}"
            ]
          },
          "metadata": {},
          "execution_count": 43
        },
        {
          "output_type": "display_data",
          "data": {
            "text/plain": [
              "<Figure size 432x288 with 1 Axes>"
            ],
            "image/png": "[encoded data removed]"
          },
          "metadata": {
            "needs_background": "light"
          }
        }
      ],
      "source": [
        "# Percentile distribution and summary statistics\n",
        "print(bank_data['nr.employed'].min())\n",
        "print(bank_data['nr.employed'].max())\n",
        "print(bank_data['nr.employed'].mean())\n",
        "print(bank_data['nr.employed'].median())\n",
        "print(bank_data['nr.employed'].var())\n",
        "print(bank_data['nr.employed'].std())\n",
        "\n",
        "\n",
        "cons_percentile = bank_data['nr.employed'].quantile([0, 0.05, 0.10, 0.25, 0.40, 0.50, 0.75, 0.80, 0.90, 1.0])\n",
        "print(round(cons_percentile, 2))\n",
        "\n",
        "# Boxplot\n",
        "plt.boxplot(bank_data['nr.employed'])"
      ]
    },
    {
      "cell_type": "markdown",
      "metadata": {
        "id": "OMjNQjK-Au82"
      },
      "source": [
        "FINDINGS: Data looks fine. No null values or outliers detected."
      ]
    },
    {
      "cell_type": "markdown",
      "metadata": {
        "id": "do5iPQI1pOz6"
      },
      "source": [
        "# Target Variable"
      ]
    },
    {
      "cell_type": "markdown",
      "metadata": {
        "id": "0w9vlHnquXu5"
      },
      "source": [
        "# 21. y (Target)\n",
        "Target/Output variable. Has the client subscribed a term deposit? (binary: 'yes', 'no'). Categorical variable"
      ]
    },
    {
      "cell_type": "code",
      "execution_count": null,
      "metadata": {
        "colab": {
          "base_uri": "https://localhost:8080/",
          "height": 348
        },
        "id": "rN074wYSvF83",
        "outputId": "8034216e-a916-4403-cb82-9250ca7837f8"
      },
      "outputs": [
        {
          "output_type": "stream",
          "name": "stdout",
          "text": [
            "no     36548\n",
            "yes     4640\n",
            "Name: y, dtype: int64\n"
          ]
        },
        {
          "output_type": "execute_result",
          "data": {
            "text/plain": [
              "<matplotlib.axes._subplots.AxesSubplot at 0x7ff608364e50>"
            ]
          },
          "metadata": {},
          "execution_count": 44
        },
        {
          "output_type": "display_data",
          "data": {
            "text/plain": [
              "<Figure size 432x288 with 1 Axes>"
            ],
            "image/png": "[encoded data removed]"
          },
          "metadata": {
            "needs_background": "light"
          }
        }
      ],
      "source": [
        "# Frequency table to analyze data\n",
        "print(bank_data['y'].value_counts())\n",
        "sns.countplot(y = 'y', data = bank_data)\n"
      ]
    },
    {
      "cell_type": "markdown",
      "metadata": {
        "id": "J4UGZoRrm-bh"
      },
      "source": [
        "FINDINGS : Variable is clean. No cleaning is required."
      ]
    },
    {
      "cell_type": "markdown",
      "metadata": {
        "id": "-EPlIzkSuFf6"
      },
      "source": [
        "# DATA CLEANING AND DATA PREPARATION"
      ]
    },
    {
      "cell_type": "markdown",
      "metadata": {
        "id": "BTwgNZlnp8C4"
      },
      "source": [
        "# Continuous Variables Cleaning\n"
      ]
    },
    {
      "cell_type": "markdown",
      "source": [
        "* Find out the percentage of data with issues.\n",
        "* If the %age of data with issue is greater than 50%, the we cannot use that variable as it has skewed data. Better to create a flag variable. Flag variable = 1 when proper data is present, flag variable = 0 when data has issues.\n",
        "* If %age is less than 10% then we can replace the data with issues with the median value.\n",
        "* If the %age is between 10% and 50%, we replace the value with median as well as create a flag variable. We should be careful when using this variable."
      ],
      "metadata": {
        "id": "TKj-mBXTiEqS"
      }
    },
    {
      "cell_type": "markdown",
      "metadata": {
        "id": "3Cx6BwvGzu4C"
      },
      "source": [
        "# 11. 'duration' Cleaning"
      ]
    },
    {
      "cell_type": "code",
      "execution_count": null,
      "metadata": {
        "colab": {
          "base_uri": "https://localhost:8080/",
          "height": 855
        },
        "id": "0qUJKLisuP6C",
        "outputId": "d00d7fdb-e2ed-4f6d-9236-d71df96c2ed8"
      },
      "outputs": [
        {
          "output_type": "stream",
          "name": "stdout",
          "text": [
            "0.00      0.00\n",
            "0.10     59.00\n",
            "0.20     89.00\n",
            "0.30    116.00\n",
            "0.40    146.00\n",
            "0.50    180.00\n",
            "0.60    196.00\n",
            "0.70    243.00\n",
            "0.80    311.00\n",
            "0.90    422.00\n",
            "0.91    439.17\n",
            "0.92    459.00\n",
            "0.93    479.00\n",
            "0.94    501.00\n",
            "0.95    525.00\n",
            "0.96    552.00\n",
            "0.97    583.00\n",
            "0.98    616.00\n",
            "0.99    655.00\n",
            "1.00    700.00\n",
            "Name: duration_new, dtype: float64\n"
          ]
        },
        {
          "output_type": "stream",
          "name": "stderr",
          "text": [
            "/usr/local/lib/python3.7/dist-packages/ipykernel_launcher.py:6: SettingWithCopyWarning: \n",
            "A value is trying to be set on a copy of a slice from a DataFrame\n",
            "\n",
            "See the caveats in the documentation: https://pandas.pydata.org/pandas-docs/stable/user_guide/indexing.html#returning-a-view-versus-a-copy\n",
            "  \n"
          ]
        },
        {
          "output_type": "execute_result",
          "data": {
            "text/plain": [
              "{'whiskers': [<matplotlib.lines.Line2D at 0x7ff608743850>,\n",
              "  <matplotlib.lines.Line2D at 0x7ff60872f8d0>],\n",
              " 'caps': [<matplotlib.lines.Line2D at 0x7ff608674cd0>,\n",
              "  <matplotlib.lines.Line2D at 0x7ff6086d6690>],\n",
              " 'boxes': [<matplotlib.lines.Line2D at 0x7ff608751b10>],\n",
              " 'medians': [<matplotlib.lines.Line2D at 0x7ff608d28c10>],\n",
              " 'fliers': [<matplotlib.lines.Line2D at 0x7ff608b0c210>],\n",
              " 'means': []}"
            ]
          },
          "metadata": {},
          "execution_count": 45
        },
        {
          "output_type": "display_data",
          "data": {
            "text/plain": [
              "<Figure size 432x288 with 1 Axes>"
            ],
            "image/png": "[encoded data removed]"
          },
          "metadata": {
            "needs_background": "light"
          }
        }
      ],
      "source": [
        "# 6% outliers. For values > 700, perform stand-alone imputation. \n",
        "# Create a new field. Update new field value to median value where duration > 700\n",
        "\n",
        "bank_data['duration_new'] = bank_data['duration']\n",
        "duration_median = bank_data['duration'].median()\n",
        "bank_data['duration_new'][bank_data['duration']>700] = duration_median\n",
        "\n",
        "# percentile distribution of new variable\n",
        "dur_new_percent = bank_data['duration_new'].quantile([0, 0.1, 0.2, 0.3, 0.4, 0.5, 0.6, 0.7, 0.8, 0.9, 0.91, 0.92, 0.93, 0.94, 0.95, 0.96, 0.97, 0.98, 0.99, 1.0])\n",
        "print(dur_new_percent)\n",
        "plt.boxplot(bank_data['duration_new'])"
      ]
    },
    {
      "cell_type": "markdown",
      "metadata": {
        "id": "nBZP5fYtTL3Z"
      },
      "source": [
        "# 18. 'cons.conf.idx' cleaning"
      ]
    },
    {
      "cell_type": "code",
      "execution_count": null,
      "metadata": {
        "colab": {
          "base_uri": "https://localhost:8080/",
          "height": 855
        },
        "id": "j-B2cvuSuP9b",
        "outputId": "99aade66-d644-42c8-91fc-a9a0ce192948"
      },
      "outputs": [
        {
          "output_type": "stream",
          "name": "stdout",
          "text": [
            "0.00   -50.80\n",
            "0.10   -46.20\n",
            "0.20   -46.20\n",
            "0.30   -42.70\n",
            "0.40   -42.00\n",
            "0.50   -41.80\n",
            "0.60   -40.72\n",
            "0.70   -36.40\n",
            "0.80   -36.40\n",
            "0.90   -36.10\n",
            "0.91   -36.10\n",
            "0.92   -36.10\n",
            "0.93   -36.10\n",
            "0.94   -36.10\n",
            "0.95   -34.80\n",
            "0.96   -33.60\n",
            "0.97   -31.40\n",
            "0.98   -31.40\n",
            "0.99   -30.10\n",
            "1.00   -29.80\n",
            "Name: cons_conf_new, dtype: float64\n"
          ]
        },
        {
          "output_type": "stream",
          "name": "stderr",
          "text": [
            "/usr/local/lib/python3.7/dist-packages/ipykernel_launcher.py:6: SettingWithCopyWarning: \n",
            "A value is trying to be set on a copy of a slice from a DataFrame\n",
            "\n",
            "See the caveats in the documentation: https://pandas.pydata.org/pandas-docs/stable/user_guide/indexing.html#returning-a-view-versus-a-copy\n",
            "  \n"
          ]
        },
        {
          "output_type": "execute_result",
          "data": {
            "text/plain": [
              "{'whiskers': [<matplotlib.lines.Line2D at 0x7ff60871e350>,\n",
              "  <matplotlib.lines.Line2D at 0x7ff6083d9290>],\n",
              " 'caps': [<matplotlib.lines.Line2D at 0x7ff6083c4cd0>,\n",
              "  <matplotlib.lines.Line2D at 0x7ff6086b3290>],\n",
              " 'boxes': [<matplotlib.lines.Line2D at 0x7ff608332710>],\n",
              " 'medians': [<matplotlib.lines.Line2D at 0x7ff608461ed0>],\n",
              " 'fliers': [<matplotlib.lines.Line2D at 0x7ff608461690>],\n",
              " 'means': []}"
            ]
          },
          "metadata": {},
          "execution_count": 46
        },
        {
          "output_type": "display_data",
          "data": {
            "text/plain": [
              "<Figure size 432x288 with 1 Axes>"
            ],
            "image/png": "[encoded data removed]"
          },
          "metadata": {
            "needs_background": "light"
          }
        }
      ],
      "source": [
        "# 1.09 % outliers. For values = -26.9, perform stand-alone imputation. \n",
        "# Create a new field. Update new field value to median value where cons.conf.idx = -26.9\n",
        "\n",
        "bank_data['cons_conf_new'] = bank_data['cons.conf.idx']\n",
        "cons_conf_median = bank_data['cons.conf.idx'].median()\n",
        "bank_data['cons_conf_new'][bank_data['cons.conf.idx']== -26.9] = cons_conf_median\n",
        "\n",
        "# percentile distribution of new variable\n",
        "cons_conf_new_percent = bank_data['cons_conf_new'].quantile([0, 0.1, 0.2, 0.3, 0.4, 0.5, 0.6, 0.7, 0.8, 0.9, 0.91, 0.92, 0.93, 0.94, 0.95, 0.96, 0.97, 0.98, 0.99, 1.0])\n",
        "print(cons_conf_new_percent)\n",
        "plt.boxplot(bank_data['cons_conf_new'])\n"
      ]
    },
    {
      "cell_type": "markdown",
      "metadata": {
        "id": "he0DGlFId3y1"
      },
      "source": [
        "# Categorical and Discrete variable cleaning "
      ]
    },
    {
      "cell_type": "markdown",
      "source": [
        "* FInd out the percentage of data with issues.\n",
        "* If %age is greater than 50%, then create a flag variable. Do not use the original variable.\n",
        "* When %age is less than 10%, we do target based imputation. Replace the values with issue with the imputed values.\n",
        "* When %age is between 10% and 50%, create a flag variable as well as impute the data. We need to be careful when using the imputed data.\n",
        "\n",
        "Imputation : Do a cross tab with the target variable. See the percentage of 1s and 0s category for each category and issue category. The closest matching percentage distribution is selected to replace the data with issues."
      ],
      "metadata": {
        "id": "gZGooK6pk4Dx"
      }
    },
    {
      "cell_type": "markdown",
      "metadata": {
        "id": "grcCkHBneSUR"
      },
      "source": [
        "# 2. 'job' cleaning\n",
        "\n",
        "Target based imputation needs to be done.\n",
        "Target is y."
      ]
    },
    {
      "cell_type": "code",
      "execution_count": null,
      "metadata": {
        "colab": {
          "base_uri": "https://localhost:8080/",
          "height": 457
        },
        "id": "iG4j9g0Do5bz",
        "outputId": "24cdbf96-3f7c-4243-8cb5-1381442e2425"
      },
      "outputs": [
        {
          "output_type": "execute_result",
          "data": {
            "text/plain": [
              "y                no   yes\n",
              "job                      \n",
              "admin.         0.87  0.13\n",
              "blue-collar    0.93  0.07\n",
              "entrepreneur   0.91  0.09\n",
              "housemaid      0.90  0.10\n",
              "management     0.89  0.11\n",
              "retired        0.75  0.25\n",
              "self-employed  0.90  0.10\n",
              "services       0.92  0.08\n",
              "student        0.69  0.31\n",
              "technician     0.89  0.11\n",
              "unemployed     0.86  0.14\n",
              "unknown        0.89  0.11"
            ],
            "text/html": [
              "\n",
              "  <div id=\"df-b5879aaa-ff35-4188-a835-35cf73868fa2\">\n",
              "    <div class=\"colab-df-container\">\n",
              "      <div>\n",
              "<style scoped>\n",
              "    .dataframe tbody tr th:only-of-type {\n",
              "        vertical-align: middle;\n",
              "    }\n",
              "\n",
              "    .dataframe tbody tr th {\n",
              "        vertical-align: top;\n",
              "    }\n",
              "\n",
              "    .dataframe thead th {\n",
              "        text-align: right;\n",
              "    }\n",
              "</style>\n",
              "<table border=\"1\" class=\"dataframe\">\n",
              "  <thead>\n",
              "    <tr style=\"text-align: right;\">\n",
              "      <th>y</th>\n",
              "      <th>no</th>\n",
              "      <th>yes</th>\n",
              "    </tr>\n",
              "    <tr>\n",
              "      <th>job</th>\n",
              "      <th></th>\n",
              "      <th></th>\n",
              "    </tr>\n",
              "  </thead>\n",
              "  <tbody>\n",
              "    <tr>\n",
              "      <th>admin.</th>\n",
              "      <td>0.87</td>\n",
              "      <td>0.13</td>\n",
              "    </tr>\n",
              "    <tr>\n",
              "      <th>blue-collar</th>\n",
              "      <td>0.93</td>\n",
              "      <td>0.07</td>\n",
              "    </tr>\n",
              "    <tr>\n",
              "      <th>entrepreneur</th>\n",
              "      <td>0.91</td>\n",
              "      <td>0.09</td>\n",
              "    </tr>\n",
              "    <tr>\n",
              "      <th>housemaid</th>\n",
              "      <td>0.90</td>\n",
              "      <td>0.10</td>\n",
              "    </tr>\n",
              "    <tr>\n",
              "      <th>management</th>\n",
              "      <td>0.89</td>\n",
              "      <td>0.11</td>\n",
              "    </tr>\n",
              "    <tr>\n",
              "      <th>retired</th>\n",
              "      <td>0.75</td>\n",
              "      <td>0.25</td>\n",
              "    </tr>\n",
              "    <tr>\n",
              "      <th>self-employed</th>\n",
              "      <td>0.90</td>\n",
              "      <td>0.10</td>\n",
              "    </tr>\n",
              "    <tr>\n",
              "      <th>services</th>\n",
              "      <td>0.92</td>\n",
              "      <td>0.08</td>\n",
              "    </tr>\n",
              "    <tr>\n",
              "      <th>student</th>\n",
              "      <td>0.69</td>\n",
              "      <td>0.31</td>\n",
              "    </tr>\n",
              "    <tr>\n",
              "      <th>technician</th>\n",
              "      <td>0.89</td>\n",
              "      <td>0.11</td>\n",
              "    </tr>\n",
              "    <tr>\n",
              "      <th>unemployed</th>\n",
              "      <td>0.86</td>\n",
              "      <td>0.14</td>\n",
              "    </tr>\n",
              "    <tr>\n",
              "      <th>unknown</th>\n",
              "      <td>0.89</td>\n",
              "      <td>0.11</td>\n",
              "    </tr>\n",
              "  </tbody>\n",
              "</table>\n",
              "</div>\n",
              "      <button class=\"colab-df-convert\" onclick=\"convertToInteractive('df-b5879aaa-ff35-4188-a835-35cf73868fa2')\"\n",
              "              title=\"Convert this dataframe to an interactive table.\"\n",
              "              style=\"display:none;\">\n",
              "        \n",
              "  <svg xmlns=\"http://www.w3.org/2000/svg\" height=\"24px\"viewBox=\"0 0 24 24\"\n",
              "       width=\"24px\">\n",
              "    <path d=\"M0 0h24v24H0V0z\" fill=\"none\"/>\n",
              "    <path d=\"M18.56 5.44l.94 2.06.94-2.06 2.06-.94-2.06-.94-.94-2.06-.94 2.06-2.06.94zm-11 1L8.5 8.5l.94-2.06 2.06-.94-2.06-.94L8.5 2.5l-.94 2.06-2.06.94zm10 10l.94 2.06.94-2.06 2.06-.94-2.06-.94-.94-2.06-.94 2.06-2.06.94z\"/><path d=\"M17.41 7.96l-1.37-1.37c-.4-.4-.92-.59-1.43-.59-.52 0-1.04.2-1.43.59L10.3 9.45l-7.72 7.72c-.78.78-.78 2.05 0 2.83L4 21.41c.39.39.9.59 1.41.59.51 0 1.02-.2 1.41-.59l7.78-7.78 2.81-2.81c.8-.78.8-2.07 0-2.86zM5.41 20L4 18.59l7.72-7.72 1.47 1.35L5.41 20z\"/>\n",
              "  </svg>\n",
              "      </button>\n",
              "      \n",
              "  <style>\n",
              "    .colab-df-container {\n",
              "      display:flex;\n",
              "      flex-wrap:wrap;\n",
              "      gap: 12px;\n",
              "    }\n",
              "\n",
              "    .colab-df-convert {\n",
              "      background-color: #E8F0FE;\n",
              "      border: none;\n",
              "      border-radius: 50%;\n",
              "      cursor: pointer;\n",
              "      display: none;\n",
              "      fill: #1967D2;\n",
              "      height: 32px;\n",
              "      padding: 0 0 0 0;\n",
              "      width: 32px;\n",
              "    }\n",
              "\n",
              "    .colab-df-convert:hover {\n",
              "      background-color: #E2EBFA;\n",
              "      box-shadow: 0px 1px 2px rgba(60, 64, 67, 0.3), 0px 1px 3px 1px rgba(60, 64, 67, 0.15);\n",
              "      fill: #174EA6;\n",
              "    }\n",
              "\n",
              "    [theme=dark] .colab-df-convert {\n",
              "      background-color: #3B4455;\n",
              "      fill: #D2E3FC;\n",
              "    }\n",
              "\n",
              "    [theme=dark] .colab-df-convert:hover {\n",
              "      background-color: #434B5C;\n",
              "      box-shadow: 0px 1px 3px 1px rgba(0, 0, 0, 0.15);\n",
              "      filter: drop-shadow(0px 1px 2px rgba(0, 0, 0, 0.3));\n",
              "      fill: #FFFFFF;\n",
              "    }\n",
              "  </style>\n",
              "\n",
              "      <script>\n",
              "        const buttonEl =\n",
              "          document.querySelector('#df-b5879aaa-ff35-4188-a835-35cf73868fa2 button.colab-df-convert');\n",
              "        buttonEl.style.display =\n",
              "          google.colab.kernel.accessAllowed ? 'block' : 'none';\n",
              "\n",
              "        async function convertToInteractive(key) {\n",
              "          const element = document.querySelector('#df-b5879aaa-ff35-4188-a835-35cf73868fa2');\n",
              "          const dataTable =\n",
              "            await google.colab.kernel.invokeFunction('convertToInteractive',\n",
              "                                                     [key], {});\n",
              "          if (!dataTable) return;\n",
              "\n",
              "          const docLinkHtml = 'Like what you see? Visit the ' +\n",
              "            '<a target=\"_blank\" href=https://colab.research.google.com/notebooks/data_table.ipynb>data table notebook</a>'\n",
              "            + ' to learn more about interactive tables.';\n",
              "          element.innerHTML = '';\n",
              "          dataTable['output_type'] = 'display_data';\n",
              "          await google.colab.output.renderOutput(dataTable, element);\n",
              "          const docLink = document.createElement('div');\n",
              "          docLink.innerHTML = docLinkHtml;\n",
              "          element.appendChild(docLink);\n",
              "        }\n",
              "      </script>\n",
              "    </div>\n",
              "  </div>\n",
              "  "
            ]
          },
          "metadata": {},
          "execution_count": 47
        }
      ],
      "source": [
        "crosstab_job = pd.crosstab(bank_data['job'], bank_data['y'])\n",
        "crosstab_job\n",
        "crosstab_job_perc = crosstab_job.apply(lambda x: x/x.sum(), axis=1)\n",
        "round(crosstab_job_perc, 2)"
      ]
    },
    {
      "cell_type": "markdown",
      "metadata": {
        "id": "rfx14Pslx6LO"
      },
      "source": [
        "Closest match = technician and management"
      ]
    },
    {
      "cell_type": "code",
      "execution_count": null,
      "metadata": {
        "colab": {
          "base_uri": "https://localhost:8080/"
        },
        "id": "wOsrjsXjy4Zw",
        "outputId": "efd518ca-f646-4948-d526-74038cb85b9a"
      },
      "outputs": [
        {
          "output_type": "stream",
          "name": "stdout",
          "text": [
            "admin.           10422\n",
            "blue-collar       9254\n",
            "technician        7073\n",
            "services          3969\n",
            "management        2924\n",
            "retired           1720\n",
            "entrepreneur      1456\n",
            "self-employed     1421\n",
            "housemaid         1060\n",
            "unemployed        1014\n",
            "student            875\n",
            "Name: job_new, dtype: int64\n"
          ]
        },
        {
          "output_type": "stream",
          "name": "stderr",
          "text": [
            "/usr/local/lib/python3.7/dist-packages/ipykernel_launcher.py:5: SettingWithCopyWarning: \n",
            "A value is trying to be set on a copy of a slice from a DataFrame\n",
            "\n",
            "See the caveats in the documentation: https://pandas.pydata.org/pandas-docs/stable/user_guide/indexing.html#returning-a-view-versus-a-copy\n",
            "  \"\"\"\n"
          ]
        }
      ],
      "source": [
        "# Create new column and replace unknown with imputed value\n",
        "# replacing with technician\n",
        "\n",
        "bank_data['job_new'] = bank_data['job']\n",
        "bank_data['job_new'][bank_data['job']=='unknown'] = 'technician'\n",
        "print(bank_data['job_new'].value_counts())"
      ]
    },
    {
      "cell_type": "markdown",
      "metadata": {
        "id": "I0E2bBihovzc"
      },
      "source": [
        "# 3. 'marital' cleaning\n",
        "Target based imputation to be done."
      ]
    },
    {
      "cell_type": "code",
      "execution_count": null,
      "metadata": {
        "colab": {
          "base_uri": "https://localhost:8080/",
          "height": 206
        },
        "id": "daxu7KTe4BFy",
        "outputId": "f36853d6-3c4c-4a1b-c916-09f848cebc4d"
      },
      "outputs": [
        {
          "output_type": "execute_result",
          "data": {
            "text/plain": [
              "y           no   yes\n",
              "marital             \n",
              "divorced  0.90  0.10\n",
              "married   0.90  0.10\n",
              "single    0.86  0.14\n",
              "unknown   0.85  0.15"
            ],
            "text/html": [
              "\n",
              "  <div id=\"df-02ef1cc4-ce24-4ecd-adaf-dd8c72cf9c6e\">\n",
              "    <div class=\"colab-df-container\">\n",
              "      <div>\n",
              "<style scoped>\n",
              "    .dataframe tbody tr th:only-of-type {\n",
              "        vertical-align: middle;\n",
              "    }\n",
              "\n",
              "    .dataframe tbody tr th {\n",
              "        vertical-align: top;\n",
              "    }\n",
              "\n",
              "    .dataframe thead th {\n",
              "        text-align: right;\n",
              "    }\n",
              "</style>\n",
              "<table border=\"1\" class=\"dataframe\">\n",
              "  <thead>\n",
              "    <tr style=\"text-align: right;\">\n",
              "      <th>y</th>\n",
              "      <th>no</th>\n",
              "      <th>yes</th>\n",
              "    </tr>\n",
              "    <tr>\n",
              "      <th>marital</th>\n",
              "      <th></th>\n",
              "      <th></th>\n",
              "    </tr>\n",
              "  </thead>\n",
              "  <tbody>\n",
              "    <tr>\n",
              "      <th>divorced</th>\n",
              "      <td>0.90</td>\n",
              "      <td>0.10</td>\n",
              "    </tr>\n",
              "    <tr>\n",
              "      <th>married</th>\n",
              "      <td>0.90</td>\n",
              "      <td>0.10</td>\n",
              "    </tr>\n",
              "    <tr>\n",
              "      <th>single</th>\n",
              "      <td>0.86</td>\n",
              "      <td>0.14</td>\n",
              "    </tr>\n",
              "    <tr>\n",
              "      <th>unknown</th>\n",
              "      <td>0.85</td>\n",
              "      <td>0.15</td>\n",
              "    </tr>\n",
              "  </tbody>\n",
              "</table>\n",
              "</div>\n",
              "      <button class=\"colab-df-convert\" onclick=\"convertToInteractive('df-02ef1cc4-ce24-4ecd-adaf-dd8c72cf9c6e')\"\n",
              "              title=\"Convert this dataframe to an interactive table.\"\n",
              "              style=\"display:none;\">\n",
              "        \n",
              "  <svg xmlns=\"http://www.w3.org/2000/svg\" height=\"24px\"viewBox=\"0 0 24 24\"\n",
              "       width=\"24px\">\n",
              "    <path d=\"M0 0h24v24H0V0z\" fill=\"none\"/>\n",
              "    <path d=\"M18.56 5.44l.94 2.06.94-2.06 2.06-.94-2.06-.94-.94-2.06-.94 2.06-2.06.94zm-11 1L8.5 8.5l.94-2.06 2.06-.94-2.06-.94L8.5 2.5l-.94 2.06-2.06.94zm10 10l.94 2.06.94-2.06 2.06-.94-2.06-.94-.94-2.06-.94 2.06-2.06.94z\"/><path d=\"M17.41 7.96l-1.37-1.37c-.4-.4-.92-.59-1.43-.59-.52 0-1.04.2-1.43.59L10.3 9.45l-7.72 7.72c-.78.78-.78 2.05 0 2.83L4 21.41c.39.39.9.59 1.41.59.51 0 1.02-.2 1.41-.59l7.78-7.78 2.81-2.81c.8-.78.8-2.07 0-2.86zM5.41 20L4 18.59l7.72-7.72 1.47 1.35L5.41 20z\"/>\n",
              "  </svg>\n",
              "      </button>\n",
              "      \n",
              "  <style>\n",
              "    .colab-df-container {\n",
              "      display:flex;\n",
              "      flex-wrap:wrap;\n",
              "      gap: 12px;\n",
              "    }\n",
              "\n",
              "    .colab-df-convert {\n",
              "      background-color: #E8F0FE;\n",
              "      border: none;\n",
              "      border-radius: 50%;\n",
              "      cursor: pointer;\n",
              "      display: none;\n",
              "      fill: #1967D2;\n",
              "      height: 32px;\n",
              "      padding: 0 0 0 0;\n",
              "      width: 32px;\n",
              "    }\n",
              "\n",
              "    .colab-df-convert:hover {\n",
              "      background-color: #E2EBFA;\n",
              "      box-shadow: 0px 1px 2px rgba(60, 64, 67, 0.3), 0px 1px 3px 1px rgba(60, 64, 67, 0.15);\n",
              "      fill: #174EA6;\n",
              "    }\n",
              "\n",
              "    [theme=dark] .colab-df-convert {\n",
              "      background-color: #3B4455;\n",
              "      fill: #D2E3FC;\n",
              "    }\n",
              "\n",
              "    [theme=dark] .colab-df-convert:hover {\n",
              "      background-color: #434B5C;\n",
              "      box-shadow: 0px 1px 3px 1px rgba(0, 0, 0, 0.15);\n",
              "      filter: drop-shadow(0px 1px 2px rgba(0, 0, 0, 0.3));\n",
              "      fill: #FFFFFF;\n",
              "    }\n",
              "  </style>\n",
              "\n",
              "      <script>\n",
              "        const buttonEl =\n",
              "          document.querySelector('#df-02ef1cc4-ce24-4ecd-adaf-dd8c72cf9c6e button.colab-df-convert');\n",
              "        buttonEl.style.display =\n",
              "          google.colab.kernel.accessAllowed ? 'block' : 'none';\n",
              "\n",
              "        async function convertToInteractive(key) {\n",
              "          const element = document.querySelector('#df-02ef1cc4-ce24-4ecd-adaf-dd8c72cf9c6e');\n",
              "          const dataTable =\n",
              "            await google.colab.kernel.invokeFunction('convertToInteractive',\n",
              "                                                     [key], {});\n",
              "          if (!dataTable) return;\n",
              "\n",
              "          const docLinkHtml = 'Like what you see? Visit the ' +\n",
              "            '<a target=\"_blank\" href=https://colab.research.google.com/notebooks/data_table.ipynb>data table notebook</a>'\n",
              "            + ' to learn more about interactive tables.';\n",
              "          element.innerHTML = '';\n",
              "          dataTable['output_type'] = 'display_data';\n",
              "          await google.colab.output.renderOutput(dataTable, element);\n",
              "          const docLink = document.createElement('div');\n",
              "          docLink.innerHTML = docLinkHtml;\n",
              "          element.appendChild(docLink);\n",
              "        }\n",
              "      </script>\n",
              "    </div>\n",
              "  </div>\n",
              "  "
            ]
          },
          "metadata": {},
          "execution_count": 49
        }
      ],
      "source": [
        "crosstab_marital = pd.crosstab(bank_data['marital'], bank_data['y'])\n",
        "crosstab_marital\n",
        "crosstab_marital_prec = crosstab_marital.apply(lambda x: x/x.sum(), axis=1)\n",
        "round(crosstab_marital_prec, 2)"
      ]
    },
    {
      "cell_type": "markdown",
      "metadata": {
        "id": "UHy8u2EcDL0a"
      },
      "source": [
        "Closest match = single"
      ]
    },
    {
      "cell_type": "code",
      "execution_count": null,
      "metadata": {
        "colab": {
          "base_uri": "https://localhost:8080/"
        },
        "id": "G32Bqmi8DazY",
        "outputId": "57b08255-f3c6-4bcf-8159-dbc911acf54a"
      },
      "outputs": [
        {
          "output_type": "stream",
          "name": "stdout",
          "text": [
            "married     24928\n",
            "single      11648\n",
            "divorced     4612\n",
            "Name: marital_new, dtype: int64\n"
          ]
        },
        {
          "output_type": "stream",
          "name": "stderr",
          "text": [
            "/usr/local/lib/python3.7/dist-packages/ipykernel_launcher.py:4: SettingWithCopyWarning: \n",
            "A value is trying to be set on a copy of a slice from a DataFrame\n",
            "\n",
            "See the caveats in the documentation: https://pandas.pydata.org/pandas-docs/stable/user_guide/indexing.html#returning-a-view-versus-a-copy\n",
            "  after removing the cwd from sys.path.\n"
          ]
        }
      ],
      "source": [
        "# Create new column and replace unknown with imputed value\n",
        "\n",
        "bank_data['marital_new'] = bank_data['marital']\n",
        "bank_data['marital_new'][bank_data['marital']=='unknown'] = 'single'\n",
        "print(bank_data['marital_new'].value_counts())"
      ]
    },
    {
      "cell_type": "markdown",
      "metadata": {
        "id": "dEmUfRxcDvjj"
      },
      "source": [
        "# 4. 'education' cleaning\n",
        "\n",
        "Target based imputation to be done"
      ]
    },
    {
      "cell_type": "code",
      "execution_count": null,
      "metadata": {
        "colab": {
          "base_uri": "https://localhost:8080/",
          "height": 332
        },
        "id": "UPBgbEqVD_WI",
        "outputId": "1c1df91e-cf0d-400a-8780-a7423dd2faba"
      },
      "outputs": [
        {
          "output_type": "execute_result",
          "data": {
            "text/plain": [
              "y                      no   yes\n",
              "education                      \n",
              "basic.4y             0.90  0.10\n",
              "basic.6y             0.92  0.08\n",
              "basic.9y             0.92  0.08\n",
              "high.school          0.89  0.11\n",
              "illiterate           0.78  0.22\n",
              "professional.course  0.89  0.11\n",
              "university.degree    0.86  0.14\n",
              "unknown              0.85  0.15"
            ],
            "text/html": [
              "\n",
              "  <div id=\"df-a670f520-2b77-4862-b816-139994156d46\">\n",
              "    <div class=\"colab-df-container\">\n",
              "      <div>\n",
              "<style scoped>\n",
              "    .dataframe tbody tr th:only-of-type {\n",
              "        vertical-align: middle;\n",
              "    }\n",
              "\n",
              "    .dataframe tbody tr th {\n",
              "        vertical-align: top;\n",
              "    }\n",
              "\n",
              "    .dataframe thead th {\n",
              "        text-align: right;\n",
              "    }\n",
              "</style>\n",
              "<table border=\"1\" class=\"dataframe\">\n",
              "  <thead>\n",
              "    <tr style=\"text-align: right;\">\n",
              "      <th>y</th>\n",
              "      <th>no</th>\n",
              "      <th>yes</th>\n",
              "    </tr>\n",
              "    <tr>\n",
              "      <th>education</th>\n",
              "      <th></th>\n",
              "      <th></th>\n",
              "    </tr>\n",
              "  </thead>\n",
              "  <tbody>\n",
              "    <tr>\n",
              "      <th>basic.4y</th>\n",
              "      <td>0.90</td>\n",
              "      <td>0.10</td>\n",
              "    </tr>\n",
              "    <tr>\n",
              "      <th>basic.6y</th>\n",
              "      <td>0.92</td>\n",
              "      <td>0.08</td>\n",
              "    </tr>\n",
              "    <tr>\n",
              "      <th>basic.9y</th>\n",
              "      <td>0.92</td>\n",
              "      <td>0.08</td>\n",
              "    </tr>\n",
              "    <tr>\n",
              "      <th>high.school</th>\n",
              "      <td>0.89</td>\n",
              "      <td>0.11</td>\n",
              "    </tr>\n",
              "    <tr>\n",
              "      <th>illiterate</th>\n",
              "      <td>0.78</td>\n",
              "      <td>0.22</td>\n",
              "    </tr>\n",
              "    <tr>\n",
              "      <th>professional.course</th>\n",
              "      <td>0.89</td>\n",
              "      <td>0.11</td>\n",
              "    </tr>\n",
              "    <tr>\n",
              "      <th>university.degree</th>\n",
              "      <td>0.86</td>\n",
              "      <td>0.14</td>\n",
              "    </tr>\n",
              "    <tr>\n",
              "      <th>unknown</th>\n",
              "      <td>0.85</td>\n",
              "      <td>0.15</td>\n",
              "    </tr>\n",
              "  </tbody>\n",
              "</table>\n",
              "</div>\n",
              "      <button class=\"colab-df-convert\" onclick=\"convertToInteractive('df-a670f520-2b77-4862-b816-139994156d46')\"\n",
              "              title=\"Convert this dataframe to an interactive table.\"\n",
              "              style=\"display:none;\">\n",
              "        \n",
              "  <svg xmlns=\"http://www.w3.org/2000/svg\" height=\"24px\"viewBox=\"0 0 24 24\"\n",
              "       width=\"24px\">\n",
              "    <path d=\"M0 0h24v24H0V0z\" fill=\"none\"/>\n",
              "    <path d=\"M18.56 5.44l.94 2.06.94-2.06 2.06-.94-2.06-.94-.94-2.06-.94 2.06-2.06.94zm-11 1L8.5 8.5l.94-2.06 2.06-.94-2.06-.94L8.5 2.5l-.94 2.06-2.06.94zm10 10l.94 2.06.94-2.06 2.06-.94-2.06-.94-.94-2.06-.94 2.06-2.06.94z\"/><path d=\"M17.41 7.96l-1.37-1.37c-.4-.4-.92-.59-1.43-.59-.52 0-1.04.2-1.43.59L10.3 9.45l-7.72 7.72c-.78.78-.78 2.05 0 2.83L4 21.41c.39.39.9.59 1.41.59.51 0 1.02-.2 1.41-.59l7.78-7.78 2.81-2.81c.8-.78.8-2.07 0-2.86zM5.41 20L4 18.59l7.72-7.72 1.47 1.35L5.41 20z\"/>\n",
              "  </svg>\n",
              "      </button>\n",
              "      \n",
              "  <style>\n",
              "    .colab-df-container {\n",
              "      display:flex;\n",
              "      flex-wrap:wrap;\n",
              "      gap: 12px;\n",
              "    }\n",
              "\n",
              "    .colab-df-convert {\n",
              "      background-color: #E8F0FE;\n",
              "      border: none;\n",
              "      border-radius: 50%;\n",
              "      cursor: pointer;\n",
              "      display: none;\n",
              "      fill: #1967D2;\n",
              "      height: 32px;\n",
              "      padding: 0 0 0 0;\n",
              "      width: 32px;\n",
              "    }\n",
              "\n",
              "    .colab-df-convert:hover {\n",
              "      background-color: #E2EBFA;\n",
              "      box-shadow: 0px 1px 2px rgba(60, 64, 67, 0.3), 0px 1px 3px 1px rgba(60, 64, 67, 0.15);\n",
              "      fill: #174EA6;\n",
              "    }\n",
              "\n",
              "    [theme=dark] .colab-df-convert {\n",
              "      background-color: #3B4455;\n",
              "      fill: #D2E3FC;\n",
              "    }\n",
              "\n",
              "    [theme=dark] .colab-df-convert:hover {\n",
              "      background-color: #434B5C;\n",
              "      box-shadow: 0px 1px 3px 1px rgba(0, 0, 0, 0.15);\n",
              "      filter: drop-shadow(0px 1px 2px rgba(0, 0, 0, 0.3));\n",
              "      fill: #FFFFFF;\n",
              "    }\n",
              "  </style>\n",
              "\n",
              "      <script>\n",
              "        const buttonEl =\n",
              "          document.querySelector('#df-a670f520-2b77-4862-b816-139994156d46 button.colab-df-convert');\n",
              "        buttonEl.style.display =\n",
              "          google.colab.kernel.accessAllowed ? 'block' : 'none';\n",
              "\n",
              "        async function convertToInteractive(key) {\n",
              "          const element = document.querySelector('#df-a670f520-2b77-4862-b816-139994156d46');\n",
              "          const dataTable =\n",
              "            await google.colab.kernel.invokeFunction('convertToInteractive',\n",
              "                                                     [key], {});\n",
              "          if (!dataTable) return;\n",
              "\n",
              "          const docLinkHtml = 'Like what you see? Visit the ' +\n",
              "            '<a target=\"_blank\" href=https://colab.research.google.com/notebooks/data_table.ipynb>data table notebook</a>'\n",
              "            + ' to learn more about interactive tables.';\n",
              "          element.innerHTML = '';\n",
              "          dataTable['output_type'] = 'display_data';\n",
              "          await google.colab.output.renderOutput(dataTable, element);\n",
              "          const docLink = document.createElement('div');\n",
              "          docLink.innerHTML = docLinkHtml;\n",
              "          element.appendChild(docLink);\n",
              "        }\n",
              "      </script>\n",
              "    </div>\n",
              "  </div>\n",
              "  "
            ]
          },
          "metadata": {},
          "execution_count": 51
        }
      ],
      "source": [
        "crosstab_edu = pd.crosstab(bank_data['education'], bank_data['y'])\n",
        "crosstab_edu_perc = crosstab_edu.apply(lambda x: x/x.sum(), axis=1)\n",
        "round(crosstab_edu_perc, 2)"
      ]
    },
    {
      "cell_type": "markdown",
      "metadata": {
        "id": "JhfFQMoZEoLg"
      },
      "source": [
        "Closest match = university.degree"
      ]
    },
    {
      "cell_type": "code",
      "execution_count": null,
      "metadata": {
        "colab": {
          "base_uri": "https://localhost:8080/"
        },
        "id": "S84AQidlFowL",
        "outputId": "97bf21ec-5638-4053-b924-b5a3d948ad2f"
      },
      "outputs": [
        {
          "output_type": "stream",
          "name": "stdout",
          "text": [
            "university.degree      13899\n",
            "high.school             9515\n",
            "basic.9y                6045\n",
            "professional.course     5243\n",
            "basic.4y                4176\n",
            "basic.6y                2292\n",
            "illiterate                18\n",
            "Name: education_new, dtype: int64\n"
          ]
        },
        {
          "output_type": "stream",
          "name": "stderr",
          "text": [
            "/usr/local/lib/python3.7/dist-packages/ipykernel_launcher.py:4: SettingWithCopyWarning: \n",
            "A value is trying to be set on a copy of a slice from a DataFrame\n",
            "\n",
            "See the caveats in the documentation: https://pandas.pydata.org/pandas-docs/stable/user_guide/indexing.html#returning-a-view-versus-a-copy\n",
            "  after removing the cwd from sys.path.\n"
          ]
        }
      ],
      "source": [
        "# Create new column and replace unknown with imputed value\n",
        "\n",
        "bank_data['education_new'] = bank_data['education']\n",
        "bank_data['education_new'][bank_data['education']=='unknown'] = 'university.degree'\n",
        "print(bank_data['education_new'].value_counts())"
      ]
    },
    {
      "cell_type": "markdown",
      "metadata": {
        "id": "p1vyOqABGXh4"
      },
      "source": [
        "# 6. 'housing' cleaning\n",
        "\n",
        "Target based imputation"
      ]
    },
    {
      "cell_type": "code",
      "execution_count": null,
      "metadata": {
        "colab": {
          "base_uri": "https://localhost:8080/",
          "height": 175
        },
        "id": "3T9qTQbHGkGz",
        "outputId": "f40d3436-92b5-47d0-eb78-27ac92d43319"
      },
      "outputs": [
        {
          "output_type": "execute_result",
          "data": {
            "text/plain": [
              "y          no   yes\n",
              "housing            \n",
              "no       0.89  0.11\n",
              "unknown  0.89  0.11\n",
              "yes      0.88  0.12"
            ],
            "text/html": [
              "\n",
              "  <div id=\"df-06fd7702-ce46-40f5-99c5-cdfd8dca6885\">\n",
              "    <div class=\"colab-df-container\">\n",
              "      <div>\n",
              "<style scoped>\n",
              "    .dataframe tbody tr th:only-of-type {\n",
              "        vertical-align: middle;\n",
              "    }\n",
              "\n",
              "    .dataframe tbody tr th {\n",
              "        vertical-align: top;\n",
              "    }\n",
              "\n",
              "    .dataframe thead th {\n",
              "        text-align: right;\n",
              "    }\n",
              "</style>\n",
              "<table border=\"1\" class=\"dataframe\">\n",
              "  <thead>\n",
              "    <tr style=\"text-align: right;\">\n",
              "      <th>y</th>\n",
              "      <th>no</th>\n",
              "      <th>yes</th>\n",
              "    </tr>\n",
              "    <tr>\n",
              "      <th>housing</th>\n",
              "      <th></th>\n",
              "      <th></th>\n",
              "    </tr>\n",
              "  </thead>\n",
              "  <tbody>\n",
              "    <tr>\n",
              "      <th>no</th>\n",
              "      <td>0.89</td>\n",
              "      <td>0.11</td>\n",
              "    </tr>\n",
              "    <tr>\n",
              "      <th>unknown</th>\n",
              "      <td>0.89</td>\n",
              "      <td>0.11</td>\n",
              "    </tr>\n",
              "    <tr>\n",
              "      <th>yes</th>\n",
              "      <td>0.88</td>\n",
              "      <td>0.12</td>\n",
              "    </tr>\n",
              "  </tbody>\n",
              "</table>\n",
              "</div>\n",
              "      <button class=\"colab-df-convert\" onclick=\"convertToInteractive('df-06fd7702-ce46-40f5-99c5-cdfd8dca6885')\"\n",
              "              title=\"Convert this dataframe to an interactive table.\"\n",
              "              style=\"display:none;\">\n",
              "        \n",
              "  <svg xmlns=\"http://www.w3.org/2000/svg\" height=\"24px\"viewBox=\"0 0 24 24\"\n",
              "       width=\"24px\">\n",
              "    <path d=\"M0 0h24v24H0V0z\" fill=\"none\"/>\n",
              "    <path d=\"M18.56 5.44l.94 2.06.94-2.06 2.06-.94-2.06-.94-.94-2.06-.94 2.06-2.06.94zm-11 1L8.5 8.5l.94-2.06 2.06-.94-2.06-.94L8.5 2.5l-.94 2.06-2.06.94zm10 10l.94 2.06.94-2.06 2.06-.94-2.06-.94-.94-2.06-.94 2.06-2.06.94z\"/><path d=\"M17.41 7.96l-1.37-1.37c-.4-.4-.92-.59-1.43-.59-.52 0-1.04.2-1.43.59L10.3 9.45l-7.72 7.72c-.78.78-.78 2.05 0 2.83L4 21.41c.39.39.9.59 1.41.59.51 0 1.02-.2 1.41-.59l7.78-7.78 2.81-2.81c.8-.78.8-2.07 0-2.86zM5.41 20L4 18.59l7.72-7.72 1.47 1.35L5.41 20z\"/>\n",
              "  </svg>\n",
              "      </button>\n",
              "      \n",
              "  <style>\n",
              "    .colab-df-container {\n",
              "      display:flex;\n",
              "      flex-wrap:wrap;\n",
              "      gap: 12px;\n",
              "    }\n",
              "\n",
              "    .colab-df-convert {\n",
              "      background-color: #E8F0FE;\n",
              "      border: none;\n",
              "      border-radius: 50%;\n",
              "      cursor: pointer;\n",
              "      display: none;\n",
              "      fill: #1967D2;\n",
              "      height: 32px;\n",
              "      padding: 0 0 0 0;\n",
              "      width: 32px;\n",
              "    }\n",
              "\n",
              "    .colab-df-convert:hover {\n",
              "      background-color: #E2EBFA;\n",
              "      box-shadow: 0px 1px 2px rgba(60, 64, 67, 0.3), 0px 1px 3px 1px rgba(60, 64, 67, 0.15);\n",
              "      fill: #174EA6;\n",
              "    }\n",
              "\n",
              "    [theme=dark] .colab-df-convert {\n",
              "      background-color: #3B4455;\n",
              "      fill: #D2E3FC;\n",
              "    }\n",
              "\n",
              "    [theme=dark] .colab-df-convert:hover {\n",
              "      background-color: #434B5C;\n",
              "      box-shadow: 0px 1px 3px 1px rgba(0, 0, 0, 0.15);\n",
              "      filter: drop-shadow(0px 1px 2px rgba(0, 0, 0, 0.3));\n",
              "      fill: #FFFFFF;\n",
              "    }\n",
              "  </style>\n",
              "\n",
              "      <script>\n",
              "        const buttonEl =\n",
              "          document.querySelector('#df-06fd7702-ce46-40f5-99c5-cdfd8dca6885 button.colab-df-convert');\n",
              "        buttonEl.style.display =\n",
              "          google.colab.kernel.accessAllowed ? 'block' : 'none';\n",
              "\n",
              "        async function convertToInteractive(key) {\n",
              "          const element = document.querySelector('#df-06fd7702-ce46-40f5-99c5-cdfd8dca6885');\n",
              "          const dataTable =\n",
              "            await google.colab.kernel.invokeFunction('convertToInteractive',\n",
              "                                                     [key], {});\n",
              "          if (!dataTable) return;\n",
              "\n",
              "          const docLinkHtml = 'Like what you see? Visit the ' +\n",
              "            '<a target=\"_blank\" href=https://colab.research.google.com/notebooks/data_table.ipynb>data table notebook</a>'\n",
              "            + ' to learn more about interactive tables.';\n",
              "          element.innerHTML = '';\n",
              "          dataTable['output_type'] = 'display_data';\n",
              "          await google.colab.output.renderOutput(dataTable, element);\n",
              "          const docLink = document.createElement('div');\n",
              "          docLink.innerHTML = docLinkHtml;\n",
              "          element.appendChild(docLink);\n",
              "        }\n",
              "      </script>\n",
              "    </div>\n",
              "  </div>\n",
              "  "
            ]
          },
          "metadata": {},
          "execution_count": 53
        }
      ],
      "source": [
        "crosstab_house = pd.crosstab(bank_data['housing'], bank_data['y'])\n",
        "crosstab_house_perc = crosstab_house.apply(lambda x: x/x.sum(), axis=1)\n",
        "round(crosstab_house_perc, 2)"
      ]
    },
    {
      "cell_type": "markdown",
      "metadata": {
        "id": "6CaD3OAAHfsN"
      },
      "source": [
        "Closest match = yes, no"
      ]
    },
    {
      "cell_type": "code",
      "execution_count": null,
      "metadata": {
        "colab": {
          "base_uri": "https://localhost:8080/"
        },
        "id": "FmQOutpRHo7g",
        "outputId": "7b167214-2a35-4b3c-d12a-64e061746a2d"
      },
      "outputs": [
        {
          "output_type": "stream",
          "name": "stdout",
          "text": [
            "yes    22071\n",
            "no     19117\n",
            "Name: housing_new, dtype: int64\n"
          ]
        },
        {
          "output_type": "stream",
          "name": "stderr",
          "text": [
            "/usr/local/lib/python3.7/dist-packages/ipykernel_launcher.py:12: SettingWithCopyWarning: \n",
            "A value is trying to be set on a copy of a slice from a DataFrame\n",
            "\n",
            "See the caveats in the documentation: https://pandas.pydata.org/pandas-docs/stable/user_guide/indexing.html#returning-a-view-versus-a-copy\n",
            "  if sys.path[0] == '':\n"
          ]
        }
      ],
      "source": [
        "# Create new column and replace unknown with imputed value\n",
        "\n",
        "bank_data['housing_new'] = bank_data['housing']\n",
        "bank_data['housing_new'][bank_data['housing']=='unknown']\n",
        "\n",
        "# Imputing with two values instead of one \n",
        "# Replacing 50% of unknown with yes and 50% with no\n",
        "# 50% of 990 = 495 records\n",
        "\n",
        "idx = bank_data[bank_data['housing']=='unknown'].head(495).index\n",
        "bank_data.loc[idx, 'housing_new'] = 'yes'\n",
        "bank_data['housing_new'][bank_data['housing_new']=='unknown'] = 'no'\n",
        "print(bank_data['housing_new'].value_counts())"
      ]
    },
    {
      "cell_type": "markdown",
      "metadata": {
        "id": "6fq23_bmRidZ"
      },
      "source": [
        "# 7. 'loan' cleaning\n",
        "\n",
        "Target based imputation\n"
      ]
    },
    {
      "cell_type": "code",
      "execution_count": null,
      "metadata": {
        "colab": {
          "base_uri": "https://localhost:8080/",
          "height": 175
        },
        "id": "lGr-J5umR8it",
        "outputId": "494bf505-2055-4566-9873-6c6dce832441"
      },
      "outputs": [
        {
          "output_type": "execute_result",
          "data": {
            "text/plain": [
              "y          no   yes\n",
              "housing            \n",
              "no       0.89  0.11\n",
              "unknown  0.89  0.11\n",
              "yes      0.88  0.12"
            ],
            "text/html": [
              "\n",
              "  <div id=\"df-0ec8f265-49f6-4a07-a925-b064c92d1810\">\n",
              "    <div class=\"colab-df-container\">\n",
              "      <div>\n",
              "<style scoped>\n",
              "    .dataframe tbody tr th:only-of-type {\n",
              "        vertical-align: middle;\n",
              "    }\n",
              "\n",
              "    .dataframe tbody tr th {\n",
              "        vertical-align: top;\n",
              "    }\n",
              "\n",
              "    .dataframe thead th {\n",
              "        text-align: right;\n",
              "    }\n",
              "</style>\n",
              "<table border=\"1\" class=\"dataframe\">\n",
              "  <thead>\n",
              "    <tr style=\"text-align: right;\">\n",
              "      <th>y</th>\n",
              "      <th>no</th>\n",
              "      <th>yes</th>\n",
              "    </tr>\n",
              "    <tr>\n",
              "      <th>housing</th>\n",
              "      <th></th>\n",
              "      <th></th>\n",
              "    </tr>\n",
              "  </thead>\n",
              "  <tbody>\n",
              "    <tr>\n",
              "      <th>no</th>\n",
              "      <td>0.89</td>\n",
              "      <td>0.11</td>\n",
              "    </tr>\n",
              "    <tr>\n",
              "      <th>unknown</th>\n",
              "      <td>0.89</td>\n",
              "      <td>0.11</td>\n",
              "    </tr>\n",
              "    <tr>\n",
              "      <th>yes</th>\n",
              "      <td>0.88</td>\n",
              "      <td>0.12</td>\n",
              "    </tr>\n",
              "  </tbody>\n",
              "</table>\n",
              "</div>\n",
              "      <button class=\"colab-df-convert\" onclick=\"convertToInteractive('df-0ec8f265-49f6-4a07-a925-b064c92d1810')\"\n",
              "              title=\"Convert this dataframe to an interactive table.\"\n",
              "              style=\"display:none;\">\n",
              "        \n",
              "  <svg xmlns=\"http://www.w3.org/2000/svg\" height=\"24px\"viewBox=\"0 0 24 24\"\n",
              "       width=\"24px\">\n",
              "    <path d=\"M0 0h24v24H0V0z\" fill=\"none\"/>\n",
              "    <path d=\"M18.56 5.44l.94 2.06.94-2.06 2.06-.94-2.06-.94-.94-2.06-.94 2.06-2.06.94zm-11 1L8.5 8.5l.94-2.06 2.06-.94-2.06-.94L8.5 2.5l-.94 2.06-2.06.94zm10 10l.94 2.06.94-2.06 2.06-.94-2.06-.94-.94-2.06-.94 2.06-2.06.94z\"/><path d=\"M17.41 7.96l-1.37-1.37c-.4-.4-.92-.59-1.43-.59-.52 0-1.04.2-1.43.59L10.3 9.45l-7.72 7.72c-.78.78-.78 2.05 0 2.83L4 21.41c.39.39.9.59 1.41.59.51 0 1.02-.2 1.41-.59l7.78-7.78 2.81-2.81c.8-.78.8-2.07 0-2.86zM5.41 20L4 18.59l7.72-7.72 1.47 1.35L5.41 20z\"/>\n",
              "  </svg>\n",
              "      </button>\n",
              "      \n",
              "  <style>\n",
              "    .colab-df-container {\n",
              "      display:flex;\n",
              "      flex-wrap:wrap;\n",
              "      gap: 12px;\n",
              "    }\n",
              "\n",
              "    .colab-df-convert {\n",
              "      background-color: #E8F0FE;\n",
              "      border: none;\n",
              "      border-radius: 50%;\n",
              "      cursor: pointer;\n",
              "      display: none;\n",
              "      fill: #1967D2;\n",
              "      height: 32px;\n",
              "      padding: 0 0 0 0;\n",
              "      width: 32px;\n",
              "    }\n",
              "\n",
              "    .colab-df-convert:hover {\n",
              "      background-color: #E2EBFA;\n",
              "      box-shadow: 0px 1px 2px rgba(60, 64, 67, 0.3), 0px 1px 3px 1px rgba(60, 64, 67, 0.15);\n",
              "      fill: #174EA6;\n",
              "    }\n",
              "\n",
              "    [theme=dark] .colab-df-convert {\n",
              "      background-color: #3B4455;\n",
              "      fill: #D2E3FC;\n",
              "    }\n",
              "\n",
              "    [theme=dark] .colab-df-convert:hover {\n",
              "      background-color: #434B5C;\n",
              "      box-shadow: 0px 1px 3px 1px rgba(0, 0, 0, 0.15);\n",
              "      filter: drop-shadow(0px 1px 2px rgba(0, 0, 0, 0.3));\n",
              "      fill: #FFFFFF;\n",
              "    }\n",
              "  </style>\n",
              "\n",
              "      <script>\n",
              "        const buttonEl =\n",
              "          document.querySelector('#df-0ec8f265-49f6-4a07-a925-b064c92d1810 button.colab-df-convert');\n",
              "        buttonEl.style.display =\n",
              "          google.colab.kernel.accessAllowed ? 'block' : 'none';\n",
              "\n",
              "        async function convertToInteractive(key) {\n",
              "          const element = document.querySelector('#df-0ec8f265-49f6-4a07-a925-b064c92d1810');\n",
              "          const dataTable =\n",
              "            await google.colab.kernel.invokeFunction('convertToInteractive',\n",
              "                                                     [key], {});\n",
              "          if (!dataTable) return;\n",
              "\n",
              "          const docLinkHtml = 'Like what you see? Visit the ' +\n",
              "            '<a target=\"_blank\" href=https://colab.research.google.com/notebooks/data_table.ipynb>data table notebook</a>'\n",
              "            + ' to learn more about interactive tables.';\n",
              "          element.innerHTML = '';\n",
              "          dataTable['output_type'] = 'display_data';\n",
              "          await google.colab.output.renderOutput(dataTable, element);\n",
              "          const docLink = document.createElement('div');\n",
              "          docLink.innerHTML = docLinkHtml;\n",
              "          element.appendChild(docLink);\n",
              "        }\n",
              "      </script>\n",
              "    </div>\n",
              "  </div>\n",
              "  "
            ]
          },
          "metadata": {},
          "execution_count": 55
        }
      ],
      "source": [
        "crosstab_loan = pd.crosstab(bank_data['loan'], bank_data['y'])\n",
        "crosstab_loan_perc = crosstab_house.apply(lambda x: x/x.sum(), axis=1)\n",
        "round(crosstab_loan_perc, 2)"
      ]
    },
    {
      "cell_type": "markdown",
      "metadata": {
        "id": "dn89Vk6lSgNN"
      },
      "source": [
        "Closest match = yes, no. Results same as previous variable."
      ]
    },
    {
      "cell_type": "code",
      "execution_count": null,
      "metadata": {
        "colab": {
          "base_uri": "https://localhost:8080/"
        },
        "id": "t4Q3yScsShFk",
        "outputId": "763199de-aaea-4e6c-9c71-7257cea950ef"
      },
      "outputs": [
        {
          "output_type": "stream",
          "name": "stdout",
          "text": [
            "no     34445\n",
            "yes     6743\n",
            "Name: loan_new, dtype: int64\n"
          ]
        },
        {
          "output_type": "stream",
          "name": "stderr",
          "text": [
            "/usr/local/lib/python3.7/dist-packages/ipykernel_launcher.py:12: SettingWithCopyWarning: \n",
            "A value is trying to be set on a copy of a slice from a DataFrame\n",
            "\n",
            "See the caveats in the documentation: https://pandas.pydata.org/pandas-docs/stable/user_guide/indexing.html#returning-a-view-versus-a-copy\n",
            "  if sys.path[0] == '':\n"
          ]
        }
      ],
      "source": [
        "# Create new column and replace unknown with imputed value\n",
        "\n",
        "bank_data['loan_new'] = bank_data['loan']\n",
        "bank_data['loan_new'][bank_data['loan']=='unknown']\n",
        "\n",
        "# Imputing with two values instead of one \n",
        "# Replacing 50% of unknown with yes and 50% with no\n",
        "# 50% of 990 = 495 records\n",
        "\n",
        "idx2 = bank_data[bank_data['loan']=='unknown'].head(495).index\n",
        "bank_data.loc[idx2, 'loan_new'] = 'yes'\n",
        "bank_data['loan_new'][bank_data['loan_new']=='unknown'] = 'no'\n",
        "print(bank_data['loan_new'].value_counts())"
      ]
    },
    {
      "cell_type": "markdown",
      "metadata": {
        "id": "VN6ZTeLSUp8H"
      },
      "source": [
        "# 5. 'default' cleaning\n",
        "\n",
        "Categorical variable. 20% unknown. So create a flag variable as missing and available. Keep 'unknown' as it is and treat it as a separate class."
      ]
    },
    {
      "cell_type": "code",
      "execution_count": null,
      "metadata": {
        "colab": {
          "base_uri": "https://localhost:8080/"
        },
        "id": "6avE9HMPWoIj",
        "outputId": "66d4aa72-e894-45c9-c438-4a10c0acca97"
      },
      "outputs": [
        {
          "output_type": "stream",
          "name": "stdout",
          "text": [
            "1    32591\n",
            "0     8597\n",
            "Name: default_flag, dtype: int64\n"
          ]
        },
        {
          "output_type": "stream",
          "name": "stderr",
          "text": [
            "/usr/local/lib/python3.7/dist-packages/ipykernel_launcher.py:4: SettingWithCopyWarning: \n",
            "A value is trying to be set on a copy of a slice from a DataFrame\n",
            "\n",
            "See the caveats in the documentation: https://pandas.pydata.org/pandas-docs/stable/user_guide/indexing.html#returning-a-view-versus-a-copy\n",
            "  after removing the cwd from sys.path.\n"
          ]
        }
      ],
      "source": [
        "# Create a flag column for missing (= 0) and available (= 1)\n",
        "\n",
        "bank_data['default_flag'] = 1\n",
        "bank_data['default_flag'][bank_data['default']=='unknown'] = 0\n",
        "print(bank_data['default_flag'].value_counts())"
      ]
    },
    {
      "cell_type": "markdown",
      "source": [
        "# 13. 'pdays' cleaning\n",
        "\n",
        "Discrete variable with 96.5% issues. \n",
        "\n",
        "Create a flag variable prev_campaign, with values 1 and 0. 1 means the customer was contacted in previous campaign. 0 means not contacted."
      ],
      "metadata": {
        "id": "RAd8KDwwcddf"
      }
    },
    {
      "cell_type": "code",
      "source": [
        "bank_data['prev_campaign'] = 0\n",
        "bank_data['prev_campaign'][bank_data['pdays'] != 999] = 1\n",
        "print(bank_data['prev_campaign'].value_counts())"
      ],
      "metadata": {
        "colab": {
          "base_uri": "https://localhost:8080/"
        },
        "id": "2R7pivFbdyJA",
        "outputId": "48c77f40-fbc6-460b-86e6-8a536d051533"
      },
      "execution_count": null,
      "outputs": [
        {
          "output_type": "stream",
          "name": "stdout",
          "text": [
            "0    39673\n",
            "1     1515\n",
            "Name: prev_campaign, dtype: int64\n"
          ]
        },
        {
          "output_type": "stream",
          "name": "stderr",
          "text": [
            "/usr/local/lib/python3.7/dist-packages/ipykernel_launcher.py:2: SettingWithCopyWarning: \n",
            "A value is trying to be set on a copy of a slice from a DataFrame\n",
            "\n",
            "See the caveats in the documentation: https://pandas.pydata.org/pandas-docs/stable/user_guide/indexing.html#returning-a-view-versus-a-copy\n",
            "  \n"
          ]
        }
      ]
    },
    {
      "cell_type": "markdown",
      "metadata": {
        "id": "MPohYFNGvAgs"
      },
      "source": [
        "# Model Building\n",
        "\n",
        "Output (Target) variable is categorical type with binary values - yes and no. We need to build a simple model which passes through maximum data points. So Logistic Regression model using only numeric independent variables would be the first logical choice. The logistic regression equation goes though 1 and 0. The output of the model are the logistic equation co-efficients.\n",
        "\n",
        "#### Logistic Equation\n",
        "y = {e^(B0 + B1.X1 + B2.x2 +...+ Bk.Xk)}/{1+ e^(B0 + B1.X1 + B2.x2 +...+ Bk.Xk)}\n",
        "\n",
        "y = output or predicted value\n",
        "\n",
        "B0 = constant\n",
        "\n",
        "B1, B2, ... Bk = co-efficients of each of the predictor variables\n",
        "\n",
        "X1, X2, ...Xk = Predictor (independent) variables\n"
      ]
    },
    {
      "cell_type": "markdown",
      "metadata": {
        "id": "rJ9yQMVp2Aqb"
      },
      "source": [
        "## MODEL 1 : Logistic Regression\n",
        "\n",
        "### Independent Variables to be used (all numeric) :\n",
        "1. age\n",
        "2. campaign\n",
        "3. pdays\n",
        "4. previous\n",
        "5. emp.var.rate\n",
        "6. duration_new\n",
        "7. cons.price.idx\n",
        "8. cons_conf_new\n",
        "9. euribor3m\n",
        "10. nr.employed\n",
        "\n"
      ]
    },
    {
      "cell_type": "code",
      "execution_count": null,
      "metadata": {
        "colab": {
          "base_uri": "https://localhost:8080/"
        },
        "id": "hRVUaaI7REVk",
        "outputId": "cbe9647b-10a0-466d-bdb7-d018c953ea65"
      },
      "outputs": [
        {
          "output_type": "stream",
          "name": "stdout",
          "text": [
            "0    36548\n",
            "1     4640\n",
            "Name: y2, dtype: int64\n"
          ]
        },
        {
          "output_type": "stream",
          "name": "stderr",
          "text": [
            "/usr/local/lib/python3.7/dist-packages/ipykernel_launcher.py:3: SettingWithCopyWarning: \n",
            "A value is trying to be set on a copy of a slice from a DataFrame\n",
            "\n",
            "See the caveats in the documentation: https://pandas.pydata.org/pandas-docs/stable/user_guide/indexing.html#returning-a-view-versus-a-copy\n",
            "  This is separate from the ipykernel package so we can avoid doing imports until\n"
          ]
        }
      ],
      "source": [
        "# change target variable to discrete : 0 and 1. no = 0, yes = 1\n",
        "bank_data['y2']= 0\n",
        "bank_data['y2'][bank_data['y']=='yes']=1\n",
        "print(bank_data['y2'].value_counts())"
      ]
    },
    {
      "cell_type": "code",
      "execution_count": null,
      "metadata": {
        "colab": {
          "base_uri": "https://localhost:8080/"
        },
        "id": "CLfA9QM9vR6B",
        "outputId": "a2bb8052-eaca-40b0-fb7c-07ddc72743fc"
      },
      "outputs": [
        {
          "output_type": "stream",
          "name": "stderr",
          "text": [
            "/usr/local/lib/python3.7/dist-packages/sklearn/utils/validation.py:993: DataConversionWarning: A column-vector y was passed when a 1d array was expected. Please change the shape of y to (n_samples, ), for example using ravel().\n",
            "  y = column_or_1d(y, warn=True)\n",
            "/usr/local/lib/python3.7/dist-packages/sklearn/linear_model/_logistic.py:818: ConvergenceWarning: lbfgs failed to converge (status=1):\n",
            "STOP: TOTAL NO. of ITERATIONS REACHED LIMIT.\n",
            "\n",
            "Increase the number of iterations (max_iter) or scale the data as shown in:\n",
            "    https://scikit-learn.org/stable/modules/preprocessing.html\n",
            "Please also refer to the documentation for alternative solver options:\n",
            "    https://scikit-learn.org/stable/modules/linear_model.html#logistic-regression\n",
            "  extra_warning_msg=_LOGISTIC_SOLVER_CONVERGENCE_MSG,\n"
          ]
        },
        {
          "output_type": "execute_result",
          "data": {
            "text/plain": [
              "LogisticRegression()"
            ]
          },
          "metadata": {},
          "execution_count": 60
        }
      ],
      "source": [
        "from sklearn.linear_model import LogisticRegression\n",
        "logistic1= LogisticRegression()\n",
        "\n",
        "# fitting logistic regression for target y2 on rest of the variables\n",
        "logistic1.fit(bank_data[['age']+['campaign']+['prev_campaign']+['previous']+['emp.var.rate']+['duration_new']+['cons.price.idx']+['cons_conf_new']+['euribor3m']+['nr.employed']], bank_data[['y2']])\n",
        "\n"
      ]
    },
    {
      "cell_type": "code",
      "execution_count": null,
      "metadata": {
        "colab": {
          "base_uri": "https://localhost:8080/"
        },
        "id": "WnR-d4DXvSBJ",
        "outputId": "a679e8b5-6d66-442e-990b-20680cd09ce7"
      },
      "outputs": [
        {
          "output_type": "stream",
          "name": "stdout",
          "text": [
            "Intercept [0.00312403]\n",
            "Coefficients [[-0.00067049 -0.00625341  0.1215186   0.10905778 -0.19365432  0.00469083\n",
            "   0.32462371  0.04877319 -0.22246372 -0.0060367 ]]\n"
          ]
        }
      ],
      "source": [
        "# Checking the values of coefficients and intercept for the Logistic equation \n",
        "print(\"Intercept\", logistic1.intercept_)\n",
        "print(\"Coefficients\", logistic1.coef_)"
      ]
    },
    {
      "cell_type": "markdown",
      "metadata": {
        "id": "hafQufIYvTCS"
      },
      "source": [
        "# Model 1 Validation\n",
        "## Confusion Matrix and accuracy\n",
        "\n",
        "\n",
        "\n",
        "```\n",
        "                   Predicted Values\n",
        "       ----------------------------------------\n",
        "       |         0          |         1       |\n",
        "actual | 0  True Positives  | False Negatives |\n",
        "value  | 1  False Positives | True Negatives  |\n",
        "       -----------------------------------------\n",
        "```\n",
        "Accuracy = (TP + TN) / (TP + FN + FP + TN)\n",
        "\n"
      ]
    },
    {
      "cell_type": "code",
      "execution_count": null,
      "metadata": {
        "colab": {
          "base_uri": "https://localhost:8080/"
        },
        "id": "6RHq0EfVvkkz",
        "outputId": "a5b4114e-43a5-4806-cc04-060aaabf6d11"
      },
      "outputs": [
        {
          "output_type": "stream",
          "name": "stdout",
          "text": [
            "[[36031   517]\n",
            " [ 3603  1037]]\n"
          ]
        }
      ],
      "source": [
        "import numpy as np\n",
        "import matplotlib.pyplot as plt\n",
        "from sklearn.metrics import confusion_matrix\n",
        "\n",
        "predict1=logistic1.predict(bank_data[['age']+['campaign']+['prev_campaign']+['previous']+['emp.var.rate']+['duration_new']+['cons.price.idx']+['cons_conf_new']+['euribor3m']+['nr.employed']])\n",
        "predict1\n",
        "\n",
        "con_mat1 = confusion_matrix(bank_data[['y2']],predict1)\n",
        "print(con_mat1)"
      ]
    },
    {
      "cell_type": "code",
      "execution_count": null,
      "metadata": {
        "colab": {
          "base_uri": "https://localhost:8080/"
        },
        "id": "CRmdwZDIvkrP",
        "outputId": "f557c442-fc1b-41a6-ecd4-00bd29625c84"
      },
      "outputs": [
        {
          "output_type": "stream",
          "name": "stdout",
          "text": [
            "col sums [39634  1554]\n",
            "Total 41188\n"
          ]
        }
      ],
      "source": [
        "print(\"col sums\", sum(con_mat1))\n",
        "total1=sum(sum(con_mat1))\n",
        "print(\"Total\", total1)\n"
      ]
    },
    {
      "cell_type": "code",
      "execution_count": null,
      "metadata": {
        "colab": {
          "base_uri": "https://localhost:8080/"
        },
        "id": "VbN-ze2YvkuY",
        "outputId": "88bddf45-04ec-4593-8b62-4b5c6c6d1100"
      },
      "outputs": [
        {
          "output_type": "execute_result",
          "data": {
            "text/plain": [
              "0.899970865300573"
            ]
          },
          "metadata": {},
          "execution_count": 64
        }
      ],
      "source": [
        "accuracy1=(con_mat1[0,0]+con_mat1[1,1])/total1\n",
        "accuracy1"
      ]
    },
    {
      "cell_type": "markdown",
      "source": [
        "Accuracy of MODEL 1  = 90 %"
      ],
      "metadata": {
        "id": "cxIFWbflYJmO"
      }
    },
    {
      "cell_type": "markdown",
      "metadata": {
        "id": "-pYJ5XlJWCNu"
      },
      "source": [
        "## Checking Multicollinearity between independent variables (VIF)\n",
        "\n",
        "#### Multicollinearity\n",
        "Interdependency among predictor variables is called Multicolliearity. It means that one of the variables can be precited with reasonably good accuracy using the other variables. Ex. Price in dollars, Price in rupees. In other words, both the variables give the same information. Only one of them carries independent information. So it is better to drop the others as they can affect the co-efficients of the equation.\n",
        "\n",
        "VIF (Variable Inflation Factor) is a measure of multicollinearity. VIF for a variable is calculated by regressing it against other predictor variables using OLS method. If VIF >= 5 then there is dependency among variables.\n",
        "\n",
        "1. First we find out VIF for each of the predictor variables.\n",
        "2. If more than one variables has VIF >=5, we drop that variable having the highest VIF the model. IF one variable has VIF >= 5, we drop that variable.\n",
        "3. Recalculate VIF and repeat step 2 until all variables have VIF < 5.\n"
      ]
    },
    {
      "cell_type": "code",
      "execution_count": null,
      "metadata": {
        "colab": {
          "base_uri": "https://localhost:8080/"
        },
        "id": "_jCdFfLvI2yl",
        "outputId": "592404b9-f6e7-409e-efe4-044e36cbea3b"
      },
      "outputs": [
        {
          "output_type": "stream",
          "name": "stdout",
          "text": [
            "age  VIF =  1.02\n",
            "campaign  VIF =  1.05\n",
            "prev_campaign  VIF =  1.61\n",
            "previous  VIF =  1.79\n",
            "emp.var.rate  VIF =  32.72\n",
            "duration_new  VIF =  1.02\n",
            "cons.price.idx  VIF =  6.11\n",
            "cons_conf_new  VIF =  2.36\n",
            "euribor3m  VIF =  54.49\n",
            "nr.employed  VIF =  28.14\n"
          ]
        }
      ],
      "source": [
        "import statsmodels.formula.api as sm\n",
        "\n",
        "bank_data_v1 = bank_data[['age','campaign','prev_campaign','previous','emp.var.rate','duration_new','cons.price.idx','cons_conf_new','euribor3m','nr.employed']]\n",
        "\n",
        "def vif_cal(input_data, dependent_col):\n",
        "    x_vars=input_data\n",
        "    xvar_names=x_vars.columns\n",
        "    for i in range(0,xvar_names.shape[0]):\n",
        "        y=x_vars[xvar_names[i]] \n",
        "        x=x_vars[xvar_names.drop(xvar_names[i])]\n",
        "        rsq=sm.ols(formula=\"y~x\", data=x_vars).fit().rsquared  \n",
        "        vif=round(1/(1-rsq),2)\n",
        "        print (xvar_names[i], \" VIF = \" , vif)\n",
        "\n",
        "vif_cal(input_data=bank_data_v1, dependent_col= 'y2')"
      ]
    },
    {
      "cell_type": "code",
      "execution_count": null,
      "metadata": {
        "colab": {
          "base_uri": "https://localhost:8080/"
        },
        "id": "0hA86AWdJu-g",
        "outputId": "9fb7569e-a606-4e5d-eff2-6d3a37623ea9"
      },
      "outputs": [
        {
          "output_type": "stream",
          "name": "stdout",
          "text": [
            "age  VIF =  1.02\n",
            "campaign  VIF =  1.04\n",
            "prev_campaign  VIF =  1.61\n",
            "previous  VIF =  1.79\n",
            "emp.var.rate  VIF =  24.78\n",
            "duration_new  VIF =  1.02\n",
            "cons.price.idx  VIF =  5.54\n",
            "cons_conf_new  VIF =  1.38\n",
            "nr.employed  VIF =  13.33\n"
          ]
        }
      ],
      "source": [
        "# Highest VIF = euribor3m VIF = 54.49\n",
        "# dropping euribor3m\n",
        "\n",
        "bank_data_v1 = bank_data[['age','campaign','prev_campaign','previous','emp.var.rate','duration_new','cons.price.idx','cons_conf_new','nr.employed']]\n",
        "\n",
        "vif_cal(input_data=bank_data_v1, dependent_col= 'y2')"
      ]
    },
    {
      "cell_type": "code",
      "execution_count": null,
      "metadata": {
        "colab": {
          "base_uri": "https://localhost:8080/"
        },
        "id": "m26ouX9sLrjf",
        "outputId": "55a9108e-0c4e-4e54-8fce-5df0133badb8"
      },
      "outputs": [
        {
          "output_type": "stream",
          "name": "stdout",
          "text": [
            "age  VIF =  1.02\n",
            "campaign  VIF =  1.04\n",
            "prev_campaign  VIF =  1.61\n",
            "previous  VIF =  1.79\n",
            "duration_new  VIF =  1.02\n",
            "cons.price.idx  VIF =  1.41\n",
            "cons_conf_new  VIF =  1.08\n",
            "nr.employed  VIF =  1.88\n"
          ]
        }
      ],
      "source": [
        "# Highest VIF = emp.var.rate VIF = 24.78\n",
        "# dropping emp.var.rate\n",
        "\n",
        "bank_data_v1 = bank_data[['age','campaign','prev_campaign','previous','duration_new','cons.price.idx','cons_conf_new','nr.employed']]\n",
        "\n",
        "vif_cal(input_data=bank_data_v1, dependent_col= 'y2')"
      ]
    },
    {
      "cell_type": "markdown",
      "metadata": {
        "id": "kiQiMZjYMCNw"
      },
      "source": [
        "All these variable's VIF is less than 5 now. Keep these variables.\n",
        "\n",
        "## Individual Impact of Variables\n",
        "\n",
        "Sometimes the model may have a lot of predictor variable but some of them may not have much of an impact on the accuracy of the model. In other words, these redundant variables do not help the model learn much or predict. Since having too many variables will manipulate the accuracy of model and also make it unnecessarily complex, we must drop low impact variables from the model.\n",
        "\n",
        "P-value is a measure of individual impact of variables. If p-value < 0.05 then keep the variable. If p-value >= 0.05, then drop the variable."
      ]
    },
    {
      "cell_type": "code",
      "execution_count": null,
      "metadata": {
        "colab": {
          "base_uri": "https://localhost:8080/"
        },
        "id": "6kgLdR-5MxN4",
        "outputId": "85f0aba0-78ff-4ebc-ad50-431e9049c8c0"
      },
      "outputs": [
        {
          "output_type": "stream",
          "name": "stdout",
          "text": [
            "Optimization terminated successfully.\n",
            "         Current function value: 0.275112\n",
            "         Iterations 7\n",
            "Optimization terminated successfully.\n",
            "         Current function value: 0.275112\n",
            "         Iterations 7\n",
            "                           Logit Regression Results                           \n",
            "==============================================================================\n",
            "Dep. Variable:                     y2   No. Observations:                41188\n",
            "Model:                          Logit   Df Residuals:                    41180\n",
            "Method:                           MLE   Df Model:                            7\n",
            "Date:                Sun, 02 Oct 2022   Pseudo R-squ.:                  0.2185\n",
            "Time:                        09:43:23   Log-Likelihood:                -11331.\n",
            "converged:                       True   LL-Null:                       -14499.\n",
            "Covariance Type:            nonrobust   LLR p-value:                     0.000\n",
            "==================================================================================\n",
            "                     coef    std err          z      P>|z|      [0.025      0.975]\n",
            "----------------------------------------------------------------------------------\n",
            "age                0.0032      0.002      2.096      0.036       0.000       0.006\n",
            "campaign          -0.0506      0.010     -5.232      0.000      -0.070      -0.032\n",
            "prev_campaign      1.9864      0.083     24.031      0.000       1.824       2.148\n",
            "previous          -0.2274      0.038     -5.993      0.000      -0.302      -0.153\n",
            "duration_new       0.0044      0.000     42.055      0.000       0.004       0.005\n",
            "cons.price.idx     0.5685      0.014     39.334      0.000       0.540       0.597\n",
            "cons_conf_new      0.0152      0.004      4.192      0.000       0.008       0.022\n",
            "nr.employed       -0.0108      0.000    -41.830      0.000      -0.011      -0.010\n",
            "==================================================================================\n"
          ]
        }
      ],
      "source": [
        "import statsmodels.api as sm\n",
        "m1=sm.Logit(bank_data['y2'],bank_data[['age']+['campaign']+['prev_campaign']+['previous']+['duration_new']+['cons.price.idx']+['cons_conf_new']+['nr.employed']])\n",
        "m1.fit()\n",
        "print(m1.fit().summary())"
      ]
    },
    {
      "cell_type": "markdown",
      "metadata": {
        "id": "-w5uN5AZOIld"
      },
      "source": [
        "P value for all the variables is less than 0.05. All these variables are high impact variables. Keep them.\n",
        "\n",
        "### Ranking variables as per impact (|z| values highest to lowest)\n",
        "Higher the value of |z|, greater is the impact.\n",
        "1. duration_new\n",
        "2. nr.employed\n",
        "3. cons.price.idx\n",
        "4. prev_campaign\n",
        "5. previous\n",
        "6. campaign\n",
        "7. cons_conf_new\n",
        "8. age\n",
        "\n",
        "## Recreating Model 1 with these variables"
      ]
    },
    {
      "cell_type": "code",
      "execution_count": null,
      "metadata": {
        "colab": {
          "base_uri": "https://localhost:8080/"
        },
        "id": "ayogjbkcNvk_",
        "outputId": "6677ba37-4ab3-41f3-f7e6-cb224b0faf09"
      },
      "outputs": [
        {
          "output_type": "stream",
          "name": "stderr",
          "text": [
            "/usr/local/lib/python3.7/dist-packages/sklearn/utils/validation.py:993: DataConversionWarning: A column-vector y was passed when a 1d array was expected. Please change the shape of y to (n_samples, ), for example using ravel().\n",
            "  y = column_or_1d(y, warn=True)\n"
          ]
        },
        {
          "output_type": "stream",
          "name": "stdout",
          "text": [
            "Intercept [0.00888379]\n",
            "Coefficients [[ 0.00673692 -0.14021494  0.12516629  0.19990965  0.00421034  0.6428296\n",
            "   0.02686203 -0.01208238]]\n"
          ]
        },
        {
          "output_type": "stream",
          "name": "stderr",
          "text": [
            "/usr/local/lib/python3.7/dist-packages/sklearn/linear_model/_logistic.py:818: ConvergenceWarning: lbfgs failed to converge (status=1):\n",
            "STOP: TOTAL NO. of ITERATIONS REACHED LIMIT.\n",
            "\n",
            "Increase the number of iterations (max_iter) or scale the data as shown in:\n",
            "    https://scikit-learn.org/stable/modules/preprocessing.html\n",
            "Please also refer to the documentation for alternative solver options:\n",
            "    https://scikit-learn.org/stable/modules/linear_model.html#logistic-regression\n",
            "  extra_warning_msg=_LOGISTIC_SOLVER_CONVERGENCE_MSG,\n"
          ]
        }
      ],
      "source": [
        "logistic11= LogisticRegression()\n",
        "\n",
        "# fitting logistic regression for target y2 on rest of the variables\n",
        "logistic11.fit(bank_data[['age']+['campaign']+['prev_campaign']+['previous']+['duration_new']+['cons.price.idx']+['cons_conf_new']+['nr.employed']], bank_data[['y2']])\n",
        "\n",
        "# Checking the values of coefficients and intercept for the Logistic equation \n",
        "print(\"Intercept\", logistic11.intercept_)\n",
        "print(\"Coefficients\", logistic11.coef_)\n"
      ]
    },
    {
      "cell_type": "markdown",
      "metadata": {
        "id": "PW6RqRidRuwT"
      },
      "source": [
        "## New Model 1 Validation \n",
        "## Confusion Matrix and accuracy"
      ]
    },
    {
      "cell_type": "code",
      "execution_count": null,
      "metadata": {
        "colab": {
          "base_uri": "https://localhost:8080/"
        },
        "id": "a2eXCd6gR9zt",
        "outputId": "871e6187-6db0-4f9f-8485-abf83a5b4943"
      },
      "outputs": [
        {
          "output_type": "stream",
          "name": "stdout",
          "text": [
            "[[35955   593]\n",
            " [ 3645   995]]\n"
          ]
        }
      ],
      "source": [
        "predict11=logistic11.predict(bank_data[['age']+['campaign']+['prev_campaign']+['previous']+['duration_new']+['cons.price.idx']+['cons_conf_new']+['nr.employed']])\n",
        "predict11\n",
        "\n",
        "con_mat11 = confusion_matrix(bank_data[['y2']],predict11)\n",
        "print(con_mat11)"
      ]
    },
    {
      "cell_type": "code",
      "execution_count": null,
      "metadata": {
        "colab": {
          "base_uri": "https://localhost:8080/"
        },
        "id": "dbRvZFOQStAH",
        "outputId": "6129e33e-ff36-4f79-ec10-9bd070cd38f2"
      },
      "outputs": [
        {
          "output_type": "stream",
          "name": "stdout",
          "text": [
            "col sums [39600  1588]\n",
            "Total 41188\n",
            "Model Accuracy =  0.8971059531902495\n"
          ]
        }
      ],
      "source": [
        "print(\"col sums\", sum(con_mat11))\n",
        "total11=sum(sum(con_mat11))\n",
        "print(\"Total\", total11)\n",
        "\n",
        "accuracy11=(con_mat11[0,0]+con_mat11[1,1])/total11\n",
        "print ('Model Accuracy = ', accuracy11)\n"
      ]
    },
    {
      "cell_type": "markdown",
      "metadata": {
        "id": "-LJnDUADTZLk"
      },
      "source": [
        "### Final result\n",
        "### MODEL 1 accuracy = 89.7 %"
      ]
    },
    {
      "cell_type": "markdown",
      "metadata": {
        "id": "jv6cR0NkUHSq"
      },
      "source": [
        "# MODEL 2 : Logistic regression\n",
        "\n",
        "Model 2 is designed to check if imputing the ambiguous records gives better accuracy or not. Here we are keeping the pdays variable and imputing 4110 records to get pdays_new.\n",
        "\n",
        "### Independent Variables to be used (all numeric) :\n",
        "1. age\n",
        "2. campaign\n",
        "3. pdays_new (updated value for 4110 ambiguous records)\n",
        "4. previous\n",
        "5. duration_new\n",
        "6. cons.price.idx\n",
        "7. cons_conf_new\n",
        "8. nr.employed\n",
        "\n",
        "pdays_new will be created from pdays after target based imputation for the 4110 ambiguous records\n",
        "\n"
      ]
    },
    {
      "cell_type": "code",
      "execution_count": null,
      "metadata": {
        "colab": {
          "base_uri": "https://localhost:8080/",
          "height": 1000
        },
        "id": "3G_s0lcqWqoG",
        "outputId": "665938b5-1449-40d6-af7f-3ab8cd9f74f9"
      },
      "outputs": [
        {
          "output_type": "stream",
          "name": "stderr",
          "text": [
            "/usr/local/lib/python3.7/dist-packages/ipykernel_launcher.py:7: SettingWithCopyWarning: \n",
            "A value is trying to be set on a copy of a slice from a DataFrame\n",
            "\n",
            "See the caveats in the documentation: https://pandas.pydata.org/pandas-docs/stable/user_guide/indexing.html#returning-a-view-versus-a-copy\n",
            "  import sys\n"
          ]
        },
        {
          "output_type": "execute_result",
          "data": {
            "text/plain": [
              "y            no   yes\n",
              "pdays_new            \n",
              "-1         0.87  0.13\n",
              " 0         0.33  0.67\n",
              " 1         0.69  0.31\n",
              " 2         0.39  0.61\n",
              " 3         0.32  0.68\n",
              " 4         0.47  0.53\n",
              " 5         0.37  0.63\n",
              " 6         0.30  0.70\n",
              " 7         0.33  0.67\n",
              " 8         0.33  0.67\n",
              " 9         0.45  0.55\n",
              " 10        0.42  0.58\n",
              " 11        0.46  0.54\n",
              " 12        0.55  0.45\n",
              " 13        0.22  0.78\n",
              " 14        0.45  0.55\n",
              " 15        0.33  0.67\n",
              " 16        0.45  0.55\n",
              " 17        0.75  0.25\n",
              " 18        0.43  0.57\n",
              " 19        0.67  0.33\n",
              " 20        1.00  0.00\n",
              " 21        0.00  1.00\n",
              " 22        0.33  0.67\n",
              " 25        0.00  1.00\n",
              " 26        0.00  1.00\n",
              " 27        0.00  1.00\n",
              " 999       0.91  0.09"
            ],
            "text/html": [
              "\n",
              "  <div id=\"df-12dae1ba-e436-4129-99f8-c3da99990145\">\n",
              "    <div class=\"colab-df-container\">\n",
              "      <div>\n",
              "<style scoped>\n",
              "    .dataframe tbody tr th:only-of-type {\n",
              "        vertical-align: middle;\n",
              "    }\n",
              "\n",
              "    .dataframe tbody tr th {\n",
              "        vertical-align: top;\n",
              "    }\n",
              "\n",
              "    .dataframe thead th {\n",
              "        text-align: right;\n",
              "    }\n",
              "</style>\n",
              "<table border=\"1\" class=\"dataframe\">\n",
              "  <thead>\n",
              "    <tr style=\"text-align: right;\">\n",
              "      <th>y</th>\n",
              "      <th>no</th>\n",
              "      <th>yes</th>\n",
              "    </tr>\n",
              "    <tr>\n",
              "      <th>pdays_new</th>\n",
              "      <th></th>\n",
              "      <th></th>\n",
              "    </tr>\n",
              "  </thead>\n",
              "  <tbody>\n",
              "    <tr>\n",
              "      <th>-1</th>\n",
              "      <td>0.87</td>\n",
              "      <td>0.13</td>\n",
              "    </tr>\n",
              "    <tr>\n",
              "      <th>0</th>\n",
              "      <td>0.33</td>\n",
              "      <td>0.67</td>\n",
              "    </tr>\n",
              "    <tr>\n",
              "      <th>1</th>\n",
              "      <td>0.69</td>\n",
              "      <td>0.31</td>\n",
              "    </tr>\n",
              "    <tr>\n",
              "      <th>2</th>\n",
              "      <td>0.39</td>\n",
              "      <td>0.61</td>\n",
              "    </tr>\n",
              "    <tr>\n",
              "      <th>3</th>\n",
              "      <td>0.32</td>\n",
              "      <td>0.68</td>\n",
              "    </tr>\n",
              "    <tr>\n",
              "      <th>4</th>\n",
              "      <td>0.47</td>\n",
              "      <td>0.53</td>\n",
              "    </tr>\n",
              "    <tr>\n",
              "      <th>5</th>\n",
              "      <td>0.37</td>\n",
              "      <td>0.63</td>\n",
              "    </tr>\n",
              "    <tr>\n",
              "      <th>6</th>\n",
              "      <td>0.30</td>\n",
              "      <td>0.70</td>\n",
              "    </tr>\n",
              "    <tr>\n",
              "      <th>7</th>\n",
              "      <td>0.33</td>\n",
              "      <td>0.67</td>\n",
              "    </tr>\n",
              "    <tr>\n",
              "      <th>8</th>\n",
              "      <td>0.33</td>\n",
              "      <td>0.67</td>\n",
              "    </tr>\n",
              "    <tr>\n",
              "      <th>9</th>\n",
              "      <td>0.45</td>\n",
              "      <td>0.55</td>\n",
              "    </tr>\n",
              "    <tr>\n",
              "      <th>10</th>\n",
              "      <td>0.42</td>\n",
              "      <td>0.58</td>\n",
              "    </tr>\n",
              "    <tr>\n",
              "      <th>11</th>\n",
              "      <td>0.46</td>\n",
              "      <td>0.54</td>\n",
              "    </tr>\n",
              "    <tr>\n",
              "      <th>12</th>\n",
              "      <td>0.55</td>\n",
              "      <td>0.45</td>\n",
              "    </tr>\n",
              "    <tr>\n",
              "      <th>13</th>\n",
              "      <td>0.22</td>\n",
              "      <td>0.78</td>\n",
              "    </tr>\n",
              "    <tr>\n",
              "      <th>14</th>\n",
              "      <td>0.45</td>\n",
              "      <td>0.55</td>\n",
              "    </tr>\n",
              "    <tr>\n",
              "      <th>15</th>\n",
              "      <td>0.33</td>\n",
              "      <td>0.67</td>\n",
              "    </tr>\n",
              "    <tr>\n",
              "      <th>16</th>\n",
              "      <td>0.45</td>\n",
              "      <td>0.55</td>\n",
              "    </tr>\n",
              "    <tr>\n",
              "      <th>17</th>\n",
              "      <td>0.75</td>\n",
              "      <td>0.25</td>\n",
              "    </tr>\n",
              "    <tr>\n",
              "      <th>18</th>\n",
              "      <td>0.43</td>\n",
              "      <td>0.57</td>\n",
              "    </tr>\n",
              "    <tr>\n",
              "      <th>19</th>\n",
              "      <td>0.67</td>\n",
              "      <td>0.33</td>\n",
              "    </tr>\n",
              "    <tr>\n",
              "      <th>20</th>\n",
              "      <td>1.00</td>\n",
              "      <td>0.00</td>\n",
              "    </tr>\n",
              "    <tr>\n",
              "      <th>21</th>\n",
              "      <td>0.00</td>\n",
              "      <td>1.00</td>\n",
              "    </tr>\n",
              "    <tr>\n",
              "      <th>22</th>\n",
              "      <td>0.33</td>\n",
              "      <td>0.67</td>\n",
              "    </tr>\n",
              "    <tr>\n",
              "      <th>25</th>\n",
              "      <td>0.00</td>\n",
              "      <td>1.00</td>\n",
              "    </tr>\n",
              "    <tr>\n",
              "      <th>26</th>\n",
              "      <td>0.00</td>\n",
              "      <td>1.00</td>\n",
              "    </tr>\n",
              "    <tr>\n",
              "      <th>27</th>\n",
              "      <td>0.00</td>\n",
              "      <td>1.00</td>\n",
              "    </tr>\n",
              "    <tr>\n",
              "      <th>999</th>\n",
              "      <td>0.91</td>\n",
              "      <td>0.09</td>\n",
              "    </tr>\n",
              "  </tbody>\n",
              "</table>\n",
              "</div>\n",
              "      <button class=\"colab-df-convert\" onclick=\"convertToInteractive('df-12dae1ba-e436-4129-99f8-c3da99990145')\"\n",
              "              title=\"Convert this dataframe to an interactive table.\"\n",
              "              style=\"display:none;\">\n",
              "        \n",
              "  <svg xmlns=\"http://www.w3.org/2000/svg\" height=\"24px\"viewBox=\"0 0 24 24\"\n",
              "       width=\"24px\">\n",
              "    <path d=\"M0 0h24v24H0V0z\" fill=\"none\"/>\n",
              "    <path d=\"M18.56 5.44l.94 2.06.94-2.06 2.06-.94-2.06-.94-.94-2.06-.94 2.06-2.06.94zm-11 1L8.5 8.5l.94-2.06 2.06-.94-2.06-.94L8.5 2.5l-.94 2.06-2.06.94zm10 10l.94 2.06.94-2.06 2.06-.94-2.06-.94-.94-2.06-.94 2.06-2.06.94z\"/><path d=\"M17.41 7.96l-1.37-1.37c-.4-.4-.92-.59-1.43-.59-.52 0-1.04.2-1.43.59L10.3 9.45l-7.72 7.72c-.78.78-.78 2.05 0 2.83L4 21.41c.39.39.9.59 1.41.59.51 0 1.02-.2 1.41-.59l7.78-7.78 2.81-2.81c.8-.78.8-2.07 0-2.86zM5.41 20L4 18.59l7.72-7.72 1.47 1.35L5.41 20z\"/>\n",
              "  </svg>\n",
              "      </button>\n",
              "      \n",
              "  <style>\n",
              "    .colab-df-container {\n",
              "      display:flex;\n",
              "      flex-wrap:wrap;\n",
              "      gap: 12px;\n",
              "    }\n",
              "\n",
              "    .colab-df-convert {\n",
              "      background-color: #E8F0FE;\n",
              "      border: none;\n",
              "      border-radius: 50%;\n",
              "      cursor: pointer;\n",
              "      display: none;\n",
              "      fill: #1967D2;\n",
              "      height: 32px;\n",
              "      padding: 0 0 0 0;\n",
              "      width: 32px;\n",
              "    }\n",
              "\n",
              "    .colab-df-convert:hover {\n",
              "      background-color: #E2EBFA;\n",
              "      box-shadow: 0px 1px 2px rgba(60, 64, 67, 0.3), 0px 1px 3px 1px rgba(60, 64, 67, 0.15);\n",
              "      fill: #174EA6;\n",
              "    }\n",
              "\n",
              "    [theme=dark] .colab-df-convert {\n",
              "      background-color: #3B4455;\n",
              "      fill: #D2E3FC;\n",
              "    }\n",
              "\n",
              "    [theme=dark] .colab-df-convert:hover {\n",
              "      background-color: #434B5C;\n",
              "      box-shadow: 0px 1px 3px 1px rgba(0, 0, 0, 0.15);\n",
              "      filter: drop-shadow(0px 1px 2px rgba(0, 0, 0, 0.3));\n",
              "      fill: #FFFFFF;\n",
              "    }\n",
              "  </style>\n",
              "\n",
              "      <script>\n",
              "        const buttonEl =\n",
              "          document.querySelector('#df-12dae1ba-e436-4129-99f8-c3da99990145 button.colab-df-convert');\n",
              "        buttonEl.style.display =\n",
              "          google.colab.kernel.accessAllowed ? 'block' : 'none';\n",
              "\n",
              "        async function convertToInteractive(key) {\n",
              "          const element = document.querySelector('#df-12dae1ba-e436-4129-99f8-c3da99990145');\n",
              "          const dataTable =\n",
              "            await google.colab.kernel.invokeFunction('convertToInteractive',\n",
              "                                                     [key], {});\n",
              "          if (!dataTable) return;\n",
              "\n",
              "          const docLinkHtml = 'Like what you see? Visit the ' +\n",
              "            '<a target=\"_blank\" href=https://colab.research.google.com/notebooks/data_table.ipynb>data table notebook</a>'\n",
              "            + ' to learn more about interactive tables.';\n",
              "          element.innerHTML = '';\n",
              "          dataTable['output_type'] = 'display_data';\n",
              "          await google.colab.output.renderOutput(dataTable, element);\n",
              "          const docLink = document.createElement('div');\n",
              "          docLink.innerHTML = docLinkHtml;\n",
              "          element.appendChild(docLink);\n",
              "        }\n",
              "      </script>\n",
              "    </div>\n",
              "  </div>\n",
              "  "
            ]
          },
          "metadata": {},
          "execution_count": 72
        }
      ],
      "source": [
        "bank_data[(bank_data['poutcome']=='failure') & (bank_data['pdays']==999)]\n",
        "\n",
        "# First change the values of these 4110 records to -1 to make it into another category\n",
        "# Second, impute based on target, and change these -1 values to some other close value (except 999)\n",
        "\n",
        "bank_data['pdays_new'] = bank_data['pdays']\n",
        "bank_data['pdays_new'][(bank_data['poutcome']=='failure') & (bank_data['pdays']==999)] = -1\n",
        "\n",
        "# Imputation based on target y\n",
        "crosstab_pdays = pd.crosstab(bank_data['pdays_new'], bank_data['y'])\n",
        "crosstab_pdays_perc = crosstab_pdays.apply(lambda x: x/x.sum(), axis=1)\n",
        "round(crosstab_pdays_perc, 2)"
      ]
    },
    {
      "cell_type": "code",
      "execution_count": null,
      "metadata": {
        "colab": {
          "base_uri": "https://localhost:8080/"
        },
        "id": "ccoFYfJEdWxd",
        "outputId": "6e61c975-3e1c-4df2-b534-b7c89dfba6fd"
      },
      "outputs": [
        {
          "output_type": "stream",
          "name": "stdout",
          "text": [
            " 999    35563\n",
            "-1       4110\n",
            " 3        439\n",
            " 6        412\n",
            " 4        118\n",
            " 9         64\n",
            " 2         61\n",
            " 7         60\n",
            " 12        58\n",
            " 10        52\n",
            " 5         46\n",
            " 13        36\n",
            " 11        28\n",
            " 1         26\n",
            " 15        24\n",
            " 14        20\n",
            " 8         18\n",
            " 0         15\n",
            " 16        11\n",
            " 17         8\n",
            " 18         7\n",
            " 22         3\n",
            " 19         3\n",
            " 21         2\n",
            " 25         1\n",
            " 26         1\n",
            " 27         1\n",
            " 20         1\n",
            "Name: pdays_new, dtype: int64\n"
          ]
        },
        {
          "output_type": "stream",
          "name": "stderr",
          "text": [
            "/usr/local/lib/python3.7/dist-packages/ipykernel_launcher.py:4: SettingWithCopyWarning: \n",
            "A value is trying to be set on a copy of a slice from a DataFrame\n",
            "\n",
            "See the caveats in the documentation: https://pandas.pydata.org/pandas-docs/stable/user_guide/indexing.html#returning-a-view-versus-a-copy\n",
            "  after removing the cwd from sys.path.\n"
          ]
        }
      ],
      "source": [
        "# Closest match is 17\n",
        "# Create new column and replace -1 with imputed value 17\n",
        "\n",
        "bank_data['pdays_new'][bank_data['pdays']==-1] = 17\n",
        "print(bank_data['pdays_new'].value_counts())"
      ]
    },
    {
      "cell_type": "markdown",
      "metadata": {
        "id": "k__gV5HcfETA"
      },
      "source": [
        "Logistic Regression build"
      ]
    },
    {
      "cell_type": "code",
      "execution_count": null,
      "metadata": {
        "colab": {
          "base_uri": "https://localhost:8080/"
        },
        "id": "c0GSxmlpe7ZF",
        "outputId": "a437dc02-000a-4f61-cf79-f5314720597e"
      },
      "outputs": [
        {
          "output_type": "stream",
          "name": "stderr",
          "text": [
            "/usr/local/lib/python3.7/dist-packages/sklearn/utils/validation.py:993: DataConversionWarning: A column-vector y was passed when a 1d array was expected. Please change the shape of y to (n_samples, ), for example using ravel().\n",
            "  y = column_or_1d(y, warn=True)\n"
          ]
        },
        {
          "output_type": "stream",
          "name": "stdout",
          "text": [
            "Intercept [0.00897576]\n",
            "Coefficients [[ 2.84019809e-03 -5.15437970e-02 -3.36271175e-04  7.08878689e-02\n",
            "   4.40566997e-03  6.12214301e-01  2.79521973e-02 -1.14738573e-02]]\n"
          ]
        },
        {
          "output_type": "stream",
          "name": "stderr",
          "text": [
            "/usr/local/lib/python3.7/dist-packages/sklearn/linear_model/_logistic.py:818: ConvergenceWarning: lbfgs failed to converge (status=1):\n",
            "STOP: TOTAL NO. of ITERATIONS REACHED LIMIT.\n",
            "\n",
            "Increase the number of iterations (max_iter) or scale the data as shown in:\n",
            "    https://scikit-learn.org/stable/modules/preprocessing.html\n",
            "Please also refer to the documentation for alternative solver options:\n",
            "    https://scikit-learn.org/stable/modules/linear_model.html#logistic-regression\n",
            "  extra_warning_msg=_LOGISTIC_SOLVER_CONVERGENCE_MSG,\n"
          ]
        }
      ],
      "source": [
        "logistic2= LogisticRegression()\n",
        "\n",
        "# fitting logistic regression for target y2 on rest of the variables\n",
        "logistic2.fit(bank_data[['age']+['campaign']+['pdays_new']+['previous']+['duration_new']+['cons.price.idx']+['cons_conf_new']+['nr.employed']], bank_data[['y2']])\n",
        "\n",
        "# Checking the values of coefficients and intercept for the Logistic equation \n",
        "print(\"Intercept\", logistic2.intercept_)\n",
        "print(\"Coefficients\", logistic2.coef_)"
      ]
    },
    {
      "cell_type": "markdown",
      "metadata": {
        "id": "8bEmFQABgPt9"
      },
      "source": [
        "## Model 2 Validation\n",
        "## Confusion Matrix and accuracy"
      ]
    },
    {
      "cell_type": "code",
      "execution_count": null,
      "metadata": {
        "colab": {
          "base_uri": "https://localhost:8080/"
        },
        "id": "s5_JuDVUgH49",
        "outputId": "ab1f1d01-f425-4a69-b33a-e4a3135bb2ab"
      },
      "outputs": [
        {
          "output_type": "stream",
          "name": "stdout",
          "text": [
            "[[36011   537]\n",
            " [ 3686   954]]\n"
          ]
        }
      ],
      "source": [
        "predict2=logistic2.predict(bank_data[['age']+['campaign']+['pdays_new']+['previous']+['duration_new']+['cons.price.idx']+['cons_conf_new']+['nr.employed']])\n",
        "\n",
        "con_mat2 = confusion_matrix(bank_data[['y2']],predict2)\n",
        "print(con_mat2)"
      ]
    },
    {
      "cell_type": "code",
      "execution_count": null,
      "metadata": {
        "colab": {
          "base_uri": "https://localhost:8080/"
        },
        "id": "gO4gyV1KhO3-",
        "outputId": "6c374271-b56d-4a29-b37f-b0c0e914d8d9"
      },
      "outputs": [
        {
          "output_type": "stream",
          "name": "stdout",
          "text": [
            "col sums [39697  1491]\n",
            "Total 41188\n",
            "Model Accuracy =  0.8974701369330873\n"
          ]
        }
      ],
      "source": [
        "print(\"col sums\", sum(con_mat2))\n",
        "total2=sum(sum(con_mat2))\n",
        "print(\"Total\", total2)\n",
        "\n",
        "accuracy2=(con_mat2[0,0]+con_mat2[1,1])/total2\n",
        "print ('Model Accuracy = ', accuracy2)\n"
      ]
    },
    {
      "cell_type": "markdown",
      "metadata": {
        "id": "liDunrwDiEGQ"
      },
      "source": [
        "MODEL 2 accuracy = 89.75 %"
      ]
    },
    {
      "cell_type": "markdown",
      "metadata": {
        "id": "YuCkB3zrrNiX"
      },
      "source": [
        "# MODEL 3 : Logistic Regression\n",
        "\n",
        "Model 3 is designed to check the impact of further data cleaning of the highest impact (|z|) variable on the model."
      ]
    },
    {
      "cell_type": "code",
      "execution_count": null,
      "metadata": {
        "colab": {
          "base_uri": "https://localhost:8080/",
          "height": 872
        },
        "id": "Pj_qGnw8j6t6",
        "outputId": "8a245c64-6e45-4cbd-cfdc-3f24a91eb13f"
      },
      "outputs": [
        {
          "output_type": "stream",
          "name": "stdout",
          "text": [
            "outlier % 7.193842866854424\n",
            "0.00      0.0\n",
            "0.10     59.0\n",
            "0.20     89.0\n",
            "0.30    116.0\n",
            "0.40    146.0\n",
            "0.50    180.0\n",
            "0.60    190.0\n",
            "0.70    237.0\n",
            "0.80    301.0\n",
            "0.90    404.0\n",
            "0.91    419.0\n",
            "0.92    435.0\n",
            "0.93    454.0\n",
            "0.94    473.0\n",
            "0.95    494.0\n",
            "0.96    518.0\n",
            "0.97    545.0\n",
            "0.98    576.0\n",
            "0.99    608.0\n",
            "1.00    644.0\n",
            "Name: duration_new2, dtype: float64\n"
          ]
        },
        {
          "output_type": "stream",
          "name": "stderr",
          "text": [
            "/usr/local/lib/python3.7/dist-packages/ipykernel_launcher.py:12: SettingWithCopyWarning: \n",
            "A value is trying to be set on a copy of a slice from a DataFrame\n",
            "\n",
            "See the caveats in the documentation: https://pandas.pydata.org/pandas-docs/stable/user_guide/indexing.html#returning-a-view-versus-a-copy\n",
            "  if sys.path[0] == '':\n"
          ]
        },
        {
          "output_type": "execute_result",
          "data": {
            "text/plain": [
              "{'whiskers': [<matplotlib.lines.Line2D at 0x7ff5fa40d2d0>,\n",
              "  <matplotlib.lines.Line2D at 0x7ff5fa40d810>],\n",
              " 'caps': [<matplotlib.lines.Line2D at 0x7ff5fa40dd50>,\n",
              "  <matplotlib.lines.Line2D at 0x7ff5fa4152d0>],\n",
              " 'boxes': [<matplotlib.lines.Line2D at 0x7ff5fa408cd0>],\n",
              " 'medians': [<matplotlib.lines.Line2D at 0x7ff5fa415850>],\n",
              " 'fliers': [<matplotlib.lines.Line2D at 0x7ff5fa415d90>],\n",
              " 'means': []}"
            ]
          },
          "metadata": {},
          "execution_count": 77
        },
        {
          "output_type": "display_data",
          "data": {
            "text/plain": [
              "<Figure size 432x288 with 1 Axes>"
            ],
            "image/png": "[encoded data removed]"
          },
          "metadata": {
            "needs_background": "light"
          }
        }
      ],
      "source": [
        "# duration cleaning 2\n",
        "# threshold = 644.5 as found from the box plot logic during data exploration\n",
        "\n",
        "out = bank_data['duration'][bank_data['duration']>644.5].count()\n",
        "out_perc = 2963*100/41188\n",
        "print('outlier %', out_perc)\n",
        "# 7.2% outliers. For values > 644.50, perform stand-alone imputation. \n",
        "# Create a new field. Update new field value to median value where duration > 644.50\n",
        "\n",
        "bank_data['duration_new2'] = bank_data['duration']\n",
        "duration_median = bank_data['duration'].median()\n",
        "bank_data['duration_new2'][bank_data['duration']>644.5] = duration_median\n",
        "\n",
        "# percentile distribution of new variable\n",
        "dur_new_percent2 = bank_data['duration_new2'].quantile([0, 0.1, 0.2, 0.3, 0.4, 0.5, 0.6, 0.7, 0.8, 0.9, 0.91, 0.92, 0.93, 0.94, 0.95, 0.96, 0.97, 0.98, 0.99, 1.0])\n",
        "print(dur_new_percent2)\n",
        "plt.boxplot(bank_data['duration_new2'])"
      ]
    },
    {
      "cell_type": "code",
      "execution_count": null,
      "metadata": {
        "colab": {
          "base_uri": "https://localhost:8080/"
        },
        "id": "qwEAemE3iOkY",
        "outputId": "d6ed97c8-b30f-4d3a-f883-64d572ec211a"
      },
      "outputs": [
        {
          "output_type": "stream",
          "name": "stderr",
          "text": [
            "/usr/local/lib/python3.7/dist-packages/sklearn/utils/validation.py:993: DataConversionWarning: A column-vector y was passed when a 1d array was expected. Please change the shape of y to (n_samples, ), for example using ravel().\n",
            "  y = column_or_1d(y, warn=True)\n"
          ]
        },
        {
          "output_type": "stream",
          "name": "stdout",
          "text": [
            "Intercept [0.0093668]\n",
            "Coefficients [[ 0.00309143 -0.04541667  0.14625185  0.19551629  0.00414491  0.6146552\n",
            "   0.02596082 -0.01157623]]\n",
            "[[36010   538]\n",
            " [ 3711   929]]\n",
            "col sums [39721  1467]\n",
            "Total 41188\n"
          ]
        },
        {
          "output_type": "stream",
          "name": "stderr",
          "text": [
            "/usr/local/lib/python3.7/dist-packages/sklearn/linear_model/_logistic.py:818: ConvergenceWarning: lbfgs failed to converge (status=1):\n",
            "STOP: TOTAL NO. of ITERATIONS REACHED LIMIT.\n",
            "\n",
            "Increase the number of iterations (max_iter) or scale the data as shown in:\n",
            "    https://scikit-learn.org/stable/modules/preprocessing.html\n",
            "Please also refer to the documentation for alternative solver options:\n",
            "    https://scikit-learn.org/stable/modules/linear_model.html#logistic-regression\n",
            "  extra_warning_msg=_LOGISTIC_SOLVER_CONVERGENCE_MSG,\n"
          ]
        }
      ],
      "source": [
        "logistic2= LogisticRegression()\n",
        "\n",
        "# fitting logistic regression for target y2 on rest of the variables\n",
        "logistic2.fit(bank_data[['age']+['campaign']+['prev_campaign']+['previous']+['duration_new2']+['cons.price.idx']+['cons_conf_new']+['nr.employed']], bank_data[['y2']])\n",
        "\n",
        "# Checking the values of coefficients and intercept for the Logistic equation \n",
        "print(\"Intercept\", logistic2.intercept_)\n",
        "print(\"Coefficients\", logistic2.coef_)\n",
        "\n",
        "predict2=logistic2.predict(bank_data[['age']+['campaign']+['prev_campaign']+['previous']+['duration_new2']+['cons.price.idx']+['cons_conf_new']+['nr.employed']])\n",
        "\n",
        "# Confusion Matrix\n",
        "con_mat2 = confusion_matrix(bank_data[['y2']],predict2)\n",
        "print(con_mat2)\n",
        "\n",
        "print(\"col sums\", sum(con_mat2))\n",
        "total2=sum(sum(con_mat2))\n",
        "print(\"Total\", total2)"
      ]
    },
    {
      "cell_type": "code",
      "execution_count": null,
      "metadata": {
        "colab": {
          "base_uri": "https://localhost:8080/"
        },
        "id": "t5ACNHz7skKW",
        "outputId": "07481139-8c88-44c8-a384-e50515ae1161"
      },
      "outputs": [
        {
          "output_type": "stream",
          "name": "stdout",
          "text": [
            "Model Accuracy =  0.8968388851121686\n"
          ]
        }
      ],
      "source": [
        "accuracy2=(con_mat2[0,0]+con_mat2[1,1])/total2\n",
        "print ('Model Accuracy = ', accuracy2)\n",
        "\n",
        "# Model accuracy = 89.7 % which is not much different from Model 1"
      ]
    },
    {
      "cell_type": "markdown",
      "metadata": {
        "id": "kdMJVxRIsw12"
      },
      "source": [
        "### Logistic Regression (simple) output\n",
        "#### From Logistic Regression Modelling it is found that the best fit model is \"MODEL 1\" with an accuracy of \"89.7%\".\n"
      ]
    },
    {
      "cell_type": "markdown",
      "metadata": {
        "id": "lvA5T8GA1ydV"
      },
      "source": [
        "## Detailed Model Validation of Model 1\n",
        "\n",
        "Accuracy is a measure of overall correct prediction which includes both 0s and 1s prediction. Sometimes we are interested more in the accuracy of one of the classes. So we have other parameters that can calculate class-wise performance of the model.\n",
        "\n",
        "1. Sensitivity - Also known as Recall of Class 0. Basically it is number of times 0 was correctly predicted as 0 in percentage. \n",
        "\n",
        "Sensitivity = True Positives/(True positives + False Negatives)\n",
        "\n",
        "2. Specificity - Recall of Class 1. It is the number of times 1 was correctly predicted as 1 in percentage.\n",
        "\n",
        "Specificity = True Negatives/(True Negatives + False Positives)\n",
        "\n",
        "3. F1 score - The harmonic mean of sensitivity and specificity.\n",
        "\n",
        "F1 score = 2/{(1/Sensitivity)+(1/Specificity)}\n"
      ]
    },
    {
      "cell_type": "code",
      "execution_count": null,
      "metadata": {
        "colab": {
          "base_uri": "https://localhost:8080/"
        },
        "id": "4CQxidnH2GmV",
        "outputId": "dfd21ece-5dc3-4efb-d6ac-79000ca14cbb"
      },
      "outputs": [
        {
          "output_type": "stream",
          "name": "stdout",
          "text": [
            "Confusion Matrix\n",
            "[[35955   593]\n",
            " [ 3645   995]]\n",
            "Accuracy :  0.8971059531902495\n",
            "Sensitivity / Recall(0) :  0.9837747619568786\n",
            "Precision Class 0 :  0.9079545454545455\n",
            "F1 Score of CLass 0 :  0.9443452224615222\n",
            "Specificity / Recall(1) :  0.21443965517241378\n",
            "Precision Class 1 :  0.6265743073047859\n",
            "F1 Score of CLass 1 :  0.31952472703917795\n"
          ]
        }
      ],
      "source": [
        "# Confusion Matrix for Model 1 = con_mat11\n",
        "print('Confusion Matrix')\n",
        "print(con_mat11)\n",
        "\n",
        "total1=sum(sum(con_mat11))\n",
        "\n",
        "##### From Confusion Matrix, calculate\n",
        "\n",
        "# ACCURACY\n",
        "accuracy1=(con_mat11[0,0]+con_mat11[1,1])/total1\n",
        "print ('Accuracy : ', accuracy1)\n",
        "\n",
        "# Sensitivity (Recall of Class 0)\n",
        "sensitivity1 = con_mat11[0,0]/(con_mat11[0,0]+con_mat11[0,1])\n",
        "print('Sensitivity / Recall(0) : ', sensitivity1 )\n",
        "\n",
        "# Precision of Class 0\n",
        "precision1_0 = con_mat11[0,0]/(con_mat11[0,0]+con_mat11[1,0])\n",
        "print('Precision Class 0 : ', precision1_0 )\n",
        "\n",
        "# F1 Score of Class 0\n",
        "F1_class0 = 2/((1/precision1_0)+(1/sensitivity1))\n",
        "print('F1 Score of CLass 0 : ', F1_class0 )\n",
        "\n",
        "# Specificity (Recall of Class 1)\n",
        "specificity1 = con_mat11[1,1]/(con_mat11[1,0]+con_mat11[1,1])\n",
        "print('Specificity / Recall(1) : ', specificity1)\n",
        "\n",
        "# Precision of Class 1\n",
        "precision1_1 = con_mat11[1,1]/(con_mat11[0,1]+con_mat11[1,1])\n",
        "print('Precision Class 1 : ', precision1_1 )\n",
        "\n",
        "# F1 Score of Class 1\n",
        "F1_class1 = 2/((1/precision1_1)+(1/specificity1))\n",
        "print('F1 Score of CLass 1 : ', F1_class1 )\n"
      ]
    },
    {
      "cell_type": "code",
      "execution_count": null,
      "metadata": {
        "colab": {
          "base_uri": "https://localhost:8080/"
        },
        "id": "UKoV41mCJ3wp",
        "outputId": "62aaec0e-8839-4123-84ce-ec8ce6aabed4"
      },
      "outputs": [
        {
          "output_type": "stream",
          "name": "stdout",
          "text": [
            "0    36548\n",
            "1     4640\n",
            "Name: y2, dtype: int64\n",
            "0    88.734583\n",
            "1    11.265417\n",
            "Name: y2, dtype: float64\n"
          ]
        }
      ],
      "source": [
        "#Frequency count on target column\n",
        "freq=bank_data['y2'].value_counts()\n",
        "print(freq)\n",
        "print((freq/freq.sum())*100)"
      ]
    },
    {
      "cell_type": "markdown",
      "metadata": {
        "id": "qDxdzjUoCBy1"
      },
      "source": [
        "In full dataset, percentage of Class 1 values = 4640/41188 = 11.26%\n",
        "Class 1  = Customers who bought (Buy = Yes). This Class is more important.\n",
        "But Recall, Precision and F1 Score of Class 1 are quite low.\n",
        "\n",
        "### We have Class Imbalance"
      ]
    },
    {
      "cell_type": "markdown",
      "source": [
        "### Class Imbalance\n",
        "Sometimes, in a real world dataset, it may happen that the frequency of one class in target variable is much higher than the other class. This is called class imbalance. The issue with class imbalance is that, if we build the model on imbalanced data, then the model may not get enough data points of the minority class to correctly learn to predict it. Predictions will have low accuracy in minority class.\n",
        "\n",
        "3 ways to handle class imbalance\n",
        "\n",
        "1. Threshold variation - change how the 0s and 1s are predicted\n",
        "2. Sampling - Increase the count of minority class by duplicating records or reduce records of majority class.\n",
        "3. SMOTE - Create new synthetic datapoints through interpolation."
      ],
      "metadata": {
        "id": "pvCbmnyNfBRz"
      }
    },
    {
      "cell_type": "markdown",
      "metadata": {
        "id": "MVGvJaaHJJ1F"
      },
      "source": [
        "## Handling Class Imbalance by varying Threshold\n",
        "\n",
        "Actual predictions made by the logistic regression model equation are continous. They are converted to discrete 0 and 1 by using a default threshold value of 0.5.\n",
        "\n",
        "If value < 0.5, then predict as 0, if >= 0.5, then predict as 1.\n",
        "\n",
        "However, if we reduce the threshold value from 0.5, then less number of values will be predicted as 0 and more number of values will be predicted 1. Sensitivity decreases but Specificity increases. When threshold is increased then vice-versa. when one of the classes is more important, we can vary the threshold to improve predictions for that class.\n",
        "\n",
        "\n",
        "First we need the raw predicted values from the model without threshold being applied on them."
      ]
    },
    {
      "cell_type": "code",
      "execution_count": null,
      "metadata": {
        "colab": {
          "base_uri": "https://localhost:8080/"
        },
        "id": "edrtFzJcJpfe",
        "outputId": "7385e04b-ba88-407a-e13f-adc11bdcd40d"
      },
      "outputs": [
        {
          "output_type": "stream",
          "name": "stdout",
          "text": [
            "y2 ~ age + campaign + prev_campaign + previous + duration_new + cons_price_idx + cons_conf_new + nr_employed\n"
          ]
        }
      ],
      "source": [
        "##    Generates the y~X style formula for statsmodels \n",
        "\n",
        "## Creating new columns with proper name format\n",
        "## . in column name is not accepted in some functions\n",
        "bank_data['cons_price_idx'] = bank_data['cons.price.idx']\n",
        "bank_data['nr_employed'] = bank_data['nr.employed']\n",
        "bank_data['emp_var_rate'] = bank_data['emp.var.rate'] # Used later\n",
        "\n",
        "features = ['age','campaign','prev_campaign','previous','duration_new','cons_price_idx','cons_conf_new','nr_employed']\n",
        "df_columns = list(features)\n",
        "model_formula = 'y2' + ' ~ ' + ' + '.join(df_columns)\n",
        "print(model_formula)"
      ]
    },
    {
      "cell_type": "markdown",
      "metadata": {
        "id": "DOUQitDxb-0X"
      },
      "source": [
        "### Build the continuous value prediction model"
      ]
    },
    {
      "cell_type": "code",
      "execution_count": null,
      "metadata": {
        "colab": {
          "base_uri": "https://localhost:8080/"
        },
        "id": "0h8mQFYScFVZ",
        "outputId": "408820b9-4b7b-4edd-e8b6-80c688ef9657"
      },
      "outputs": [
        {
          "output_type": "stream",
          "name": "stdout",
          "text": [
            "Optimization terminated successfully.\n",
            "         Current function value: 0.266827\n",
            "         Iterations 8\n",
            "                           Logit Regression Results                           \n",
            "==============================================================================\n",
            "Dep. Variable:                     y2   No. Observations:                41188\n",
            "Model:                          Logit   Df Residuals:                    41179\n",
            "Method:                           MLE   Df Model:                            8\n",
            "Date:                Sun, 02 Oct 2022   Pseudo R-squ.:                  0.2420\n",
            "Time:                        09:43:27   Log-Likelihood:                -10990.\n",
            "converged:                       True   LL-Null:                       -14499.\n",
            "Covariance Type:            nonrobust   LLR p-value:                     0.000\n",
            "==================================================================================\n",
            "                     coef    std err          z      P>|z|      [0.025      0.975]\n",
            "----------------------------------------------------------------------------------\n",
            "Intercept         69.2399      2.674     25.897      0.000      64.000      74.480\n",
            "age                0.0011      0.002      0.724      0.469      -0.002       0.004\n",
            "campaign          -0.0239      0.010     -2.451      0.014      -0.043      -0.005\n",
            "prev_campaign      1.8219      0.080     22.669      0.000       1.664       1.979\n",
            "previous          -0.2853      0.036     -7.937      0.000      -0.356      -0.215\n",
            "duration_new       0.0045      0.000     42.146      0.000       0.004       0.005\n",
            "cons_price_idx    -0.1131      0.030     -3.802      0.000      -0.171      -0.055\n",
            "cons_conf_new      0.0239      0.003      6.991      0.000       0.017       0.031\n",
            "nr_employed       -0.0119      0.000    -44.836      0.000      -0.012      -0.011\n",
            "==================================================================================\n",
            "[0.07023235 0.0435544  0.05938959 0.04315851 0.08511315 0.05312841\n",
            " 0.04179404 0.05738966 0.11112906 0.02731722]\n"
          ]
        },
        {
          "output_type": "execute_result",
          "data": {
            "text/plain": [
              "41188"
            ]
          },
          "metadata": {},
          "execution_count": 83
        }
      ],
      "source": [
        "import statsmodels.formula.api as sm\n",
        "\n",
        "prediction_model=sm.logit(model_formula, data=bank_data)\n",
        "results=prediction_model.fit()\n",
        "print(results.summary())\n",
        "\n",
        "predictions = results.predict()\n",
        "print(predictions[0:10])\n",
        "len(predictions)\n",
        "# We got the raw predicted values of the logistic regression model for all the records"
      ]
    },
    {
      "cell_type": "markdown",
      "metadata": {
        "id": "XrwmeJQFk02w"
      },
      "source": [
        "### ROC Curve\n",
        "\n",
        "It is a graph plotted as Sensitivity vs (1 - Specificity) for every possible value of the threshold. It helps us understand the below points\n",
        "\n",
        "1. How specificity varies with sensitivity\n",
        "2. The margin of mistakes or errors we are willing to compromise with to get a particular value of sensitivity or specificity.\n",
        "3. Optimal threshold value"
      ]
    },
    {
      "cell_type": "code",
      "execution_count": null,
      "metadata": {
        "colab": {
          "base_uri": "https://localhost:8080/"
        },
        "id": "wFv8zLCge4TR",
        "outputId": "a6ca336d-9eee-44b1-8eaf-70a41a526607"
      },
      "outputs": [
        {
          "output_type": "stream",
          "name": "stdout",
          "text": [
            "false_positive_rate [0.00000000e+00 0.00000000e+00 2.73612783e-05 ... 9.94637189e-01\n",
            " 9.94691912e-01 1.00000000e+00]\n",
            "true_positive_rate [0.00000000e+00 2.15517241e-04 2.15517241e-04 ... 1.00000000e+00\n",
            " 1.00000000e+00 1.00000000e+00]\n",
            "thresholds [1.9699017  0.9699017  0.96723575 ... 0.0100702  0.01001782 0.00494967]\n"
          ]
        }
      ],
      "source": [
        "from sklearn.metrics import roc_curve, auc\n",
        "import matplotlib.pyplot as plt\n",
        "\n",
        "actual = bank_data[\"y2\"]\n",
        "false_positive_rate, true_positive_rate, thresholds = roc_curve(actual, predictions)\n",
        "print(\"false_positive_rate\", false_positive_rate)\n",
        "print(\"true_positive_rate\", true_positive_rate)\n",
        "print(\"thresholds\", thresholds)"
      ]
    },
    {
      "cell_type": "code",
      "execution_count": null,
      "metadata": {
        "colab": {
          "base_uri": "https://localhost:8080/",
          "height": 295
        },
        "id": "6ZJ2q4mmlKvb",
        "outputId": "75178282-9d86-4573-825c-8a79e784520b"
      },
      "outputs": [
        {
          "output_type": "display_data",
          "data": {
            "text/plain": [
              "<Figure size 432x288 with 1 Axes>"
            ],
            "image/png": "[encoded data removed]"
          },
          "metadata": {
            "needs_background": "light"
          }
        }
      ],
      "source": [
        "import matplotlib.pyplot as plt\n",
        "plt.title('ROC Curve')\n",
        "#Drawing ROC Curve\n",
        "plt.plot(false_positive_rate, true_positive_rate)\n",
        "\n",
        "#X and Y  Axis Limits \n",
        "plt.xlim([-0,1])\n",
        "plt.ylim([-0,1])\n",
        "\n",
        "# Labels \n",
        "plt.ylabel('True Positive Rate(Sensitivity)')\n",
        "plt.xlabel('False Positive Rate(1 - Specificity)')\n",
        "plt.show()"
      ]
    },
    {
      "cell_type": "code",
      "execution_count": null,
      "metadata": {
        "colab": {
          "base_uri": "https://localhost:8080/",
          "height": 295
        },
        "id": "Vh5X16Nz23cy",
        "outputId": "6f13a83e-c615-4ab3-b487-672f47f6c7a7"
      },
      "outputs": [
        {
          "output_type": "display_data",
          "data": {
            "text/plain": [
              "<Figure size 432x288 with 1 Axes>"
            ],
            "image/png": "[encoded data removed]"
          },
          "metadata": {
            "needs_background": "light"
          }
        }
      ],
      "source": [
        "plt.title('Threshold vs False-positive rate')\n",
        "plt.plot(false_positive_rate, thresholds)\n",
        "\n",
        "# X and Y  Axis Limits \n",
        "plt.xlim([-0,1])\n",
        "plt.ylim([-0,1])\n",
        "\n",
        "# labels\n",
        "plt.ylabel('Threshold')\n",
        "plt.xlabel('(1 - Specificity)')\n",
        "plt.show()"
      ]
    },
    {
      "cell_type": "markdown",
      "metadata": {
        "id": "IdIEAsEJlhl7"
      },
      "source": [
        "### AUC\n",
        "Area under the ROC Curve : It is a measure of the overall fit of the model. A logitic regression model having higher AUC will predict more accurately. Hence, it is used to compare models to find out which one has better fit."
      ]
    },
    {
      "cell_type": "code",
      "execution_count": null,
      "metadata": {
        "colab": {
          "base_uri": "https://localhost:8080/"
        },
        "id": "Nib_DYqflskv",
        "outputId": "70631a58-13a8-4169-acb8-e6a3fe359b73"
      },
      "outputs": [
        {
          "output_type": "execute_result",
          "data": {
            "text/plain": [
              "0.8185543668600197"
            ]
          },
          "metadata": {},
          "execution_count": 87
        }
      ],
      "source": [
        "roc_auc = auc(false_positive_rate, true_positive_rate)\n",
        "roc_auc"
      ]
    },
    {
      "cell_type": "markdown",
      "metadata": {
        "id": "JYEeativl6Xo"
      },
      "source": [
        "### Threshold"
      ]
    },
    {
      "cell_type": "code",
      "execution_count": null,
      "metadata": {
        "colab": {
          "base_uri": "https://localhost:8080/"
        },
        "id": "G4hBIUWfmbO7",
        "outputId": "6a26b1b2-f026-405e-e288-3bde337914a8"
      },
      "outputs": [
        {
          "output_type": "stream",
          "name": "stdout",
          "text": [
            "Confusion Matrix : \n",
            " [[27583  8965]\n",
            " [ 1114  3526]]\n",
            "Accuracy :  0.7552928037292416\n",
            "Sensitivity :  0.7547061398708548\n",
            "Specificity :  0.7599137931034483\n"
          ]
        }
      ],
      "source": [
        "### Sensitivity vs Specificity with Different Thresholds\n",
        "### Converting predicted values into classes using new threshold\n",
        "threshold=0.1\n",
        "predicted_class1=[ 0 if x < threshold else 1 for x in predictions]\n",
        "\n",
        "#Change in Confusion Matrix, Accuracy and Sensitivity-Specificity\n",
        "#Confusion matrix, Accuracy, sensitivity and specificity\n",
        "cm1 = confusion_matrix(bank_data[\"y2\"],predicted_class1)\n",
        "print('Confusion Matrix : \\n', cm1)\n",
        "\n",
        "total1=sum(sum(cm1))\n",
        "### from confusion matrix calculate accuracy\n",
        "accuracy1=(cm1[0,0]+cm1[1,1])/total1\n",
        "print ('Accuracy : ', accuracy1)\n",
        "\n",
        "sensitivity1 = cm1[0,0]/(cm1[0,0]+cm1[0,1])\n",
        "print('Sensitivity : ', sensitivity1 )\n",
        "\n",
        "specificity1 = cm1[1,1]/(cm1[1,0]+cm1[1,1])\n",
        "print('Specificity : ', specificity1)"
      ]
    },
    {
      "cell_type": "code",
      "source": [
        "actual = bank_data[\"y2\"]\n",
        "false_positive_rate, true_positive_rate, thresholds = roc_curve(actual, predicted_class1)\n",
        "print(\"false_positive_rate\", false_positive_rate)\n",
        "print(\"true_positive_rate\", true_positive_rate)\n",
        "print(\"thresholds\", thresholds)\n",
        "\n",
        "#Drawing ROC Curve\n",
        "plt.title('ROC Curve with Threshold = 0.1')\n",
        "plt.plot(false_positive_rate, true_positive_rate)\n",
        "\n",
        "#X and Y  Axis Limits \n",
        "plt.xlim([-0,1])\n",
        "plt.ylim([-0,1])\n",
        "plt.show()\n",
        "\n",
        "roc_auc = auc(false_positive_rate, true_positive_rate)\n",
        "print('ROC AUC: ', roc_auc)"
      ],
      "metadata": {
        "colab": {
          "base_uri": "https://localhost:8080/",
          "height": 350
        },
        "id": "iCh-a9McnEim",
        "outputId": "a06a8566-a93f-4799-d60a-eab5ef6be145"
      },
      "execution_count": null,
      "outputs": [
        {
          "output_type": "stream",
          "name": "stdout",
          "text": [
            "false_positive_rate [0.         0.24529386 1.        ]\n",
            "true_positive_rate [0.         0.75991379 1.        ]\n",
            "thresholds [2 1 0]\n"
          ]
        },
        {
          "output_type": "display_data",
          "data": {
            "text/plain": [
              "<Figure size 432x288 with 1 Axes>"
            ],
            "image/png": "[encoded data removed]"
          },
          "metadata": {
            "needs_background": "light"
          }
        },
        {
          "output_type": "stream",
          "name": "stdout",
          "text": [
            "ROC AUC:  0.7573099664871515\n"
          ]
        }
      ]
    },
    {
      "cell_type": "markdown",
      "metadata": {
        "id": "JhqMVP-FoPFD"
      },
      "source": [
        "We are using only one value of threshold i.e. 0.1. So we have one data point only. Hence ROC looks like this.\n",
        "\n",
        "Specificity increased to 76% when threshold is reduced to 0.1\n",
        "Corresponding sensitivity = 75.5%"
      ]
    },
    {
      "cell_type": "markdown",
      "source": [
        "# MODEL 4 - Decision Tree\n",
        "To find out the best fit model along with customer segmentation."
      ],
      "metadata": {
        "id": "SOYeWDWWkgEm"
      }
    },
    {
      "cell_type": "markdown",
      "source": [
        "### Decision Tree Theory\n",
        "\n",
        "Logic - By rearranging the data we can get the predicted values.\n",
        "\n",
        "In decision tree, the dataset is divided into 2 subsets so that one of the subsets has class 1 dominance (count wise), and the other subset has class 0 dominance. The criteria of split is automatically chosen based on entropy calculation. This split is carried on with each subsequent subsets, till we have pure subset (only 1s or only 0s), or until all the criteria have been exhausted.\n",
        "\n",
        "* Node - Every dataset and subset in a decision tree is called a node.\n",
        "* Parent node - The dataset that is split into 2 subsets.\n",
        "* Child node - The subsets obtained after the split. Child nodes are subsets and are also known as segments.\n",
        "* Binary tree - A data structure in which each parent node is split into exactly 2 child nodes is call a binary tree. Decision tree is a binary tree.\n",
        "* Leaf node - A node that cannot be further split into child nodes.\n",
        "* Entropy - The measure of randomness or impurity in a dataset. \n",
        "\n",
        "Entropy = - P0 log2 P0 - P1 log2 P1\n",
        ", where P0 is the ratio of class 0 in the dataset and P1 is the ratio of class 1.\n",
        "* Information gain - The change in entropy before and after the split is called information gain. \n",
        "\n",
        "Information gain = Entropy of parent node - Weighted entropy of the child nodes\n",
        "\n",
        "Weighted entropy = (Entropy of child1 * %age records of class 1) + (Entropy of child2 * %age of records of class 2)\n",
        "* Splitting criteria - A predictor variable and its corresponding value range is so chosen that it gives maximum information gain after splitting. At every split IG is calculated again.\n",
        "\n"
      ],
      "metadata": {
        "id": "9q_pwURFkgzK"
      }
    },
    {
      "cell_type": "markdown",
      "source": [
        "### Decision Tree processing steps\n",
        "\n",
        "1. On the full dataset, calculate IG for every variable for every possible value.\n",
        "2. Pick the variable with highest IG and split.\n",
        "3. Check if the child nodes have pure class.\n",
        "4. If pure class, then stop splitting.\n",
        "5. If impure class, then implement steps 1, 2, 3 on that child node.\n",
        "6. Continue the process till we have pure class in every leaf node or we run out of splitting criteria."
      ],
      "metadata": {
        "id": "K9XkPLhRqzXG"
      }
    },
    {
      "cell_type": "markdown",
      "source": [
        "### Decision Tree implementation on real world data and stopping condition\n",
        "\n",
        "In real world data set, it is not easy to get fully pure subsets. So to make the segments fully pure, the decision tree will keep on iterating. The depth of tree and number of leaf nodes will keep on increasing. \n",
        "\n",
        "#### Overfitting\n",
        "The output of the decision tree is a set of rules which make the prediction. Every leaf node is a rule. With increase in number of leaf nodes, number of rules increases. It may be possible that, if a dataset has 10000 records, the decision tree will fit every singe record into individual leaf nodes. So we will have 10000 leaf nodes and 10000 rules. Such a DTree will have 100% accuracy.\n",
        "\n",
        "The problem with such a scenario is that the tree is basically customized to work on that dataset only. It is like the DTree has memorized that dataset. So it will fail on other datasets and will have low accuracy. This problem is called Overfitting.\n",
        "\n",
        "#### Stopping criteria\n",
        "We have to limit the size of the Dtree so that it can work well with all datasets. So we define two parameters to check the tree growth. We expect to get leaf nodes with purity or class dominance. So, maximum possible accuracy with limited leaf nodes.\n",
        "* max_leaf_nodes = maximum number of leaf nodes that a tree can have. Splitting will cease once this number is achieved.\n",
        "* max_depth = The maximum number of levels to which the tree can grow. If max_depth is d, then maximum number of leaf nodes will be 2^d.\n",
        "\n",
        "#### Underfitting\n",
        "If the size of the tree is too small, the accuracy of the prediction will be low. Accuracy can still be improved by increasing the number of leaf nodes. Such a scenario is called Underfitting.\n",
        "\n",
        "#### Solving the issue of Underfitting and Overfitting - Train and Test data\n",
        "\n",
        "We take the full dataset and split it into two sets record-wise in the 80%-20% ratio, lets say. The 80% set is called train data and it is used to build the model. We may implement sampling and SMOTE techniques on this set to handle class imbalance before building the model. The 20% set is called test data. It is a reflection of the real world data distribution. It is used to validate the model. The accuracy we get on test dataset is the accuracy of the model. We can expect to get similar accuracy on other real world datasets. Train and test datasets should have mutually exclusive records.\n",
        "\n",
        "#### Building best model\n",
        "Achieve maximum possible accuracy on train data by trying different values of hyper parameters. Attain matcing accuracy on test data. The acceptable difference between them can be maximum 1%-2%."
      ],
      "metadata": {
        "id": "Mhze9laos2HW"
      }
    },
    {
      "cell_type": "markdown",
      "metadata": {
        "id": "V7zn9hIWje0F"
      },
      "source": [
        "### Variables used\n",
        "1. age\n",
        "2. campaign\n",
        "3. prev_campaign\n",
        "4. previous\n",
        "5. emp.var.rate\n",
        "6. duration_new\n",
        "7. cons.price.idx\n",
        "8. cons_conf_new\n",
        "9. euribor3m\n",
        "10. nr.employed\n"
      ]
    },
    {
      "cell_type": "code",
      "execution_count": null,
      "metadata": {
        "colab": {
          "base_uri": "https://localhost:8080/"
        },
        "id": "f5IGNqfrLoSO",
        "outputId": "e413d669-1bcd-4244-f89c-6118eb39ec7e"
      },
      "outputs": [
        {
          "output_type": "stream",
          "name": "stdout",
          "text": [
            "train_accuracy 0.9155083459787557\n",
            "test_accuracy 0.915877640203933\n"
          ]
        }
      ],
      "source": [
        "from sklearn.model_selection import train_test_split\n",
        "from sklearn import tree\n",
        "\n",
        "features = ['age','campaign','prev_campaign','previous','emp_var_rate','duration_new','cons_price_idx','cons_conf_new','euribor3m','nr_employed']\n",
        "\n",
        "X = bank_data[features]\n",
        "y = bank_data['y']\n",
        "\n",
        "# Splitting the dataset into training and testing datasets\n",
        "X_train, X_test, y_train, y_test = train_test_split(X,y, train_size = 0.8 , random_state=300)\n",
        "\n",
        "# Building the best model with high train accuracy\n",
        "dtree_model1 = tree.DecisionTreeClassifier(max_leaf_nodes = 45)\n",
        "dtree_model1.fit(X_train,y_train)\n",
        "\n",
        "train_acc= dtree_model1.score(X_train,y_train)\n",
        "print(\"train_accuracy\", train_acc)\n",
        "\n",
        "test_acc= dtree_model1.score(X_test,y_test)\n",
        "print(\"test_accuracy\", test_acc)"
      ]
    },
    {
      "cell_type": "code",
      "execution_count": null,
      "metadata": {
        "id": "uxnApC5wx8g9"
      },
      "outputs": [],
      "source": [
        "# Plotting the tree\n",
        "\n",
        "# import matplotlib.pyplot as plt\n",
        "# from sklearn.tree import plot_tree, export_text\n",
        "# plt.figure(figsize=(15,15))\n",
        "# plot_tree(dtree_model1, filled=True, \n",
        "#                      rounded=True,\n",
        "#                      impurity=False,\n",
        "#                      feature_names = features)\n",
        "# print( export_text(dtree_model1, feature_names = features))"
      ]
    },
    {
      "cell_type": "markdown",
      "metadata": {
        "id": "8CDBP5gHuybA"
      },
      "source": [
        "Model 4 : Decision Tree (max leaf nodes = 45)\n",
        "Train accuracy = 91.55%, Test accuracy = 91.6%\n",
        "\n",
        "### Model Validation using Confusion Matrix"
      ]
    },
    {
      "cell_type": "code",
      "execution_count": null,
      "metadata": {
        "colab": {
          "base_uri": "https://localhost:8080/"
        },
        "id": "-xRXjMfqwdMt",
        "outputId": "2d7fe057-6b91-4804-d40d-11269a6e0c09"
      },
      "outputs": [
        {
          "output_type": "stream",
          "name": "stdout",
          "text": [
            "Train Accuracy 0.9155083459787557\n",
            "Test Accuracy 0.915877640203933\n"
          ]
        }
      ],
      "source": [
        "predict1 = dtree_model1.predict(X_train)\n",
        "predict2 = dtree_model1.predict(X_test)\n",
        "\n",
        "#On Train Data\n",
        "cm1 = confusion_matrix(y_train,predict1)\n",
        "total1 = sum(sum(cm1))\n",
        "accuracy1 = (cm1[0,0]+cm1[1,1])/total1\n",
        "print(\"Train Accuracy\", accuracy1)\n",
        "\n",
        "#On Test Data\n",
        "cm2 = confusion_matrix(y_test,predict2)\n",
        "total2 = sum(sum(cm2))\n",
        "accuracy2 = (cm2[0,0]+cm2[1,1])/total2\n",
        "print(\"Test Accuracy\", accuracy2)\n",
        "\n",
        "# Therefore we can conclude that, dtree_model1.score() is same as the accuracy from confusion matrix\n"
      ]
    },
    {
      "cell_type": "markdown",
      "metadata": {
        "id": "muLijWeDza3v"
      },
      "source": [
        "Since, the test data is close to real world data distribution and model was not built on test data, we can condiser test accuracy as the accuracy of the model when it will be run on any other real world dataset as well.\n",
        "### Final accuracy  = 91.6%"
      ]
    },
    {
      "cell_type": "markdown",
      "metadata": {
        "id": "-pyG_4lmyBcA"
      },
      "source": [
        "## Model Validation Parameters"
      ]
    },
    {
      "cell_type": "code",
      "execution_count": null,
      "metadata": {
        "colab": {
          "base_uri": "https://localhost:8080/"
        },
        "id": "TVhSKfAHyhLY",
        "outputId": "0995edb5-2fc6-4df6-85d3-d210fd8c216d"
      },
      "outputs": [
        {
          "output_type": "stream",
          "name": "stdout",
          "text": [
            "Sensitivity / Recall(0) :  0.9697630073549441\n",
            "Precision Class 0 :  0.9379528388881571\n",
            "F1 Score of CLass 0 :  0.9535927141230832\n",
            "Specificity / Recall(1) :  0.47433035714285715\n",
            "Precision Class 1 :  0.6568778979907264\n",
            "F1 Score of CLass 1 :  0.5508749189889824\n"
          ]
        }
      ],
      "source": [
        "##### From Confusion Matrix, we calculate\n",
        "\n",
        "# Sensitivity (Recall of Class 0)\n",
        "sensitivity4 = cm2[0,0]/(cm2[0,0]+cm2[0,1])\n",
        "print('Sensitivity / Recall(0) : ', sensitivity4 )\n",
        "\n",
        "# Precision of Class 0\n",
        "precision4_0 = cm2[0,0]/(cm2[0,0]+cm2[1,0])\n",
        "print('Precision Class 0 : ', precision4_0 )\n",
        "\n",
        "# F1 Score of Class 0\n",
        "F1_class0_m4 = 2/((1/precision4_0)+(1/sensitivity4))\n",
        "print('F1 Score of CLass 0 : ', F1_class0_m4 )\n",
        "\n",
        "# Specificity (Recall of Class 1)\n",
        "specificity4 = cm2[1,1]/(cm2[1,0]+cm2[1,1])\n",
        "print('Specificity / Recall(1) : ', specificity4)\n",
        "\n",
        "# Precision of Class 1\n",
        "precision4_1 = cm2[1,1]/(cm2[0,1]+cm2[1,1])\n",
        "print('Precision Class 1 : ', precision4_1 )\n",
        "\n",
        "# F1 Score of Class 1\n",
        "F1_class1_m4 = 2/((1/precision4_1)+(1/specificity4))\n",
        "print('F1 Score of CLass 1 : ', F1_class1_m4 )\n"
      ]
    },
    {
      "cell_type": "markdown",
      "metadata": {
        "id": "uz1Sw1Ac7YBU"
      },
      "source": [
        "## Handling Class Imbalance"
      ]
    },
    {
      "cell_type": "code",
      "execution_count": null,
      "metadata": {
        "colab": {
          "base_uri": "https://localhost:8080/"
        },
        "id": "Hu0YS4QK7yA7",
        "outputId": "7991d02b-e39f-481b-d2e2-d5834fbf0f5a"
      },
      "outputs": [
        {
          "output_type": "stream",
          "name": "stdout",
          "text": [
            "Actual Data : (41188, 36)\n",
            "no     36548\n",
            "yes     4640\n",
            "Name: y, dtype: int64\n",
            "no     88.734583\n",
            "yes    11.265417\n",
            "Name: y, dtype: float64\n",
            "Class0 Actual : (29206, 11)\n",
            "Class1 Actual  : (3744, 11)\n"
          ]
        }
      ],
      "source": [
        "print(\"Actual Data :\", bank_data.shape)\n",
        "\n",
        "# Frequency count on target column\n",
        "freq=bank_data['y'].value_counts()\n",
        "print(freq)\n",
        "print((freq/freq.sum())*100)\n",
        "\n",
        "# Train dataset\n",
        "bank_train_ds = X_train\n",
        "bank_train_ds['y'] = y_train\n",
        "\n",
        "# Classwise data\n",
        "buy_no_class0 = bank_train_ds[bank_train_ds['y'] == 'no']\n",
        "buy_yes_class1 = bank_train_ds[bank_train_ds['y'] == 'yes']\n",
        "\n",
        "print(\"Class0 Actual :\", buy_no_class0.shape)\n",
        "print(\"Class1 Actual  :\", buy_yes_class1.shape)\n",
        "\n",
        "X_train = X_train.drop(columns = ['y'])"
      ]
    },
    {
      "cell_type": "markdown",
      "source": [
        "The percentage of 1s in the distribution is only 11% wile 0s are 89%. The data is imbalanced. Building a model on this data will not predict the 1s accurately as there aren't enough datapoints to learn their pattern. So we have to balance the ratio and bring it close to 1:1 to build a proper model."
      ],
      "metadata": {
        "id": "zN9qb8jF8rvg"
      }
    },
    {
      "cell_type": "markdown",
      "metadata": {
        "id": "KfVWPDBc8ouv"
      },
      "source": [
        "## Undersampling and Oversampling\n",
        "\n",
        "Undersampling means we reduce the number of records of the mojority class by a certain percentage. Here we will be reducing the records of class 0 by 20% and keeping 80%.\n",
        "\n",
        "Oversampling means we increase the number of records of minority class to a certain percentage by duplicating records. Here we will increase the class 1 records to 400%. "
      ]
    },
    {
      "cell_type": "code",
      "execution_count": null,
      "metadata": {
        "colab": {
          "base_uri": "https://localhost:8080/"
        },
        "id": "XzJ_klGt8wZG",
        "outputId": "e78ede98-9fe8-4bb2-9efe-b4ca65ec9867"
      },
      "outputs": [
        {
          "output_type": "stream",
          "name": "stdout",
          "text": [
            "Class0 Undersample : (23364, 11)\n",
            "Class1 Oversample : (14976, 11)\n",
            "Sampled Data : (38340, 11)\n",
            "no     23364\n",
            "yes    14976\n",
            "Name: y, dtype: int64\n"
          ]
        }
      ],
      "source": [
        "## Undersampling of class-0\n",
        "## Consider 80% of class-0\n",
        "buy_no_class0_under = buy_no_class0.sample(int(0.8*len(buy_no_class0)))\n",
        "print(\"Class0 Undersample :\", buy_no_class0_under.shape)\n",
        "\n",
        "## Oversampling of Class-1 \n",
        "# Lets increase Class-0 size by 4 times\n",
        "buy_yes_class1_over = buy_yes_class1.sample(4*len(buy_yes_class1),replace=True)\n",
        "print(\"Class1 Oversample :\", buy_yes_class1_over.shape)\n",
        "\n",
        "#Concatenate to create the final balanced data\n",
        "sampled_data=pd.concat([buy_no_class0_under,buy_yes_class1_over])\n",
        "print(\"Sampled Data :\", sampled_data.shape)\n",
        "\n",
        "#Frequency count on target column in the sampled data\n",
        "freq=sampled_data['y'].value_counts()\n",
        "print(freq)\n"
      ]
    },
    {
      "cell_type": "markdown",
      "metadata": {
        "id": "brol_wp6wgLh"
      },
      "source": [
        "## Using SMOTE to further reduce Class Imbalance\n",
        "\n",
        "SMOTE stands for Synthetic Minority Oversampling Technique. In this method, we pick a data point and five data points closest to it. Out of the five we pick one randomly. Then we extrapolate the two points, and a point is picked randomly between the two data points on the extrapolated line. This new data point is a smote point.\n",
        "\n",
        "Smote can be implemented only on numerical variables.\n",
        "\n",
        "Sampling strategy defines the percentage of the smote class (class 1) in comparison the other class. If it is not mentioned, default is 100%, which means we will have exact same number of records for class 1 as we have in class 0.\n",
        "\n",
        "\n",
        "random_state - If we do not define this parameter, everytime the sample obtained from smote will have different set of datapoints. But if we need same set of datapoints each time we run the code, the  we use random_state = some number. Every number will create a unique dataset associated with that number as seed. On repeated executions, same dataset will be generated ensuring consistency in results.\n"
      ]
    },
    {
      "cell_type": "code",
      "execution_count": null,
      "metadata": {
        "colab": {
          "base_uri": "https://localhost:8080/"
        },
        "id": "DIlaHMfvwpT6",
        "outputId": "6febefcb-ea52-4909-bdf9-d1129fd823eb"
      },
      "outputs": [
        {
          "output_type": "stream",
          "name": "stdout",
          "text": [
            "(38340, 10)\n",
            "(38340,)\n",
            "(44391, 10)\n",
            "(44391,)\n",
            "After SMOTE Counter({'no': 23364, 'yes': 21027})\n"
          ]
        }
      ],
      "source": [
        "features = ['age','campaign','prev_campaign','previous','emp_var_rate','duration_new','cons_price_idx','cons_conf_new','euribor3m','nr_employed']\n",
        "X_train=sampled_data[features]\n",
        "print(X_train.shape)\n",
        "\n",
        "y_train=sampled_data['y']\n",
        "print(y_train.shape)\n",
        "\n",
        "from imblearn.over_sampling import SMOTE \n",
        "smote = SMOTE(sampling_strategy=0.9, random_state = 300)\n",
        "X_train_smote, y_train_smote = smote.fit_resample(X_train, y_train)\n",
        "\n",
        "print(X_train_smote.shape)\n",
        "print(y_train_smote.shape)\n",
        "\n",
        "import collections\n",
        "print(\"After SMOTE\", collections.Counter(y_train_smote))\n"
      ]
    },
    {
      "cell_type": "code",
      "source": [
        "# previously created test dataset from original data\n",
        "print(X_test.shape)\n",
        "print(y_test.shape)\n"
      ],
      "metadata": {
        "colab": {
          "base_uri": "https://localhost:8080/"
        },
        "id": "mmzEzcnowNU5",
        "outputId": "fe8c4666-a2f1-4dc2-ff7b-43104eaea226"
      },
      "execution_count": null,
      "outputs": [
        {
          "output_type": "stream",
          "name": "stdout",
          "text": [
            "(8238, 10)\n",
            "(8238,)\n"
          ]
        }
      ]
    },
    {
      "cell_type": "markdown",
      "metadata": {
        "id": "gJi3zUIl4aat"
      },
      "source": [
        "# MODEL 5 : Decision Tree with Balanced Data"
      ]
    },
    {
      "cell_type": "code",
      "execution_count": null,
      "metadata": {
        "colab": {
          "base_uri": "https://localhost:8080/"
        },
        "id": "BOVrUkSn4rKH",
        "outputId": "1c2ef737-a998-4622-89a2-0332f271f721"
      },
      "outputs": [
        {
          "output_type": "stream",
          "name": "stdout",
          "text": [
            "train_accuracy 0.8824311234259197\n",
            "test_accuracy 0.8714493809176985\n"
          ]
        }
      ],
      "source": [
        "# Building the model with max train accuracy and matching test_accuracy\n",
        "\n",
        "dtree_model2 = tree.DecisionTreeClassifier(max_leaf_nodes = 30)#30\n",
        "dtree_model2.fit(X_train_smote,y_train_smote)\n",
        "\n",
        "train_acc= dtree_model2.score(X_train_smote,y_train_smote)\n",
        "print(\"train_accuracy\", train_acc)\n",
        "\n",
        "test_acc= dtree_model2.score(X_test,y_test)\n",
        "print(\"test_accuracy\", test_acc)"
      ]
    },
    {
      "cell_type": "markdown",
      "metadata": {
        "id": "ZTwr1kLm9aHW"
      },
      "source": [
        "### K - Fold Cross Validation\n",
        "#### ( 10-Fold Cross Validation )"
      ]
    },
    {
      "cell_type": "code",
      "execution_count": null,
      "metadata": {
        "colab": {
          "base_uri": "https://localhost:8080/"
        },
        "id": "SwThK-ao9Pq7",
        "outputId": "7f462e70-639c-4e0f-8dee-8f7869132215"
      },
      "outputs": [
        {
          "output_type": "stream",
          "name": "stdout",
          "text": [
            "[0.94998786 0.94586065 0.93493566 0.91866958 0.76911872 0.93226511\n",
            " 0.87739743 0.85506191 0.83244293 0.59664886]\n",
            "Avg K-Fold Accuracy 0.8612388708859464\n"
          ]
        }
      ],
      "source": [
        "tree_KF = tree.DecisionTreeClassifier()\n",
        "\n",
        "#Simple K-Fold cross validation. 10 folds.\n",
        "from sklearn.model_selection import KFold\n",
        "kfold_models = KFold(n_splits=10)\n",
        "\n",
        "from sklearn import model_selection\n",
        "scores = model_selection.cross_val_score(tree_KF,X, y,cv=kfold_models)\n",
        "print(scores)\n",
        "print(\"Avg K-Fold Accuracy\", scores.mean())"
      ]
    },
    {
      "cell_type": "markdown",
      "metadata": {
        "id": "FmCUjpCq_IOx"
      },
      "source": [
        "## Confusion Matrix and Model Validation Parameters"
      ]
    },
    {
      "cell_type": "code",
      "execution_count": null,
      "metadata": {
        "colab": {
          "base_uri": "https://localhost:8080/"
        },
        "id": "5j8kwEWs_WKX",
        "outputId": "fa100505-e6f0-401c-edd2-98db4dcfafd4"
      },
      "outputs": [
        {
          "output_type": "stream",
          "name": "stdout",
          "text": [
            "Confusion matrix : \n",
            " [[6405  937]\n",
            " [ 122  774]]\n",
            "Overall Accuracy 0.8714493809176985\n",
            "\n",
            " MODEL VALIDATION PARAMETERS\n",
            "Sensitivity / Recall(0) :  0.8723780986107328\n",
            "Precision Class 0 :  0.9813084112149533\n",
            "F1 Score of CLass 0 :  0.9236426562837983\n",
            "Specificity / Recall(1) :  0.8638392857142857\n",
            "Precision Class 1 :  0.4523670368205728\n",
            "F1 Score of CLass 1 :  0.5937859608745685\n"
          ]
        }
      ],
      "source": [
        "# predicting for test data once again\n",
        "predict5 = dtree_model2.predict(X_test)\n",
        "\n",
        "# Model accuracy = Test data accuracy\n",
        "# Confusion Matrix for Model 5\n",
        "cm5 = confusion_matrix(y_test,predict5)\n",
        "print('Confusion matrix : \\n', cm5)\n",
        "\n",
        "# Overall Accuracy\n",
        "total5 = sum(sum(cm5))\n",
        "accuracy5 = (cm5[0,0]+cm5[1,1])/total5\n",
        "print(\"Overall Accuracy\", accuracy5)\n",
        "\n",
        "print('\\n MODEL VALIDATION PARAMETERS')\n",
        "\n",
        "# Sensitivity (Recall of Class 0)\n",
        "sensitivity5 = cm5[0,0]/(cm5[0,0]+cm5[0,1])\n",
        "print('Sensitivity / Recall(0) : ', sensitivity5 )\n",
        "\n",
        "# Precision of Class 0\n",
        "precision5_0 = cm5[0,0]/(cm5[0,0]+cm5[1,0])\n",
        "print('Precision Class 0 : ', precision5_0 )\n",
        "\n",
        "# F1 Score of Class 0\n",
        "F1_class0_m5 = 2/((1/precision5_0)+(1/sensitivity5))\n",
        "print('F1 Score of CLass 0 : ', F1_class0_m5 )\n",
        "\n",
        "# Specificity (Recall of Class 1)\n",
        "specificity5 = cm5[1,1]/(cm5[1,0]+cm5[1,1])\n",
        "print('Specificity / Recall(1) : ', specificity5)\n",
        "\n",
        "# Precision of Class 1\n",
        "precision5_1 = cm5[1,1]/(cm5[0,1]+cm5[1,1])\n",
        "print('Precision Class 1 : ', precision5_1 )\n",
        "\n",
        "# F1 Score of Class 1\n",
        "F1_class1_m5 = 2/((1/precision5_1)+(1/specificity5))\n",
        "print('F1 Score of CLass 1 : ', F1_class1_m5 )"
      ]
    },
    {
      "cell_type": "markdown",
      "source": [
        "### Findings\n",
        "After balancing the data, the Specificity increased from 47.4% to 86.4%. F1 score of class 1 increased from 55.1% to 59.4%.\n",
        "\n",
        "Since we are interested with accuracy of Class 1, we can see that this accuracy has almost doubled after balancing the data."
      ],
      "metadata": {
        "id": "5GDr3jgP-kAS"
      }
    },
    {
      "cell_type": "markdown",
      "metadata": {
        "id": "W2QnKK5xIC1x"
      },
      "source": [
        "# Feature Engineering\n",
        "\n",
        "Convert binary categorical variables to 0 and 1.\n",
        "\n",
        "Convert the other categorical variables to numeric using Label Encoding or One-Hot Encoding."
      ]
    },
    {
      "cell_type": "markdown",
      "source": [
        "To use all the variables in our model we need to convert the string type variables to numeric.\n",
        "\n",
        "#### * Binary categorical variables\n",
        "These categorical variables have two values only like - Success and Failure, Buy and Not buy, Telephone and Mobile.\n",
        "\n",
        "Convert one category to 0 and the other to 1\n",
        "\n",
        "#### * Categorical data which can be ordered or compared on greater than or lesser than basis\n",
        "\n",
        "variables like age_bucket, income_bucket, size (small, medium, large), etc.\n",
        "\n",
        "Arrange the classes in increasing order and label them as 0, 1, 2, 3...\n",
        "\n",
        "#### * Multiclass categorical data which cannot be ordered\n",
        "We use One-Hot encoding\n",
        "\n",
        "Every class in the variable is converted into a separate column. The columns will have 1 where the same value was present in the original column. In the rest of the records they will have 0s.\n",
        "\n",
        "\n",
        "\n",
        "\n"
      ],
      "metadata": {
        "id": "igPDKw7ORjGg"
      }
    },
    {
      "cell_type": "code",
      "execution_count": null,
      "metadata": {
        "colab": {
          "base_uri": "https://localhost:8080/"
        },
        "id": "JEJbbJ8DwOp0",
        "outputId": "16431127-1afd-49c3-9425-17555353318b"
      },
      "outputs": [
        {
          "output_type": "execute_result",
          "data": {
            "text/plain": [
              "Index(['age', 'job', 'marital', 'education', 'default', 'housing', 'loan',\n",
              "       'contact', 'month', 'day_of_week', 'duration', 'campaign', 'pdays',\n",
              "       'previous', 'poutcome', 'emp.var.rate', 'cons.price.idx',\n",
              "       'cons.conf.idx', 'euribor3m', 'nr.employed', 'y', 'duration_new',\n",
              "       'cons_conf_new', 'job_new', 'marital_new', 'education_new',\n",
              "       'housing_new', 'loan_new', 'default_flag', 'prev_campaign', 'y2',\n",
              "       'pdays_new', 'duration_new2', 'cons_price_idx', 'nr_employed',\n",
              "       'emp_var_rate'],\n",
              "      dtype='object')"
            ]
          },
          "metadata": {},
          "execution_count": 319
        }
      ],
      "source": [
        "bank_data.columns"
      ]
    },
    {
      "cell_type": "code",
      "execution_count": null,
      "metadata": {
        "colab": {
          "base_uri": "https://localhost:8080/"
        },
        "id": "S605_oyPW66-",
        "outputId": "4b0de3d9-a833-4566-9e0d-4cb0943ada04"
      },
      "outputs": [
        {
          "output_type": "execute_result",
          "data": {
            "text/plain": [
              "default_no         32588\n",
              "default_unknown     8597\n",
              "default_yes            3\n",
              "Name: default2, dtype: int64"
            ]
          },
          "metadata": {},
          "execution_count": 320
        }
      ],
      "source": [
        "# Adding a prefix to 'default' column values \n",
        "# so that the column name created in one-hot encoding remains unique\n",
        "bank_data['default2'] = bank_data['default'].apply(lambda x : 'default_'+ x)\n",
        "bank_data['default2'].value_counts()"
      ]
    },
    {
      "cell_type": "markdown",
      "metadata": {
        "id": "goir_stxdpLg"
      },
      "source": [
        "### Converting binary-type values to numerical values 0 and 1 "
      ]
    },
    {
      "cell_type": "code",
      "execution_count": null,
      "metadata": {
        "colab": {
          "base_uri": "https://localhost:8080/"
        },
        "id": "wzgCPWxgZiKw",
        "outputId": "4a00b937-7076-4e27-a221-4f4c87dd7f64"
      },
      "outputs": [
        {
          "output_type": "stream",
          "name": "stdout",
          "text": [
            "1    22071\n",
            "0    19117\n",
            "Name: housing_new2, dtype: int64\n",
            "0    34445\n",
            "1     6743\n",
            "Name: loan_new2, dtype: int64\n",
            "0    26144\n",
            "1    15044\n",
            "Name: contact2, dtype: int64\n"
          ]
        },
        {
          "output_type": "stream",
          "name": "stderr",
          "text": [
            "/usr/local/lib/python3.7/dist-packages/ipykernel_launcher.py:3: SettingWithCopyWarning: \n",
            "A value is trying to be set on a copy of a slice from a DataFrame\n",
            "\n",
            "See the caveats in the documentation: https://pandas.pydata.org/pandas-docs/stable/user_guide/indexing.html#returning-a-view-versus-a-copy\n",
            "  This is separate from the ipykernel package so we can avoid doing imports until\n",
            "/usr/local/lib/python3.7/dist-packages/ipykernel_launcher.py:8: SettingWithCopyWarning: \n",
            "A value is trying to be set on a copy of a slice from a DataFrame\n",
            "\n",
            "See the caveats in the documentation: https://pandas.pydata.org/pandas-docs/stable/user_guide/indexing.html#returning-a-view-versus-a-copy\n",
            "  \n",
            "/usr/local/lib/python3.7/dist-packages/ipykernel_launcher.py:13: SettingWithCopyWarning: \n",
            "A value is trying to be set on a copy of a slice from a DataFrame\n",
            "\n",
            "See the caveats in the documentation: https://pandas.pydata.org/pandas-docs/stable/user_guide/indexing.html#returning-a-view-versus-a-copy\n",
            "  del sys.path[0]\n"
          ]
        }
      ],
      "source": [
        "# Converting housing_new to numerical\n",
        "bank_data['housing_new2'] = 0\n",
        "bank_data['housing_new2'][bank_data['housing_new']=='yes'] = 1\n",
        "print(bank_data['housing_new2'].value_counts())\n",
        "\n",
        "# Converting loan_new to numerical\n",
        "bank_data['loan_new2'] = 0\n",
        "bank_data['loan_new2'][bank_data['loan_new']=='yes'] = 1\n",
        "print(bank_data['loan_new2'].value_counts())\n",
        "\n",
        "# Converting contact to numerical\n",
        "bank_data['contact2'] = 0\n",
        "bank_data['contact2'][bank_data['contact']=='telephone'] = 1\n",
        "print(bank_data['contact2'].value_counts())"
      ]
    },
    {
      "cell_type": "code",
      "execution_count": null,
      "metadata": {
        "colab": {
          "base_uri": "https://localhost:8080/"
        },
        "id": "TKEy3fPgfPFR",
        "outputId": "ae805ec2-ec68-4ae3-967e-693802e3ae89"
      },
      "outputs": [
        {
          "output_type": "execute_result",
          "data": {
            "text/plain": [
              "1    20442\n",
              "0    16560\n",
              "2     4186\n",
              "Name: num_loans, dtype: int64"
            ]
          },
          "metadata": {},
          "execution_count": 322
        }
      ],
      "source": [
        "# Creating new variable num_loans\n",
        "bank_data['num_loans'] = 0\n",
        "bank_data['num_loans'] = bank_data['housing_new2'] + bank_data['loan_new2']\n",
        "bank_data['num_loans'].value_counts()"
      ]
    },
    {
      "cell_type": "code",
      "execution_count": null,
      "metadata": {
        "colab": {
          "base_uri": "https://localhost:8080/"
        },
        "id": "DhQd7YhFJNqY",
        "outputId": "f2af6ae4-e609-4951-fd52-10a3bfc1920a"
      },
      "outputs": [
        {
          "output_type": "stream",
          "name": "stdout",
          "text": [
            "bank_data_with_dummies \n",
            "        age  campaign  prev_campaign  previous  emp_var_rate  duration_new  \\\n",
            "0       56         1              0         0           1.1           261   \n",
            "1       57         1              0         0           1.1           149   \n",
            "2       37         1              0         0           1.1           226   \n",
            "3       40         1              0         0           1.1           151   \n",
            "4       56         1              0         0           1.1           307   \n",
            "...    ...       ...            ...       ...           ...           ...   \n",
            "41183   73         1              0         0          -1.1           334   \n",
            "41184   46         1              0         0          -1.1           383   \n",
            "41185   56         2              0         0          -1.1           189   \n",
            "41186   44         1              0         0          -1.1           442   \n",
            "41187   74         3              0         1          -1.1           239   \n",
            "\n",
            "       cons_price_idx  cons_conf_new  euribor3m  nr_employed  ...  oct  sep  \\\n",
            "0              93.994          -36.4      4.857       5191.0  ...    0    0   \n",
            "1              93.994          -36.4      4.857       5191.0  ...    0    0   \n",
            "2              93.994          -36.4      4.857       5191.0  ...    0    0   \n",
            "3              93.994          -36.4      4.857       5191.0  ...    0    0   \n",
            "4              93.994          -36.4      4.857       5191.0  ...    0    0   \n",
            "...               ...            ...        ...          ...  ...  ...  ...   \n",
            "41183          94.767          -50.8      1.028       4963.6  ...    0    0   \n",
            "41184          94.767          -50.8      1.028       4963.6  ...    0    0   \n",
            "41185          94.767          -50.8      1.028       4963.6  ...    0    0   \n",
            "41186          94.767          -50.8      1.028       4963.6  ...    0    0   \n",
            "41187          94.767          -50.8      1.028       4963.6  ...    0    0   \n",
            "\n",
            "       fri  mon  thu  tue  wed  failure  nonexistent  success  \n",
            "0        0    1    0    0    0        0            1        0  \n",
            "1        0    1    0    0    0        0            1        0  \n",
            "2        0    1    0    0    0        0            1        0  \n",
            "3        0    1    0    0    0        0            1        0  \n",
            "4        0    1    0    0    0        0            1        0  \n",
            "...    ...  ...  ...  ...  ...      ...          ...      ...  \n",
            "41183    1    0    0    0    0        0            1        0  \n",
            "41184    1    0    0    0    0        0            1        0  \n",
            "41185    1    0    0    0    0        0            1        0  \n",
            "41186    1    0    0    0    0        0            1        0  \n",
            "41187    1    0    0    0    0        1            0        0  \n",
            "\n",
            "[41188 rows x 58 columns]\n"
          ]
        }
      ],
      "source": [
        "# get general columns into a dataset\n",
        "bank_data_with_dummies = bank_data[['age', 'campaign', 'prev_campaign', 'previous', 'emp_var_rate', 'duration_new', 'cons_price_idx', \n",
        "                                    'cons_conf_new', 'euribor3m', 'nr_employed', 'default_flag', 'housing_new2', 'loan_new2', 'contact2', 'num_loans', 'y2']]\n",
        "bank_data_with_dummies\n",
        "\n",
        "onehot_cols=['job_new', 'marital_new', 'education_new', 'default2', 'month', 'day_of_week', 'poutcome']\n",
        "# for col in categorical_cols:\n",
        "#  print(bank_data[col].value_counts())\n",
        "\n",
        "# get dummy variables\n",
        "for col in onehot_cols:\n",
        " one_hot_data = pd.get_dummies(bank_data[col])\n",
        " bank_data_with_dummies = pd.concat([bank_data_with_dummies, one_hot_data],axis=1)\n",
        "print(\"bank_data_with_dummies \\n\", bank_data_with_dummies)"
      ]
    },
    {
      "cell_type": "code",
      "execution_count": null,
      "metadata": {
        "colab": {
          "base_uri": "https://localhost:8080/"
        },
        "id": "JxQ0RrmsP9YL",
        "outputId": "56c00515-1c77-4648-cf32-b049c179659b"
      },
      "outputs": [
        {
          "output_type": "execute_result",
          "data": {
            "text/plain": [
              "Index(['age', 'campaign', 'prev_campaign', 'previous', 'emp_var_rate',\n",
              "       'duration_new', 'cons_price_idx', 'cons_conf_new', 'euribor3m',\n",
              "       'nr_employed', 'default_flag', 'housing_new2', 'loan_new2', 'contact2',\n",
              "       'num_loans', 'y2', 'admin.', 'blue-collar', 'entrepreneur', 'housemaid',\n",
              "       'management', 'retired', 'self-employed', 'services', 'student',\n",
              "       'technician', 'unemployed', 'divorced', 'married', 'single', 'basic.4y',\n",
              "       'basic.6y', 'basic.9y', 'high.school', 'illiterate',\n",
              "       'professional.course', 'university.degree', 'default_no',\n",
              "       'default_unknown', 'default_yes', 'apr', 'aug', 'dec', 'jul', 'jun',\n",
              "       'mar', 'may', 'nov', 'oct', 'sep', 'fri', 'mon', 'thu', 'tue', 'wed',\n",
              "       'failure', 'nonexistent', 'success'],\n",
              "      dtype='object')"
            ]
          },
          "metadata": {},
          "execution_count": 324
        }
      ],
      "source": [
        "bank_data_with_dummies.columns"
      ]
    },
    {
      "cell_type": "code",
      "execution_count": null,
      "metadata": {
        "id": "j8nhjPtNil3E"
      },
      "outputs": [],
      "source": [
        "bank_data_with_dummies.rename(columns = {'admin.':'admin', 'blue-collar':'blue_collar', 'self-employed':'self_employed',\n",
        "                                         'basic.4y':'basic4y', 'basic.6y':'basic6y', 'basic.9y':'basic9y', 'high.school':'high_school',\n",
        "                                         'professional.course':'pro_course', 'university.degree':'univ_degree' }, inplace = True)"
      ]
    },
    {
      "cell_type": "markdown",
      "source": [
        "## Creating Train and Test datasets for futher use"
      ],
      "metadata": {
        "id": "CCg214cMkBfe"
      }
    },
    {
      "cell_type": "code",
      "source": [
        "bank_data_org = bank_data_with_dummies\n",
        "features = bank_data_org.columns\n",
        "features = features.drop('y2')\n",
        "\n",
        "X = bank_data_org[features]\n",
        "y = bank_data_org['y2']\n",
        "\n",
        "X_train, X_test, y_train, y_test = train_test_split(X,y, train_size = 0.8 , random_state=300)"
      ],
      "metadata": {
        "id": "3CoBSpyfjTAq"
      },
      "execution_count": null,
      "outputs": []
    },
    {
      "cell_type": "code",
      "source": [
        "bank_data_train = X_train\n",
        "bank_data_train['y2'] = y_train\n",
        "bank_data_test = X_test\n",
        "bank_data_test['y2'] = y_test\n",
        "\n",
        "X_train = X_train.drop(columns=['y2'])\n",
        "X_test = X_test.drop(columns=['y2'])\n"
      ],
      "metadata": {
        "id": "3dJh_vOMnJJB"
      },
      "execution_count": null,
      "outputs": []
    },
    {
      "cell_type": "markdown",
      "metadata": {
        "id": "8WCK9pk1kevg"
      },
      "source": [
        "## Oversampling of minority class (Class 1)"
      ]
    },
    {
      "cell_type": "code",
      "execution_count": null,
      "metadata": {
        "colab": {
          "base_uri": "https://localhost:8080/"
        },
        "id": "8_PSfjlXkvEI",
        "outputId": "e6e400cd-3ee1-40fc-873f-c69c9627f66c"
      },
      "outputs": [
        {
          "output_type": "stream",
          "name": "stdout",
          "text": [
            "Class 0 data : (29206, 58)\n",
            "Class 1 data : (3744, 58)\n",
            "Class 1 Oversample : (14976, 58)\n",
            "Sampled Data : (44182, 58)\n",
            "0    29206\n",
            "1    14976\n",
            "Name: y2, dtype: int64\n"
          ]
        }
      ],
      "source": [
        "# Classwise data\n",
        "bank_data_train_class0 = bank_data_train[bank_data_train['y2'] == 0]\n",
        "bank_data_train_class1 = bank_data_train[bank_data_train['y2'] == 1]\n",
        "print(\"Class 0 data :\", bank_data_train_class0.shape)\n",
        "print(\"Class 1 data :\", bank_data_train_class1.shape)\n",
        "\n",
        "## Oversampling of Class-1 \n",
        "# Increase count by 4 times\n",
        "bank_data_class1_over = bank_data_train_class1.sample(4*len(bank_data_train_class1), replace=True)\n",
        "print(\"Class 1 Oversample :\", bank_data_class1_over.shape)\n",
        "\n",
        "# Concatenate with Class 0 data\n",
        "bank_data_sampled=pd.concat([bank_data_train_class0,bank_data_class1_over])\n",
        "print(\"Sampled Data :\", bank_data_sampled.shape)\n",
        "print(bank_data_sampled['y2'].value_counts())\n"
      ]
    },
    {
      "cell_type": "markdown",
      "metadata": {
        "id": "EIeKMygUpw6p"
      },
      "source": [
        "## Using SMOTE to furter handle Class Imbalance"
      ]
    },
    {
      "cell_type": "code",
      "execution_count": null,
      "metadata": {
        "colab": {
          "base_uri": "https://localhost:8080/"
        },
        "id": "hSuwPp7GqTIe",
        "outputId": "fb4ed5eb-e8ba-458f-9985-b1a75f24f6be"
      },
      "outputs": [
        {
          "output_type": "stream",
          "name": "stdout",
          "text": [
            "After SMOTE Counter({0: 29206, 1: 26285})\n",
            "Balanced Dataset : \n",
            " (55491, 58)\n",
            "['age' 'campaign' 'prev_campaign' 'previous' 'emp_var_rate' 'duration_new'\n",
            " 'cons_price_idx' 'cons_conf_new' 'euribor3m' 'nr_employed' 'default_flag'\n",
            " 'housing_new2' 'loan_new2' 'contact2' 'num_loans' 'admin' 'blue_collar'\n",
            " 'entrepreneur' 'housemaid' 'management' 'retired' 'self_employed'\n",
            " 'services' 'student' 'technician' 'unemployed' 'divorced' 'married'\n",
            " 'single' 'basic4y' 'basic6y' 'basic9y' 'high_school' 'illiterate'\n",
            " 'pro_course' 'univ_degree' 'default_no' 'default_unknown' 'default_yes'\n",
            " 'apr' 'aug' 'dec' 'jul' 'jun' 'mar' 'may' 'nov' 'oct' 'sep' 'fri' 'mon'\n",
            " 'thu' 'tue' 'wed' 'failure' 'nonexistent' 'success' 'y2']\n"
          ]
        }
      ],
      "source": [
        "from imblearn.over_sampling import SMOTE \n",
        "smote = SMOTE(sampling_strategy=0.9, random_state = 300)\n",
        "X_smote, y_smote = smote.fit_resample(X_train, y_train)\n",
        "\n",
        "import collections\n",
        "print(\"After SMOTE\", collections.Counter(y_smote))\n",
        "\n",
        "balanced_bank_data=X_smote\n",
        "balanced_bank_data['y2']=y_smote\n",
        "\n",
        "print('Balanced Dataset : \\n',balanced_bank_data.shape)\n",
        "print(balanced_bank_data.columns.values)\n",
        "# balanced_bank_data is train data X,y"
      ]
    },
    {
      "cell_type": "code",
      "source": [
        "X_smote = X_smote.drop(columns = ['y2'], axis=1)\n",
        "X_smote.shape"
      ],
      "metadata": {
        "colab": {
          "base_uri": "https://localhost:8080/"
        },
        "id": "Rralihn_Wjfl",
        "outputId": "cc618f28-4e27-4150-f337-781eeeb5a2de"
      },
      "execution_count": null,
      "outputs": [
        {
          "output_type": "execute_result",
          "data": {
            "text/plain": [
              "(55491, 57)"
            ]
          },
          "metadata": {},
          "execution_count": 330
        }
      ]
    },
    {
      "cell_type": "markdown",
      "metadata": {
        "id": "sqwWSxFjx9Z1"
      },
      "source": [
        "# MODEL BUILDING WITH ALL VARIABLES"
      ]
    },
    {
      "cell_type": "markdown",
      "metadata": {
        "id": "5SUuheDjyExj"
      },
      "source": [
        "# MODEL 6 : Logistic Regression\n",
        "\n",
        "### Step 1 : All independent variables included"
      ]
    },
    {
      "cell_type": "code",
      "execution_count": null,
      "metadata": {
        "colab": {
          "base_uri": "https://localhost:8080/"
        },
        "id": "oehN1GrZyt3E",
        "outputId": "2a375a28-1f64-43c6-82ec-e47e4edb896d"
      },
      "outputs": [
        {
          "output_type": "stream",
          "name": "stderr",
          "text": [
            "/usr/local/lib/python3.7/dist-packages/sklearn/utils/validation.py:993: DataConversionWarning: A column-vector y was passed when a 1d array was expected. Please change the shape of y to (n_samples, ), for example using ravel().\n",
            "  y = column_or_1d(y, warn=True)\n"
          ]
        },
        {
          "output_type": "stream",
          "name": "stdout",
          "text": [
            "Intercept [0.004138]\n",
            "Coefficients [[-4.48427638e-03 -4.35425254e-01  1.00039309e-01 -2.18563860e-01\n",
            "  -2.36654633e-02  4.03280578e-03  6.24880838e-01  2.28524126e-02\n",
            "  -4.18877996e-02 -1.05294131e-02 -6.43225997e-02 -6.96220356e-01\n",
            "  -4.29125475e-01 -6.07034923e-01 -8.64531061e-01 -5.05282633e-01\n",
            "  -6.45761443e-01 -1.23241985e-01 -8.70444903e-02 -2.27412933e-01\n",
            "  -2.09271209e-02 -1.19495446e-01 -3.30378566e-01 -6.16813168e-02\n",
            "  -4.21178989e-01 -8.99281518e-02 -3.39788440e-01 -6.95747058e-01\n",
            "  -3.84466800e-01 -3.08830827e-01 -1.84499940e-01 -4.71386890e-01\n",
            "  -5.95105408e-01 -1.20454549e-03 -3.67239173e-01 -4.65050811e-01\n",
            "  -6.40642022e-02 -4.93117210e-01 -2.58397502e-04 -1.62773344e-01\n",
            "  -3.71063445e-04 -8.29081085e-03  1.24837305e-01 -3.80160779e-02\n",
            "   4.91386722e-02 -1.01707730e+00 -1.42203989e-01  5.17769136e-02\n",
            "  -1.78916915e-02 -5.37242421e-01 -6.33688704e-01 -5.03782140e-01\n",
            "  -5.03597476e-01 -4.82634365e-01 -5.50508366e-01 -3.58471907e-01\n",
            "   8.78565318e-02]]\n"
          ]
        },
        {
          "output_type": "stream",
          "name": "stderr",
          "text": [
            "/usr/local/lib/python3.7/dist-packages/sklearn/linear_model/_logistic.py:818: ConvergenceWarning: lbfgs failed to converge (status=1):\n",
            "STOP: TOTAL NO. of ITERATIONS REACHED LIMIT.\n",
            "\n",
            "Increase the number of iterations (max_iter) or scale the data as shown in:\n",
            "    https://scikit-learn.org/stable/modules/preprocessing.html\n",
            "Please also refer to the documentation for alternative solver options:\n",
            "    https://scikit-learn.org/stable/modules/linear_model.html#logistic-regression\n",
            "  extra_warning_msg=_LOGISTIC_SOLVER_CONVERGENCE_MSG,\n"
          ]
        }
      ],
      "source": [
        "from sklearn.linear_model import LogisticRegression\n",
        "logistic6= LogisticRegression()\n",
        "\n",
        "# fitting logistic regression for independent variables\n",
        "logistic6.fit(balanced_bank_data[['age']+['campaign']+['prev_campaign']+['previous']+['emp_var_rate']+['duration_new']+\n",
        "['cons_price_idx']+['cons_conf_new']+['euribor3m']+['nr_employed']+['default_flag']+\n",
        "['housing_new2']+['loan_new2']+['contact2']+['num_loans']+['admin']+['blue_collar']+\n",
        "['entrepreneur']+['housemaid']+['management']+['retired']+['self_employed']+['services']+\n",
        "['student']+['technician']+['unemployed']+['divorced']+['married']+['single']+['basic4y']+\n",
        "['basic6y']+['basic9y']+['high_school']+['illiterate']+['pro_course']+['univ_degree']+\n",
        "['default_no']+['default_unknown']+['default_yes']+['apr']+['aug']+['dec']+['jul']+['jun']+\n",
        "['mar']+['may']+['nov']+['oct']+['sep']+['fri']+['mon']+['thu']+['tue']+['wed']+['failure']+\n",
        "['nonexistent']+['success']], balanced_bank_data[['y2']])\n",
        "\n",
        "# Values of coefficients and intercept for the Logistic equation \n",
        "print(\"Intercept\", logistic6.intercept_)\n",
        "print(\"Coefficients\", logistic6.coef_)\n"
      ]
    },
    {
      "cell_type": "markdown",
      "metadata": {
        "id": "mNEmZz2j_UsK"
      },
      "source": [
        "## Model 6 Validation"
      ]
    },
    {
      "cell_type": "code",
      "execution_count": null,
      "metadata": {
        "colab": {
          "base_uri": "https://localhost:8080/"
        },
        "id": "ifSrEYzw_cIw",
        "outputId": "ca430714-7d52-4e31-a226-af4b9ebd2ea5"
      },
      "outputs": [
        {
          "output_type": "stream",
          "name": "stdout",
          "text": [
            "predicted values : [0 1 1 ... 1 1 1]\n",
            "Confusion Matrix : \n",
            " [[25369  3837]\n",
            " [ 5310 20975]]\n",
            "accuracy = 0.8351624587770989\n"
          ]
        }
      ],
      "source": [
        "predict6=logistic6.predict(balanced_bank_data[['age']+['campaign']+['prev_campaign']+['previous']+['emp_var_rate']+['duration_new']+\n",
        "['cons_price_idx']+['cons_conf_new']+['euribor3m']+['nr_employed']+['default_flag']+\n",
        "['housing_new2']+['loan_new2']+['contact2']+['num_loans']+['admin']+['blue_collar']+\n",
        "['entrepreneur']+['housemaid']+['management']+['retired']+['self_employed']+['services']+\n",
        "['student']+['technician']+['unemployed']+['divorced']+['married']+['single']+['basic4y']+\n",
        "['basic6y']+['basic9y']+['high_school']+['illiterate']+['pro_course']+['univ_degree']+\n",
        "['default_no']+['default_unknown']+['default_yes']+['apr']+['aug']+['dec']+['jul']+['jun']+\n",
        "['mar']+['may']+['nov']+['oct']+['sep']+['fri']+['mon']+['thu']+['tue']+['wed']+['failure']+\n",
        "['nonexistent']+['success']])\n",
        "print('predicted values :', predict6)\n",
        "\n",
        "# CONFUSION MATRIX\n",
        "\n",
        "cm6 = confusion_matrix(balanced_bank_data[['y2']],predict6)\n",
        "print('Confusion Matrix : \\n',cm6)\n",
        "\n",
        "total6=sum(sum(cm6))\n",
        "accuracy6=(cm6[0,0]+cm6[1,1])/total6\n",
        "print('accuracy =',accuracy6)"
      ]
    },
    {
      "cell_type": "markdown",
      "metadata": {
        "id": "Zv_YwAzHBUnJ"
      },
      "source": [
        "## Checking Multicollinearity between independent variables (VIF)"
      ]
    },
    {
      "cell_type": "code",
      "execution_count": null,
      "metadata": {
        "colab": {
          "base_uri": "https://localhost:8080/"
        },
        "id": "QWzSbnrvBXlR",
        "outputId": "0ded1795-da99-4607-c330-88d8425d5c57"
      },
      "outputs": [
        {
          "output_type": "stream",
          "name": "stdout",
          "text": [
            "age  VIF =  1.75\n",
            "campaign  VIF =  1.09\n",
            "prev_campaign  VIF =  8.6\n",
            "previous  VIF =  3.17\n",
            "emp_var_rate  VIF =  130.34\n",
            "duration_new  VIF =  1.17\n",
            "cons_price_idx  VIF =  38.7\n",
            "cons_conf_new  VIF =  3.81\n",
            "euribor3m  VIF =  110.23\n",
            "nr_employed  VIF =  103.01\n"
          ]
        },
        {
          "output_type": "stream",
          "name": "stderr",
          "text": [
            "/usr/local/lib/python3.7/dist-packages/ipykernel_launcher.py:15: RuntimeWarning: divide by zero encountered in double_scalars\n",
            "  from ipykernel import kernelapp as app\n"
          ]
        },
        {
          "output_type": "stream",
          "name": "stdout",
          "text": [
            "default_flag  VIF =  inf\n",
            "housing_new2  VIF =  8.87\n",
            "loan_new2  VIF =  4.34\n",
            "contact2  VIF =  3.31\n",
            "num_loans  VIF =  12.91\n",
            "admin  VIF =  2.23\n",
            "blue_collar  VIF =  2.62\n",
            "entrepreneur  VIF =  1.23\n",
            "housemaid  VIF =  1.21\n",
            "management  VIF =  1.47\n",
            "retired  VIF =  1.55\n",
            "self_employed  VIF =  1.22\n",
            "services  VIF =  1.69\n",
            "student  VIF =  1.19\n",
            "technician  VIF =  2.16\n",
            "unemployed  VIF =  1.15\n",
            "divorced  VIF =  1.64\n",
            "married  VIF =  2.69\n",
            "single  VIF =  2.4\n",
            "basic4y  VIF =  1.8\n",
            "basic6y  VIF =  1.43\n",
            "basic9y  VIF =  2.0\n",
            "high_school  VIF =  2.24\n",
            "illiterate  VIF =  1.0\n",
            "pro_course  VIF =  1.94\n",
            "univ_degree  VIF =  2.42\n",
            "default_no  VIF =  inf\n",
            "default_unknown  VIF =  3.83\n",
            "default_yes  VIF =  inf\n",
            "apr  VIF =  1.68\n",
            "aug  VIF =  3.83\n",
            "dec  VIF =  1.07\n",
            "jul  VIF =  2.56\n",
            "jun  VIF =  4.39\n",
            "mar  VIF =  1.25\n",
            "may  VIF =  3.17\n",
            "nov  VIF =  2.05\n",
            "oct  VIF =  1.75\n",
            "sep  VIF =  1.49\n",
            "fri  VIF =  1.9\n",
            "mon  VIF =  1.95\n",
            "thu  VIF =  1.93\n",
            "tue  VIF =  1.88\n",
            "wed  VIF =  1.9\n",
            "failure  VIF =  2.18\n",
            "nonexistent  VIF =  3.03\n",
            "success  VIF =  7.48\n",
            "Max VIF =  inf  Var =  default_yes\n"
          ]
        }
      ],
      "source": [
        "import statsmodels.formula.api as sm\n",
        "\n",
        "balanced_bank_data_v1 = balanced_bank_data.drop(['y2'], axis=1)\n",
        "\n",
        "\n",
        "def vif_cal(input_data, dependent_col):\n",
        "    x_vars=input_data\n",
        "    xvar_names=x_vars.columns\n",
        "    max_vif = 0\n",
        "    max_xvar ='_none'\n",
        "    for i in range(0,xvar_names.shape[0]):\n",
        "        y=x_vars[xvar_names[i]] \n",
        "        x=x_vars[xvar_names.drop(xvar_names[i])]\n",
        "        rsq=sm.ols(formula=\"y~x\", data=x_vars).fit().rsquared  \n",
        "        vif=round(1/(1-rsq),2)\n",
        "        print (xvar_names[i], \" VIF = \" , vif)\n",
        "        if vif >= max_vif:\n",
        "          max_vif = vif\n",
        "          max_xvar = str(xvar_names[i])\n",
        "    print('Max VIF = ', max_vif, ' Var = ', max_xvar)\n",
        "\n",
        "vif_cal(input_data=balanced_bank_data_v1, dependent_col= 'y2')"
      ]
    },
    {
      "cell_type": "code",
      "execution_count": null,
      "metadata": {
        "colab": {
          "base_uri": "https://localhost:8080/"
        },
        "id": "j1BP4pUvEJGB",
        "outputId": "697c4db8-ac40-46c8-f84f-766a2f2e36dd"
      },
      "outputs": [
        {
          "output_type": "stream",
          "name": "stdout",
          "text": [
            "age  VIF =  1.75\n",
            "campaign  VIF =  1.09\n",
            "prev_campaign  VIF =  8.6\n",
            "previous  VIF =  3.17\n",
            "emp_var_rate  VIF =  130.34\n",
            "duration_new  VIF =  1.17\n",
            "cons_price_idx  VIF =  38.7\n",
            "cons_conf_new  VIF =  3.81\n",
            "euribor3m  VIF =  110.23\n",
            "nr_employed  VIF =  103.01\n",
            "default_flag  VIF =  3.76\n",
            "housing_new2  VIF =  8.87\n",
            "loan_new2  VIF =  4.34\n",
            "contact2  VIF =  3.31\n",
            "num_loans  VIF =  12.91\n",
            "admin  VIF =  2.23\n",
            "blue_collar  VIF =  2.62\n",
            "entrepreneur  VIF =  1.23\n",
            "housemaid  VIF =  1.21\n",
            "management  VIF =  1.47\n",
            "retired  VIF =  1.55\n",
            "self_employed  VIF =  1.22\n",
            "services  VIF =  1.69\n",
            "student  VIF =  1.19\n",
            "technician  VIF =  2.16\n",
            "unemployed  VIF =  1.15\n",
            "divorced  VIF =  1.64\n",
            "married  VIF =  2.69\n",
            "single  VIF =  2.4\n",
            "basic4y  VIF =  1.8\n",
            "basic6y  VIF =  1.43\n",
            "basic9y  VIF =  2.0\n",
            "high_school  VIF =  2.24\n",
            "illiterate  VIF =  1.0\n",
            "pro_course  VIF =  1.94\n",
            "univ_degree  VIF =  2.42\n",
            "default_unknown  VIF =  3.83\n",
            "default_yes  VIF =  1.0\n",
            "apr  VIF =  1.68\n",
            "aug  VIF =  3.83\n",
            "dec  VIF =  1.07\n",
            "jul  VIF =  2.56\n",
            "jun  VIF =  4.39\n",
            "mar  VIF =  1.25\n",
            "may  VIF =  3.17\n",
            "nov  VIF =  2.05\n",
            "oct  VIF =  1.75\n",
            "sep  VIF =  1.49\n",
            "fri  VIF =  1.9\n",
            "mon  VIF =  1.95\n",
            "thu  VIF =  1.93\n",
            "tue  VIF =  1.88\n",
            "wed  VIF =  1.9\n",
            "failure  VIF =  2.18\n",
            "nonexistent  VIF =  3.03\n",
            "success  VIF =  7.48\n",
            "Max VIF =  130.34  Var =  emp_var_rate\n"
          ]
        }
      ],
      "source": [
        "# Dropping Infinite VIF variable \n",
        "# (Infinite VIF means direct linear relation between variables)\n",
        "\n",
        "balanced_bank_data_v2 = balanced_bank_data_v1.drop(['default_no'], axis=1)\n",
        "\n",
        "vif_cal(input_data=balanced_bank_data_v2, dependent_col= 'y2')"
      ]
    },
    {
      "cell_type": "code",
      "execution_count": null,
      "metadata": {
        "colab": {
          "base_uri": "https://localhost:8080/"
        },
        "id": "kCkkVQOBFgxe",
        "outputId": "936d2d45-c038-4b56-ff02-6f5085dbf11c"
      },
      "outputs": [
        {
          "output_type": "stream",
          "name": "stdout",
          "text": [
            "age  VIF =  1.75\n",
            "campaign  VIF =  1.09\n",
            "prev_campaign  VIF =  8.6\n",
            "previous  VIF =  3.17\n",
            "duration_new  VIF =  1.17\n",
            "cons_price_idx  VIF =  11.57\n",
            "cons_conf_new  VIF =  3.79\n",
            "euribor3m  VIF =  99.34\n",
            "nr_employed  VIF =  75.81\n",
            "default_flag  VIF =  3.75\n",
            "housing_new2  VIF =  8.87\n",
            "loan_new2  VIF =  4.34\n",
            "contact2  VIF =  3.12\n",
            "num_loans  VIF =  12.91\n",
            "admin  VIF =  2.23\n",
            "blue_collar  VIF =  2.62\n",
            "entrepreneur  VIF =  1.23\n",
            "housemaid  VIF =  1.21\n",
            "management  VIF =  1.47\n",
            "retired  VIF =  1.55\n",
            "self_employed  VIF =  1.22\n",
            "services  VIF =  1.69\n",
            "student  VIF =  1.19\n",
            "technician  VIF =  2.16\n",
            "unemployed  VIF =  1.15\n",
            "divorced  VIF =  1.64\n",
            "married  VIF =  2.69\n",
            "single  VIF =  2.4\n",
            "basic4y  VIF =  1.8\n",
            "basic6y  VIF =  1.43\n",
            "basic9y  VIF =  2.0\n",
            "high_school  VIF =  2.24\n",
            "illiterate  VIF =  1.0\n",
            "pro_course  VIF =  1.94\n",
            "univ_degree  VIF =  2.42\n",
            "default_unknown  VIF =  3.83\n",
            "default_yes  VIF =  1.0\n",
            "apr  VIF =  1.66\n",
            "aug  VIF =  2.69\n",
            "dec  VIF =  1.07\n",
            "jul  VIF =  2.54\n",
            "jun  VIF =  2.81\n",
            "mar  VIF =  1.13\n",
            "may  VIF =  3.06\n",
            "nov  VIF =  1.99\n",
            "oct  VIF =  1.75\n",
            "sep  VIF =  1.29\n",
            "fri  VIF =  1.89\n",
            "mon  VIF =  1.94\n",
            "thu  VIF =  1.92\n",
            "tue  VIF =  1.87\n",
            "wed  VIF =  1.9\n",
            "failure  VIF =  2.18\n",
            "nonexistent  VIF =  3.03\n",
            "success  VIF =  7.48\n",
            "Max VIF =  99.34  Var =  euribor3m\n"
          ]
        }
      ],
      "source": [
        "# Dropping High VIF variable \n",
        "\n",
        "balanced_bank_data_v3 = balanced_bank_data_v2.drop(['emp_var_rate'], axis=1)\n",
        "\n",
        "vif_cal(input_data= balanced_bank_data_v3, dependent_col= 'y2')"
      ]
    },
    {
      "cell_type": "code",
      "execution_count": null,
      "metadata": {
        "colab": {
          "base_uri": "https://localhost:8080/"
        },
        "id": "4F-Uj8bbGDha",
        "outputId": "23162dc5-2c88-475c-9711-e7042737e896"
      },
      "outputs": [
        {
          "output_type": "stream",
          "name": "stdout",
          "text": [
            "age  VIF =  1.75\n",
            "campaign  VIF =  1.08\n",
            "prev_campaign  VIF =  8.6\n",
            "previous  VIF =  3.17\n",
            "duration_new  VIF =  1.17\n",
            "cons_price_idx  VIF =  2.05\n",
            "cons_conf_new  VIF =  1.93\n",
            "nr_employed  VIF =  3.44\n",
            "default_flag  VIF =  3.75\n",
            "housing_new2  VIF =  8.87\n",
            "loan_new2  VIF =  4.34\n",
            "contact2  VIF =  3.11\n",
            "num_loans  VIF =  12.9\n",
            "admin  VIF =  2.23\n",
            "blue_collar  VIF =  2.62\n",
            "entrepreneur  VIF =  1.23\n",
            "housemaid  VIF =  1.21\n",
            "management  VIF =  1.47\n",
            "retired  VIF =  1.55\n",
            "self_employed  VIF =  1.22\n",
            "services  VIF =  1.69\n",
            "student  VIF =  1.19\n",
            "technician  VIF =  2.16\n",
            "unemployed  VIF =  1.15\n",
            "divorced  VIF =  1.64\n",
            "married  VIF =  2.69\n",
            "single  VIF =  2.4\n",
            "basic4y  VIF =  1.8\n",
            "basic6y  VIF =  1.43\n",
            "basic9y  VIF =  2.0\n",
            "high_school  VIF =  2.24\n",
            "illiterate  VIF =  1.0\n",
            "pro_course  VIF =  1.94\n",
            "univ_degree  VIF =  2.42\n",
            "default_unknown  VIF =  3.83\n",
            "default_yes  VIF =  1.0\n",
            "apr  VIF =  1.6\n",
            "aug  VIF =  2.68\n",
            "dec  VIF =  1.07\n",
            "jul  VIF =  2.52\n",
            "jun  VIF =  2.12\n",
            "mar  VIF =  1.13\n",
            "may  VIF =  3.05\n",
            "nov  VIF =  1.78\n",
            "oct  VIF =  1.24\n",
            "sep  VIF =  1.23\n",
            "fri  VIF =  1.89\n",
            "mon  VIF =  1.94\n",
            "thu  VIF =  1.92\n",
            "tue  VIF =  1.87\n",
            "wed  VIF =  1.9\n",
            "failure  VIF =  2.17\n",
            "nonexistent  VIF =  3.03\n",
            "success  VIF =  7.48\n",
            "Max VIF =  12.9  Var =  num_loans\n"
          ]
        }
      ],
      "source": [
        "# Dropping High VIF variable \n",
        "\n",
        "balanced_bank_data_v4 = balanced_bank_data_v3.drop(['euribor3m'], axis=1)\n",
        "\n",
        "vif_cal(input_data= balanced_bank_data_v4, dependent_col= 'y2')"
      ]
    },
    {
      "cell_type": "code",
      "execution_count": null,
      "metadata": {
        "colab": {
          "base_uri": "https://localhost:8080/"
        },
        "id": "PpLkrb-mGlyb",
        "outputId": "c2aa1a0b-39ac-4fbe-db63-798fe4dbd4e4"
      },
      "outputs": [
        {
          "output_type": "stream",
          "name": "stdout",
          "text": [
            "age  VIF =  1.75\n",
            "campaign  VIF =  1.08\n",
            "prev_campaign  VIF =  8.6\n",
            "previous  VIF =  3.17\n",
            "duration_new  VIF =  1.17\n",
            "cons_price_idx  VIF =  2.05\n",
            "cons_conf_new  VIF =  1.93\n",
            "nr_employed  VIF =  3.44\n",
            "default_flag  VIF =  3.75\n",
            "housing_new2  VIF =  1.06\n",
            "loan_new2  VIF =  1.05\n",
            "contact2  VIF =  3.11\n",
            "admin  VIF =  2.23\n",
            "blue_collar  VIF =  2.61\n",
            "entrepreneur  VIF =  1.23\n",
            "housemaid  VIF =  1.21\n",
            "management  VIF =  1.47\n",
            "retired  VIF =  1.55\n",
            "self_employed  VIF =  1.22\n",
            "services  VIF =  1.69\n",
            "student  VIF =  1.19\n",
            "technician  VIF =  2.16\n",
            "unemployed  VIF =  1.15\n",
            "divorced  VIF =  1.64\n",
            "married  VIF =  2.68\n",
            "single  VIF =  2.4\n",
            "basic4y  VIF =  1.8\n",
            "basic6y  VIF =  1.43\n",
            "basic9y  VIF =  2.0\n",
            "high_school  VIF =  2.24\n",
            "illiterate  VIF =  1.0\n",
            "pro_course  VIF =  1.94\n",
            "univ_degree  VIF =  2.42\n",
            "default_unknown  VIF =  3.82\n",
            "default_yes  VIF =  1.0\n",
            "apr  VIF =  1.6\n",
            "aug  VIF =  2.68\n",
            "dec  VIF =  1.07\n",
            "jul  VIF =  2.52\n",
            "jun  VIF =  2.12\n",
            "mar  VIF =  1.13\n",
            "may  VIF =  3.05\n",
            "nov  VIF =  1.78\n",
            "oct  VIF =  1.24\n",
            "sep  VIF =  1.23\n",
            "fri  VIF =  1.89\n",
            "mon  VIF =  1.94\n",
            "thu  VIF =  1.92\n",
            "tue  VIF =  1.87\n",
            "wed  VIF =  1.89\n",
            "failure  VIF =  2.17\n",
            "nonexistent  VIF =  3.03\n",
            "success  VIF =  7.47\n",
            "Max VIF =  8.6  Var =  prev_campaign\n"
          ]
        }
      ],
      "source": [
        "# Dropping High VIF variable \n",
        "\n",
        "balanced_bank_data_v5 = balanced_bank_data_v4.drop(['num_loans'], axis=1)\n",
        "\n",
        "vif_cal(input_data= balanced_bank_data_v5, dependent_col= 'y2')"
      ]
    },
    {
      "cell_type": "code",
      "execution_count": null,
      "metadata": {
        "colab": {
          "base_uri": "https://localhost:8080/"
        },
        "id": "gpWun-0tG6JG",
        "outputId": "3eb6857b-61c9-4d83-c173-7ef6b9277868"
      },
      "outputs": [
        {
          "output_type": "stream",
          "name": "stdout",
          "text": [
            "age  VIF =  1.75\n",
            "campaign  VIF =  1.08\n",
            "previous  VIF =  2.8\n",
            "duration_new  VIF =  1.17\n",
            "cons_price_idx  VIF =  2.05\n",
            "cons_conf_new  VIF =  1.93\n",
            "nr_employed  VIF =  3.44\n",
            "default_flag  VIF =  3.75\n",
            "housing_new2  VIF =  1.06\n",
            "loan_new2  VIF =  1.05\n",
            "contact2  VIF =  3.11\n",
            "admin  VIF =  2.23\n",
            "blue_collar  VIF =  2.61\n",
            "entrepreneur  VIF =  1.23\n",
            "housemaid  VIF =  1.21\n",
            "management  VIF =  1.47\n",
            "retired  VIF =  1.55\n",
            "self_employed  VIF =  1.22\n",
            "services  VIF =  1.69\n",
            "student  VIF =  1.19\n",
            "technician  VIF =  2.16\n",
            "unemployed  VIF =  1.15\n",
            "divorced  VIF =  1.64\n",
            "married  VIF =  2.68\n",
            "single  VIF =  2.4\n",
            "basic4y  VIF =  1.8\n",
            "basic6y  VIF =  1.43\n",
            "basic9y  VIF =  2.0\n",
            "high_school  VIF =  2.24\n",
            "illiterate  VIF =  1.0\n",
            "pro_course  VIF =  1.94\n",
            "univ_degree  VIF =  2.42\n",
            "default_unknown  VIF =  3.82\n",
            "default_yes  VIF =  1.0\n",
            "apr  VIF =  1.6\n",
            "aug  VIF =  2.68\n",
            "dec  VIF =  1.07\n",
            "jul  VIF =  2.52\n",
            "jun  VIF =  2.12\n",
            "mar  VIF =  1.13\n",
            "may  VIF =  3.05\n",
            "nov  VIF =  1.78\n",
            "oct  VIF =  1.24\n",
            "sep  VIF =  1.23\n",
            "fri  VIF =  1.89\n",
            "mon  VIF =  1.94\n",
            "thu  VIF =  1.92\n",
            "tue  VIF =  1.87\n",
            "wed  VIF =  1.89\n",
            "failure  VIF =  2.14\n",
            "nonexistent  VIF =  3.02\n",
            "success  VIF =  1.73\n",
            "Max VIF =  3.82  Var =  default_unknown\n"
          ]
        }
      ],
      "source": [
        "# Dropping High VIF variable \n",
        "\n",
        "balanced_bank_data_v6 = balanced_bank_data_v5.drop(['prev_campaign'], axis=1)\n",
        "\n",
        "vif_cal(input_data= balanced_bank_data_v6, dependent_col= 'y2')"
      ]
    },
    {
      "cell_type": "markdown",
      "metadata": {
        "id": "48eAX7HyLNw3"
      },
      "source": [
        "## Individual Impact of Variables"
      ]
    },
    {
      "cell_type": "code",
      "execution_count": null,
      "metadata": {
        "colab": {
          "base_uri": "https://localhost:8080/"
        },
        "id": "IezCGvi0LRmf",
        "outputId": "c0e88c5e-f959-450d-b4e4-ab396b9db1a1"
      },
      "outputs": [
        {
          "output_type": "stream",
          "name": "stdout",
          "text": [
            "Index(['age', 'campaign', 'previous', 'duration_new', 'cons_price_idx',\n",
            "       'cons_conf_new', 'nr_employed', 'default_flag', 'housing_new2',\n",
            "       'loan_new2', 'contact2', 'admin', 'blue_collar', 'entrepreneur',\n",
            "       'housemaid', 'management', 'retired', 'self_employed', 'services',\n",
            "       'student', 'technician', 'unemployed', 'divorced', 'married', 'single',\n",
            "       'basic4y', 'basic6y', 'basic9y', 'high_school', 'illiterate',\n",
            "       'pro_course', 'univ_degree', 'default_unknown', 'default_yes', 'apr',\n",
            "       'aug', 'dec', 'jul', 'jun', 'mar', 'may', 'nov', 'oct', 'sep', 'fri',\n",
            "       'mon', 'thu', 'tue', 'wed', 'failure', 'nonexistent', 'success'],\n",
            "      dtype='object')\n"
          ]
        }
      ],
      "source": [
        "print(balanced_bank_data_v6.columns)"
      ]
    },
    {
      "cell_type": "code",
      "source": [
        "import statsmodels.api as sm\n",
        "m6=sm.Logit(balanced_bank_data['y2'],balanced_bank_data[['age']+['campaign']+['previous']+['duration_new']+['cons_price_idx']+\n",
        "                                                        ['cons_conf_new']+['nr_employed']+['default_flag']+['housing_new2']+\n",
        "                                                        ['loan_new2']+['contact2']+['admin']+['blue_collar']+['entrepreneur']+\n",
        "                                                        ['housemaid']+['management']+['retired']+['self_employed']+['services']+\n",
        "                                                        ['student']+['technician']+['unemployed']+['divorced']+['married']+['single']+\n",
        "                                                        ['basic4y']+['basic6y']+['basic9y']+['high_school']+['illiterate']+\n",
        "                                                        ['pro_course']+['univ_degree']+['default_unknown']+['default_yes']+['apr']+\n",
        "                                                        ['aug']+['dec']+['jul']+['jun']+['mar']+['may']+['nov']+['oct']+['sep']+['fri']+\n",
        "                                                        ['mon']+['thu']+['tue']+['wed']+['failure']+['nonexistent']+['success']])\n",
        "m6.fit()\n",
        "print(m6.fit().summary())"
      ],
      "metadata": {
        "colab": {
          "base_uri": "https://localhost:8080/"
        },
        "id": "Ze6fIiKL0QtM",
        "outputId": "856fa39a-8b3f-43e2-c2a1-04e108a494f3"
      },
      "execution_count": null,
      "outputs": [
        {
          "output_type": "stream",
          "name": "stdout",
          "text": [
            "Warning: Maximum number of iterations has been exceeded.\n",
            "         Current function value: 0.165224\n",
            "         Iterations: 35\n"
          ]
        },
        {
          "output_type": "stream",
          "name": "stderr",
          "text": [
            "/usr/local/lib/python3.7/dist-packages/statsmodels/base/model.py:568: ConvergenceWarning: Maximum Likelihood optimization failed to converge. Check mle_retvals\n",
            "  ConvergenceWarning)\n"
          ]
        },
        {
          "output_type": "stream",
          "name": "stdout",
          "text": [
            "Warning: Maximum number of iterations has been exceeded.\n",
            "         Current function value: 0.165224\n",
            "         Iterations: 35\n"
          ]
        },
        {
          "output_type": "stream",
          "name": "stderr",
          "text": [
            "/usr/local/lib/python3.7/dist-packages/statsmodels/base/model.py:568: ConvergenceWarning: Maximum Likelihood optimization failed to converge. Check mle_retvals\n",
            "  ConvergenceWarning)\n"
          ]
        },
        {
          "output_type": "stream",
          "name": "stdout",
          "text": [
            "                           Logit Regression Results                           \n",
            "==============================================================================\n",
            "Dep. Variable:                     y2   No. Observations:                55491\n",
            "Model:                          Logit   Df Residuals:                    55439\n",
            "Method:                           MLE   Df Model:                           51\n",
            "Date:                Fri, 30 Sep 2022   Pseudo R-squ.:                  0.7612\n",
            "Time:                        14:09:05   Log-Likelihood:                -9168.4\n",
            "converged:                      False   LL-Null:                       -38387.\n",
            "Covariance Type:            nonrobust   LLR p-value:                     0.000\n",
            "===================================================================================\n",
            "                      coef    std err          z      P>|z|      [0.025      0.975]\n",
            "-----------------------------------------------------------------------------------\n",
            "age             -1.514e-05      0.002     -0.006      0.995      -0.005       0.005\n",
            "campaign           -0.0549      0.011     -4.966      0.000      -0.077      -0.033\n",
            "previous           -0.1442      0.062     -2.323      0.020      -0.266      -0.023\n",
            "duration_new        0.0044      0.000     37.525      0.000       0.004       0.005\n",
            "cons_price_idx      0.8142      0.022     36.550      0.000       0.771       0.858\n",
            "cons_conf_new       0.0592      0.006      9.831      0.000       0.047       0.071\n",
            "nr_employed        -0.0077      0.000    -22.194      0.000      -0.008      -0.007\n",
            "default_flag       -3.9400      0.488     -8.077      0.000      -4.896      -2.984\n",
            "housing_new2       -0.0805      0.040     -2.037      0.042      -0.158      -0.003\n",
            "loan_new2          -0.0689      0.055     -1.243      0.214      -0.178       0.040\n",
            "contact2           -1.3650      0.068    -20.083      0.000      -1.498      -1.232\n",
            "admin              -6.1381      0.442    -13.880      0.000      -7.005      -5.271\n",
            "blue_collar        -6.3137      0.444    -14.222      0.000      -7.184      -5.444\n",
            "entrepreneur       -6.1688      0.454    -13.594      0.000      -7.058      -5.279\n",
            "housemaid          -6.2540      0.461    -13.558      0.000      -7.158      -5.350\n",
            "management         -6.1667      0.447    -13.802      0.000      -7.042      -5.291\n",
            "retired            -5.7750      0.451    -12.810      0.000      -6.659      -4.891\n",
            "self_employed      -6.2610      0.454    -13.794      0.000      -7.151      -5.371\n",
            "services           -6.3523      0.446    -14.236      0.000      -7.227      -5.478\n",
            "student            -5.8673      0.453    -12.940      0.000      -6.756      -4.979\n",
            "technician         -6.2260      0.444    -14.021      0.000      -7.096      -5.356\n",
            "unemployed         -6.3113      0.459    -13.745      0.000      -7.211      -5.411\n",
            "divorced           -5.0313      0.458    -10.990      0.000      -5.929      -4.134\n",
            "married            -4.9203      0.454    -10.833      0.000      -5.811      -4.030\n",
            "single             -4.8184      0.455    -10.601      0.000      -5.709      -3.928\n",
            "basic4y            -5.9832      0.452    -13.243      0.000      -6.869      -5.098\n",
            "basic6y            -5.7479      0.455    -12.631      0.000      -6.640      -4.856\n",
            "basic9y            -5.8889      0.449    -13.102      0.000      -6.770      -5.008\n",
            "high_school        -5.8745      0.447    -13.128      0.000      -6.752      -4.997\n",
            "illiterate         -4.7784      0.811     -5.891      0.000      -6.368      -3.188\n",
            "pro_course         -5.8866      0.450    -13.091      0.000      -6.768      -5.005\n",
            "univ_degree        -5.7710      0.447    -12.905      0.000      -6.648      -4.895\n",
            "default_unknown    -4.4292      0.491     -9.016      0.000      -5.392      -3.466\n",
            "default_yes       -12.7840   1517.432     -0.008      0.993   -2986.896    2961.328\n",
            "apr                -3.9327      0.519     -7.575      0.000      -4.950      -2.915\n",
            "aug                -4.5657      0.524     -8.718      0.000      -5.592      -3.539\n",
            "dec                -3.5510      0.550     -6.457      0.000      -4.629      -2.473\n",
            "jul                -4.7118      0.523     -9.011      0.000      -5.737      -3.687\n",
            "jun                -4.0438      0.520     -7.782      0.000      -5.062      -3.025\n",
            "mar                -2.7629      0.528     -5.236      0.000      -3.797      -1.729\n",
            "may                -4.6536      0.516     -9.017      0.000      -5.665      -3.642\n",
            "nov                -4.5470      0.521     -8.720      0.000      -5.569      -3.525\n",
            "oct                -3.4112      0.525     -6.500      0.000      -4.440      -2.383\n",
            "sep                -4.6553      0.533     -8.730      0.000      -5.700      -3.610\n",
            "fri                -6.7843      0.440    -15.413      0.000      -7.647      -5.922\n",
            "mon                -7.0363      0.440    -15.977      0.000      -7.899      -6.173\n",
            "thu                -6.7519      0.440    -15.347      0.000      -7.614      -5.890\n",
            "tue                -6.7837      0.440    -15.418      0.000      -7.646      -5.921\n",
            "wed                -6.6609      0.440    -15.142      0.000      -7.523      -5.799\n",
            "failure            -4.8018      0.460    -10.446      0.000      -5.703      -3.901\n",
            "nonexistent        -4.6229      0.456    -10.139      0.000      -5.517      -3.729\n",
            "success            -3.0339      0.463     -6.546      0.000      -3.942      -2.126\n",
            "===================================================================================\n",
            "\n",
            "Possibly complete quasi-separation: A fraction 0.36 of observations can be\n",
            "perfectly predicted. This might indicate that there is complete\n",
            "quasi-separation. In this case some parameters will not be identified.\n"
          ]
        }
      ]
    },
    {
      "cell_type": "code",
      "execution_count": null,
      "metadata": {
        "colab": {
          "base_uri": "https://localhost:8080/"
        },
        "id": "TCQPqcopPB-1",
        "outputId": "45ab922d-07ce-4911-87d3-e17ad83c384d"
      },
      "outputs": [
        {
          "output_type": "stream",
          "name": "stdout",
          "text": [
            "Warning: Maximum number of iterations has been exceeded.\n",
            "         Current function value: 0.165224\n",
            "         Iterations: 35\n"
          ]
        },
        {
          "output_type": "stream",
          "name": "stderr",
          "text": [
            "/usr/local/lib/python3.7/dist-packages/statsmodels/base/model.py:568: ConvergenceWarning: Maximum Likelihood optimization failed to converge. Check mle_retvals\n",
            "  ConvergenceWarning)\n"
          ]
        },
        {
          "output_type": "stream",
          "name": "stdout",
          "text": [
            "Warning: Maximum number of iterations has been exceeded.\n",
            "         Current function value: 0.165224\n",
            "         Iterations: 35\n"
          ]
        },
        {
          "output_type": "stream",
          "name": "stderr",
          "text": [
            "/usr/local/lib/python3.7/dist-packages/statsmodels/base/model.py:568: ConvergenceWarning: Maximum Likelihood optimization failed to converge. Check mle_retvals\n",
            "  ConvergenceWarning)\n"
          ]
        },
        {
          "output_type": "stream",
          "name": "stdout",
          "text": [
            "                           Logit Regression Results                           \n",
            "==============================================================================\n",
            "Dep. Variable:                     y2   No. Observations:                55491\n",
            "Model:                          Logit   Df Residuals:                    55440\n",
            "Method:                           MLE   Df Model:                           50\n",
            "Date:                Fri, 30 Sep 2022   Pseudo R-squ.:                  0.7612\n",
            "Time:                        14:09:08   Log-Likelihood:                -9168.4\n",
            "converged:                      False   LL-Null:                       -38387.\n",
            "Covariance Type:            nonrobust   LLR p-value:                     0.000\n",
            "===================================================================================\n",
            "                      coef    std err          z      P>|z|      [0.025      0.975]\n",
            "-----------------------------------------------------------------------------------\n",
            "campaign           -0.0549      0.011     -4.967      0.000      -0.077      -0.033\n",
            "previous           -0.1442      0.062     -2.323      0.020      -0.266      -0.023\n",
            "duration_new        0.0044      0.000     37.525      0.000       0.004       0.005\n",
            "cons_price_idx      0.8142      0.022     36.664      0.000       0.771       0.858\n",
            "cons_conf_new       0.0592      0.006      9.858      0.000       0.047       0.071\n",
            "nr_employed        -0.0077      0.000    -22.213      0.000      -0.008      -0.007\n",
            "default_flag       -3.9400      0.488     -8.077      0.000      -4.896      -2.984\n",
            "housing_new2       -0.0805      0.040     -2.037      0.042      -0.158      -0.003\n",
            "loan_new2          -0.0689      0.055     -1.243      0.214      -0.178       0.040\n",
            "contact2           -1.3649      0.068    -20.094      0.000      -1.498      -1.232\n",
            "admin              -6.1381      0.442    -13.881      0.000      -7.005      -5.271\n",
            "blue_collar        -6.3137      0.444    -14.222      0.000      -7.184      -5.444\n",
            "entrepreneur       -6.1688      0.454    -13.595      0.000      -7.058      -5.279\n",
            "housemaid          -6.2541      0.461    -13.565      0.000      -7.158      -5.350\n",
            "management         -6.1667      0.447    -13.804      0.000      -7.042      -5.291\n",
            "retired            -5.7754      0.448    -12.896      0.000      -6.653      -4.898\n",
            "self_employed      -6.2610      0.454    -13.794      0.000      -7.151      -5.371\n",
            "services           -6.3522      0.446    -14.236      0.000      -7.227      -5.478\n",
            "student            -5.8672      0.453    -12.953      0.000      -6.755      -4.979\n",
            "technician         -6.2261      0.444    -14.021      0.000      -7.096      -5.356\n",
            "unemployed         -6.3114      0.459    -13.745      0.000      -7.211      -5.411\n",
            "divorced           -5.0314      0.458    -10.995      0.000      -5.928      -4.134\n",
            "married            -4.9204      0.454    -10.835      0.000      -5.810      -4.030\n",
            "single             -4.8184      0.454    -10.603      0.000      -5.709      -3.928\n",
            "basic4y            -5.9832      0.452    -13.247      0.000      -6.868      -5.098\n",
            "basic6y            -5.7479      0.455    -12.631      0.000      -6.640      -4.856\n",
            "basic9y            -5.8889      0.449    -13.102      0.000      -6.770      -5.008\n",
            "high_school        -5.8745      0.447    -13.128      0.000      -6.752      -4.997\n",
            "illiterate         -4.7784      0.811     -5.891      0.000      -6.368      -3.188\n",
            "pro_course         -5.8866      0.450    -13.091      0.000      -6.768      -5.005\n",
            "univ_degree        -5.7710      0.447    -12.905      0.000      -6.648      -4.895\n",
            "default_unknown    -4.4292      0.491     -9.017      0.000      -5.392      -3.467\n",
            "default_yes       -11.7070    885.578     -0.013      0.989   -1747.409    1723.995\n",
            "apr                -3.9328      0.519     -7.577      0.000      -4.950      -2.915\n",
            "aug                -4.5657      0.524     -8.719      0.000      -5.592      -3.539\n",
            "dec                -3.5511      0.550     -6.460      0.000      -4.629      -2.474\n",
            "jul                -4.7119      0.523     -9.012      0.000      -5.737      -3.687\n",
            "jun                -4.0438      0.520     -7.783      0.000      -5.062      -3.025\n",
            "mar                -2.7629      0.527     -5.238      0.000      -3.797      -1.729\n",
            "may                -4.6536      0.516     -9.018      0.000      -5.665      -3.642\n",
            "nov                -4.5470      0.521     -8.722      0.000      -5.569      -3.525\n",
            "oct                -3.4112      0.525     -6.502      0.000      -4.439      -2.383\n",
            "sep                -4.6554      0.533     -8.731      0.000      -5.700      -3.610\n",
            "fri                -6.7844      0.440    -15.414      0.000      -7.647      -5.922\n",
            "mon                -7.0363      0.440    -15.977      0.000      -7.899      -6.173\n",
            "thu                -6.7519      0.440    -15.348      0.000      -7.614      -5.890\n",
            "tue                -6.7837      0.440    -15.418      0.000      -7.646      -5.921\n",
            "wed                -6.6609      0.440    -15.142      0.000      -7.523      -5.799\n",
            "failure            -4.8018      0.460    -10.446      0.000      -5.703      -3.901\n",
            "nonexistent        -4.6229      0.456    -10.139      0.000      -5.517      -3.729\n",
            "success            -3.0340      0.463     -6.547      0.000      -3.942      -2.126\n",
            "===================================================================================\n",
            "\n",
            "Possibly complete quasi-separation: A fraction 0.36 of observations can be\n",
            "perfectly predicted. This might indicate that there is complete\n",
            "quasi-separation. In this case some parameters will not be identified.\n"
          ]
        }
      ],
      "source": [
        "# Dropping low impact variable : age\n",
        "\n",
        "import statsmodels.api as sm\n",
        "m6=sm.Logit(balanced_bank_data['y2'],balanced_bank_data[['campaign']+['previous']+['duration_new']+['cons_price_idx']+\n",
        "                                                        ['cons_conf_new']+['nr_employed']+['default_flag']+['housing_new2']+\n",
        "                                                        ['loan_new2']+['contact2']+['admin']+['blue_collar']+['entrepreneur']+\n",
        "                                                        ['housemaid']+['management']+['retired']+['self_employed']+['services']+\n",
        "                                                        ['student']+['technician']+['unemployed']+['divorced']+['married']+['single']+\n",
        "                                                        ['basic4y']+['basic6y']+['basic9y']+['high_school']+['illiterate']+\n",
        "                                                        ['pro_course']+['univ_degree']+['default_unknown']+['default_yes']+['apr']+\n",
        "                                                        ['aug']+['dec']+['jul']+['jun']+['mar']+['may']+['nov']+['oct']+['sep']+['fri']+\n",
        "                                                        ['mon']+['thu']+['tue']+['wed']+['failure']+['nonexistent']+['success']])\n",
        "m6.fit()\n",
        "print(m6.fit().summary())"
      ]
    },
    {
      "cell_type": "code",
      "source": [
        "# Dropping low impact variable : default_yes\n",
        "\n",
        "import statsmodels.api as sm\n",
        "m6=sm.Logit(balanced_bank_data['y2'],balanced_bank_data[['campaign']+['previous']+['duration_new']+['cons_price_idx']+\n",
        "                                                        ['cons_conf_new']+['nr_employed']+['default_flag']+['housing_new2']+\n",
        "                                                        ['loan_new2']+['contact2']+['admin']+['blue_collar']+['entrepreneur']+\n",
        "                                                        ['housemaid']+['management']+['retired']+['self_employed']+['services']+\n",
        "                                                        ['student']+['technician']+['unemployed']+['divorced']+['married']+['single']+\n",
        "                                                        ['basic4y']+['basic6y']+['basic9y']+['high_school']+['illiterate']+\n",
        "                                                        ['pro_course']+['univ_degree']+['default_unknown']+['apr']+\n",
        "                                                        ['aug']+['dec']+['jul']+['jun']+['mar']+['may']+['nov']+['oct']+['sep']+['fri']+\n",
        "                                                        ['mon']+['thu']+['tue']+['wed']+['failure']+['nonexistent']+['success']])\n",
        "m6.fit()\n",
        "print(m6.fit().summary())"
      ],
      "metadata": {
        "colab": {
          "base_uri": "https://localhost:8080/"
        },
        "id": "qRgL3iObfax2",
        "outputId": "f8274495-c71a-4d30-8a71-42fea5ba80b3"
      },
      "execution_count": null,
      "outputs": [
        {
          "output_type": "stream",
          "name": "stdout",
          "text": [
            "Optimization terminated successfully.\n",
            "         Current function value: 0.165226\n",
            "         Iterations 13\n",
            "Optimization terminated successfully.\n",
            "         Current function value: 0.165226\n",
            "         Iterations 13\n",
            "                           Logit Regression Results                           \n",
            "==============================================================================\n",
            "Dep. Variable:                     y2   No. Observations:                55491\n",
            "Model:                          Logit   Df Residuals:                    55441\n",
            "Method:                           MLE   Df Model:                           49\n",
            "Date:                Fri, 30 Sep 2022   Pseudo R-squ.:                  0.7612\n",
            "Time:                        14:09:09   Log-Likelihood:                -9168.6\n",
            "converged:                       True   LL-Null:                       -38387.\n",
            "Covariance Type:            nonrobust   LLR p-value:                     0.000\n",
            "===================================================================================\n",
            "                      coef    std err          z      P>|z|      [0.025      0.975]\n",
            "-----------------------------------------------------------------------------------\n",
            "campaign           -0.0549      0.011     -4.966      0.000      -0.077      -0.033\n",
            "previous           -0.1442      0.062     -2.323      0.020      -0.266      -0.023\n",
            "duration_new        0.0044      0.000     37.528      0.000       0.004       0.005\n",
            "cons_price_idx      0.8143      0.022     36.666      0.000       0.771       0.858\n",
            "cons_conf_new       0.0592      0.006      9.859      0.000       0.047       0.071\n",
            "nr_employed        -0.0077      0.000    -22.215      0.000      -0.008      -0.007\n",
            "default_flag       -3.9402      0.488     -8.077      0.000      -4.896      -2.984\n",
            "housing_new2       -0.0805      0.040     -2.037      0.042      -0.158      -0.003\n",
            "loan_new2          -0.0689      0.055     -1.242      0.214      -0.178       0.040\n",
            "contact2           -1.3649      0.068    -20.093      0.000      -1.498      -1.232\n",
            "admin              -6.1381      0.442    -13.881      0.000      -7.005      -5.271\n",
            "blue_collar        -6.3138      0.444    -14.223      0.000      -7.184      -5.444\n",
            "entrepreneur       -6.1688      0.454    -13.595      0.000      -7.058      -5.279\n",
            "housemaid          -6.2541      0.461    -13.565      0.000      -7.158      -5.350\n",
            "management         -6.1667      0.447    -13.805      0.000      -7.042      -5.291\n",
            "retired            -5.7754      0.448    -12.897      0.000      -6.653      -4.898\n",
            "self_employed      -6.2610      0.454    -13.794      0.000      -7.151      -5.371\n",
            "services           -6.3523      0.446    -14.236      0.000      -7.227      -5.478\n",
            "student            -5.8673      0.453    -12.954      0.000      -6.755      -4.980\n",
            "technician         -6.2262      0.444    -14.022      0.000      -7.097      -5.356\n",
            "unemployed         -6.3119      0.459    -13.747      0.000      -7.212      -5.412\n",
            "divorced           -5.0313      0.458    -10.995      0.000      -5.928      -4.134\n",
            "married            -4.9204      0.454    -10.835      0.000      -5.810      -4.030\n",
            "single             -4.8183      0.454    -10.603      0.000      -5.709      -3.928\n",
            "basic4y            -5.9832      0.452    -13.248      0.000      -6.868      -5.098\n",
            "basic6y            -5.7479      0.455    -12.631      0.000      -6.640      -4.856\n",
            "basic9y            -5.8889      0.449    -13.103      0.000      -6.770      -5.008\n",
            "high_school        -5.8745      0.447    -13.128      0.000      -6.752      -4.998\n",
            "illiterate         -4.7783      0.811     -5.891      0.000      -6.368      -3.188\n",
            "pro_course         -5.8868      0.450    -13.092      0.000      -6.768      -5.006\n",
            "univ_degree        -5.7710      0.447    -12.905      0.000      -6.647      -4.895\n",
            "default_unknown    -4.4294      0.491     -9.018      0.000      -5.392      -3.467\n",
            "apr                -3.9327      0.519     -7.577      0.000      -4.950      -2.915\n",
            "aug                -4.5659      0.524     -8.719      0.000      -5.592      -3.540\n",
            "dec                -3.5511      0.550     -6.460      0.000      -4.629      -2.474\n",
            "jul                -4.7117      0.523     -9.012      0.000      -5.736      -3.687\n",
            "jun                -4.0437      0.520     -7.783      0.000      -5.062      -3.025\n",
            "mar                -2.7628      0.527     -5.238      0.000      -3.797      -1.729\n",
            "may                -4.6535      0.516     -9.018      0.000      -5.665      -3.642\n",
            "nov                -4.5470      0.521     -8.722      0.000      -5.569      -3.525\n",
            "oct                -3.4111      0.525     -6.502      0.000      -4.439      -2.383\n",
            "sep                -4.6553      0.533     -8.731      0.000      -5.700      -3.610\n",
            "fri                -6.7843      0.440    -15.414      0.000      -7.647      -5.922\n",
            "mon                -7.0363      0.440    -15.978      0.000      -7.899      -6.173\n",
            "thu                -6.7519      0.440    -15.348      0.000      -7.614      -5.890\n",
            "tue                -6.7840      0.440    -15.420      0.000      -7.646      -5.922\n",
            "wed                -6.6609      0.440    -15.143      0.000      -7.523      -5.799\n",
            "failure            -4.8019      0.460    -10.447      0.000      -5.703      -3.901\n",
            "nonexistent        -4.6229      0.456    -10.139      0.000      -5.517      -3.729\n",
            "success            -3.0340      0.463     -6.547      0.000      -3.942      -2.126\n",
            "===================================================================================\n",
            "\n",
            "Possibly complete quasi-separation: A fraction 0.36 of observations can be\n",
            "perfectly predicted. This might indicate that there is complete\n",
            "quasi-separation. In this case some parameters will not be identified.\n"
          ]
        }
      ]
    },
    {
      "cell_type": "code",
      "source": [
        "# Dropping low impact variable : loan_new2\n",
        "\n",
        "import statsmodels.api as sm\n",
        "m6=sm.Logit(balanced_bank_data['y2'],balanced_bank_data[['campaign']+['previous']+['duration_new']+['cons_price_idx']+\n",
        "                                                        ['cons_conf_new']+['nr_employed']+['default_flag']+['housing_new2']+\n",
        "                                                        ['contact2']+['admin']+['blue_collar']+['entrepreneur']+\n",
        "                                                        ['housemaid']+['management']+['retired']+['self_employed']+['services']+\n",
        "                                                        ['student']+['technician']+['unemployed']+['divorced']+['married']+['single']+\n",
        "                                                        ['basic4y']+['basic6y']+['basic9y']+['high_school']+['illiterate']+\n",
        "                                                        ['pro_course']+['univ_degree']+['default_unknown']+['apr']+\n",
        "                                                        ['aug']+['dec']+['jul']+['jun']+['mar']+['may']+['nov']+['oct']+['sep']+['fri']+\n",
        "                                                        ['mon']+['thu']+['tue']+['wed']+['failure']+['nonexistent']+['success']])\n",
        "m6.fit()\n",
        "print(m6.fit().summary())"
      ],
      "metadata": {
        "colab": {
          "base_uri": "https://localhost:8080/"
        },
        "id": "wig9kLLsfrL2",
        "outputId": "3ce3480a-bb62-421c-a8ff-81bc13c97cb4"
      },
      "execution_count": null,
      "outputs": [
        {
          "output_type": "stream",
          "name": "stdout",
          "text": [
            "Optimization terminated successfully.\n",
            "         Current function value: 0.165240\n",
            "         Iterations 13\n",
            "Optimization terminated successfully.\n",
            "         Current function value: 0.165240\n",
            "         Iterations 13\n",
            "                           Logit Regression Results                           \n",
            "==============================================================================\n",
            "Dep. Variable:                     y2   No. Observations:                55491\n",
            "Model:                          Logit   Df Residuals:                    55442\n",
            "Method:                           MLE   Df Model:                           48\n",
            "Date:                Fri, 30 Sep 2022   Pseudo R-squ.:                  0.7611\n",
            "Time:                        14:09:11   Log-Likelihood:                -9169.4\n",
            "converged:                       True   LL-Null:                       -38387.\n",
            "Covariance Type:            nonrobust   LLR p-value:                     0.000\n",
            "===================================================================================\n",
            "                      coef    std err          z      P>|z|      [0.025      0.975]\n",
            "-----------------------------------------------------------------------------------\n",
            "campaign           -0.0551      0.011     -4.977      0.000      -0.077      -0.033\n",
            "previous           -0.1439      0.062     -2.317      0.021      -0.266      -0.022\n",
            "duration_new        0.0044      0.000     37.547      0.000       0.004       0.005\n",
            "cons_price_idx      0.8149      0.022     36.704      0.000       0.771       0.858\n",
            "cons_conf_new       0.0592      0.006      9.859      0.000       0.047       0.071\n",
            "nr_employed        -0.0077      0.000    -22.231      0.000      -0.008      -0.007\n",
            "default_flag       -3.9498      0.488     -8.099      0.000      -4.906      -2.994\n",
            "housing_new2       -0.0838      0.039     -2.125      0.034      -0.161      -0.007\n",
            "contact2           -1.3657      0.068    -20.102      0.000      -1.499      -1.233\n",
            "admin              -6.1439      0.442    -13.898      0.000      -7.010      -5.277\n",
            "blue_collar        -6.3180      0.444    -14.237      0.000      -7.188      -5.448\n",
            "entrepreneur       -6.1722      0.454    -13.606      0.000      -7.061      -5.283\n",
            "housemaid          -6.2583      0.461    -13.578      0.000      -7.162      -5.355\n",
            "management         -6.1709      0.447    -13.818      0.000      -7.046      -5.296\n",
            "retired            -5.7797      0.448    -12.910      0.000      -6.657      -4.902\n",
            "self_employed      -6.2648      0.454    -13.806      0.000      -7.154      -5.375\n",
            "services           -6.3579      0.446    -14.253      0.000      -7.232      -5.484\n",
            "student            -5.8746      0.453    -12.974      0.000      -6.762      -4.987\n",
            "technician         -6.2309      0.444    -14.036      0.000      -7.101      -5.361\n",
            "unemployed         -6.3168      0.459    -13.761      0.000      -7.217      -5.417\n",
            "divorced           -5.0325      0.457    -11.003      0.000      -5.929      -4.136\n",
            "married            -4.9215      0.454    -10.842      0.000      -5.811      -4.032\n",
            "single             -4.8186      0.454    -10.609      0.000      -5.709      -3.928\n",
            "basic4y            -5.9925      0.451    -13.273      0.000      -6.877      -5.108\n",
            "basic6y            -5.7566      0.455    -12.655      0.000      -6.648      -4.865\n",
            "basic9y            -5.8975      0.449    -13.127      0.000      -6.778      -5.017\n",
            "high_school        -5.8826      0.447    -13.151      0.000      -6.759      -5.006\n",
            "illiterate         -4.7828      0.811     -5.899      0.000      -6.372      -3.194\n",
            "pro_course         -5.8956      0.449    -13.116      0.000      -6.777      -5.015\n",
            "univ_degree        -5.7800      0.447    -12.930      0.000      -6.656      -4.904\n",
            "default_unknown    -4.4388      0.491     -9.039      0.000      -5.401      -3.476\n",
            "apr                -3.9349      0.519     -7.585      0.000      -4.952      -2.918\n",
            "aug                -4.5667      0.523     -8.726      0.000      -5.592      -3.541\n",
            "dec                -3.5563      0.549     -6.472      0.000      -4.633      -2.479\n",
            "jul                -4.7155      0.523     -9.024      0.000      -5.740      -3.691\n",
            "jun                -4.0465      0.519     -7.793      0.000      -5.064      -3.029\n",
            "mar                -2.7633      0.527     -5.242      0.000      -3.797      -1.730\n",
            "may                -4.6560      0.516     -9.028      0.000      -5.667      -3.645\n",
            "nov                -4.5478      0.521     -8.728      0.000      -5.569      -3.527\n",
            "oct                -3.4106      0.524     -6.505      0.000      -4.438      -2.383\n",
            "sep                -4.6577      0.533     -8.740      0.000      -5.702      -3.613\n",
            "fri                -6.7907      0.440    -15.434      0.000      -7.653      -5.928\n",
            "mon                -7.0423      0.440    -15.997      0.000      -7.905      -6.179\n",
            "thu                -6.7577      0.440    -15.367      0.000      -7.620      -5.896\n",
            "tue                -6.7904      0.440    -15.440      0.000      -7.652      -5.928\n",
            "wed                -6.6670      0.440    -15.162      0.000      -7.529      -5.805\n",
            "failure            -4.8108      0.460    -10.469      0.000      -5.711      -3.910\n",
            "nonexistent        -4.6319      0.456    -10.162      0.000      -5.525      -3.739\n",
            "success            -3.0435      0.463     -6.569      0.000      -3.952      -2.135\n",
            "===================================================================================\n",
            "\n",
            "Possibly complete quasi-separation: A fraction 0.36 of observations can be\n",
            "perfectly predicted. This might indicate that there is complete\n",
            "quasi-separation. In this case some parameters will not be identified.\n"
          ]
        }
      ]
    },
    {
      "cell_type": "markdown",
      "metadata": {
        "id": "jSHQO5V9RSUn"
      },
      "source": [
        "## Recreating Model 6 with these variables"
      ]
    },
    {
      "cell_type": "code",
      "execution_count": null,
      "metadata": {
        "colab": {
          "base_uri": "https://localhost:8080/"
        },
        "id": "LGmiqG0fRWkc",
        "outputId": "bce22ec1-06d7-4861-f742-42b6b02137ab"
      },
      "outputs": [
        {
          "output_type": "stream",
          "name": "stderr",
          "text": [
            "/usr/local/lib/python3.7/dist-packages/sklearn/utils/validation.py:993: DataConversionWarning: A column-vector y was passed when a 1d array was expected. Please change the shape of y to (n_samples, ), for example using ravel().\n",
            "  y = column_or_1d(y, warn=True)\n"
          ]
        },
        {
          "output_type": "stream",
          "name": "stdout",
          "text": [
            "Intercept [0.02451903]\n",
            "Coefficients [[-1.24236561e-01 -5.76493308e-01  3.82031741e-03  6.54396892e-01\n",
            "   1.60690412e-02 -1.08359173e-02 -9.39739996e-02 -1.19957985e+00\n",
            "  -1.73057525e+00 -9.90922418e-01 -1.27233534e+00 -2.69476365e-01\n",
            "  -2.04262650e-01 -4.86199107e-01 -5.92527882e-02 -2.60000116e-01\n",
            "  -7.03708830e-01 -1.22628191e-01 -9.17903027e-01 -1.99570303e-01\n",
            "  -7.75225020e-01 -1.30621324e+00 -8.17343456e-01 -6.74581323e-01\n",
            "  -3.89728525e-01 -9.48180519e-01 -1.19582701e+00 -2.05070928e-03\n",
            "  -7.97976765e-01 -9.46294693e-01 -1.03542538e+00 -2.63472019e-01\n",
            "   1.84743993e-01 -9.14111269e-04 -1.27825800e-01 -2.60479178e-01\n",
            "   9.97068838e-02 -1.74922490e+00 -2.33505786e-01  7.01271597e-02\n",
            "  -8.63486871e-02 -1.08898935e+00 -1.29158499e+00 -1.06568227e+00\n",
            "  -1.07732775e+00 -1.03433890e+00 -1.02513385e+00 -8.56141269e-01\n",
            "   1.28731194e-01]]\n"
          ]
        },
        {
          "output_type": "stream",
          "name": "stderr",
          "text": [
            "/usr/local/lib/python3.7/dist-packages/sklearn/linear_model/_logistic.py:818: ConvergenceWarning: lbfgs failed to converge (status=1):\n",
            "STOP: TOTAL NO. of ITERATIONS REACHED LIMIT.\n",
            "\n",
            "Increase the number of iterations (max_iter) or scale the data as shown in:\n",
            "    https://scikit-learn.org/stable/modules/preprocessing.html\n",
            "Please also refer to the documentation for alternative solver options:\n",
            "    https://scikit-learn.org/stable/modules/linear_model.html#logistic-regression\n",
            "  extra_warning_msg=_LOGISTIC_SOLVER_CONVERGENCE_MSG,\n"
          ]
        }
      ],
      "source": [
        "logistic6= LogisticRegression()\n",
        "\n",
        "# fitting logistic regression for target y2 on these variables\n",
        "logistic6.fit(balanced_bank_data[['campaign']+['previous']+['duration_new']+['cons_price_idx']+\n",
        "                                 ['cons_conf_new']+['nr_employed']+['default_flag']+['housing_new2']+\n",
        "                                 ['contact2']+['admin']+['blue_collar']+['entrepreneur']+\n",
        "                                 ['housemaid']+['management']+['retired']+['self_employed']+['services']+\n",
        "                                 ['student']+['technician']+['unemployed']+['divorced']+['married']+['single']+\n",
        "                                 ['basic4y']+['basic6y']+['basic9y']+['high_school']+['illiterate']+\n",
        "                                 ['pro_course']+['univ_degree']+['default_unknown']+['apr']+\n",
        "                                 ['aug']+['dec']+['jul']+['jun']+['mar']+['may']+['nov']+['oct']+['sep']+['fri']+\n",
        "                                 ['mon']+['thu']+['tue']+['wed']+['failure']+['nonexistent']+['success']], balanced_bank_data[['y2']])\n",
        "\n",
        "# Values of coefficients and intercept for the Logistic equation \n",
        "print(\"Intercept\", logistic6.intercept_)\n",
        "print(\"Coefficients\", logistic6.coef_)\n"
      ]
    },
    {
      "cell_type": "markdown",
      "metadata": {
        "id": "ZiVdiUEASxK9"
      },
      "source": [
        "### Confusion Matrix and Model Vadilation Parameters"
      ]
    },
    {
      "cell_type": "code",
      "execution_count": null,
      "metadata": {
        "colab": {
          "base_uri": "https://localhost:8080/"
        },
        "id": "uNHJhXYNSrSs",
        "outputId": "69f14da5-ba0c-4bfc-bdbd-57b4e0ff124e"
      },
      "outputs": [
        {
          "output_type": "stream",
          "name": "stdout",
          "text": [
            "predicted values : [0 1 1 ... 0 1 1]\n",
            "Confusion Matrix : \n",
            " [[26559  2647]\n",
            " [ 4127 22158]]\n",
            "accuracy = 0.8779261501865168\n"
          ]
        }
      ],
      "source": [
        "predict6=logistic6.predict(balanced_bank_data[['campaign']+['previous']+['duration_new']+['cons_price_idx']+\n",
        "                                 ['cons_conf_new']+['nr_employed']+['default_flag']+['housing_new2']+\n",
        "                                 ['contact2']+['admin']+['blue_collar']+['entrepreneur']+\n",
        "                                 ['housemaid']+['management']+['retired']+['self_employed']+['services']+\n",
        "                                 ['student']+['technician']+['unemployed']+['divorced']+['married']+['single']+\n",
        "                                 ['basic4y']+['basic6y']+['basic9y']+['high_school']+['illiterate']+\n",
        "                                 ['pro_course']+['univ_degree']+['default_unknown']+['apr']+\n",
        "                                 ['aug']+['dec']+['jul']+['jun']+['mar']+['may']+['nov']+['oct']+['sep']+['fri']+\n",
        "                                 ['mon']+['thu']+['tue']+['wed']+['failure']+['nonexistent']+['success']])\n",
        "print('predicted values :', predict6)\n",
        "\n",
        "# CONFUSION MATRIX\n",
        "\n",
        "cm6 = confusion_matrix(balanced_bank_data[['y2']],predict6)\n",
        "print('Confusion Matrix : \\n',cm6)\n",
        "\n",
        "total6=sum(sum(cm6))\n",
        "accuracy6=(cm6[0,0]+cm6[1,1])/total6\n",
        "print('accuracy =',accuracy6)"
      ]
    },
    {
      "cell_type": "code",
      "source": [
        "# Predicting on Test Data set\n",
        "\n",
        "predict6=logistic6.predict(bank_data_test[['campaign']+['previous']+['duration_new']+['cons_price_idx']+\n",
        "                                 ['cons_conf_new']+['nr_employed']+['default_flag']+['housing_new2']+\n",
        "                                 ['contact2']+['admin']+['blue_collar']+['entrepreneur']+\n",
        "                                 ['housemaid']+['management']+['retired']+['self_employed']+['services']+\n",
        "                                 ['student']+['technician']+['unemployed']+['divorced']+['married']+['single']+\n",
        "                                 ['basic4y']+['basic6y']+['basic9y']+['high_school']+['illiterate']+\n",
        "                                 ['pro_course']+['univ_degree']+['default_unknown']+['apr']+\n",
        "                                 ['aug']+['dec']+['jul']+['jun']+['mar']+['may']+['nov']+['oct']+['sep']+['fri']+\n",
        "                                 ['mon']+['thu']+['tue']+['wed']+['failure']+['nonexistent']+['success']])\n",
        "print('predicted values :', predict6)\n",
        "\n",
        "# CONFUSION MATRIX ON TEST DATA (ACCURACY OF MODEL)\n",
        "\n",
        "cm6 = confusion_matrix(bank_data_test[['y2']],predict6)\n",
        "print('Confusion Matrix : \\n',cm6)\n",
        "\n",
        "total6=sum(sum(cm6))\n",
        "accuracy6=(cm6[0,0]+cm6[1,1])/total6\n",
        "print('accuracy =',accuracy6)\n"
      ],
      "metadata": {
        "colab": {
          "base_uri": "https://localhost:8080/"
        },
        "id": "roqFKugc5t6Y",
        "outputId": "be1c29c2-6bff-4311-ba88-537811816a35"
      },
      "execution_count": null,
      "outputs": [
        {
          "output_type": "stream",
          "name": "stdout",
          "text": [
            "predicted values : [1 0 0 ... 1 0 0]\n",
            "Confusion Matrix : \n",
            " [[6723  619]\n",
            " [ 471  425]]\n",
            "accuracy = 0.8676863316338917\n"
          ]
        }
      ]
    },
    {
      "cell_type": "code",
      "execution_count": null,
      "metadata": {
        "colab": {
          "base_uri": "https://localhost:8080/"
        },
        "id": "GTU3CQwrVC7P",
        "outputId": "ae20b414-03f5-4616-b549-4efae9377dd5"
      },
      "outputs": [
        {
          "output_type": "stream",
          "name": "stdout",
          "text": [
            "Sensitivity / Recall(0) :  0.9156905475347317\n",
            "Precision Class 0 :  0.9345287739783152\n",
            "F1 Score of CLass 0 :  0.9250137589433133\n",
            "Specificity / Recall(1) :  0.47433035714285715\n",
            "Precision Class 1 :  0.407088122605364\n",
            "F1 Score of CLass 1 :  0.4381443298969072\n"
          ]
        }
      ],
      "source": [
        "# Confusion Matrix for Model 6 = cm6\n",
        "\n",
        "# Sensitivity (Recall of Class 0)\n",
        "sensitivity1 = cm6[0,0]/(cm6[0,0]+cm6[0,1])\n",
        "print('Sensitivity / Recall(0) : ', sensitivity1 )\n",
        "\n",
        "# Precision of Class 0\n",
        "precision1_0 = cm6[0,0]/(cm6[0,0]+cm6[1,0])\n",
        "print('Precision Class 0 : ', precision1_0 )\n",
        "\n",
        "# F1 Score of Class 0\n",
        "F1_class0 = 2/((1/precision1_0)+(1/sensitivity1))\n",
        "print('F1 Score of CLass 0 : ', F1_class0 )\n",
        "\n",
        "# Specificity (Recall of Class 1)\n",
        "specificity1 = cm6[1,1]/(cm6[1,0]+cm6[1,1])\n",
        "print('Specificity / Recall(1) : ', specificity1)\n",
        "\n",
        "# Precision of Class 1\n",
        "precision1_1 = cm6[1,1]/(cm6[0,1]+cm6[1,1])\n",
        "print('Precision Class 1 : ', precision1_1 )\n",
        "\n",
        "# F1 Score of Class 1\n",
        "F1_class1 = 2/((1/precision1_1)+(1/specificity1))\n",
        "print('F1 Score of CLass 1 : ', F1_class1 )\n"
      ]
    },
    {
      "cell_type": "markdown",
      "metadata": {
        "id": "QoJP3jBjeN60"
      },
      "source": [
        "### Continuous Prediction values (without threshold) of Logistic model"
      ]
    },
    {
      "cell_type": "code",
      "execution_count": null,
      "metadata": {
        "colab": {
          "base_uri": "https://localhost:8080/"
        },
        "id": "caTJAFfIehMz",
        "outputId": "cde86694-14b9-4fad-82b4-6f67e652fb65"
      },
      "outputs": [
        {
          "output_type": "stream",
          "name": "stdout",
          "text": [
            "Optimization terminated successfully.\n",
            "         Current function value: 0.247496\n",
            "         Iterations 8\n",
            "[0.38957335 0.02501768 0.30043667 0.01433459 0.41190819 0.02708925\n",
            " 0.03112494 0.30602845 0.03403859 0.07814905]\n"
          ]
        },
        {
          "output_type": "execute_result",
          "data": {
            "text/plain": [
              "8238"
            ]
          },
          "metadata": {},
          "execution_count": 348
        }
      ],
      "source": [
        "model_formula = 'y2 ~ campaign + previous + duration_new + cons_price_idx + cons_conf_new + nr_employed + default_flag + housing_new2 + contact2 + admin + blue_collar + entrepreneur + housemaid + management + retired + self_employed + services + student + technician + unemployed + divorced + married + single + basic4y + basic6y + basic9y + high_school + illiterate + pro_course + univ_degree + default_unknown + apr + aug + dec + jul + jun + mar + may + nov + oct + sep + fri + mon + thu + tue + wed + failure + nonexistent + success'\n",
        "# Build raw prediction model\n",
        "import statsmodels.formula.api as sm\n",
        "\n",
        "prediction_model6=sm.logit(model_formula, data=bank_data_test)\n",
        "results=prediction_model6.fit()\n",
        "\n",
        "predictions = results.predict()\n",
        "print(predictions[0:10])\n",
        "len(predictions)\n",
        "# We got the raw predicted values of the logistic regression model for all the records"
      ]
    },
    {
      "cell_type": "markdown",
      "metadata": {
        "id": "_d7bbt_MZW_3"
      },
      "source": [
        "### ROC Curve and AUC"
      ]
    },
    {
      "cell_type": "code",
      "execution_count": null,
      "metadata": {
        "colab": {
          "base_uri": "https://localhost:8080/",
          "height": 312
        },
        "id": "kPBr62ULZrIP",
        "outputId": "9d165e2a-f083-48c0-94e0-c925252c05cb"
      },
      "outputs": [
        {
          "output_type": "display_data",
          "data": {
            "text/plain": [
              "<Figure size 432x288 with 1 Axes>"
            ],
            "image/png": "[encoded data removed]"
          },
          "metadata": {
            "needs_background": "light"
          }
        },
        {
          "output_type": "stream",
          "name": "stdout",
          "text": [
            "AUC :  0.8451559581371366\n"
          ]
        }
      ],
      "source": [
        "from sklearn.metrics import roc_curve, auc\n",
        "import matplotlib.pyplot as plt\n",
        "\n",
        "actual = bank_data_test['y2']\n",
        "false_positive_rate, true_positive_rate, thresholds = roc_curve(actual, predictions)\n",
        "\n",
        "plt.title('ROC Curve')\n",
        "#Drawing ROC Curve\n",
        "plt.plot(false_positive_rate, true_positive_rate)\n",
        "\n",
        "#X and Y  Axis Limits \n",
        "plt.xlim([-0,1])\n",
        "plt.ylim([-0,1])\n",
        "\n",
        "# Labels \n",
        "plt.ylabel('True Positive Rate(Sensitivity)')\n",
        "plt.xlabel('False Positive Rate(1 - Specificity)')\n",
        "plt.show()\n",
        "\n",
        "roc_auc = auc(false_positive_rate, true_positive_rate)\n",
        "print('AUC : ',roc_auc)"
      ]
    },
    {
      "cell_type": "markdown",
      "source": [
        "### Threshold vs False Positive rate\n",
        "\n",
        "After locating the optimal point on the ROC curve, we can note the false positive rate at that point. The we can use the graph below to find out the threshold value for getting that false positive rate. Although, generally we vary the threshold to suit our desired value of sensitivity or specificity first. It is a logical choice."
      ],
      "metadata": {
        "id": "g52_zRv8XqD3"
      }
    },
    {
      "cell_type": "code",
      "source": [
        "plt.title('Thresholds vs False Positive rate')\n",
        "plt.plot(false_positive_rate, thresholds)\n",
        "plt.xlim([-0,1])\n",
        "plt.ylim([-0,1])\n",
        "plt.ylabel('Threshold values')\n",
        "plt.xlabel('False Positive Rate(1 - Specificity)')"
      ],
      "metadata": {
        "colab": {
          "base_uri": "https://localhost:8080/",
          "height": 312
        },
        "id": "r9XKtNVR-f7e",
        "outputId": "a6299e02-1c9b-4d3b-f486-8ceb9b1a93ea"
      },
      "execution_count": null,
      "outputs": [
        {
          "output_type": "execute_result",
          "data": {
            "text/plain": [
              "Text(0.5, 0, 'False Positive Rate(1 - Specificity)')"
            ]
          },
          "metadata": {},
          "execution_count": 350
        },
        {
          "output_type": "display_data",
          "data": {
            "text/plain": [
              "<Figure size 432x288 with 1 Axes>"
            ],
            "image/png": "[encoded data removed]"
          },
          "metadata": {
            "needs_background": "light"
          }
        }
      ]
    },
    {
      "cell_type": "markdown",
      "metadata": {
        "id": "624l2L2WjLou"
      },
      "source": [
        "### AUC of Model 6 (0.845) is higher than AUC of Model 1 (0.82)\n",
        "### Model 6 is a better Logistic Regression model than Model 1"
      ]
    },
    {
      "cell_type": "markdown",
      "metadata": {
        "id": "obnZJNG2lBJC"
      },
      "source": [
        "## Threshold variation\n",
        "\n",
        "### Updated Sensitivity vs Specificity with Optimal Threshold"
      ]
    },
    {
      "cell_type": "code",
      "execution_count": null,
      "metadata": {
        "colab": {
          "base_uri": "https://localhost:8080/"
        },
        "id": "yyo9tIRijy1e",
        "outputId": "30f8d648-d850-4532-f10f-aca08ad31bcf"
      },
      "outputs": [
        {
          "output_type": "stream",
          "name": "stdout",
          "text": [
            "Confusion Matrix : \n",
            " [[5876 1466]\n",
            " [ 223  673]]\n",
            "Accuracy :  0.7949745083758194\n",
            "Sensitivity :  0.8003268864069736\n",
            "Specificity :  0.7511160714285714\n"
          ]
        }
      ],
      "source": [
        "### Converting predicted values into classes using new threshold\n",
        "threshold=0.1\n",
        "predicted_class=[ 0 if x < threshold else 1 for x in predictions]\n",
        "\n",
        "# Updated Confusion matrix, Accuracy, sensitivity and specificity\n",
        "\n",
        "cm1 = confusion_matrix(bank_data_test[\"y2\"], predicted_class)\n",
        "print('Confusion Matrix : \\n', cm1)\n",
        "\n",
        "total1=sum(sum(cm1))\n",
        "\n",
        "accuracy1=(cm1[0,0]+cm1[1,1])/total1\n",
        "print ('Accuracy : ', accuracy1)\n",
        "\n",
        "sensitivity1 = cm1[0,0]/(cm1[0,0]+cm1[0,1])\n",
        "print('Sensitivity : ', sensitivity1 )\n",
        "\n",
        "specificity1 = cm1[1,1]/(cm1[1,0]+cm1[1,1])\n",
        "print('Specificity : ', specificity1)"
      ]
    },
    {
      "cell_type": "markdown",
      "metadata": {
        "id": "PPwiRJQ9nLHE"
      },
      "source": [
        "### Comparison between Model 1 and Model 6\n",
        "Model 6 has silghtly better accuracy 79.5%, Sensitivity, 80% and Specificity 75.11% than Model 1\n",
        "This can be achieved atsame threshold = 0.1 for both the models."
      ]
    },
    {
      "cell_type": "markdown",
      "metadata": {
        "id": "CCVKWDs_oVXT"
      },
      "source": [
        "# MODEL 7 : Desicion Tree\n",
        "\n",
        "Building Decision Tree with full data"
      ]
    },
    {
      "cell_type": "code",
      "execution_count": null,
      "metadata": {
        "colab": {
          "base_uri": "https://localhost:8080/"
        },
        "id": "Vc31MxqEpdm5",
        "outputId": "80f2723e-4a51-48a5-9f7e-8a4f4f24dd27"
      },
      "outputs": [
        {
          "output_type": "stream",
          "name": "stdout",
          "text": [
            "train_accuracy 0.9014614982609792\n",
            "test_accuracy 0.8911143481427531\n",
            "Difference % 1.0347\n"
          ]
        }
      ],
      "source": [
        "from sklearn import tree\n",
        "\n",
        "X_train = X_smote\n",
        "y_train = y_smote\n",
        "\n",
        "# Building the best model with high train accuracy\n",
        "dtree_model7 = tree.DecisionTreeClassifier(max_leaf_nodes = 34)\n",
        "dtree_model7.fit(X_train,y_train)\n",
        "\n",
        "train_acc= dtree_model7.score(X_train,y_train)\n",
        "print(\"train_accuracy\", train_acc)\n",
        "\n",
        "test_acc= dtree_model7.score(X_test,y_test)\n",
        "print(\"test_accuracy\", test_acc)\n",
        "\n",
        "print(\"Difference %\", round((train_acc-test_acc)*100, 4))"
      ]
    },
    {
      "cell_type": "markdown",
      "metadata": {
        "id": "IBlnJ0cIt9Kz"
      },
      "source": [
        "Model 7 : Decision Tree (max leaf nodes = 34)\n",
        "Train accuracy = 90.1%, Test accuracy = 89.1%. \n",
        "Model Accuracy = 89.1%"
      ]
    },
    {
      "cell_type": "code",
      "execution_count": null,
      "metadata": {
        "colab": {
          "base_uri": "https://localhost:8080/"
        },
        "id": "WyTPJD5nuOow",
        "outputId": "6b5f12e3-5207-4e4f-963c-0feab94c1454"
      },
      "outputs": [
        {
          "output_type": "stream",
          "name": "stdout",
          "text": [
            "Confusion matrix : \n",
            " [[6671  671]\n",
            " [ 226  670]]\n",
            "Overall Accuracy 0.8911143481427531\n"
          ]
        }
      ],
      "source": [
        "predict = dtree_model7.predict(X_test)\n",
        "\n",
        "# Confusion Matrix\n",
        "\n",
        "cm3 = confusion_matrix(y_test, predict)\n",
        "print('Confusion matrix : \\n', cm3)\n",
        "total3 = sum(sum(cm3))\n",
        "accuracy3 = (cm3[0,0]+cm3[1,1])/total3\n",
        "print(\"Overall Accuracy\", accuracy3)"
      ]
    },
    {
      "cell_type": "markdown",
      "metadata": {
        "id": "iP2XQJi1uwmD"
      },
      "source": [
        "## Model Validation Parameters "
      ]
    },
    {
      "cell_type": "code",
      "execution_count": null,
      "metadata": {
        "colab": {
          "base_uri": "https://localhost:8080/"
        },
        "id": "vz2w1W4EvyDo",
        "outputId": "a0b211fb-6081-4095-dd01-931bcb329e68"
      },
      "outputs": [
        {
          "output_type": "stream",
          "name": "stdout",
          "text": [
            "Sensitivity / Recall(0) :  0.9086080087169709\n",
            "Precision Class 0 :  0.9672321299115557\n",
            "F1 Score of CLass 0 :  0.9370040030901046\n",
            "Specificity / Recall(1) :  0.7477678571428571\n",
            "Precision Class 1 :  0.49962714392244595\n",
            "F1 Score of CLass 1 :  0.5990165400089406\n"
          ]
        }
      ],
      "source": [
        "##### From Confusion Matrix, we calculate\n",
        "\n",
        "# Sensitivity (Recall of Class 0)\n",
        "sensitivity4 = cm3[0,0]/(cm3[0,0]+cm3[0,1])\n",
        "print('Sensitivity / Recall(0) : ', sensitivity4 )\n",
        "\n",
        "# Precision of Class 0\n",
        "precision4_0 = cm3[0,0]/(cm3[0,0]+cm3[1,0])\n",
        "print('Precision Class 0 : ', precision4_0 )\n",
        "\n",
        "# F1 Score of Class 0\n",
        "F1_class0_m4 = 2/((1/precision4_0)+(1/sensitivity4))\n",
        "print('F1 Score of CLass 0 : ', F1_class0_m4 )\n",
        "\n",
        "# Specificity (Recall of Class 1)\n",
        "specificity4 = cm3[1,1]/(cm3[1,0]+cm3[1,1])\n",
        "print('Specificity / Recall(1) : ', specificity4)\n",
        "\n",
        "# Precision of Class 1\n",
        "precision4_1 = cm3[1,1]/(cm3[0,1]+cm3[1,1])\n",
        "print('Precision Class 1 : ', precision4_1 )\n",
        "\n",
        "# F1 Score of Class 1\n",
        "F1_class1_m4 = 2/((1/precision4_1)+(1/specificity4))\n",
        "print('F1 Score of CLass 1 : ', F1_class1_m4 )\n"
      ]
    },
    {
      "cell_type": "markdown",
      "metadata": {
        "id": "q_LZ-6c2E15D"
      },
      "source": [
        "## ROC and AUC for Decision Tree\n",
        "Variation of Sensitivity with Specificity\n",
        "\n",
        "There is no concept of threshold in Decision trees. So the graph is not a real ROC curve. But the AUC of this graph can be used as a comparison measure as to which model is a better fit. Higher AUC means the model will have a higher value of sensitivity for the same specificity."
      ]
    },
    {
      "cell_type": "code",
      "execution_count": null,
      "metadata": {
        "colab": {
          "base_uri": "https://localhost:8080/",
          "height": 312
        },
        "id": "u_vSvWt_E-aB",
        "outputId": "626180fd-d0a1-46bf-de3e-30df0e107935"
      },
      "outputs": [
        {
          "output_type": "display_data",
          "data": {
            "text/plain": [
              "<Figure size 432x288 with 1 Axes>"
            ],
            "image/png": "[encoded data removed]"
          },
          "metadata": {
            "needs_background": "light"
          }
        },
        {
          "output_type": "stream",
          "name": "stdout",
          "text": [
            "AUC :  0.8281879329299141\n"
          ]
        }
      ],
      "source": [
        "# Getting ROC parameters\n",
        "false_positive_rate, true_positive_rate, thresholds = roc_curve(y_test, predict)\n",
        "\n",
        "plt.title('ROC Curve')\n",
        "#Drawing ROC Curve\n",
        "plt.plot(false_positive_rate, true_positive_rate)\n",
        "\n",
        "#X and Y  Axis Limits \n",
        "plt.xlim([-0,1])\n",
        "plt.ylim([-0,1])\n",
        "\n",
        "# Labels \n",
        "plt.ylabel('True Positive Rate(Sensitivity)')\n",
        "plt.xlabel('False Positive Rate(1 - Specificity)')\n",
        "plt.show()\n",
        "\n",
        "roc_auc = auc(false_positive_rate, true_positive_rate)\n",
        "print('AUC : ',roc_auc)"
      ]
    },
    {
      "cell_type": "markdown",
      "metadata": {
        "id": "e7p3w5RbwaR-"
      },
      "source": [
        "### Findings\n",
        "Specificity of Model 7 is 74.8%. It can predict Class 1 with 74.5% accuracy.\n",
        "Sensitivity is 90.9%. AUC = 82.8%"
      ]
    },
    {
      "cell_type": "markdown",
      "metadata": {
        "id": "0ZcfaFhERP0z"
      },
      "source": [
        "# MODEL 8 : Random Forest\n",
        "Ensemble model with all features used."
      ]
    },
    {
      "cell_type": "markdown",
      "source": [
        "### Ensemble model\n",
        "Ensemble model is built on the principle of 'wisdom of crowds'. It means that building multiple models with reasonable accuracy and collating the results gives better prediction than trying to achieve maximum accuracy from one model.\n",
        "\n",
        "In ensemble learning, each record is evaluated by 100s of models and they give 100s of predictions for that record. The results are collated and the highest frequency value is chosen as the predicted value for that record. If the target variable is continous, the the average of the results is the predcited value.\n",
        "\n",
        "### Bagging algorithm\n",
        "Bagging  = Bootstrap sampling + Aggregating\n",
        "\n",
        "Bootstrap sampling : If the full dataset has n observations, then the size of bootstrap sample is also n. However, each record is randomly chosen from the n records and it may be chosen more than once. Which means that a bootstrap sample may have some duplicate records as well some missing records from the original dataset.\n",
        "\n",
        "Aggregating : A model is built on each of the bootstrap samples independently. Since there are 100s of samples, there will be 100s of independent models with 100s of predictions for every single record. The results are collated or aggregated based on the principles mentioned above. Pick higher frequency value for discrete target, and average for continuous target variable.\n",
        "\n",
        "### Random Forest\n",
        "The name itself suggests that the model has many trees with some degree of randomness. Random forest is a case of Bagging algorithm where the models being created are Decision Trees. There are a few key parameters in this model\n",
        "* The number of trees being created (k) should be large. K should be in the range of 100-300. It is also known as n_estimators.\n",
        "* Sample data for each tree should be bootstrap sample.\n",
        "* We want every model should be independent. So we do not use all the features of the original dataset, rather we use few features. If p is number of features used in a single tree and t is the total number of features then p << t. Or we can use p in the range of sqrt(t). Every set of p features is randomly selected from the original dataset.\n",
        "* Since less number of features are selected, we can be liberal in choosing the max_depth for each tree. Generally we can go for a depth which is 50% more than the stand-alone Dtree model depth built earlier.\n",
        "\n",
        "Random forest is called a black-box model because we cannot exactly find out which of the variables are high impact variables. We cannot se at what values the split happens. We only get the final prediction as the output. So, for scenarios where understanding the model is not important, rather we need only high accuracy, Random Forest is a good choice."
      ],
      "metadata": {
        "id": "YAJeg_jItXys"
      }
    },
    {
      "cell_type": "code",
      "execution_count": null,
      "metadata": {
        "colab": {
          "base_uri": "https://localhost:8080/"
        },
        "id": "Ccb9lsr0RphK",
        "outputId": "42ebdc09-4fa0-4d30-b725-94f819ce6ecd"
      },
      "outputs": [
        {
          "output_type": "stream",
          "name": "stdout",
          "text": [
            "Confusion Matrix for Train data \n",
            " [[26822  2384]\n",
            " [ 3380 22905]]\n",
            "Accuracy of Train data \n",
            " 0.89612729992251\n",
            "Confusion Matrix for test data \n",
            " [[6757  585]\n",
            " [ 357  539]]\n",
            "Accuracy of test data \n",
            " 0.8856518572469045\n"
          ]
        }
      ],
      "source": [
        "import scipy as sp\n",
        "from sklearn.ensemble import RandomForestClassifier\n",
        "\n",
        "# Build random forest model by selecting optimal values of hyper-parameters\n",
        "\n",
        "forest=RandomForestClassifier(n_estimators=120, max_features=8, max_depth=7) #120\n",
        "forest.fit(X_train,y_train)\n",
        "\n",
        "##### RANDOM FOREST RESULTS #####\n",
        "\n",
        "##### Predicting on train and test data ####\n",
        "Forest_predict_train = forest.predict(X_train)\n",
        "Forest_predict_test = forest.predict(X_test)\n",
        "\n",
        "######## Train Data Validation\n",
        "cm1 = confusion_matrix(y_train, Forest_predict_train)\n",
        "print(\"Confusion Matrix for Train data \\n\", cm1)\n",
        "\n",
        "total1=sum(sum(cm1))\n",
        "accuracy_tree_train=(cm1[0,0]+cm1[1,1])/total1\n",
        "print(\"Accuracy of Train data \\n\", accuracy_tree_train)\n",
        "\n",
        "######## Test Data Validation\n",
        "cm2 = confusion_matrix(y_test, Forest_predict_test)\n",
        "print(\"Confusion Matrix for test data \\n\", cm2)\n",
        "total2=sum(sum(cm2))\n",
        "accuracy_tree_test=(cm2[0,0]+cm2[1,1])/total2\n",
        "print(\"Accuracy of test data \\n\", accuracy_tree_test)\n"
      ]
    },
    {
      "cell_type": "markdown",
      "metadata": {
        "id": "vUNh2cpObUb1"
      },
      "source": [
        "Model accuracy  = 89.25%\n",
        "## Model Validation Parameters"
      ]
    },
    {
      "cell_type": "code",
      "execution_count": null,
      "metadata": {
        "colab": {
          "base_uri": "https://localhost:8080/"
        },
        "id": "qEDJATdpbZvd",
        "outputId": "c20e8cd2-d0c9-4c70-dff8-5f9a0afa32da"
      },
      "outputs": [
        {
          "output_type": "stream",
          "name": "stdout",
          "text": [
            "Sensitivity / Recall(0) :  0.9203214383001906\n",
            "Precision Class 0 :  0.9498172617374192\n",
            "F1 Score of CLass 0 :  0.9348367459878252\n",
            "Specificity / Recall(1) :  0.6015625\n",
            "Precision Class 1 :  0.4795373665480427\n",
            "F1 Score of CLass 1 :  0.5336633663366337\n"
          ]
        }
      ],
      "source": [
        "# Test Accuracy = Model accuracy\n",
        "# We can consider cm2 as the confusion matrix for model8 \n",
        "\n",
        "##### From Confusion Matrix, we calculate\n",
        "\n",
        "# Sensitivity (Recall of Class 0)\n",
        "sensitivity4 = cm2[0,0]/(cm2[0,0]+cm2[0,1])\n",
        "print('Sensitivity / Recall(0) : ', sensitivity4 )\n",
        "\n",
        "# Precision of Class 0\n",
        "precision4_0 = cm2[0,0]/(cm2[0,0]+cm2[1,0])\n",
        "print('Precision Class 0 : ', precision4_0 )\n",
        "\n",
        "# F1 Score of Class 0\n",
        "F1_class0_m4 = 2/((1/precision4_0)+(1/sensitivity4))\n",
        "print('F1 Score of CLass 0 : ', F1_class0_m4 )\n",
        "\n",
        "# Specificity (Recall of Class 1)\n",
        "specificity4 = cm2[1,1]/(cm2[1,0]+cm2[1,1])\n",
        "print('Specificity / Recall(1) : ', specificity4)\n",
        "\n",
        "# Precision of Class 1\n",
        "precision4_1 = cm2[1,1]/(cm2[0,1]+cm2[1,1])\n",
        "print('Precision Class 1 : ', precision4_1 )\n",
        "\n",
        "# F1 Score of Class 1\n",
        "F1_class1_m4 = 2/((1/precision4_1)+(1/specificity4))\n",
        "print('F1 Score of CLass 1 : ', F1_class1_m4 )\n",
        "\n"
      ]
    },
    {
      "cell_type": "markdown",
      "metadata": {
        "id": "rMCIq91fdSHQ"
      },
      "source": [
        "Model 8 Random Forest gives 61% Specificity with 92.6% Sensitivity."
      ]
    },
    {
      "cell_type": "markdown",
      "metadata": {
        "id": "maYidqrOeYoG"
      },
      "source": [
        "# MODEL 9 : Gradient Boosting Method (GBM)"
      ]
    },
    {
      "cell_type": "markdown",
      "source": [
        "### Core idea\n",
        "We do not need to build the best model in one go. We build an average model first, and it will have some error. Then we keep on building models subsequently and reduce the error in each step. We stop when the error is zero (theoritically).\n",
        "\n",
        "### Algorithm of GBM\n",
        "We first a model F(x). So, y = F(x) + e1 , where e1 is the error. Then we build a model to predict e1 as e1 = H(x) + e2. So now we have y = F(x) + H(x) + e2. We keep on building subsequent models till the error is reduced to a minimum.\n",
        "\n",
        "Too many iterations will cause over-fitting and too less will cause under-fitting. No. of iterations has to be optimal.\n",
        "\n",
        "### Learning rate (shrinkage)\n",
        "Learning rate is basically the step size of increase in accuracy. We want to have high number of iterations (steps) so that the increase in accuracy per step is low and we can fine tune the model to have best train and test accuracy. Else, if the number of iterations is low, the variations of train and test accuracy will be significant in each step. We may jum from under-fitting to over-fitting in one or two steps without actually geeting a chance to see the best possible fit. Learning rate usually varies between 0.1 and 0.0001. \n",
        "\n",
        "y = F(x) + P.H(x) + e2 , where P is the learning rate.\n",
        "\n",
        "P = 0.1 will increase the iterations by 10 times, P = 0.01 will increase it by 100 times and so on.\n"
      ],
      "metadata": {
        "id": "wnVsy0PRecnR"
      }
    },
    {
      "cell_type": "code",
      "execution_count": null,
      "metadata": {
        "id": "dV4arNyi2DSP"
      },
      "outputs": [],
      "source": [
        "from sklearn.metrics import f1_score\n",
        "import time\n",
        "from sklearn.ensemble import GradientBoostingClassifier\n",
        "import xgboost\n",
        "from xgboost.sklearn import XGBClassifier\n",
        "from sklearn import preprocessing"
      ]
    },
    {
      "cell_type": "code",
      "execution_count": null,
      "metadata": {
        "colab": {
          "base_uri": "https://localhost:8080/"
        },
        "id": "jvDk1wg12PSw",
        "outputId": "b0832f01-77f3-4fb5-d629-06372c792e58"
      },
      "outputs": [
        {
          "output_type": "stream",
          "name": "stdout",
          "text": [
            "      Iter       Train Loss   Remaining Time \n",
            "         1           1.3786           23.60s\n",
            "         2           1.3737           23.53s\n",
            "         3           1.3688           23.35s\n",
            "         4           1.3640           23.06s\n",
            "         5           1.3593           23.19s\n",
            "         6           1.3546           23.19s\n",
            "         7           1.3499           23.20s\n",
            "         8           1.3453           23.23s\n",
            "         9           1.3408           23.65s\n",
            "        10           1.3362           23.70s\n",
            "        20           1.2922           22.55s\n",
            "        30           1.2516           21.38s\n",
            "        40           1.2146           20.31s\n",
            "        50           1.1807           19.21s\n",
            "        60           1.1496           18.14s\n",
            "        70           1.1209           17.17s\n",
            "        80           1.0934           16.20s\n",
            "        90           1.0685           15.25s\n",
            "       100           1.0466           14.29s\n",
            "       200           0.8810            4.85s\n",
            "Time taken by GBM 24.100024461746216 Seconds\n"
          ]
        }
      ],
      "source": [
        "from sklearn.ensemble import GradientBoostingClassifier\n",
        "gbm_boost=GradientBoostingClassifier(n_estimators=250,learning_rate=0.005, verbose=1) \n",
        "\n",
        "## Fitting the gradient boost classifier\n",
        "start_time = time.time()\n",
        "gbm_boost.fit(X_train,y_train)\n",
        "print(\"Time taken by GBM \"+ str((time.time() - start_time))+ \" Seconds\")"
      ]
    },
    {
      "cell_type": "markdown",
      "metadata": {
        "id": "0ar_gmRo3Gqq"
      },
      "source": [
        "## GBM Results"
      ]
    },
    {
      "cell_type": "code",
      "execution_count": null,
      "metadata": {
        "colab": {
          "base_uri": "https://localhost:8080/"
        },
        "id": "q4M1bskQ3Wfc",
        "outputId": "5cbe3fb3-2bb5-4ed6-89af-8d91fab0acec"
      },
      "outputs": [
        {
          "output_type": "stream",
          "name": "stdout",
          "text": [
            "Confusion Matrix for Train data \n",
            " [[25091  4115]\n",
            " [ 2325 23960]]\n",
            "Accuracy of Train data \n",
            " 0.8839451442576274\n",
            "Confusion Matrix for test data \n",
            " [[6356  986]\n",
            " [ 147  749]]\n",
            "Accuracy of test data \n",
            " 0.8624666181111921\n",
            "train accuracy 0.8839451442576274\n",
            "test accuracy 0.8624666181111921\n"
          ]
        }
      ],
      "source": [
        "### Predicting Gradient boosting model on the train Data\n",
        "gbm_predict_train = gbm_boost.predict(X_train)\n",
        "gbm_predict_test = gbm_boost.predict(X_test)\n",
        "\n",
        "######## Train Data Validation\n",
        "cm1 = confusion_matrix(y_train, gbm_predict_train)\n",
        "print(\"Confusion Matrix for Train data \\n\", cm1)\n",
        "\n",
        "total1=sum(sum(cm1))\n",
        "accuracy_gbm_train=(cm1[0,0]+cm1[1,1])/total1\n",
        "print(\"Accuracy of Train data \\n\", accuracy_gbm_train)\n",
        "\n",
        "######## Test Data Validation\n",
        "cm2 = confusion_matrix(y_test, gbm_predict_test)\n",
        "print(\"Confusion Matrix for test data \\n\", cm2)\n",
        "total2=sum(sum(cm2))\n",
        "accuracy_gbm_test=(cm2[0,0]+cm2[1,1])/total2\n",
        "print(\"Accuracy of test data \\n\", accuracy_gbm_test)\n",
        "\n",
        "\n",
        "######## F1 score for train data\n",
        "accuracy_train=f1_score(y_train, gbm_predict_train, average='micro') \n",
        "print(\"train accuracy\", accuracy_train)\n",
        "\n",
        "######## F1 score for test data\n",
        "accuracy_test=f1_score(y_test, gbm_predict_test, average='micro') \n",
        "print(\"test accuracy\", accuracy_test)\n",
        "\n",
        "# *** From the results, we find that,\n",
        "# *** F1_score(train_data) = CM_accuracy(train_data)\n",
        "# *** F1_score(test_data) = CM_accuracy(test_data)"
      ]
    },
    {
      "cell_type": "markdown",
      "metadata": {
        "id": "5LzTZXJz8vHR"
      },
      "source": [
        "Model accuracy = test accuracy = 86.2%\n",
        "## Model Validation Parameters\n",
        "\n"
      ]
    },
    {
      "cell_type": "code",
      "execution_count": null,
      "metadata": {
        "colab": {
          "base_uri": "https://localhost:8080/"
        },
        "id": "TRAOp1nu9JqK",
        "outputId": "99e3a4b7-ea97-4cd8-b450-3ce2bbbb20c3"
      },
      "outputs": [
        {
          "output_type": "stream",
          "name": "stdout",
          "text": [
            "Sensitivity / Recall(0) :  0.8657041678016889\n",
            "Precision Class 0 :  0.9773950484391819\n",
            "F1 Score of CLass 0 :  0.9181654026724448\n",
            "Specificity / Recall(1) :  0.8359375\n",
            "Precision Class 1 :  0.43170028818443806\n",
            "F1 Score of CLass 1 :  0.5693652603572786\n"
          ]
        }
      ],
      "source": [
        "# Model accuracy is found from confusion matrix cm2 \n",
        "\n",
        "##### From Confusion Matrix, we calculate\n",
        "\n",
        "# Sensitivity (Recall of Class 0)\n",
        "sensitivity4 = cm2[0,0]/(cm2[0,0]+cm2[0,1])\n",
        "print('Sensitivity / Recall(0) : ', sensitivity4 )\n",
        "\n",
        "# Precision of Class 0\n",
        "precision4_0 = cm2[0,0]/(cm2[0,0]+cm2[1,0])\n",
        "print('Precision Class 0 : ', precision4_0 )\n",
        "\n",
        "# F1 Score of Class 0\n",
        "F1_class0_m4 = 2/((1/precision4_0)+(1/sensitivity4))\n",
        "print('F1 Score of CLass 0 : ', F1_class0_m4 )\n",
        "\n",
        "# Specificity (Recall of Class 1)\n",
        "specificity4 = cm2[1,1]/(cm2[1,0]+cm2[1,1])\n",
        "print('Specificity / Recall(1) : ', specificity4)\n",
        "\n",
        "# Precision of Class 1\n",
        "precision4_1 = cm2[1,1]/(cm2[0,1]+cm2[1,1])\n",
        "print('Precision Class 1 : ', precision4_1 )\n",
        "\n",
        "# F1 Score of Class 1\n",
        "F1_class1_m4 = 2/((1/precision4_1)+(1/specificity4))\n",
        "print('F1 Score of CLass 1 : ', F1_class1_m4 )\n"
      ]
    },
    {
      "cell_type": "markdown",
      "metadata": {
        "id": "j5UaNjnBNlNI"
      },
      "source": [
        "### Model 9 GBM Model gives 83.6% Specificity with 86.6% Sensitivity.\n"
      ]
    },
    {
      "cell_type": "markdown",
      "metadata": {
        "id": "h1W--vaxOCMN"
      },
      "source": [
        "# MODEL 10 : XGB (Extreme Gradient Boosting)\n",
        "Though both GBM and XGB give similar results, we will still build this model for the sake of comparison."
      ]
    },
    {
      "cell_type": "markdown",
      "source": [
        "XGB works on the same principle as GBM. Accuracy is almost the same as GBM as well. However the excution is much faster. There are two reasons for this.\n",
        "1. Data is converted into D-Matrix format. Matrices are excuted much faster than dataframes.\n",
        "2. It uses GPU Runtime which has massive parallel processing capability."
      ],
      "metadata": {
        "id": "nrSMoHDvedpi"
      }
    },
    {
      "cell_type": "markdown",
      "source": [
        "### XGB hyper parameters\n",
        "* max_depth : max_depth of each DTree in the model. We choose max_depth as 50% of the depth of the stand-alone Decision tree model that we had built earlier. Smaller trees will learn less and hence prolong the algorithm. Prolonging algorithm will help in identifying the optimal accuracy with more precision.\n",
        "\n",
        "* eta : learning rate. eta =  0.1 or less.\n",
        "\n",
        "* eval metric : Type of error. 'merror' is multi-class classification error.\n",
        "\n",
        "* tree_method : 'gpu_hist' to enable GPU Usage.\n",
        "\n",
        "* num_class : Number of classes in target variable. Here we have 2.\n",
        "\n",
        "* params : A dictionary of above parameters.\n",
        "\n",
        "* dtrain : Input train data in matrix format\n",
        "\n",
        "* num_boost_round : Number of iterations. We have the liberty in XGB to choose this as a very high number because we have a stopping criteria. When the stopping criteria is met, XGB processing will end irrespective of the number of iterations. It prevents over-fitting.\n",
        "\n",
        "* early_stopping_rounds : The number of rounds where, if the test error does not improve reasonably, the execution is stopped. If it is 4, then the model will stop execution if for 4 consecutive iterations there is no reasonable improvement in test error.\n",
        "\n",
        "* evals : evaluation or validation matrix. [(matrix_test, 'test')] means test D-Matrix."
      ],
      "metadata": {
        "id": "UJ814PIXg4LL"
      }
    },
    {
      "cell_type": "code",
      "execution_count": null,
      "metadata": {
        "colab": {
          "base_uri": "https://localhost:8080/"
        },
        "id": "M4IfLHHbOg4S",
        "outputId": "8edf1d23-6a02-401e-8f93-55bff4e99dc4"
      },
      "outputs": [
        {
          "output_type": "stream",
          "name": "stdout",
          "text": [
            "(55491, 57)\n",
            "(55491,)\n",
            "(8238, 57)\n",
            "(8238,)\n"
          ]
        }
      ],
      "source": [
        "print(X_train.shape)\n",
        "print(y_train.shape)\n",
        "print(X_test.shape)\n",
        "print(y_test.shape)\n",
        "\n",
        "#Creating XGB Friendly data and matrices\n",
        "\n",
        "train_labels = y_train.values\n",
        "test_labels = y_test.values\n",
        "full_labels = y.values\n",
        "\n",
        "matrix_train = xgboost.DMatrix(X_train,label=train_labels)\n",
        "matrix_test = xgboost.DMatrix(X_test,label=test_labels))"
      ]
    },
    {
      "cell_type": "code",
      "execution_count": null,
      "metadata": {
        "colab": {
          "base_uri": "https://localhost:8080/"
        },
        "id": "FFVUDZDJh2-Z",
        "outputId": "b433fcf6-773d-4efd-e908-58b7bd189270"
      },
      "outputs": [
        {
          "output_type": "stream",
          "name": "stdout",
          "text": [
            "[0]\ttest-merror:0.143481\n",
            "Will train until test-merror hasn't improved in 4 rounds.\n",
            "[1]\ttest-merror:0.143481\n",
            "[2]\ttest-merror:0.143481\n",
            "[3]\ttest-merror:0.143481\n",
            "[4]\ttest-merror:0.143481\n",
            "Stopping. Best iteration:\n",
            "[0]\ttest-merror:0.143481\n",
            "\n",
            "Time taken by XGB 0.24000787734985352 Seconds\n"
          ]
        }
      ],
      "source": [
        "params = {\n",
        "    'max_depth': 4, \n",
        "    'eta':0.01, #Learning Rate\n",
        "    'eval_metric':'merror', # Multiclass classification error rate. \n",
        "    'tree_method' : \"gpu_hist\", # use this with colab in gpu mode for faster training\n",
        "    'num_class': 2\n",
        "}\n",
        "\n",
        "start_time = time.time()\n",
        "\n",
        "model=xgboost.train(params=params,\n",
        "                    dtrain=matrix_train,\n",
        "                    num_boost_round=1000,    #Number of trees\n",
        "                    early_stopping_rounds=4, # Stop after 4 rounds, if test error doesn't improve. \n",
        "                    evals=[(matrix_test,'test')] \n",
        "                   )\n",
        "\n",
        "print(\"Time taken by XGB \"+ str((time.time() - start_time))+ \" Seconds\")"
      ]
    },
    {
      "cell_type": "markdown",
      "metadata": {
        "id": "u-0vzN547Qhb"
      },
      "source": [
        "## XGB results"
      ]
    },
    {
      "cell_type": "code",
      "execution_count": null,
      "metadata": {
        "colab": {
          "base_uri": "https://localhost:8080/"
        },
        "id": "PakewziX7Vit",
        "outputId": "f389c3ac-728c-4a2c-9991-b5b574f898a4"
      },
      "outputs": [
        {
          "output_type": "stream",
          "name": "stdout",
          "text": [
            "[[24933  4273]\n",
            " [ 3195 23090]]\n",
            "train accuracy 0.8654196175956461\n",
            "[[6315 1027]\n",
            " [ 155  741]]\n",
            "test accuracy 0.8565185724690458\n",
            "Model Accuracy =  0.8565185724690458\n"
          ]
        }
      ],
      "source": [
        "### Prediction using XGB on the train Data\n",
        "boost_predict_train=model.predict(matrix_train)\n",
        "cm1 = confusion_matrix(train_labels,boost_predict_train)\n",
        "print(cm1)\n",
        "\n",
        "accuracy_train=f1_score(train_labels, boost_predict_train, average='micro') \n",
        "print(\"train accuracy\", accuracy_train)\n",
        "\n",
        "### Prediction using XGB on the test Data\n",
        "boost_predict_test=model.predict(matrix_test)\n",
        "cm2 = confusion_matrix(test_labels,boost_predict_test)\n",
        "print(cm2)\n",
        "\n",
        "accuracy_test=f1_score(test_labels, boost_predict_test, average='micro') \n",
        "print(\"test accuracy\", accuracy_test)\n",
        "\n",
        "print('Model Accuracy = ', accuracy_test)\n"
      ]
    },
    {
      "cell_type": "markdown",
      "metadata": {
        "id": "ItR7s_VT86JT"
      },
      "source": [
        "## Model validation Parameters"
      ]
    },
    {
      "cell_type": "code",
      "execution_count": null,
      "metadata": {
        "colab": {
          "base_uri": "https://localhost:8080/"
        },
        "id": "g4ZyWurJ8-Ym",
        "outputId": "31bf7add-49fc-4b48-e922-fc338f6e6dd3"
      },
      "outputs": [
        {
          "output_type": "stream",
          "name": "stdout",
          "text": [
            "Sensitivity / Recall(0) :  0.8601198583492237\n",
            "Precision Class 0 :  0.9760432766615147\n",
            "F1 Score of CLass 0 :  0.9144222415291051\n",
            "Specificity / Recall(1) :  0.8270089285714286\n",
            "Precision Class 1 :  0.41911764705882354\n",
            "F1 Score of CLass 1 :  0.5563063063063064\n"
          ]
        }
      ],
      "source": [
        "# Confusion Matrix cm2 can be used for Model accuracy\n",
        "\n",
        "##### From Confusion Matrix, we calculate\n",
        "\n",
        "# Sensitivity (Recall of Class 0)\n",
        "sensitivity4 = cm2[0,0]/(cm2[0,0]+cm2[0,1])\n",
        "print('Sensitivity / Recall(0) : ', sensitivity4 )\n",
        "\n",
        "# Precision of Class 0\n",
        "precision4_0 = cm2[0,0]/(cm2[0,0]+cm2[1,0])\n",
        "print('Precision Class 0 : ', precision4_0 )\n",
        "\n",
        "# F1 Score of Class 0\n",
        "F1_class0_m4 = 2/((1/precision4_0)+(1/sensitivity4))\n",
        "print('F1 Score of CLass 0 : ', F1_class0_m4 )\n",
        "\n",
        "# Specificity (Recall of Class 1)\n",
        "specificity4 = cm2[1,1]/(cm2[1,0]+cm2[1,1])\n",
        "print('Specificity / Recall(1) : ', specificity4)\n",
        "\n",
        "# Precision of Class 1\n",
        "precision4_1 = cm2[1,1]/(cm2[0,1]+cm2[1,1])\n",
        "print('Precision Class 1 : ', precision4_1 )\n",
        "\n",
        "# F1 Score of Class 1\n",
        "F1_class1_m4 = 2/((1/precision4_1)+(1/specificity4))\n",
        "print('F1 Score of CLass 1 : ', F1_class1_m4 )\n"
      ]
    },
    {
      "cell_type": "markdown",
      "metadata": {
        "id": "-WVizk4fBroQ"
      },
      "source": [
        "### Model 10 XGB Model gives 82.7% Specificity with 86% Sensitivity.\n",
        "\n",
        "### Model 9 results are similar to this. Model 9 is slightly better than Model 10. \n"
      ]
    },
    {
      "cell_type": "markdown",
      "metadata": {
        "id": "lkYMrQNNCwHI"
      },
      "source": [
        "# Finalizing the Model\n",
        "### Selecting Model 9 - Gradient Boosting Method as the best model with highest Specificity, Sensitivity and overall accuracy. Specificity = 83.6%, Sensitivity = 86.6% and overall accuracy = 86.2%.\n",
        "\n",
        "### Model Comparisons\n",
        "\n",
        "\n",
        "|Sl no\t|Model no\t|Model Description\t\t\t\t|Accuracy\t|Sensitivity\t|F1 score 0\t|Specificity\t|F1 score 1\t|ROC AUC|\n",
        "|-------|:----------|:------------------------------|:----------|:--------------|:----------|:--------------|:----------|:------|\n",
        "|1\t\t|1\t\t\t|Simple logistic regression\t\t|89.7\t\t|98.3\t\t\t|94.4\t\t|21.4\t\t\t|32\t        |       |\n",
        "|2\t\t|2\t\t\t|Simple logistic 2\t\t\t\t|89.8\t\t|\t\t\t    |           |               |           |       |\n",
        "|3\t\t|3\t\t\t|Simple logistic 3\t\t\t\t|89.7\t\t|\t\t\t    |           |               |           |       |\n",
        "|4\t\t|1\t\t\t|Simple Logit. Threshold = 0.1\t|75.5\t\t|75.5\t\t\t|\t\t\t|76 \t\t\t|\t\t\t|0.82   |\n",
        "|5\t\t|4\t\t\t|Simple Decision Tree\t\t\t|91.6\t\t|97\t\t\t\t|95.3\t\t|47.4\t\t\t|55.1\t    |       |\n",
        "|6\t\t|5\t\t\t|Dtree with balanced data\t\t|87.1\t\t|87.2\t\t\t|92.4\t\t|86.4\t\t\t|59.4\t    |       |\n",
        "|7\t\t|6\t\t\t|Logistic with FE full data\t\t|86.8\t\t|91.6\t\t\t|92.5\t\t|47.4\t\t\t|43.8\t\t|0.845  |\n",
        "|8\t\t|6\t\t\t|Logit. Threshold = 0.1\t\t\t|79.5\t\t|80\t\t\t\t|\t\t\t|75.1           |           |       |\n",
        "|9\t\t|7\t\t\t|Dtree with FE full data\t\t|89.1\t\t|90.9\t\t\t|93.7\t\t|74.8\t\t\t|60\t        |       |\n",
        "|10\t\t|8\t\t\t|RF with full FE data\t\t\t|89.3\t\t|92\t\t\t\t|93.5\t\t|60.1\t\t\t|53.4\t    |       |\n",
        "|11\t\t|9\t\t\t|GBM with full FE data\t\t\t|86.2\t\t|86.6\t\t\t|91.8\t\t|83.6\t\t\t|56.9\t    |       |\n",
        "|12\t\t|10\t\t\t|XGB with full FE data\t\t\t|85.7\t\t|86\t\t\t\t|91.4\t\t|82.7\t\t\t|55.6\t    |       |\n",
        "\n",
        "------------------"
      ]
    }
  ],
  "metadata": {
    "colab": {
      "provenance": [],
      "toc_visible": true,
      "include_colab_link": true
    },
    "kernelspec": {
      "display_name": "Python 3",
      "name": "python3"
    },
    "language_info": {
      "name": "python"
    }
  },
  "nbformat": 4,
  "nbformat_minor": 0
}